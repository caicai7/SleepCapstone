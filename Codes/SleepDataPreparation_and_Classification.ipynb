{
  "nbformat": 4,
  "nbformat_minor": 0,
  "metadata": {
    "colab": {
      "name": "SleepDataPreparation_and_Classification.ipynb",
      "provenance": [],
      "collapsed_sections": [],
      "include_colab_link": true
    },
    "kernelspec": {
      "name": "python3",
      "display_name": "Python 3"
    },
    "accelerator": "GPU"
  },
  "cells": [
    {
      "cell_type": "markdown",
      "metadata": {
        "id": "view-in-github",
        "colab_type": "text"
      },
      "source": [
        "<a href=\"https://colab.research.google.com/github/jeonggunlee/SleepCapstone/blob/h20147347-patch-1/Codes/SleepDataPreparation_and_Classification.ipynb\" target=\"_parent\"><img src=\"https://colab.research.google.com/assets/colab-badge.svg\" alt=\"Open In Colab\"/></a>"
      ]
    },
    {
      "cell_type": "markdown",
      "metadata": {
        "id": "OAGJRSb3xOT1"
      },
      "source": [
        "한림대학교 소프트웨어 융합대학\n",
        "빅데이터 캡스톤 프로젝트\n",
        "\n",
        "딥러닝에 기반한 수면 분류 모델 개발"
      ]
    },
    {
      "cell_type": "code",
      "metadata": {
        "id": "vvna-5vRzmTQ",
        "outputId": "f464948e-d4f6-4a60-ff17-762fa0478e7b",
        "colab": {
          "base_uri": "https://localhost:8080/"
        }
      },
      "source": [
        "# GPU 가용성 체크\n",
        "!nvidia-smi"
      ],
      "execution_count": 1,
      "outputs": [
        {
          "output_type": "stream",
          "text": [
            "Wed Nov  4 10:23:06 2020       \n",
            "+-----------------------------------------------------------------------------+\n",
            "| NVIDIA-SMI 455.32.00    Driver Version: 418.67       CUDA Version: 10.1     |\n",
            "|-------------------------------+----------------------+----------------------+\n",
            "| GPU  Name        Persistence-M| Bus-Id        Disp.A | Volatile Uncorr. ECC |\n",
            "| Fan  Temp  Perf  Pwr:Usage/Cap|         Memory-Usage | GPU-Util  Compute M. |\n",
            "|                               |                      |               MIG M. |\n",
            "|===============================+======================+======================|\n",
            "|   0  Tesla T4            Off  | 00000000:00:04.0 Off |                    0 |\n",
            "| N/A   51C    P8     9W /  70W |      0MiB / 15079MiB |      0%      Default |\n",
            "|                               |                      |                 ERR! |\n",
            "+-------------------------------+----------------------+----------------------+\n",
            "                                                                               \n",
            "+-----------------------------------------------------------------------------+\n",
            "| Processes:                                                                  |\n",
            "|  GPU   GI   CI        PID   Type   Process name                  GPU Memory |\n",
            "|        ID   ID                                                   Usage      |\n",
            "|=============================================================================|\n",
            "|  No running processes found                                                 |\n",
            "+-----------------------------------------------------------------------------+\n"
          ],
          "name": "stdout"
        }
      ]
    },
    {
      "cell_type": "code",
      "metadata": {
        "id": "mub_dvyUzr_I",
        "outputId": "f891e6ac-c862-4d52-ce36-7233a22d28ac",
        "colab": {
          "base_uri": "https://localhost:8080/"
        }
      },
      "source": [
        "# 공공데이터 download 쉘 가져오기\n",
        "!git clone https://github.com/jeonggunlee/SleepCapstone"
      ],
      "execution_count": 2,
      "outputs": [
        {
          "output_type": "stream",
          "text": [
            "Cloning into 'SleepCapstone'...\n",
            "remote: Enumerating objects: 20, done.\u001b[K\n",
            "remote: Counting objects: 100% (20/20), done.\u001b[K\n",
            "remote: Compressing objects: 100% (20/20), done.\u001b[K\n",
            "remote: Total 418 (delta 10), reused 0 (delta 0), pack-reused 398\u001b[K\n",
            "Receiving objects: 100% (418/418), 9.90 MiB | 41.89 MiB/s, done.\n",
            "Resolving deltas: 100% (214/214), done.\n"
          ],
          "name": "stdout"
        }
      ]
    },
    {
      "cell_type": "code",
      "metadata": {
        "id": "77Yj6Va5z1NV"
      },
      "source": [
        "cp ./SleepCapstone/Codes/download_physionet.sh ."
      ],
      "execution_count": 3,
      "outputs": []
    },
    {
      "cell_type": "code",
      "metadata": {
        "id": "jUYWtR0hz2Nm"
      },
      "source": [
        "!chmod 777 download_physionet.sh"
      ],
      "execution_count": 4,
      "outputs": []
    },
    {
      "cell_type": "code",
      "metadata": {
        "id": "e5J9mUgjz55N",
        "outputId": "909bf76d-7e4e-4b86-8789-0926de01ad68",
        "colab": {
          "base_uri": "https://localhost:8080/"
        }
      },
      "source": [
        "!./download_physionet.sh"
      ],
      "execution_count": 5,
      "outputs": [
        {
          "output_type": "stream",
          "text": [
            "--2020-11-04 10:23:08--  https://www.physionet.org/physiobank/database/sleep-edfx/sleep-cassette/SC4001E0-PSG.edf\n",
            "Resolving www.physionet.org (www.physionet.org)... 18.18.42.54\n",
            "Connecting to www.physionet.org (www.physionet.org)|18.18.42.54|:443... connected.\n",
            "HTTP request sent, awaiting response... 200 OK\n",
            "Length: 48338048 (46M) [application/octet-stream]\n",
            "Saving to: ‘SC4001E0-PSG.edf’\n",
            "\n",
            "SC4001E0-PSG.edf    100%[===================>]  46.10M  26.3MB/s    in 1.8s    \n",
            "\n",
            "2020-11-04 10:23:11 (26.3 MB/s) - ‘SC4001E0-PSG.edf’ saved [48338048/48338048]\n",
            "\n",
            "--2020-11-04 10:23:11--  https://www.physionet.org/physiobank/database/sleep-edfx/sleep-cassette/SC4001E0-PSG.edf.hyp\n",
            "Resolving www.physionet.org (www.physionet.org)... 18.18.42.54\n",
            "Connecting to www.physionet.org (www.physionet.org)|18.18.42.54|:443... connected.\n",
            "HTTP request sent, awaiting response... 404 Not Found\n",
            "2020-11-04 10:23:11 ERROR 404: Not Found.\n",
            "\n",
            "--2020-11-04 10:23:11--  https://www.physionet.org/physiobank/database/sleep-edfx/sleep-cassette/SC4001EC-Hypnogram.edf\n",
            "Resolving www.physionet.org (www.physionet.org)... 18.18.42.54\n",
            "Connecting to www.physionet.org (www.physionet.org)|18.18.42.54|:443... connected.\n",
            "HTTP request sent, awaiting response... 200 OK\n",
            "Length: 4620 (4.5K) [application/octet-stream]\n",
            "Saving to: ‘SC4001EC-Hypnogram.edf’\n",
            "\n",
            "SC4001EC-Hypnogram. 100%[===================>]   4.51K  --.-KB/s    in 0s      \n",
            "\n",
            "2020-11-04 10:23:11 (585 MB/s) - ‘SC4001EC-Hypnogram.edf’ saved [4620/4620]\n",
            "\n",
            "--2020-11-04 10:23:11--  https://www.physionet.org/physiobank/database/sleep-edfx/sleep-cassette/SC4002E0-PSG.edf\n",
            "Resolving www.physionet.org (www.physionet.org)... 18.18.42.54\n",
            "Connecting to www.physionet.org (www.physionet.org)|18.18.42.54|:443... connected.\n",
            "HTTP request sent, awaiting response... 200 OK\n",
            "Length: 51621248 (49M) [application/octet-stream]\n",
            "Saving to: ‘SC4002E0-PSG.edf’\n",
            "\n",
            "SC4002E0-PSG.edf    100%[===================>]  49.23M  30.3MB/s    in 1.6s    \n",
            "\n",
            "2020-11-04 10:23:13 (30.3 MB/s) - ‘SC4002E0-PSG.edf’ saved [51621248/51621248]\n",
            "\n",
            "--2020-11-04 10:23:13--  https://www.physionet.org/physiobank/database/sleep-edfx/sleep-cassette/SC4002E0-PSG.edf.hyp\n",
            "Resolving www.physionet.org (www.physionet.org)... 18.18.42.54\n",
            "Connecting to www.physionet.org (www.physionet.org)|18.18.42.54|:443... connected.\n",
            "HTTP request sent, awaiting response... 404 Not Found\n",
            "2020-11-04 10:23:14 ERROR 404: Not Found.\n",
            "\n",
            "--2020-11-04 10:23:14--  https://www.physionet.org/physiobank/database/sleep-edfx/sleep-cassette/SC4002EC-Hypnogram.edf\n",
            "Resolving www.physionet.org (www.physionet.org)... 18.18.42.54\n",
            "Connecting to www.physionet.org (www.physionet.org)|18.18.42.54|:443... connected.\n",
            "HTTP request sent, awaiting response... 200 OK\n",
            "Length: 4580 (4.5K) [application/octet-stream]\n",
            "Saving to: ‘SC4002EC-Hypnogram.edf’\n",
            "\n",
            "SC4002EC-Hypnogram. 100%[===================>]   4.47K  --.-KB/s    in 0s      \n",
            "\n",
            "2020-11-04 10:23:14 (547 MB/s) - ‘SC4002EC-Hypnogram.edf’ saved [4580/4580]\n",
            "\n",
            "--2020-11-04 10:23:14--  https://www.physionet.org/physiobank/database/sleep-edfx/sleep-cassette/SC4011E0-PSG.edf\n",
            "Resolving www.physionet.org (www.physionet.org)... 18.18.42.54\n",
            "Connecting to www.physionet.org (www.physionet.org)|18.18.42.54|:443... connected.\n",
            "HTTP request sent, awaiting response... 200 OK\n",
            "Length: 51110528 (49M) [application/octet-stream]\n",
            "Saving to: ‘SC4011E0-PSG.edf’\n",
            "\n",
            "SC4011E0-PSG.edf    100%[===================>]  48.74M  25.1MB/s    in 1.9s    \n",
            "\n",
            "2020-11-04 10:23:16 (25.1 MB/s) - ‘SC4011E0-PSG.edf’ saved [51110528/51110528]\n",
            "\n",
            "--2020-11-04 10:23:16--  https://www.physionet.org/physiobank/database/sleep-edfx/sleep-cassette/SC4011E0-PSG.edf.hyp\n",
            "Resolving www.physionet.org (www.physionet.org)... 18.18.42.54\n",
            "Connecting to www.physionet.org (www.physionet.org)|18.18.42.54|:443... connected.\n",
            "HTTP request sent, awaiting response... 404 Not Found\n",
            "2020-11-04 10:23:17 ERROR 404: Not Found.\n",
            "\n",
            "--2020-11-04 10:23:17--  https://www.physionet.org/physiobank/database/sleep-edfx/sleep-cassette/SC4011EH-Hypnogram.edf\n",
            "Resolving www.physionet.org (www.physionet.org)... 18.18.42.54\n",
            "Connecting to www.physionet.org (www.physionet.org)|18.18.42.54|:443... connected.\n",
            "HTTP request sent, awaiting response... 200 OK\n",
            "Length: 3896 (3.8K) [application/octet-stream]\n",
            "Saving to: ‘SC4011EH-Hypnogram.edf’\n",
            "\n",
            "SC4011EH-Hypnogram. 100%[===================>]   3.80K  --.-KB/s    in 0s      \n",
            "\n",
            "2020-11-04 10:23:17 (626 MB/s) - ‘SC4011EH-Hypnogram.edf’ saved [3896/3896]\n",
            "\n",
            "--2020-11-04 10:23:17--  https://www.physionet.org/physiobank/database/sleep-edfx/sleep-cassette/SC4012E0-PSG.edf\n",
            "Resolving www.physionet.org (www.physionet.org)... 18.18.42.54\n",
            "Connecting to www.physionet.org (www.physionet.org)|18.18.42.54|:443... connected.\n",
            "HTTP request sent, awaiting response... 200 OK\n",
            "Length: 51986048 (50M) [application/octet-stream]\n",
            "Saving to: ‘SC4012E0-PSG.edf’\n",
            "\n",
            "SC4012E0-PSG.edf    100%[===================>]  49.58M  15.1MB/s    in 3.3s    \n",
            "\n",
            "2020-11-04 10:23:20 (15.1 MB/s) - ‘SC4012E0-PSG.edf’ saved [51986048/51986048]\n",
            "\n",
            "--2020-11-04 10:23:20--  https://www.physionet.org/physiobank/database/sleep-edfx/sleep-cassette/SC4012E0-PSG.edf.hyp\n",
            "Resolving www.physionet.org (www.physionet.org)... 18.18.42.54\n",
            "Connecting to www.physionet.org (www.physionet.org)|18.18.42.54|:443... connected.\n",
            "HTTP request sent, awaiting response... 404 Not Found\n",
            "2020-11-04 10:23:21 ERROR 404: Not Found.\n",
            "\n",
            "--2020-11-04 10:23:21--  https://www.physionet.org/physiobank/database/sleep-edfx/sleep-cassette/SC4012EC-Hypnogram.edf\n",
            "Resolving www.physionet.org (www.physionet.org)... 18.18.42.54\n",
            "Connecting to www.physionet.org (www.physionet.org)|18.18.42.54|:443... connected.\n",
            "HTTP request sent, awaiting response... 200 OK\n",
            "Length: 5082 (5.0K) [application/octet-stream]\n",
            "Saving to: ‘SC4012EC-Hypnogram.edf’\n",
            "\n",
            "SC4012EC-Hypnogram. 100%[===================>]   4.96K  --.-KB/s    in 0s      \n",
            "\n",
            "2020-11-04 10:23:21 (638 MB/s) - ‘SC4012EC-Hypnogram.edf’ saved [5082/5082]\n",
            "\n",
            "--2020-11-04 10:23:21--  https://www.physionet.org/physiobank/database/sleep-edfx/sleep-cassette/SC4021E0-PSG.edf\n",
            "Resolving www.physionet.org (www.physionet.org)... 18.18.42.54\n",
            "Connecting to www.physionet.org (www.physionet.org)|18.18.42.54|:443... connected.\n",
            "HTTP request sent, awaiting response... 200 OK\n",
            "Length: 51147008 (49M) [application/octet-stream]\n",
            "Saving to: ‘SC4021E0-PSG.edf’\n",
            "\n",
            "SC4021E0-PSG.edf    100%[===================>]  48.78M  13.3MB/s    in 4.0s    \n",
            "\n",
            "2020-11-04 10:23:26 (12.1 MB/s) - ‘SC4021E0-PSG.edf’ saved [51147008/51147008]\n",
            "\n",
            "--2020-11-04 10:23:26--  https://www.physionet.org/physiobank/database/sleep-edfx/sleep-cassette/SC4021E0-PSG.edf.hyp\n",
            "Resolving www.physionet.org (www.physionet.org)... 18.18.42.54\n",
            "Connecting to www.physionet.org (www.physionet.org)|18.18.42.54|:443... connected.\n",
            "HTTP request sent, awaiting response... 404 Not Found\n",
            "2020-11-04 10:23:26 ERROR 404: Not Found.\n",
            "\n",
            "--2020-11-04 10:23:26--  https://www.physionet.org/physiobank/database/sleep-edfx/sleep-cassette/SC4021EH-Hypnogram.edf\n",
            "Resolving www.physionet.org (www.physionet.org)... 18.18.42.54\n",
            "Connecting to www.physionet.org (www.physionet.org)|18.18.42.54|:443... connected.\n",
            "HTTP request sent, awaiting response... 200 OK\n",
            "Length: 4804 (4.7K) [application/octet-stream]\n",
            "Saving to: ‘SC4021EH-Hypnogram.edf’\n",
            "\n",
            "SC4021EH-Hypnogram. 100%[===================>]   4.69K  --.-KB/s    in 0s      \n",
            "\n",
            "2020-11-04 10:23:26 (567 MB/s) - ‘SC4021EH-Hypnogram.edf’ saved [4804/4804]\n",
            "\n",
            "--2020-11-04 10:23:26--  https://www.physionet.org/physiobank/database/sleep-edfx/sleep-cassette/SC4022E0-PSG.edf\n",
            "Resolving www.physionet.org (www.physionet.org)... 18.18.42.54\n",
            "Connecting to www.physionet.org (www.physionet.org)|18.18.42.54|:443... connected.\n",
            "HTTP request sent, awaiting response... 200 OK\n",
            "Length: 50271488 (48M) [application/octet-stream]\n",
            "Saving to: ‘SC4022E0-PSG.edf’\n",
            "\n",
            "SC4022E0-PSG.edf    100%[===================>]  47.94M  13.3MB/s    in 3.6s    \n",
            "\n",
            "2020-11-04 10:23:30 (13.3 MB/s) - ‘SC4022E0-PSG.edf’ saved [50271488/50271488]\n",
            "\n",
            "--2020-11-04 10:23:30--  https://www.physionet.org/physiobank/database/sleep-edfx/sleep-cassette/SC4022E0-PSG.edf.hyp\n",
            "Resolving www.physionet.org (www.physionet.org)... 18.18.42.54\n",
            "Connecting to www.physionet.org (www.physionet.org)|18.18.42.54|:443... connected.\n",
            "HTTP request sent, awaiting response... 404 Not Found\n",
            "2020-11-04 10:23:31 ERROR 404: Not Found.\n",
            "\n",
            "--2020-11-04 10:23:31--  https://www.physionet.org/physiobank/database/sleep-edfx/sleep-cassette/SC4022EJ-Hypnogram.edf\n",
            "Resolving www.physionet.org (www.physionet.org)... 18.18.42.54\n",
            "Connecting to www.physionet.org (www.physionet.org)|18.18.42.54|:443... connected.\n",
            "HTTP request sent, awaiting response... 200 OK\n",
            "Length: 5292 (5.2K) [application/octet-stream]\n",
            "Saving to: ‘SC4022EJ-Hypnogram.edf’\n",
            "\n",
            "SC4022EJ-Hypnogram. 100%[===================>]   5.17K  --.-KB/s    in 0s      \n",
            "\n",
            "2020-11-04 10:23:31 (615 MB/s) - ‘SC4022EJ-Hypnogram.edf’ saved [5292/5292]\n",
            "\n",
            "--2020-11-04 10:23:31--  https://www.physionet.org/physiobank/database/sleep-edfx/sleep-cassette/SC4031E0-PSG.edf\n",
            "Resolving www.physionet.org (www.physionet.org)... 18.18.42.54\n",
            "Connecting to www.physionet.org (www.physionet.org)|18.18.42.54|:443... connected.\n",
            "HTTP request sent, awaiting response... 200 OK\n",
            "Length: 51438848 (49M) [application/octet-stream]\n",
            "Saving to: ‘SC4031E0-PSG.edf’\n",
            "\n",
            "SC4031E0-PSG.edf    100%[===================>]  49.06M  18.2MB/s    in 2.7s    \n",
            "\n",
            "2020-11-04 10:23:34 (18.2 MB/s) - ‘SC4031E0-PSG.edf’ saved [51438848/51438848]\n",
            "\n",
            "--2020-11-04 10:23:34--  https://www.physionet.org/physiobank/database/sleep-edfx/sleep-cassette/SC4031E0-PSG.edf.hyp\n",
            "Resolving www.physionet.org (www.physionet.org)... 18.18.42.54\n",
            "Connecting to www.physionet.org (www.physionet.org)|18.18.42.54|:443... connected.\n",
            "HTTP request sent, awaiting response... 404 Not Found\n",
            "2020-11-04 10:23:35 ERROR 404: Not Found.\n",
            "\n",
            "--2020-11-04 10:23:35--  https://www.physionet.org/physiobank/database/sleep-edfx/sleep-cassette/SC4031EC-Hypnogram.edf\n",
            "Resolving www.physionet.org (www.physionet.org)... 18.18.42.54\n",
            "Connecting to www.physionet.org (www.physionet.org)|18.18.42.54|:443... connected.\n",
            "HTTP request sent, awaiting response... 200 OK\n",
            "Length: 3700 (3.6K) [application/octet-stream]\n",
            "Saving to: ‘SC4031EC-Hypnogram.edf’\n",
            "\n",
            "SC4031EC-Hypnogram. 100%[===================>]   3.61K  --.-KB/s    in 0s      \n",
            "\n",
            "2020-11-04 10:23:35 (588 MB/s) - ‘SC4031EC-Hypnogram.edf’ saved [3700/3700]\n",
            "\n",
            "--2020-11-04 10:23:35--  https://www.physionet.org/physiobank/database/sleep-edfx/sleep-cassette/SC4032E0-PSG.edf\n",
            "Resolving www.physionet.org (www.physionet.org)... 18.18.42.54\n",
            "Connecting to www.physionet.org (www.physionet.org)|18.18.42.54|:443... connected.\n",
            "HTTP request sent, awaiting response... 200 OK\n",
            "Length: 49833728 (48M) [application/octet-stream]\n",
            "Saving to: ‘SC4032E0-PSG.edf’\n",
            "\n",
            "SC4032E0-PSG.edf    100%[===================>]  47.52M  23.3MB/s    in 2.0s    \n",
            "\n",
            "2020-11-04 10:23:37 (23.3 MB/s) - ‘SC4032E0-PSG.edf’ saved [49833728/49833728]\n",
            "\n",
            "--2020-11-04 10:23:37--  https://www.physionet.org/physiobank/database/sleep-edfx/sleep-cassette/SC4032E0-PSG.edf.hyp\n",
            "Resolving www.physionet.org (www.physionet.org)... 18.18.42.54\n",
            "Connecting to www.physionet.org (www.physionet.org)|18.18.42.54|:443... connected.\n",
            "HTTP request sent, awaiting response... 404 Not Found\n",
            "2020-11-04 10:23:38 ERROR 404: Not Found.\n",
            "\n",
            "--2020-11-04 10:23:38--  https://www.physionet.org/physiobank/database/sleep-edfx/sleep-cassette/SC4032EP-Hypnogram.edf\n",
            "Resolving www.physionet.org (www.physionet.org)... 18.18.42.54\n",
            "Connecting to www.physionet.org (www.physionet.org)|18.18.42.54|:443... connected.\n",
            "HTTP request sent, awaiting response... 200 OK\n",
            "Length: 3800 (3.7K) [application/octet-stream]\n",
            "Saving to: ‘SC4032EP-Hypnogram.edf’\n",
            "\n",
            "SC4032EP-Hypnogram. 100%[===================>]   3.71K  --.-KB/s    in 0s      \n",
            "\n",
            "2020-11-04 10:23:38 (576 MB/s) - ‘SC4032EP-Hypnogram.edf’ saved [3800/3800]\n",
            "\n",
            "--2020-11-04 10:23:38--  https://www.physionet.org/physiobank/database/sleep-edfx/sleep-cassette/SC4041E0-PSG.edf\n",
            "Resolving www.physionet.org (www.physionet.org)... 18.18.42.54\n",
            "Connecting to www.physionet.org (www.physionet.org)|18.18.42.54|:443... connected.\n",
            "HTTP request sent, awaiting response... 200 OK\n",
            "Length: 46878848 (45M) [application/octet-stream]\n",
            "Saving to: ‘SC4041E0-PSG.edf’\n",
            "\n",
            "SC4041E0-PSG.edf    100%[===================>]  44.71M  21.4MB/s    in 2.1s    \n",
            "\n",
            "2020-11-04 10:23:40 (21.4 MB/s) - ‘SC4041E0-PSG.edf’ saved [46878848/46878848]\n",
            "\n",
            "--2020-11-04 10:23:40--  https://www.physionet.org/physiobank/database/sleep-edfx/sleep-cassette/SC4041E0-PSG.edf.hyp\n",
            "Resolving www.physionet.org (www.physionet.org)... 18.18.42.54\n",
            "Connecting to www.physionet.org (www.physionet.org)|18.18.42.54|:443... connected.\n",
            "HTTP request sent, awaiting response... 404 Not Found\n",
            "2020-11-04 10:23:41 ERROR 404: Not Found.\n",
            "\n",
            "--2020-11-04 10:23:41--  https://www.physionet.org/physiobank/database/sleep-edfx/sleep-cassette/SC4041EC-Hypnogram.edf\n",
            "Resolving www.physionet.org (www.physionet.org)... 18.18.42.54\n",
            "Connecting to www.physionet.org (www.physionet.org)|18.18.42.54|:443... connected.\n",
            "HTTP request sent, awaiting response... 200 OK\n",
            "Length: 4830 (4.7K) [application/octet-stream]\n",
            "Saving to: ‘SC4041EC-Hypnogram.edf’\n",
            "\n",
            "SC4041EC-Hypnogram. 100%[===================>]   4.72K  --.-KB/s    in 0s      \n",
            "\n",
            "2020-11-04 10:23:41 (594 MB/s) - ‘SC4041EC-Hypnogram.edf’ saved [4830/4830]\n",
            "\n",
            "--2020-11-04 10:23:41--  https://www.physionet.org/physiobank/database/sleep-edfx/sleep-cassette/SC4042E0-PSG.edf\n",
            "Resolving www.physionet.org (www.physionet.org)... 18.18.42.54\n",
            "Connecting to www.physionet.org (www.physionet.org)|18.18.42.54|:443... connected.\n",
            "HTTP request sent, awaiting response... 200 OK\n",
            "Length: 50928128 (49M) [application/octet-stream]\n",
            "Saving to: ‘SC4042E0-PSG.edf’\n",
            "\n",
            "SC4042E0-PSG.edf    100%[===================>]  48.57M  25.8MB/s    in 1.9s    \n",
            "\n",
            "2020-11-04 10:23:43 (25.8 MB/s) - ‘SC4042E0-PSG.edf’ saved [50928128/50928128]\n",
            "\n",
            "--2020-11-04 10:23:43--  https://www.physionet.org/physiobank/database/sleep-edfx/sleep-cassette/SC4042E0-PSG.edf.hyp\n",
            "Resolving www.physionet.org (www.physionet.org)... 18.18.42.54\n",
            "Connecting to www.physionet.org (www.physionet.org)|18.18.42.54|:443... connected.\n",
            "HTTP request sent, awaiting response... 404 Not Found\n",
            "2020-11-04 10:23:44 ERROR 404: Not Found.\n",
            "\n",
            "--2020-11-04 10:23:44--  https://www.physionet.org/physiobank/database/sleep-edfx/sleep-cassette/SC4042EC-Hypnogram.edf\n",
            "Resolving www.physionet.org (www.physionet.org)... 18.18.42.54\n",
            "Connecting to www.physionet.org (www.physionet.org)|18.18.42.54|:443... connected.\n",
            "HTTP request sent, awaiting response... 200 OK\n",
            "Length: 5276 (5.2K) [application/octet-stream]\n",
            "Saving to: ‘SC4042EC-Hypnogram.edf’\n",
            "\n",
            "SC4042EC-Hypnogram. 100%[===================>]   5.15K  --.-KB/s    in 0s      \n",
            "\n",
            "2020-11-04 10:23:44 (694 MB/s) - ‘SC4042EC-Hypnogram.edf’ saved [5276/5276]\n",
            "\n",
            "--2020-11-04 10:23:44--  https://www.physionet.org/physiobank/database/sleep-edfx/sleep-cassette/SC4051E0-PSG.edf\n",
            "Resolving www.physionet.org (www.physionet.org)... 18.18.42.54\n",
            "Connecting to www.physionet.org (www.physionet.org)|18.18.42.54|:443... connected.\n",
            "HTTP request sent, awaiting response... 200 OK\n",
            "Length: 49651328 (47M) [application/octet-stream]\n",
            "Saving to: ‘SC4051E0-PSG.edf’\n",
            "\n",
            "SC4051E0-PSG.edf    100%[===================>]  47.35M  21.9MB/s    in 2.2s    \n",
            "\n",
            "2020-11-04 10:23:46 (21.9 MB/s) - ‘SC4051E0-PSG.edf’ saved [49651328/49651328]\n",
            "\n",
            "--2020-11-04 10:23:46--  https://www.physionet.org/physiobank/database/sleep-edfx/sleep-cassette/SC4051E0-PSG.edf.hyp\n",
            "Resolving www.physionet.org (www.physionet.org)... 18.18.42.54\n",
            "Connecting to www.physionet.org (www.physionet.org)|18.18.42.54|:443... connected.\n",
            "HTTP request sent, awaiting response... 404 Not Found\n",
            "2020-11-04 10:23:47 ERROR 404: Not Found.\n",
            "\n",
            "--2020-11-04 10:23:47--  https://www.physionet.org/physiobank/database/sleep-edfx/sleep-cassette/SC4051EC-Hypnogram.edf\n",
            "Resolving www.physionet.org (www.physionet.org)... 18.18.42.54\n",
            "Connecting to www.physionet.org (www.physionet.org)|18.18.42.54|:443... connected.\n",
            "HTTP request sent, awaiting response... 200 OK\n",
            "Length: 3976 (3.9K) [application/octet-stream]\n",
            "Saving to: ‘SC4051EC-Hypnogram.edf’\n",
            "\n",
            "SC4051EC-Hypnogram. 100%[===================>]   3.88K  --.-KB/s    in 0s      \n",
            "\n",
            "2020-11-04 10:23:47 (665 MB/s) - ‘SC4051EC-Hypnogram.edf’ saved [3976/3976]\n",
            "\n",
            "--2020-11-04 10:23:47--  https://www.physionet.org/physiobank/database/sleep-edfx/sleep-cassette/SC4052E0-PSG.edf\n",
            "Resolving www.physionet.org (www.physionet.org)... 18.18.42.54\n",
            "Connecting to www.physionet.org (www.physionet.org)|18.18.42.54|:443... connected.\n",
            "HTTP request sent, awaiting response... 200 OK\n",
            "Length: 51183488 (49M) [application/octet-stream]\n",
            "Saving to: ‘SC4052E0-PSG.edf’\n",
            "\n",
            "SC4052E0-PSG.edf    100%[===================>]  48.81M  26.9MB/s    in 1.8s    \n",
            "\n",
            "2020-11-04 10:23:49 (26.9 MB/s) - ‘SC4052E0-PSG.edf’ saved [51183488/51183488]\n",
            "\n",
            "--2020-11-04 10:23:49--  https://www.physionet.org/physiobank/database/sleep-edfx/sleep-cassette/SC4052E0-PSG.edf.hyp\n",
            "Resolving www.physionet.org (www.physionet.org)... 18.18.42.54\n",
            "Connecting to www.physionet.org (www.physionet.org)|18.18.42.54|:443... connected.\n",
            "HTTP request sent, awaiting response... 404 Not Found\n",
            "2020-11-04 10:23:49 ERROR 404: Not Found.\n",
            "\n",
            "--2020-11-04 10:23:50--  https://www.physionet.org/physiobank/database/sleep-edfx/sleep-cassette/SC4052EC-Hypnogram.edf\n",
            "Resolving www.physionet.org (www.physionet.org)... 18.18.42.54\n",
            "Connecting to www.physionet.org (www.physionet.org)|18.18.42.54|:443... connected.\n",
            "HTTP request sent, awaiting response... 200 OK\n",
            "Length: 4232 (4.1K) [application/octet-stream]\n",
            "Saving to: ‘SC4052EC-Hypnogram.edf’\n",
            "\n",
            "SC4052EC-Hypnogram. 100%[===================>]   4.13K  --.-KB/s    in 0s      \n",
            "\n",
            "2020-11-04 10:23:50 (407 MB/s) - ‘SC4052EC-Hypnogram.edf’ saved [4232/4232]\n",
            "\n",
            "--2020-11-04 10:23:50--  https://www.physionet.org/physiobank/database/sleep-edfx/sleep-cassette/SC4061E0-PSG.edf\n",
            "Resolving www.physionet.org (www.physionet.org)... 18.18.42.54\n",
            "Connecting to www.physionet.org (www.physionet.org)|18.18.42.54|:443... connected.\n",
            "HTTP request sent, awaiting response... 200 OK\n",
            "Length: 50526848 (48M) [application/octet-stream]\n",
            "Saving to: ‘SC4061E0-PSG.edf’\n",
            "\n",
            "SC4061E0-PSG.edf    100%[===================>]  48.19M  20.3MB/s    in 2.4s    \n",
            "\n",
            "2020-11-04 10:23:53 (20.3 MB/s) - ‘SC4061E0-PSG.edf’ saved [50526848/50526848]\n",
            "\n",
            "--2020-11-04 10:23:53--  https://www.physionet.org/physiobank/database/sleep-edfx/sleep-cassette/SC4061E0-PSG.edf.hyp\n",
            "Resolving www.physionet.org (www.physionet.org)... 18.18.42.54\n",
            "Connecting to www.physionet.org (www.physionet.org)|18.18.42.54|:443... connected.\n",
            "HTTP request sent, awaiting response... 404 Not Found\n",
            "2020-11-04 10:23:53 ERROR 404: Not Found.\n",
            "\n",
            "--2020-11-04 10:23:53--  https://www.physionet.org/physiobank/database/sleep-edfx/sleep-cassette/SC4061EC-Hypnogram.edf\n",
            "Resolving www.physionet.org (www.physionet.org)... 18.18.42.54\n",
            "Connecting to www.physionet.org (www.physionet.org)|18.18.42.54|:443... connected.\n",
            "HTTP request sent, awaiting response... 200 OK\n",
            "Length: 2620 (2.6K) [application/octet-stream]\n",
            "Saving to: ‘SC4061EC-Hypnogram.edf’\n",
            "\n",
            "SC4061EC-Hypnogram. 100%[===================>]   2.56K  --.-KB/s    in 0s      \n",
            "\n",
            "2020-11-04 10:23:53 (505 MB/s) - ‘SC4061EC-Hypnogram.edf’ saved [2620/2620]\n",
            "\n",
            "--2020-11-04 10:23:53--  https://www.physionet.org/physiobank/database/sleep-edfx/sleep-cassette/SC4062E0-PSG.edf\n",
            "Resolving www.physionet.org (www.physionet.org)... 18.18.42.54\n",
            "Connecting to www.physionet.org (www.physionet.org)|18.18.42.54|:443... connected.\n",
            "HTTP request sent, awaiting response... 200 OK\n",
            "Length: 51621248 (49M) [application/octet-stream]\n",
            "Saving to: ‘SC4062E0-PSG.edf’\n",
            "\n",
            "SC4062E0-PSG.edf    100%[===================>]  49.23M  16.7MB/s    in 2.9s    \n",
            "\n",
            "2020-11-04 10:23:56 (16.7 MB/s) - ‘SC4062E0-PSG.edf’ saved [51621248/51621248]\n",
            "\n",
            "--2020-11-04 10:23:56--  https://www.physionet.org/physiobank/database/sleep-edfx/sleep-cassette/SC4062E0-PSG.edf.hyp\n",
            "Resolving www.physionet.org (www.physionet.org)... 18.18.42.54\n",
            "Connecting to www.physionet.org (www.physionet.org)|18.18.42.54|:443... connected.\n",
            "HTTP request sent, awaiting response... 404 Not Found\n",
            "2020-11-04 10:23:57 ERROR 404: Not Found.\n",
            "\n",
            "--2020-11-04 10:23:57--  https://www.physionet.org/physiobank/database/sleep-edfx/sleep-cassette/SC4062EC-Hypnogram.edf\n",
            "Resolving www.physionet.org (www.physionet.org)... 18.18.42.54\n",
            "Connecting to www.physionet.org (www.physionet.org)|18.18.42.54|:443... connected.\n",
            "HTTP request sent, awaiting response... 200 OK\n",
            "Length: 3146 (3.1K) [application/octet-stream]\n",
            "Saving to: ‘SC4062EC-Hypnogram.edf’\n",
            "\n",
            "SC4062EC-Hypnogram. 100%[===================>]   3.07K  --.-KB/s    in 0s      \n",
            "\n",
            "2020-11-04 10:23:57 (410 MB/s) - ‘SC4062EC-Hypnogram.edf’ saved [3146/3146]\n",
            "\n",
            "--2020-11-04 10:23:57--  https://www.physionet.org/physiobank/database/sleep-edfx/sleep-cassette/SC4071E0-PSG.edf\n",
            "Resolving www.physionet.org (www.physionet.org)... 18.18.42.54\n",
            "Connecting to www.physionet.org (www.physionet.org)|18.18.42.54|:443... connected.\n",
            "HTTP request sent, awaiting response... 200 OK\n",
            "Length: 51256448 (49M) [application/octet-stream]\n",
            "Saving to: ‘SC4071E0-PSG.edf’\n",
            "\n",
            "SC4071E0-PSG.edf    100%[===================>]  48.88M  6.27MB/s    in 5.9s    \n",
            "\n",
            "2020-11-04 10:24:03 (8.33 MB/s) - ‘SC4071E0-PSG.edf’ saved [51256448/51256448]\n",
            "\n",
            "--2020-11-04 10:24:03--  https://www.physionet.org/physiobank/database/sleep-edfx/sleep-cassette/SC4071E0-PSG.edf.hyp\n",
            "Resolving www.physionet.org (www.physionet.org)... 18.18.42.54\n",
            "Connecting to www.physionet.org (www.physionet.org)|18.18.42.54|:443... connected.\n",
            "HTTP request sent, awaiting response... 404 Not Found\n",
            "2020-11-04 10:24:04 ERROR 404: Not Found.\n",
            "\n",
            "--2020-11-04 10:24:04--  https://www.physionet.org/physiobank/database/sleep-edfx/sleep-cassette/SC4071EC-Hypnogram.edf\n",
            "Resolving www.physionet.org (www.physionet.org)... 18.18.42.54\n",
            "Connecting to www.physionet.org (www.physionet.org)|18.18.42.54|:443... connected.\n",
            "HTTP request sent, awaiting response... 200 OK\n",
            "Length: 3628 (3.5K) [application/octet-stream]\n",
            "Saving to: ‘SC4071EC-Hypnogram.edf’\n",
            "\n",
            "SC4071EC-Hypnogram. 100%[===================>]   3.54K  --.-KB/s    in 0s      \n",
            "\n",
            "2020-11-04 10:24:04 (665 MB/s) - ‘SC4071EC-Hypnogram.edf’ saved [3628/3628]\n",
            "\n",
            "--2020-11-04 10:24:04--  https://www.physionet.org/physiobank/database/sleep-edfx/sleep-cassette/SC4072E0-PSG.edf\n",
            "Resolving www.physionet.org (www.physionet.org)... 18.18.42.54\n",
            "Connecting to www.physionet.org (www.physionet.org)|18.18.42.54|:443... connected.\n",
            "HTTP request sent, awaiting response... 200 OK\n",
            "Length: 50526848 (48M) [application/octet-stream]\n",
            "Saving to: ‘SC4072E0-PSG.edf’\n",
            "\n",
            "SC4072E0-PSG.edf    100%[===================>]  48.19M  6.95MB/s    in 8.1s    \n",
            "\n",
            "2020-11-04 10:24:12 (5.94 MB/s) - ‘SC4072E0-PSG.edf’ saved [50526848/50526848]\n",
            "\n",
            "--2020-11-04 10:24:12--  https://www.physionet.org/physiobank/database/sleep-edfx/sleep-cassette/SC4072E0-PSG.edf.hyp\n",
            "Resolving www.physionet.org (www.physionet.org)... 18.18.42.54\n",
            "Connecting to www.physionet.org (www.physionet.org)|18.18.42.54|:443... connected.\n",
            "HTTP request sent, awaiting response... 404 Not Found\n",
            "2020-11-04 10:24:13 ERROR 404: Not Found.\n",
            "\n",
            "--2020-11-04 10:24:13--  https://www.physionet.org/physiobank/database/sleep-edfx/sleep-cassette/SC4072EH-Hypnogram.edf\n",
            "Resolving www.physionet.org (www.physionet.org)... 18.18.42.54\n",
            "Connecting to www.physionet.org (www.physionet.org)|18.18.42.54|:443... connected.\n",
            "HTTP request sent, awaiting response... 200 OK\n",
            "Length: 5284 (5.2K) [application/octet-stream]\n",
            "Saving to: ‘SC4072EH-Hypnogram.edf’\n",
            "\n",
            "SC4072EH-Hypnogram. 100%[===================>]   5.16K  --.-KB/s    in 0s      \n",
            "\n",
            "2020-11-04 10:24:13 (639 MB/s) - ‘SC4072EH-Hypnogram.edf’ saved [5284/5284]\n",
            "\n",
            "--2020-11-04 10:24:13--  https://www.physionet.org/physiobank/database/sleep-edfx/sleep-cassette/SC4081E0-PSG.edf\n",
            "Resolving www.physionet.org (www.physionet.org)... 18.18.42.54\n",
            "Connecting to www.physionet.org (www.physionet.org)|18.18.42.54|:443... connected.\n",
            "HTTP request sent, awaiting response... 200 OK\n",
            "Length: 51001088 (49M) [application/octet-stream]\n",
            "Saving to: ‘SC4081E0-PSG.edf’\n",
            "\n",
            "SC4081E0-PSG.edf    100%[===================>]  48.64M  3.80MB/s    in 10s     \n",
            "\n",
            "2020-11-04 10:24:24 (4.66 MB/s) - ‘SC4081E0-PSG.edf’ saved [51001088/51001088]\n",
            "\n",
            "--2020-11-04 10:24:24--  https://www.physionet.org/physiobank/database/sleep-edfx/sleep-cassette/SC4081E0-PSG.edf.hyp\n",
            "Resolving www.physionet.org (www.physionet.org)... 18.18.42.54\n",
            "Connecting to www.physionet.org (www.physionet.org)|18.18.42.54|:443... connected.\n",
            "HTTP request sent, awaiting response... 404 Not Found\n",
            "2020-11-04 10:24:24 ERROR 404: Not Found.\n",
            "\n",
            "--2020-11-04 10:24:24--  https://www.physionet.org/physiobank/database/sleep-edfx/sleep-cassette/SC4081EC-Hypnogram.edf\n",
            "Resolving www.physionet.org (www.physionet.org)... 18.18.42.54\n",
            "Connecting to www.physionet.org (www.physionet.org)|18.18.42.54|:443... connected.\n",
            "HTTP request sent, awaiting response... 200 OK\n",
            "Length: 4306 (4.2K) [application/octet-stream]\n",
            "Saving to: ‘SC4081EC-Hypnogram.edf’\n",
            "\n",
            "SC4081EC-Hypnogram. 100%[===================>]   4.21K  --.-KB/s    in 0s      \n",
            "\n",
            "2020-11-04 10:24:25 (390 MB/s) - ‘SC4081EC-Hypnogram.edf’ saved [4306/4306]\n",
            "\n",
            "--2020-11-04 10:24:25--  https://www.physionet.org/physiobank/database/sleep-edfx/sleep-cassette/SC4082E0-PSG.edf\n",
            "Resolving www.physionet.org (www.physionet.org)... 18.18.42.54\n",
            "Connecting to www.physionet.org (www.physionet.org)|18.18.42.54|:443... connected.\n",
            "HTTP request sent, awaiting response... 200 OK\n",
            "Length: 48046208 (46M) [application/octet-stream]\n",
            "Saving to: ‘SC4082E0-PSG.edf’\n",
            "\n",
            "SC4082E0-PSG.edf    100%[===================>]  45.82M  3.06MB/s    in 17s     \n",
            "\n",
            "2020-11-04 10:24:42 (2.69 MB/s) - ‘SC4082E0-PSG.edf’ saved [48046208/48046208]\n",
            "\n",
            "--2020-11-04 10:24:42--  https://www.physionet.org/physiobank/database/sleep-edfx/sleep-cassette/SC4082E0-PSG.edf.hyp\n",
            "Resolving www.physionet.org (www.physionet.org)... 18.18.42.54\n",
            "Connecting to www.physionet.org (www.physionet.org)|18.18.42.54|:443... connected.\n",
            "HTTP request sent, awaiting response... 404 Not Found\n",
            "2020-11-04 10:24:42 ERROR 404: Not Found.\n",
            "\n",
            "--2020-11-04 10:24:42--  https://www.physionet.org/physiobank/database/sleep-edfx/sleep-cassette/SC4082EP-Hypnogram.edf\n",
            "Resolving www.physionet.org (www.physionet.org)... 18.18.42.54\n",
            "Connecting to www.physionet.org (www.physionet.org)|18.18.42.54|:443... connected.\n",
            "HTTP request sent, awaiting response... 200 OK\n",
            "Length: 4668 (4.6K) [application/octet-stream]\n",
            "Saving to: ‘SC4082EP-Hypnogram.edf’\n",
            "\n",
            "SC4082EP-Hypnogram. 100%[===================>]   4.56K  --.-KB/s    in 0s      \n",
            "\n",
            "2020-11-04 10:24:43 (610 MB/s) - ‘SC4082EP-Hypnogram.edf’ saved [4668/4668]\n",
            "\n",
            "--2020-11-04 10:24:43--  https://www.physionet.org/physiobank/database/sleep-edfx/sleep-cassette/SC4091E0-PSG.edf\n",
            "Resolving www.physionet.org (www.physionet.org)... 18.18.42.54\n",
            "Connecting to www.physionet.org (www.physionet.org)|18.18.42.54|:443... connected.\n",
            "HTTP request sent, awaiting response... 200 OK\n",
            "Length: 49833728 (48M) [application/octet-stream]\n",
            "Saving to: ‘SC4091E0-PSG.edf’\n",
            "\n",
            "SC4091E0-PSG.edf    100%[===================>]  47.52M  7.97MB/s    in 7.2s    \n",
            "\n",
            "2020-11-04 10:24:50 (6.60 MB/s) - ‘SC4091E0-PSG.edf’ saved [49833728/49833728]\n",
            "\n",
            "--2020-11-04 10:24:50--  https://www.physionet.org/physiobank/database/sleep-edfx/sleep-cassette/SC4091E0-PSG.edf.hyp\n",
            "Resolving www.physionet.org (www.physionet.org)... 18.18.42.54\n",
            "Connecting to www.physionet.org (www.physionet.org)|18.18.42.54|:443... connected.\n",
            "HTTP request sent, awaiting response... 404 Not Found\n",
            "2020-11-04 10:24:50 ERROR 404: Not Found.\n",
            "\n",
            "--2020-11-04 10:24:50--  https://www.physionet.org/physiobank/database/sleep-edfx/sleep-cassette/SC4091EC-Hypnogram.edf\n",
            "Resolving www.physionet.org (www.physionet.org)... 18.18.42.54\n",
            "Connecting to www.physionet.org (www.physionet.org)|18.18.42.54|:443... connected.\n",
            "HTTP request sent, awaiting response... 200 OK\n",
            "Length: 4474 (4.4K) [application/octet-stream]\n",
            "Saving to: ‘SC4091EC-Hypnogram.edf’\n",
            "\n",
            "SC4091EC-Hypnogram. 100%[===================>]   4.37K  --.-KB/s    in 0s      \n",
            "\n",
            "2020-11-04 10:24:51 (603 MB/s) - ‘SC4091EC-Hypnogram.edf’ saved [4474/4474]\n",
            "\n",
            "--2020-11-04 10:24:51--  https://www.physionet.org/physiobank/database/sleep-edfx/sleep-cassette/SC4092E0-PSG.edf\n",
            "Resolving www.physionet.org (www.physionet.org)... 18.18.42.54\n",
            "Connecting to www.physionet.org (www.physionet.org)|18.18.42.54|:443... connected.\n",
            "HTTP request sent, awaiting response... 200 OK\n",
            "Length: 52131968 (50M) [application/octet-stream]\n",
            "Saving to: ‘SC4092E0-PSG.edf’\n",
            "\n",
            "SC4092E0-PSG.edf    100%[===================>]  49.72M  13.7MB/s    in 3.8s    \n",
            "\n",
            "2020-11-04 10:24:55 (13.0 MB/s) - ‘SC4092E0-PSG.edf’ saved [52131968/52131968]\n",
            "\n",
            "--2020-11-04 10:24:55--  https://www.physionet.org/physiobank/database/sleep-edfx/sleep-cassette/SC4092E0-PSG.edf.hyp\n",
            "Resolving www.physionet.org (www.physionet.org)... 18.18.42.54\n",
            "Connecting to www.physionet.org (www.physionet.org)|18.18.42.54|:443... connected.\n",
            "HTTP request sent, awaiting response... 404 Not Found\n",
            "2020-11-04 10:24:55 ERROR 404: Not Found.\n",
            "\n",
            "--2020-11-04 10:24:55--  https://www.physionet.org/physiobank/database/sleep-edfx/sleep-cassette/SC4092EC-Hypnogram.edf\n",
            "Resolving www.physionet.org (www.physionet.org)... 18.18.42.54\n",
            "Connecting to www.physionet.org (www.physionet.org)|18.18.42.54|:443... connected.\n",
            "HTTP request sent, awaiting response... 200 OK\n",
            "Length: 3662 (3.6K) [application/octet-stream]\n",
            "Saving to: ‘SC4092EC-Hypnogram.edf’\n",
            "\n",
            "SC4092EC-Hypnogram. 100%[===================>]   3.58K  --.-KB/s    in 0s      \n",
            "\n",
            "2020-11-04 10:24:55 (776 MB/s) - ‘SC4092EC-Hypnogram.edf’ saved [3662/3662]\n",
            "\n",
            "--2020-11-04 10:24:55--  https://www.physionet.org/physiobank/database/sleep-edfx/sleep-cassette/SC4101E0-PSG.edf\n",
            "Resolving www.physionet.org (www.physionet.org)... 18.18.42.54\n",
            "Connecting to www.physionet.org (www.physionet.org)|18.18.42.54|:443... connected.\n",
            "HTTP request sent, awaiting response... 200 OK\n",
            "Length: 49614848 (47M) [application/octet-stream]\n",
            "Saving to: ‘SC4101E0-PSG.edf’\n",
            "\n",
            "SC4101E0-PSG.edf    100%[===================>]  47.32M  12.6MB/s    in 4.0s    \n",
            "\n",
            "2020-11-04 10:25:00 (11.8 MB/s) - ‘SC4101E0-PSG.edf’ saved [49614848/49614848]\n",
            "\n",
            "--2020-11-04 10:25:00--  https://www.physionet.org/physiobank/database/sleep-edfx/sleep-cassette/SC4101E0-PSG.edf.hyp\n",
            "Resolving www.physionet.org (www.physionet.org)... 18.18.42.54\n",
            "Connecting to www.physionet.org (www.physionet.org)|18.18.42.54|:443... connected.\n",
            "HTTP request sent, awaiting response... 404 Not Found\n",
            "2020-11-04 10:25:00 ERROR 404: Not Found.\n",
            "\n",
            "--2020-11-04 10:25:00--  https://www.physionet.org/physiobank/database/sleep-edfx/sleep-cassette/SC4101EC-Hypnogram.edf\n",
            "Resolving www.physionet.org (www.physionet.org)... 18.18.42.54\n",
            "Connecting to www.physionet.org (www.physionet.org)|18.18.42.54|:443... connected.\n",
            "HTTP request sent, awaiting response... 200 OK\n",
            "Length: 2224 (2.2K) [application/octet-stream]\n",
            "Saving to: ‘SC4101EC-Hypnogram.edf’\n",
            "\n",
            "SC4101EC-Hypnogram. 100%[===================>]   2.17K  --.-KB/s    in 0s      \n",
            "\n",
            "2020-11-04 10:25:00 (441 MB/s) - ‘SC4101EC-Hypnogram.edf’ saved [2224/2224]\n",
            "\n",
            "--2020-11-04 10:25:00--  https://www.physionet.org/physiobank/database/sleep-edfx/sleep-cassette/SC4102E0-PSG.edf\n",
            "Resolving www.physionet.org (www.physionet.org)... 18.18.42.54\n",
            "Connecting to www.physionet.org (www.physionet.org)|18.18.42.54|:443... connected.\n",
            "HTTP request sent, awaiting response... 200 OK\n",
            "Length: 52131968 (50M) [application/octet-stream]\n",
            "Saving to: ‘SC4102E0-PSG.edf’\n",
            "\n",
            "SC4102E0-PSG.edf    100%[===================>]  49.72M  5.39MB/s    in 9.2s    \n",
            "\n",
            "2020-11-04 10:25:10 (5.38 MB/s) - ‘SC4102E0-PSG.edf’ saved [52131968/52131968]\n",
            "\n",
            "--2020-11-04 10:25:10--  https://www.physionet.org/physiobank/database/sleep-edfx/sleep-cassette/SC4102E0-PSG.edf.hyp\n",
            "Resolving www.physionet.org (www.physionet.org)... 18.18.42.54\n",
            "Connecting to www.physionet.org (www.physionet.org)|18.18.42.54|:443... connected.\n",
            "HTTP request sent, awaiting response... 404 Not Found\n",
            "2020-11-04 10:25:10 ERROR 404: Not Found.\n",
            "\n",
            "--2020-11-04 10:25:10--  https://www.physionet.org/physiobank/database/sleep-edfx/sleep-cassette/SC4102EC-Hypnogram.edf\n",
            "Resolving www.physionet.org (www.physionet.org)... 18.18.42.54\n",
            "Connecting to www.physionet.org (www.physionet.org)|18.18.42.54|:443... connected.\n",
            "HTTP request sent, awaiting response... 200 OK\n",
            "Length: 3672 (3.6K) [application/octet-stream]\n",
            "Saving to: ‘SC4102EC-Hypnogram.edf’\n",
            "\n",
            "SC4102EC-Hypnogram. 100%[===================>]   3.59K  --.-KB/s    in 0s      \n",
            "\n",
            "2020-11-04 10:25:11 (751 MB/s) - ‘SC4102EC-Hypnogram.edf’ saved [3672/3672]\n",
            "\n",
            "--2020-11-04 10:25:11--  https://www.physionet.org/physiobank/database/sleep-edfx/sleep-cassette/SC4111E0-PSG.edf\n",
            "Resolving www.physionet.org (www.physionet.org)... 18.18.42.54\n",
            "Connecting to www.physionet.org (www.physionet.org)|18.18.42.54|:443... connected.\n",
            "HTTP request sent, awaiting response... 200 OK\n",
            "Length: 48192128 (46M) [application/octet-stream]\n",
            "Saving to: ‘SC4111E0-PSG.edf’\n",
            "\n",
            "SC4111E0-PSG.edf    100%[===================>]  45.96M  6.65MB/s    in 7.7s    \n",
            "\n",
            "2020-11-04 10:25:19 (5.96 MB/s) - ‘SC4111E0-PSG.edf’ saved [48192128/48192128]\n",
            "\n",
            "--2020-11-04 10:25:19--  https://www.physionet.org/physiobank/database/sleep-edfx/sleep-cassette/SC4111E0-PSG.edf.hyp\n",
            "Resolving www.physionet.org (www.physionet.org)... 18.18.42.54\n",
            "Connecting to www.physionet.org (www.physionet.org)|18.18.42.54|:443... connected.\n",
            "HTTP request sent, awaiting response... 404 Not Found\n",
            "2020-11-04 10:25:19 ERROR 404: Not Found.\n",
            "\n",
            "--2020-11-04 10:25:19--  https://www.physionet.org/physiobank/database/sleep-edfx/sleep-cassette/SC4111EC-Hypnogram.edf\n",
            "Resolving www.physionet.org (www.physionet.org)... 18.18.42.54\n",
            "Connecting to www.physionet.org (www.physionet.org)|18.18.42.54|:443... connected.\n",
            "HTTP request sent, awaiting response... 200 OK\n",
            "Length: 3876 (3.8K) [application/octet-stream]\n",
            "Saving to: ‘SC4111EC-Hypnogram.edf’\n",
            "\n",
            "SC4111EC-Hypnogram. 100%[===================>]   3.79K  --.-KB/s    in 0s      \n",
            "\n",
            "2020-11-04 10:25:19 (873 MB/s) - ‘SC4111EC-Hypnogram.edf’ saved [3876/3876]\n",
            "\n",
            "--2020-11-04 10:25:19--  https://www.physionet.org/physiobank/database/sleep-edfx/sleep-cassette/SC4112E0-PSG.edf\n",
            "Resolving www.physionet.org (www.physionet.org)... 18.18.42.54\n",
            "Connecting to www.physionet.org (www.physionet.org)|18.18.42.54|:443... connected.\n",
            "HTTP request sent, awaiting response... 200 OK\n",
            "Length: 50709248 (48M) [application/octet-stream]\n",
            "Saving to: ‘SC4112E0-PSG.edf’\n",
            "\n",
            "SC4112E0-PSG.edf    100%[===================>]  48.36M  6.71MB/s    in 8.7s    \n",
            "\n",
            "2020-11-04 10:25:28 (5.54 MB/s) - ‘SC4112E0-PSG.edf’ saved [50709248/50709248]\n",
            "\n",
            "--2020-11-04 10:25:28--  https://www.physionet.org/physiobank/database/sleep-edfx/sleep-cassette/SC4112E0-PSG.edf.hyp\n",
            "Resolving www.physionet.org (www.physionet.org)... 18.18.42.54\n",
            "Connecting to www.physionet.org (www.physionet.org)|18.18.42.54|:443... connected.\n",
            "HTTP request sent, awaiting response... 404 Not Found\n",
            "2020-11-04 10:25:29 ERROR 404: Not Found.\n",
            "\n",
            "--2020-11-04 10:25:29--  https://www.physionet.org/physiobank/database/sleep-edfx/sleep-cassette/SC4112EC-Hypnogram.edf\n",
            "Resolving www.physionet.org (www.physionet.org)... 18.18.42.54\n",
            "Connecting to www.physionet.org (www.physionet.org)|18.18.42.54|:443... connected.\n",
            "HTTP request sent, awaiting response... 200 OK\n",
            "Length: 3876 (3.8K) [application/octet-stream]\n",
            "Saving to: ‘SC4112EC-Hypnogram.edf’\n",
            "\n",
            "SC4112EC-Hypnogram. 100%[===================>]   3.79K  --.-KB/s    in 0s      \n",
            "\n",
            "2020-11-04 10:25:29 (779 MB/s) - ‘SC4112EC-Hypnogram.edf’ saved [3876/3876]\n",
            "\n",
            "--2020-11-04 10:25:29--  https://www.physionet.org/physiobank/database/sleep-edfx/sleep-cassette/SC4121E0-PSG.edf\n",
            "Resolving www.physionet.org (www.physionet.org)... 18.18.42.54\n",
            "Connecting to www.physionet.org (www.physionet.org)|18.18.42.54|:443... connected.\n",
            "HTTP request sent, awaiting response... 200 OK\n",
            "Length: 50818688 (48M) [application/octet-stream]\n",
            "Saving to: ‘SC4121E0-PSG.edf’\n",
            "\n",
            "SC4121E0-PSG.edf    100%[===================>]  48.46M  3.71MB/s    in 11s     \n",
            "\n",
            "2020-11-04 10:25:41 (4.32 MB/s) - ‘SC4121E0-PSG.edf’ saved [50818688/50818688]\n",
            "\n",
            "--2020-11-04 10:25:41--  https://www.physionet.org/physiobank/database/sleep-edfx/sleep-cassette/SC4121E0-PSG.edf.hyp\n",
            "Resolving www.physionet.org (www.physionet.org)... 18.18.42.54\n",
            "Connecting to www.physionet.org (www.physionet.org)|18.18.42.54|:443... connected.\n",
            "HTTP request sent, awaiting response... 404 Not Found\n",
            "2020-11-04 10:25:41 ERROR 404: Not Found.\n",
            "\n",
            "--2020-11-04 10:25:41--  https://www.physionet.org/physiobank/database/sleep-edfx/sleep-cassette/SC4121EC-Hypnogram.edf\n",
            "Resolving www.physionet.org (www.physionet.org)... 18.18.42.54\n",
            "Connecting to www.physionet.org (www.physionet.org)|18.18.42.54|:443... connected.\n",
            "HTTP request sent, awaiting response... 200 OK\n",
            "Length: 4012 (3.9K) [application/octet-stream]\n",
            "Saving to: ‘SC4121EC-Hypnogram.edf’\n",
            "\n",
            "SC4121EC-Hypnogram. 100%[===================>]   3.92K  --.-KB/s    in 0s      \n",
            "\n",
            "2020-11-04 10:25:41 (750 MB/s) - ‘SC4121EC-Hypnogram.edf’ saved [4012/4012]\n",
            "\n",
            "--2020-11-04 10:25:41--  https://www.physionet.org/physiobank/database/sleep-edfx/sleep-cassette/SC4122E0-PSG.edf\n",
            "Resolving www.physionet.org (www.physionet.org)... 18.18.42.54\n",
            "Connecting to www.physionet.org (www.physionet.org)|18.18.42.54|:443... connected.\n",
            "HTTP request sent, awaiting response... 200 OK\n",
            "Length: 47535488 (45M) [application/octet-stream]\n",
            "Saving to: ‘SC4122E0-PSG.edf’\n",
            "\n",
            "SC4122E0-PSG.edf    100%[===================>]  45.33M  13.8MB/s    in 3.8s    \n",
            "\n",
            "2020-11-04 10:25:45 (11.9 MB/s) - ‘SC4122E0-PSG.edf’ saved [47535488/47535488]\n",
            "\n",
            "--2020-11-04 10:25:45--  https://www.physionet.org/physiobank/database/sleep-edfx/sleep-cassette/SC4122E0-PSG.edf.hyp\n",
            "Resolving www.physionet.org (www.physionet.org)... 18.18.42.54\n",
            "Connecting to www.physionet.org (www.physionet.org)|18.18.42.54|:443... connected.\n",
            "HTTP request sent, awaiting response... 404 Not Found\n",
            "2020-11-04 10:25:46 ERROR 404: Not Found.\n",
            "\n",
            "--2020-11-04 10:25:46--  https://www.physionet.org/physiobank/database/sleep-edfx/sleep-cassette/SC4122EV-Hypnogram.edf\n",
            "Resolving www.physionet.org (www.physionet.org)... 18.18.42.54\n",
            "Connecting to www.physionet.org (www.physionet.org)|18.18.42.54|:443... connected.\n",
            "HTTP request sent, awaiting response... 200 OK\n",
            "Length: 4510 (4.4K) [application/octet-stream]\n",
            "Saving to: ‘SC4122EV-Hypnogram.edf’\n",
            "\n",
            "SC4122EV-Hypnogram. 100%[===================>]   4.40K  --.-KB/s    in 0s      \n",
            "\n",
            "2020-11-04 10:25:46 (581 MB/s) - ‘SC4122EV-Hypnogram.edf’ saved [4510/4510]\n",
            "\n",
            "--2020-11-04 10:25:46--  https://www.physionet.org/physiobank/database/sleep-edfx/sleep-cassette/SC4131E0-PSG.edf\n",
            "Resolving www.physionet.org (www.physionet.org)... 18.18.42.54\n",
            "Connecting to www.physionet.org (www.physionet.org)|18.18.42.54|:443... connected.\n",
            "HTTP request sent, awaiting response... 200 OK\n",
            "Length: 51329408 (49M) [application/octet-stream]\n",
            "Saving to: ‘SC4131E0-PSG.edf’\n",
            "\n",
            "SC4131E0-PSG.edf    100%[===================>]  48.95M  16.7MB/s    in 2.9s    \n",
            "\n",
            "2020-11-04 10:25:49 (16.7 MB/s) - ‘SC4131E0-PSG.edf’ saved [51329408/51329408]\n",
            "\n",
            "--2020-11-04 10:25:49--  https://www.physionet.org/physiobank/database/sleep-edfx/sleep-cassette/SC4131E0-PSG.edf.hyp\n",
            "Resolving www.physionet.org (www.physionet.org)... 18.18.42.54\n",
            "Connecting to www.physionet.org (www.physionet.org)|18.18.42.54|:443... connected.\n",
            "HTTP request sent, awaiting response... 404 Not Found\n",
            "2020-11-04 10:25:50 ERROR 404: Not Found.\n",
            "\n",
            "--2020-11-04 10:25:50--  https://www.physionet.org/physiobank/database/sleep-edfx/sleep-cassette/SC4131EC-Hypnogram.edf\n",
            "Resolving www.physionet.org (www.physionet.org)... 18.18.42.54\n",
            "Connecting to www.physionet.org (www.physionet.org)|18.18.42.54|:443... connected.\n",
            "HTTP request sent, awaiting response... 200 OK\n",
            "Length: 4442 (4.3K) [application/octet-stream]\n",
            "Saving to: ‘SC4131EC-Hypnogram.edf’\n",
            "\n",
            "SC4131EC-Hypnogram. 100%[===================>]   4.34K  --.-KB/s    in 0s      \n",
            "\n",
            "2020-11-04 10:25:50 (685 MB/s) - ‘SC4131EC-Hypnogram.edf’ saved [4442/4442]\n",
            "\n",
            "--2020-11-04 10:25:50--  https://www.physionet.org/physiobank/database/sleep-edfx/sleep-cassette/SC4141E0-PSG.edf\n",
            "Resolving www.physionet.org (www.physionet.org)... 18.18.42.54\n",
            "Connecting to www.physionet.org (www.physionet.org)|18.18.42.54|:443... connected.\n",
            "HTTP request sent, awaiting response... 200 OK\n",
            "Length: 50271488 (48M) [application/octet-stream]\n",
            "Saving to: ‘SC4141E0-PSG.edf’\n",
            "\n",
            "SC4141E0-PSG.edf    100%[===================>]  47.94M  14.9MB/s    in 3.2s    \n",
            "\n",
            "2020-11-04 10:25:53 (14.9 MB/s) - ‘SC4141E0-PSG.edf’ saved [50271488/50271488]\n",
            "\n",
            "--2020-11-04 10:25:53--  https://www.physionet.org/physiobank/database/sleep-edfx/sleep-cassette/SC4141E0-PSG.edf.hyp\n",
            "Resolving www.physionet.org (www.physionet.org)... 18.18.42.54\n",
            "Connecting to www.physionet.org (www.physionet.org)|18.18.42.54|:443... connected.\n",
            "HTTP request sent, awaiting response... 404 Not Found\n",
            "2020-11-04 10:25:54 ERROR 404: Not Found.\n",
            "\n",
            "--2020-11-04 10:25:54--  https://www.physionet.org/physiobank/database/sleep-edfx/sleep-cassette/SC4141EU-Hypnogram.edf\n",
            "Resolving www.physionet.org (www.physionet.org)... 18.18.42.54\n",
            "Connecting to www.physionet.org (www.physionet.org)|18.18.42.54|:443... connected.\n",
            "HTTP request sent, awaiting response... 200 OK\n",
            "Length: 3774 (3.7K) [application/octet-stream]\n",
            "Saving to: ‘SC4141EU-Hypnogram.edf’\n",
            "\n",
            "SC4141EU-Hypnogram. 100%[===================>]   3.69K  --.-KB/s    in 0s      \n",
            "\n",
            "2020-11-04 10:25:54 (708 MB/s) - ‘SC4141EU-Hypnogram.edf’ saved [3774/3774]\n",
            "\n",
            "--2020-11-04 10:25:54--  https://www.physionet.org/physiobank/database/sleep-edfx/sleep-cassette/SC4142E0-PSG.edf\n",
            "Resolving www.physionet.org (www.physionet.org)... 18.18.42.54\n",
            "Connecting to www.physionet.org (www.physionet.org)|18.18.42.54|:443... connected.\n",
            "HTTP request sent, awaiting response... 200 OK\n",
            "Length: 50599808 (48M) [application/octet-stream]\n",
            "Saving to: ‘SC4142E0-PSG.edf’\n",
            "\n",
            "SC4142E0-PSG.edf    100%[===================>]  48.25M  23.7MB/s    in 2.0s    \n",
            "\n",
            "2020-11-04 10:25:56 (23.7 MB/s) - ‘SC4142E0-PSG.edf’ saved [50599808/50599808]\n",
            "\n",
            "--2020-11-04 10:25:56--  https://www.physionet.org/physiobank/database/sleep-edfx/sleep-cassette/SC4142E0-PSG.edf.hyp\n",
            "Resolving www.physionet.org (www.physionet.org)... 18.18.42.54\n",
            "Connecting to www.physionet.org (www.physionet.org)|18.18.42.54|:443... connected.\n",
            "HTTP request sent, awaiting response... 404 Not Found\n",
            "2020-11-04 10:25:57 ERROR 404: Not Found.\n",
            "\n",
            "--2020-11-04 10:25:57--  https://www.physionet.org/physiobank/database/sleep-edfx/sleep-cassette/SC4142EU-Hypnogram.edf\n",
            "Resolving www.physionet.org (www.physionet.org)... 18.18.42.54\n",
            "Connecting to www.physionet.org (www.physionet.org)|18.18.42.54|:443... connected.\n",
            "HTTP request sent, awaiting response... 200 OK\n",
            "Length: 3826 (3.7K) [application/octet-stream]\n",
            "Saving to: ‘SC4142EU-Hypnogram.edf’\n",
            "\n",
            "SC4142EU-Hypnogram. 100%[===================>]   3.74K  --.-KB/s    in 0s      \n",
            "\n",
            "2020-11-04 10:25:57 (780 MB/s) - ‘SC4142EU-Hypnogram.edf’ saved [3826/3826]\n",
            "\n",
            "--2020-11-04 10:25:57--  https://www.physionet.org/physiobank/database/sleep-edfx/sleep-cassette/SC4151E0-PSG.edf\n",
            "Resolving www.physionet.org (www.physionet.org)... 18.18.42.54\n",
            "Connecting to www.physionet.org (www.physionet.org)|18.18.42.54|:443... connected.\n",
            "HTTP request sent, awaiting response... 200 OK\n",
            "Length: 47790848 (46M) [application/octet-stream]\n",
            "Saving to: ‘SC4151E0-PSG.edf’\n",
            "\n",
            "SC4151E0-PSG.edf    100%[===================>]  45.58M  25.3MB/s    in 1.8s    \n",
            "\n",
            "2020-11-04 10:25:59 (25.3 MB/s) - ‘SC4151E0-PSG.edf’ saved [47790848/47790848]\n",
            "\n",
            "--2020-11-04 10:25:59--  https://www.physionet.org/physiobank/database/sleep-edfx/sleep-cassette/SC4151E0-PSG.edf.hyp\n",
            "Resolving www.physionet.org (www.physionet.org)... 18.18.42.54\n",
            "Connecting to www.physionet.org (www.physionet.org)|18.18.42.54|:443... connected.\n",
            "HTTP request sent, awaiting response... 404 Not Found\n",
            "2020-11-04 10:25:59 ERROR 404: Not Found.\n",
            "\n",
            "--2020-11-04 10:25:59--  https://www.physionet.org/physiobank/database/sleep-edfx/sleep-cassette/SC4151EC-Hypnogram.edf\n",
            "Resolving www.physionet.org (www.physionet.org)... 18.18.42.54\n",
            "Connecting to www.physionet.org (www.physionet.org)|18.18.42.54|:443... connected.\n",
            "HTTP request sent, awaiting response... 200 OK\n",
            "Length: 3164 (3.1K) [application/octet-stream]\n",
            "Saving to: ‘SC4151EC-Hypnogram.edf’\n",
            "\n",
            "SC4151EC-Hypnogram. 100%[===================>]   3.09K  --.-KB/s    in 0s      \n",
            "\n",
            "2020-11-04 10:26:00 (759 MB/s) - ‘SC4151EC-Hypnogram.edf’ saved [3164/3164]\n",
            "\n",
            "--2020-11-04 10:26:00--  https://www.physionet.org/physiobank/database/sleep-edfx/sleep-cassette/SC4152E0-PSG.edf\n",
            "Resolving www.physionet.org (www.physionet.org)... 18.18.42.54\n",
            "Connecting to www.physionet.org (www.physionet.org)|18.18.42.54|:443... connected.\n",
            "HTTP request sent, awaiting response... 200 OK\n",
            "Length: 52241408 (50M) [application/octet-stream]\n",
            "Saving to: ‘SC4152E0-PSG.edf’\n",
            "\n",
            "SC4152E0-PSG.edf    100%[===================>]  49.82M  13.4MB/s    in 4.0s    \n",
            "\n",
            "2020-11-04 10:26:04 (12.6 MB/s) - ‘SC4152E0-PSG.edf’ saved [52241408/52241408]\n",
            "\n",
            "--2020-11-04 10:26:04--  https://www.physionet.org/physiobank/database/sleep-edfx/sleep-cassette/SC4152E0-PSG.edf.hyp\n",
            "Resolving www.physionet.org (www.physionet.org)... 18.18.42.54\n",
            "Connecting to www.physionet.org (www.physionet.org)|18.18.42.54|:443... connected.\n",
            "HTTP request sent, awaiting response... 404 Not Found\n",
            "2020-11-04 10:26:04 ERROR 404: Not Found.\n",
            "\n",
            "--2020-11-04 10:26:04--  https://www.physionet.org/physiobank/database/sleep-edfx/sleep-cassette/SC4152EC-Hypnogram.edf\n",
            "Resolving www.physionet.org (www.physionet.org)... 18.18.42.54\n",
            "Connecting to www.physionet.org (www.physionet.org)|18.18.42.54|:443... connected.\n",
            "HTTP request sent, awaiting response... 200 OK\n",
            "Length: 3394 (3.3K) [application/octet-stream]\n",
            "Saving to: ‘SC4152EC-Hypnogram.edf’\n",
            "\n",
            "SC4152EC-Hypnogram. 100%[===================>]   3.31K  --.-KB/s    in 0s      \n",
            "\n",
            "2020-11-04 10:26:05 (659 MB/s) - ‘SC4152EC-Hypnogram.edf’ saved [3394/3394]\n",
            "\n",
            "--2020-11-04 10:26:05--  https://www.physionet.org/physiobank/database/sleep-edfx/sleep-cassette/SC4161E0-PSG.edf\n",
            "Resolving www.physionet.org (www.physionet.org)... 18.18.42.54\n",
            "Connecting to www.physionet.org (www.physionet.org)|18.18.42.54|:443... connected.\n",
            "HTTP request sent, awaiting response... 200 OK\n",
            "Length: 47900288 (46M) [application/octet-stream]\n",
            "Saving to: ‘SC4161E0-PSG.edf’\n",
            "\n",
            "SC4161E0-PSG.edf    100%[===================>]  45.68M  9.16MB/s    in 5.2s    \n",
            "\n",
            "2020-11-04 10:26:10 (8.79 MB/s) - ‘SC4161E0-PSG.edf’ saved [47900288/47900288]\n",
            "\n",
            "--2020-11-04 10:26:10--  https://www.physionet.org/physiobank/database/sleep-edfx/sleep-cassette/SC4161E0-PSG.edf.hyp\n",
            "Resolving www.physionet.org (www.physionet.org)... 18.18.42.54\n",
            "Connecting to www.physionet.org (www.physionet.org)|18.18.42.54|:443... connected.\n",
            "HTTP request sent, awaiting response... 404 Not Found\n",
            "2020-11-04 10:26:11 ERROR 404: Not Found.\n",
            "\n",
            "--2020-11-04 10:26:11--  https://www.physionet.org/physiobank/database/sleep-edfx/sleep-cassette/SC4161EC-Hypnogram.edf\n",
            "Resolving www.physionet.org (www.physionet.org)... 18.18.42.54\n",
            "Connecting to www.physionet.org (www.physionet.org)|18.18.42.54|:443... connected.\n",
            "HTTP request sent, awaiting response... 200 OK\n",
            "Length: 4656 (4.5K) [application/octet-stream]\n",
            "Saving to: ‘SC4161EC-Hypnogram.edf’\n",
            "\n",
            "SC4161EC-Hypnogram. 100%[===================>]   4.55K  --.-KB/s    in 0s      \n",
            "\n",
            "2020-11-04 10:26:11 (667 MB/s) - ‘SC4161EC-Hypnogram.edf’ saved [4656/4656]\n",
            "\n",
            "--2020-11-04 10:26:11--  https://www.physionet.org/physiobank/database/sleep-edfx/sleep-cassette/SC4162E0-PSG.edf\n",
            "Resolving www.physionet.org (www.physionet.org)... 18.18.42.54\n",
            "Connecting to www.physionet.org (www.physionet.org)|18.18.42.54|:443... connected.\n",
            "HTTP request sent, awaiting response... 200 OK\n",
            "Length: 50198528 (48M) [application/octet-stream]\n",
            "Saving to: ‘SC4162E0-PSG.edf’\n",
            "\n",
            "SC4162E0-PSG.edf    100%[===================>]  47.87M  14.2MB/s    in 3.7s    \n",
            "\n",
            "2020-11-04 10:26:15 (12.9 MB/s) - ‘SC4162E0-PSG.edf’ saved [50198528/50198528]\n",
            "\n",
            "--2020-11-04 10:26:15--  https://www.physionet.org/physiobank/database/sleep-edfx/sleep-cassette/SC4162E0-PSG.edf.hyp\n",
            "Resolving www.physionet.org (www.physionet.org)... 18.18.42.54\n",
            "Connecting to www.physionet.org (www.physionet.org)|18.18.42.54|:443... connected.\n",
            "HTTP request sent, awaiting response... 404 Not Found\n",
            "2020-11-04 10:26:15 ERROR 404: Not Found.\n",
            "\n",
            "--2020-11-04 10:26:15--  https://www.physionet.org/physiobank/database/sleep-edfx/sleep-cassette/SC4162EC-Hypnogram.edf\n",
            "Resolving www.physionet.org (www.physionet.org)... 18.18.42.54\n",
            "Connecting to www.physionet.org (www.physionet.org)|18.18.42.54|:443... connected.\n",
            "HTTP request sent, awaiting response... 200 OK\n",
            "Length: 4120 (4.0K) [application/octet-stream]\n",
            "Saving to: ‘SC4162EC-Hypnogram.edf’\n",
            "\n",
            "SC4162EC-Hypnogram. 100%[===================>]   4.02K  --.-KB/s    in 0s      \n",
            "\n",
            "2020-11-04 10:26:16 (496 MB/s) - ‘SC4162EC-Hypnogram.edf’ saved [4120/4120]\n",
            "\n",
            "--2020-11-04 10:26:16--  https://www.physionet.org/physiobank/database/sleep-edfx/sleep-cassette/SC4171E0-PSG.edf\n",
            "Resolving www.physionet.org (www.physionet.org)... 18.18.42.54\n",
            "Connecting to www.physionet.org (www.physionet.org)|18.18.42.54|:443... connected.\n",
            "HTTP request sent, awaiting response... 200 OK\n",
            "Length: 50016128 (48M) [application/octet-stream]\n",
            "Saving to: ‘SC4171E0-PSG.edf’\n",
            "\n",
            "SC4171E0-PSG.edf    100%[===================>]  47.70M  17.3MB/s    in 2.8s    \n",
            "\n",
            "2020-11-04 10:26:19 (17.3 MB/s) - ‘SC4171E0-PSG.edf’ saved [50016128/50016128]\n",
            "\n",
            "--2020-11-04 10:26:19--  https://www.physionet.org/physiobank/database/sleep-edfx/sleep-cassette/SC4171E0-PSG.edf.hyp\n",
            "Resolving www.physionet.org (www.physionet.org)... 18.18.42.54\n",
            "Connecting to www.physionet.org (www.physionet.org)|18.18.42.54|:443... connected.\n",
            "HTTP request sent, awaiting response... 404 Not Found\n",
            "2020-11-04 10:26:19 ERROR 404: Not Found.\n",
            "\n",
            "--2020-11-04 10:26:19--  https://www.physionet.org/physiobank/database/sleep-edfx/sleep-cassette/SC4171EU-Hypnogram.edf\n",
            "Resolving www.physionet.org (www.physionet.org)... 18.18.42.54\n",
            "Connecting to www.physionet.org (www.physionet.org)|18.18.42.54|:443... connected.\n",
            "HTTP request sent, awaiting response... 200 OK\n",
            "Length: 5380 (5.3K) [application/octet-stream]\n",
            "Saving to: ‘SC4171EU-Hypnogram.edf’\n",
            "\n",
            "SC4171EU-Hypnogram. 100%[===================>]   5.25K  --.-KB/s    in 0s      \n",
            "\n",
            "2020-11-04 10:26:19 (644 MB/s) - ‘SC4171EU-Hypnogram.edf’ saved [5380/5380]\n",
            "\n",
            "--2020-11-04 10:26:19--  https://www.physionet.org/physiobank/database/sleep-edfx/sleep-cassette/SC4172E0-PSG.edf\n",
            "Resolving www.physionet.org (www.physionet.org)... 18.18.42.54\n",
            "Connecting to www.physionet.org (www.physionet.org)|18.18.42.54|:443... connected.\n",
            "HTTP request sent, awaiting response... 200 OK\n",
            "Length: 49687808 (47M) [application/octet-stream]\n",
            "Saving to: ‘SC4172E0-PSG.edf’\n",
            "\n",
            "SC4172E0-PSG.edf    100%[===================>]  47.39M  19.0MB/s    in 2.5s    \n",
            "\n",
            "2020-11-04 10:26:22 (19.0 MB/s) - ‘SC4172E0-PSG.edf’ saved [49687808/49687808]\n",
            "\n",
            "--2020-11-04 10:26:22--  https://www.physionet.org/physiobank/database/sleep-edfx/sleep-cassette/SC4172E0-PSG.edf.hyp\n",
            "Resolving www.physionet.org (www.physionet.org)... 18.18.42.54\n",
            "Connecting to www.physionet.org (www.physionet.org)|18.18.42.54|:443... connected.\n",
            "HTTP request sent, awaiting response... 404 Not Found\n",
            "2020-11-04 10:26:22 ERROR 404: Not Found.\n",
            "\n",
            "--2020-11-04 10:26:22--  https://www.physionet.org/physiobank/database/sleep-edfx/sleep-cassette/SC4172EC-Hypnogram.edf\n",
            "Resolving www.physionet.org (www.physionet.org)... 18.18.42.54\n",
            "Connecting to www.physionet.org (www.physionet.org)|18.18.42.54|:443... connected.\n",
            "HTTP request sent, awaiting response... 200 OK\n",
            "Length: 5560 (5.4K) [application/octet-stream]\n",
            "Saving to: ‘SC4172EC-Hypnogram.edf’\n",
            "\n",
            "SC4172EC-Hypnogram. 100%[===================>]   5.43K  --.-KB/s    in 0s      \n",
            "\n",
            "2020-11-04 10:26:23 (594 MB/s) - ‘SC4172EC-Hypnogram.edf’ saved [5560/5560]\n",
            "\n",
            "--2020-11-04 10:26:23--  https://www.physionet.org/physiobank/database/sleep-edfx/sleep-cassette/SC4181E0-PSG.edf\n",
            "Resolving www.physionet.org (www.physionet.org)... 18.18.42.54\n",
            "Connecting to www.physionet.org (www.physionet.org)|18.18.42.54|:443... connected.\n",
            "HTTP request sent, awaiting response... 200 OK\n",
            "Length: 50271488 (48M) [application/octet-stream]\n",
            "Saving to: ‘SC4181E0-PSG.edf’\n",
            "\n",
            "SC4181E0-PSG.edf    100%[===================>]  47.94M  14.2MB/s    in 3.6s    \n",
            "\n",
            "2020-11-04 10:26:27 (13.4 MB/s) - ‘SC4181E0-PSG.edf’ saved [50271488/50271488]\n",
            "\n",
            "--2020-11-04 10:26:27--  https://www.physionet.org/physiobank/database/sleep-edfx/sleep-cassette/SC4181E0-PSG.edf.hyp\n",
            "Resolving www.physionet.org (www.physionet.org)... 18.18.42.54\n",
            "Connecting to www.physionet.org (www.physionet.org)|18.18.42.54|:443... connected.\n",
            "HTTP request sent, awaiting response... 404 Not Found\n",
            "2020-11-04 10:26:27 ERROR 404: Not Found.\n",
            "\n",
            "--2020-11-04 10:26:27--  https://www.physionet.org/physiobank/database/sleep-edfx/sleep-cassette/SC4181EC-Hypnogram.edf\n",
            "Resolving www.physionet.org (www.physionet.org)... 18.18.42.54\n",
            "Connecting to www.physionet.org (www.physionet.org)|18.18.42.54|:443... connected.\n",
            "HTTP request sent, awaiting response... 200 OK\n",
            "Length: 4806 (4.7K) [application/octet-stream]\n",
            "Saving to: ‘SC4181EC-Hypnogram.edf’\n",
            "\n",
            "SC4181EC-Hypnogram. 100%[===================>]   4.69K  --.-KB/s    in 0s      \n",
            "\n",
            "2020-11-04 10:26:27 (676 MB/s) - ‘SC4181EC-Hypnogram.edf’ saved [4806/4806]\n",
            "\n",
            "--2020-11-04 10:26:27--  https://www.physionet.org/physiobank/database/sleep-edfx/sleep-cassette/SC4182E0-PSG.edf\n",
            "Resolving www.physionet.org (www.physionet.org)... 18.18.42.54\n",
            "Connecting to www.physionet.org (www.physionet.org)|18.18.42.54|:443... connected.\n",
            "HTTP request sent, awaiting response... 200 OK\n",
            "Length: 51840128 (49M) [application/octet-stream]\n",
            "Saving to: ‘SC4182E0-PSG.edf’\n",
            "\n",
            "SC4182E0-PSG.edf    100%[===================>]  49.44M  10.1MB/s    in 5.2s    \n",
            "\n",
            "2020-11-04 10:26:33 (9.49 MB/s) - ‘SC4182E0-PSG.edf’ saved [51840128/51840128]\n",
            "\n",
            "--2020-11-04 10:26:33--  https://www.physionet.org/physiobank/database/sleep-edfx/sleep-cassette/SC4182E0-PSG.edf.hyp\n",
            "Resolving www.physionet.org (www.physionet.org)... 18.18.42.54\n",
            "Connecting to www.physionet.org (www.physionet.org)|18.18.42.54|:443... connected.\n",
            "HTTP request sent, awaiting response... 404 Not Found\n",
            "2020-11-04 10:26:33 ERROR 404: Not Found.\n",
            "\n",
            "--2020-11-04 10:26:33--  https://www.physionet.org/physiobank/database/sleep-edfx/sleep-cassette/SC4182EC-Hypnogram.edf\n",
            "Resolving www.physionet.org (www.physionet.org)... 18.18.42.54\n",
            "Connecting to www.physionet.org (www.physionet.org)|18.18.42.54|:443... connected.\n",
            "HTTP request sent, awaiting response... 200 OK\n",
            "Length: 3414 (3.3K) [application/octet-stream]\n",
            "Saving to: ‘SC4182EC-Hypnogram.edf’\n",
            "\n",
            "SC4182EC-Hypnogram. 100%[===================>]   3.33K  --.-KB/s    in 0s      \n",
            "\n",
            "2020-11-04 10:26:33 (686 MB/s) - ‘SC4182EC-Hypnogram.edf’ saved [3414/3414]\n",
            "\n",
            "--2020-11-04 10:26:33--  https://www.physionet.org/physiobank/database/sleep-edfx/sleep-cassette/SC4191E0-PSG.edf\n",
            "Resolving www.physionet.org (www.physionet.org)... 18.18.42.54\n",
            "Connecting to www.physionet.org (www.physionet.org)|18.18.42.54|:443... connected.\n",
            "HTTP request sent, awaiting response... 200 OK\n",
            "Length: 50599808 (48M) [application/octet-stream]\n",
            "Saving to: ‘SC4191E0-PSG.edf’\n",
            "\n",
            "SC4191E0-PSG.edf    100%[===================>]  48.25M  19.1MB/s    in 2.5s    \n",
            "\n",
            "2020-11-04 10:26:36 (19.1 MB/s) - ‘SC4191E0-PSG.edf’ saved [50599808/50599808]\n",
            "\n",
            "--2020-11-04 10:26:36--  https://www.physionet.org/physiobank/database/sleep-edfx/sleep-cassette/SC4191E0-PSG.edf.hyp\n",
            "Resolving www.physionet.org (www.physionet.org)... 18.18.42.54\n",
            "Connecting to www.physionet.org (www.physionet.org)|18.18.42.54|:443... connected.\n",
            "HTTP request sent, awaiting response... 404 Not Found\n",
            "2020-11-04 10:26:37 ERROR 404: Not Found.\n",
            "\n",
            "--2020-11-04 10:26:37--  https://www.physionet.org/physiobank/database/sleep-edfx/sleep-cassette/SC4191EP-Hypnogram.edf\n",
            "Resolving www.physionet.org (www.physionet.org)... 18.18.42.54\n",
            "Connecting to www.physionet.org (www.physionet.org)|18.18.42.54|:443... connected.\n",
            "HTTP request sent, awaiting response... 200 OK\n",
            "Length: 5282 (5.2K) [application/octet-stream]\n",
            "Saving to: ‘SC4191EP-Hypnogram.edf’\n",
            "\n",
            "SC4191EP-Hypnogram. 100%[===================>]   5.16K  --.-KB/s    in 0s      \n",
            "\n",
            "2020-11-04 10:26:37 (719 MB/s) - ‘SC4191EP-Hypnogram.edf’ saved [5282/5282]\n",
            "\n",
            "--2020-11-04 10:26:37--  https://www.physionet.org/physiobank/database/sleep-edfx/sleep-cassette/SC4192E0-PSG.edf\n",
            "Resolving www.physionet.org (www.physionet.org)... 18.18.42.54\n",
            "Connecting to www.physionet.org (www.physionet.org)|18.18.42.54|:443... connected.\n",
            "HTTP request sent, awaiting response... 200 OK\n",
            "Length: 47608448 (45M) [application/octet-stream]\n",
            "Saving to: ‘SC4192E0-PSG.edf’\n",
            "\n",
            "SC4192E0-PSG.edf    100%[===================>]  45.40M  15.4MB/s    in 2.9s    \n",
            "\n",
            "2020-11-04 10:26:40 (15.4 MB/s) - ‘SC4192E0-PSG.edf’ saved [47608448/47608448]\n",
            "\n",
            "--2020-11-04 10:26:40--  https://www.physionet.org/physiobank/database/sleep-edfx/sleep-cassette/SC4192E0-PSG.edf.hyp\n",
            "Resolving www.physionet.org (www.physionet.org)... 18.18.42.54\n",
            "Connecting to www.physionet.org (www.physionet.org)|18.18.42.54|:443... connected.\n",
            "HTTP request sent, awaiting response... 404 Not Found\n",
            "2020-11-04 10:26:40 ERROR 404: Not Found.\n",
            "\n",
            "--2020-11-04 10:26:40--  https://www.physionet.org/physiobank/database/sleep-edfx/sleep-cassette/SC4192EV-Hypnogram.edf\n",
            "Resolving www.physionet.org (www.physionet.org)... 18.18.42.54\n",
            "Connecting to www.physionet.org (www.physionet.org)|18.18.42.54|:443... connected.\n",
            "HTTP request sent, awaiting response... 200 OK\n",
            "Length: 3946 (3.9K) [application/octet-stream]\n",
            "Saving to: ‘SC4192EV-Hypnogram.edf’\n",
            "\n",
            "SC4192EV-Hypnogram. 100%[===================>]   3.85K  --.-KB/s    in 0s      \n",
            "\n",
            "2020-11-04 10:26:41 (926 MB/s) - ‘SC4192EV-Hypnogram.edf’ saved [3946/3946]\n",
            "\n"
          ],
          "name": "stdout"
        }
      ]
    },
    {
      "cell_type": "code",
      "metadata": {
        "id": "N5BjDx7C0H89",
        "outputId": "fc20f678-8c77-4090-f31f-1ee32dfd998b",
        "colab": {
          "base_uri": "https://localhost:8080/"
        }
      },
      "source": [
        "ls -al"
      ],
      "execution_count": 6,
      "outputs": [
        {
          "output_type": "stream",
          "text": [
            "total 1913128\n",
            "drwxr-xr-x 1 root root     4096 Nov  4 10:26 \u001b[0m\u001b[01;34m.\u001b[0m/\n",
            "drwxr-xr-x 1 root root     4096 Nov  4 10:22 \u001b[01;34m..\u001b[0m/\n",
            "drwxr-xr-x 1 root root     4096 Oct 28 16:30 \u001b[01;34m.config\u001b[0m/\n",
            "-rwxrwxrwx 1 root root    11388 Nov  4 10:23 \u001b[01;32mdownload_physionet.sh\u001b[0m*\n",
            "drwxr-xr-x 1 root root     4096 Oct 28 16:30 \u001b[01;34msample_data\u001b[0m/\n",
            "-rw-r--r-- 1 root root 48338048 Apr  5  2018 SC4001E0-PSG.edf\n",
            "-rw-r--r-- 1 root root     4620 Apr  5  2018 SC4001EC-Hypnogram.edf\n",
            "-rw-r--r-- 1 root root 51621248 Apr  5  2018 SC4002E0-PSG.edf\n",
            "-rw-r--r-- 1 root root     4580 Apr  5  2018 SC4002EC-Hypnogram.edf\n",
            "-rw-r--r-- 1 root root 51110528 Apr  5  2018 SC4011E0-PSG.edf\n",
            "-rw-r--r-- 1 root root     3896 Apr  5  2018 SC4011EH-Hypnogram.edf\n",
            "-rw-r--r-- 1 root root 51986048 Apr  5  2018 SC4012E0-PSG.edf\n",
            "-rw-r--r-- 1 root root     5082 Apr  5  2018 SC4012EC-Hypnogram.edf\n",
            "-rw-r--r-- 1 root root 51147008 Apr  5  2018 SC4021E0-PSG.edf\n",
            "-rw-r--r-- 1 root root     4804 Apr  5  2018 SC4021EH-Hypnogram.edf\n",
            "-rw-r--r-- 1 root root 50271488 Apr  5  2018 SC4022E0-PSG.edf\n",
            "-rw-r--r-- 1 root root     5292 Apr  5  2018 SC4022EJ-Hypnogram.edf\n",
            "-rw-r--r-- 1 root root 51438848 Apr  5  2018 SC4031E0-PSG.edf\n",
            "-rw-r--r-- 1 root root     3700 Apr  5  2018 SC4031EC-Hypnogram.edf\n",
            "-rw-r--r-- 1 root root 49833728 Apr  5  2018 SC4032E0-PSG.edf\n",
            "-rw-r--r-- 1 root root     3800 Apr  5  2018 SC4032EP-Hypnogram.edf\n",
            "-rw-r--r-- 1 root root 46878848 Apr  5  2018 SC4041E0-PSG.edf\n",
            "-rw-r--r-- 1 root root     4830 Apr  5  2018 SC4041EC-Hypnogram.edf\n",
            "-rw-r--r-- 1 root root 50928128 Apr  5  2018 SC4042E0-PSG.edf\n",
            "-rw-r--r-- 1 root root     5276 Apr  5  2018 SC4042EC-Hypnogram.edf\n",
            "-rw-r--r-- 1 root root 49651328 Apr  5  2018 SC4051E0-PSG.edf\n",
            "-rw-r--r-- 1 root root     3976 Apr  5  2018 SC4051EC-Hypnogram.edf\n",
            "-rw-r--r-- 1 root root 51183488 Apr  5  2018 SC4052E0-PSG.edf\n",
            "-rw-r--r-- 1 root root     4232 Apr  5  2018 SC4052EC-Hypnogram.edf\n",
            "-rw-r--r-- 1 root root 50526848 Apr  5  2018 SC4061E0-PSG.edf\n",
            "-rw-r--r-- 1 root root     2620 Apr  5  2018 SC4061EC-Hypnogram.edf\n",
            "-rw-r--r-- 1 root root 51621248 Apr  5  2018 SC4062E0-PSG.edf\n",
            "-rw-r--r-- 1 root root     3146 Apr  5  2018 SC4062EC-Hypnogram.edf\n",
            "-rw-r--r-- 1 root root 51256448 Apr  5  2018 SC4071E0-PSG.edf\n",
            "-rw-r--r-- 1 root root     3628 Apr  5  2018 SC4071EC-Hypnogram.edf\n",
            "-rw-r--r-- 1 root root 50526848 Apr  5  2018 SC4072E0-PSG.edf\n",
            "-rw-r--r-- 1 root root     5284 Apr  5  2018 SC4072EH-Hypnogram.edf\n",
            "-rw-r--r-- 1 root root 51001088 Apr  5  2018 SC4081E0-PSG.edf\n",
            "-rw-r--r-- 1 root root     4306 Apr  5  2018 SC4081EC-Hypnogram.edf\n",
            "-rw-r--r-- 1 root root 48046208 Apr  5  2018 SC4082E0-PSG.edf\n",
            "-rw-r--r-- 1 root root     4668 Apr  5  2018 SC4082EP-Hypnogram.edf\n",
            "-rw-r--r-- 1 root root 49833728 Apr  5  2018 SC4091E0-PSG.edf\n",
            "-rw-r--r-- 1 root root     4474 Apr  5  2018 SC4091EC-Hypnogram.edf\n",
            "-rw-r--r-- 1 root root 52131968 Apr  5  2018 SC4092E0-PSG.edf\n",
            "-rw-r--r-- 1 root root     3662 Apr  5  2018 SC4092EC-Hypnogram.edf\n",
            "-rw-r--r-- 1 root root 49614848 Apr  5  2018 SC4101E0-PSG.edf\n",
            "-rw-r--r-- 1 root root     2224 Apr  5  2018 SC4101EC-Hypnogram.edf\n",
            "-rw-r--r-- 1 root root 52131968 Apr  5  2018 SC4102E0-PSG.edf\n",
            "-rw-r--r-- 1 root root     3672 Apr  5  2018 SC4102EC-Hypnogram.edf\n",
            "-rw-r--r-- 1 root root 48192128 Apr  5  2018 SC4111E0-PSG.edf\n",
            "-rw-r--r-- 1 root root     3876 Apr  5  2018 SC4111EC-Hypnogram.edf\n",
            "-rw-r--r-- 1 root root 50709248 Apr  5  2018 SC4112E0-PSG.edf\n",
            "-rw-r--r-- 1 root root     3876 Apr  5  2018 SC4112EC-Hypnogram.edf\n",
            "-rw-r--r-- 1 root root 50818688 Apr  5  2018 SC4121E0-PSG.edf\n",
            "-rw-r--r-- 1 root root     4012 Apr  5  2018 SC4121EC-Hypnogram.edf\n",
            "-rw-r--r-- 1 root root 47535488 Apr  5  2018 SC4122E0-PSG.edf\n",
            "-rw-r--r-- 1 root root     4510 Apr  5  2018 SC4122EV-Hypnogram.edf\n",
            "-rw-r--r-- 1 root root 51329408 Apr  5  2018 SC4131E0-PSG.edf\n",
            "-rw-r--r-- 1 root root     4442 Apr  5  2018 SC4131EC-Hypnogram.edf\n",
            "-rw-r--r-- 1 root root 50271488 Apr  5  2018 SC4141E0-PSG.edf\n",
            "-rw-r--r-- 1 root root     3774 Apr  5  2018 SC4141EU-Hypnogram.edf\n",
            "-rw-r--r-- 1 root root 50599808 Apr  5  2018 SC4142E0-PSG.edf\n",
            "-rw-r--r-- 1 root root     3826 Apr  5  2018 SC4142EU-Hypnogram.edf\n",
            "-rw-r--r-- 1 root root 47790848 Apr  5  2018 SC4151E0-PSG.edf\n",
            "-rw-r--r-- 1 root root     3164 Apr  5  2018 SC4151EC-Hypnogram.edf\n",
            "-rw-r--r-- 1 root root 52241408 Apr  5  2018 SC4152E0-PSG.edf\n",
            "-rw-r--r-- 1 root root     3394 Apr  5  2018 SC4152EC-Hypnogram.edf\n",
            "-rw-r--r-- 1 root root 47900288 Apr  5  2018 SC4161E0-PSG.edf\n",
            "-rw-r--r-- 1 root root     4656 Apr  5  2018 SC4161EC-Hypnogram.edf\n",
            "-rw-r--r-- 1 root root 50198528 Apr  5  2018 SC4162E0-PSG.edf\n",
            "-rw-r--r-- 1 root root     4120 Apr  5  2018 SC4162EC-Hypnogram.edf\n",
            "-rw-r--r-- 1 root root 50016128 Apr  5  2018 SC4171E0-PSG.edf\n",
            "-rw-r--r-- 1 root root     5380 Apr  5  2018 SC4171EU-Hypnogram.edf\n",
            "-rw-r--r-- 1 root root 49687808 Apr  5  2018 SC4172E0-PSG.edf\n",
            "-rw-r--r-- 1 root root     5560 Apr  5  2018 SC4172EC-Hypnogram.edf\n",
            "-rw-r--r-- 1 root root 50271488 Apr  5  2018 SC4181E0-PSG.edf\n",
            "-rw-r--r-- 1 root root     4806 Apr  5  2018 SC4181EC-Hypnogram.edf\n",
            "-rw-r--r-- 1 root root 51840128 Apr  5  2018 SC4182E0-PSG.edf\n",
            "-rw-r--r-- 1 root root     3414 Apr  5  2018 SC4182EC-Hypnogram.edf\n",
            "-rw-r--r-- 1 root root 50599808 Apr  5  2018 SC4191E0-PSG.edf\n",
            "-rw-r--r-- 1 root root     5282 Apr  5  2018 SC4191EP-Hypnogram.edf\n",
            "-rw-r--r-- 1 root root 47608448 Apr  5  2018 SC4192E0-PSG.edf\n",
            "-rw-r--r-- 1 root root     3946 Apr  5  2018 SC4192EV-Hypnogram.edf\n",
            "drwxr-xr-x 6 root root     4096 Nov  4 10:23 \u001b[01;34mSleepCapstone\u001b[0m/\n"
          ],
          "name": "stdout"
        }
      ]
    },
    {
      "cell_type": "code",
      "metadata": {
        "id": "p1GSx8vj37Hz"
      },
      "source": [
        "mkdir signals"
      ],
      "execution_count": 7,
      "outputs": []
    },
    {
      "cell_type": "code",
      "metadata": {
        "id": "_9twGBMr38jS"
      },
      "source": [
        "mkdir annotations"
      ],
      "execution_count": 8,
      "outputs": []
    },
    {
      "cell_type": "code",
      "metadata": {
        "id": "XQ5NPdqv39dy"
      },
      "source": [
        "mv *Hypnogram.edf ./annotations"
      ],
      "execution_count": 9,
      "outputs": []
    },
    {
      "cell_type": "code",
      "metadata": {
        "id": "EzBZmzYr4ChC"
      },
      "source": [
        "mv *PSG.edf ./signals"
      ],
      "execution_count": 10,
      "outputs": []
    },
    {
      "cell_type": "code",
      "metadata": {
        "id": "-74Hbb9V4KQj",
        "outputId": "50127c38-0676-42c8-8aa9-bfcb83cfd38a",
        "colab": {
          "base_uri": "https://localhost:8080/"
        }
      },
      "source": [
        "ls signals/"
      ],
      "execution_count": 11,
      "outputs": [
        {
          "output_type": "stream",
          "text": [
            "SC4001E0-PSG.edf  SC4051E0-PSG.edf  SC4101E0-PSG.edf  SC4152E0-PSG.edf\n",
            "SC4002E0-PSG.edf  SC4052E0-PSG.edf  SC4102E0-PSG.edf  SC4161E0-PSG.edf\n",
            "SC4011E0-PSG.edf  SC4061E0-PSG.edf  SC4111E0-PSG.edf  SC4162E0-PSG.edf\n",
            "SC4012E0-PSG.edf  SC4062E0-PSG.edf  SC4112E0-PSG.edf  SC4171E0-PSG.edf\n",
            "SC4021E0-PSG.edf  SC4071E0-PSG.edf  SC4121E0-PSG.edf  SC4172E0-PSG.edf\n",
            "SC4022E0-PSG.edf  SC4072E0-PSG.edf  SC4122E0-PSG.edf  SC4181E0-PSG.edf\n",
            "SC4031E0-PSG.edf  SC4081E0-PSG.edf  SC4131E0-PSG.edf  SC4182E0-PSG.edf\n",
            "SC4032E0-PSG.edf  SC4082E0-PSG.edf  SC4141E0-PSG.edf  SC4191E0-PSG.edf\n",
            "SC4041E0-PSG.edf  SC4091E0-PSG.edf  SC4142E0-PSG.edf  SC4192E0-PSG.edf\n",
            "SC4042E0-PSG.edf  SC4092E0-PSG.edf  SC4151E0-PSG.edf\n"
          ],
          "name": "stdout"
        }
      ]
    },
    {
      "cell_type": "code",
      "metadata": {
        "id": "l65s58a_4NKZ",
        "outputId": "f5db471f-1a7b-4b9b-9e00-b8efa9d5b8a1",
        "colab": {
          "base_uri": "https://localhost:8080/"
        }
      },
      "source": [
        "ls annotations"
      ],
      "execution_count": 12,
      "outputs": [
        {
          "output_type": "stream",
          "text": [
            "SC4001EC-Hypnogram.edf  SC4062EC-Hypnogram.edf  SC4131EC-Hypnogram.edf\n",
            "SC4002EC-Hypnogram.edf  SC4071EC-Hypnogram.edf  SC4141EU-Hypnogram.edf\n",
            "SC4011EH-Hypnogram.edf  SC4072EH-Hypnogram.edf  SC4142EU-Hypnogram.edf\n",
            "SC4012EC-Hypnogram.edf  SC4081EC-Hypnogram.edf  SC4151EC-Hypnogram.edf\n",
            "SC4021EH-Hypnogram.edf  SC4082EP-Hypnogram.edf  SC4152EC-Hypnogram.edf\n",
            "SC4022EJ-Hypnogram.edf  SC4091EC-Hypnogram.edf  SC4161EC-Hypnogram.edf\n",
            "SC4031EC-Hypnogram.edf  SC4092EC-Hypnogram.edf  SC4162EC-Hypnogram.edf\n",
            "SC4032EP-Hypnogram.edf  SC4101EC-Hypnogram.edf  SC4171EU-Hypnogram.edf\n",
            "SC4041EC-Hypnogram.edf  SC4102EC-Hypnogram.edf  SC4172EC-Hypnogram.edf\n",
            "SC4042EC-Hypnogram.edf  SC4111EC-Hypnogram.edf  SC4181EC-Hypnogram.edf\n",
            "SC4051EC-Hypnogram.edf  SC4112EC-Hypnogram.edf  SC4182EC-Hypnogram.edf\n",
            "SC4052EC-Hypnogram.edf  SC4121EC-Hypnogram.edf  SC4191EP-Hypnogram.edf\n",
            "SC4061EC-Hypnogram.edf  SC4122EV-Hypnogram.edf  SC4192EV-Hypnogram.edf\n"
          ],
          "name": "stdout"
        }
      ]
    },
    {
      "cell_type": "code",
      "metadata": {
        "id": "nF2HFogi4Nzq",
        "outputId": "d3a64b8b-a3cb-4c20-d6c1-d72a0996b134",
        "colab": {
          "base_uri": "https://localhost:8080/"
        }
      },
      "source": [
        "!pip install pyedflib"
      ],
      "execution_count": 13,
      "outputs": [
        {
          "output_type": "stream",
          "text": [
            "Collecting pyedflib\n",
            "\u001b[?25l  Downloading https://files.pythonhosted.org/packages/68/1d/f10ea5017a47398fda885c3c313973cf032c19fd6eb773d8e5b816ac3efc/pyEDFlib-0.1.19.tar.gz (1.2MB)\n",
            "\r\u001b[K     |▎                               | 10kB 25.4MB/s eta 0:00:01\r\u001b[K     |▌                               | 20kB 2.8MB/s eta 0:00:01\r\u001b[K     |▉                               | 30kB 3.5MB/s eta 0:00:01\r\u001b[K     |█                               | 40kB 3.8MB/s eta 0:00:01\r\u001b[K     |█▎                              | 51kB 3.3MB/s eta 0:00:01\r\u001b[K     |█▋                              | 61kB 3.6MB/s eta 0:00:01\r\u001b[K     |█▉                              | 71kB 4.0MB/s eta 0:00:01\r\u001b[K     |██                              | 81kB 4.4MB/s eta 0:00:01\r\u001b[K     |██▍                             | 92kB 4.6MB/s eta 0:00:01\r\u001b[K     |██▋                             | 102kB 4.6MB/s eta 0:00:01\r\u001b[K     |███                             | 112kB 4.6MB/s eta 0:00:01\r\u001b[K     |███▏                            | 122kB 4.6MB/s eta 0:00:01\r\u001b[K     |███▍                            | 133kB 4.6MB/s eta 0:00:01\r\u001b[K     |███▊                            | 143kB 4.6MB/s eta 0:00:01\r\u001b[K     |████                            | 153kB 4.6MB/s eta 0:00:01\r\u001b[K     |████▏                           | 163kB 4.6MB/s eta 0:00:01\r\u001b[K     |████▌                           | 174kB 4.6MB/s eta 0:00:01\r\u001b[K     |████▊                           | 184kB 4.6MB/s eta 0:00:01\r\u001b[K     |█████                           | 194kB 4.6MB/s eta 0:00:01\r\u001b[K     |█████▎                          | 204kB 4.6MB/s eta 0:00:01\r\u001b[K     |█████▌                          | 215kB 4.6MB/s eta 0:00:01\r\u001b[K     |█████▉                          | 225kB 4.6MB/s eta 0:00:01\r\u001b[K     |██████                          | 235kB 4.6MB/s eta 0:00:01\r\u001b[K     |██████▎                         | 245kB 4.6MB/s eta 0:00:01\r\u001b[K     |██████▋                         | 256kB 4.6MB/s eta 0:00:01\r\u001b[K     |██████▉                         | 266kB 4.6MB/s eta 0:00:01\r\u001b[K     |███████                         | 276kB 4.6MB/s eta 0:00:01\r\u001b[K     |███████▍                        | 286kB 4.6MB/s eta 0:00:01\r\u001b[K     |███████▋                        | 296kB 4.6MB/s eta 0:00:01\r\u001b[K     |███████▉                        | 307kB 4.6MB/s eta 0:00:01\r\u001b[K     |████████▏                       | 317kB 4.6MB/s eta 0:00:01\r\u001b[K     |████████▍                       | 327kB 4.6MB/s eta 0:00:01\r\u001b[K     |████████▊                       | 337kB 4.6MB/s eta 0:00:01\r\u001b[K     |█████████                       | 348kB 4.6MB/s eta 0:00:01\r\u001b[K     |█████████▏                      | 358kB 4.6MB/s eta 0:00:01\r\u001b[K     |█████████▌                      | 368kB 4.6MB/s eta 0:00:01\r\u001b[K     |█████████▊                      | 378kB 4.6MB/s eta 0:00:01\r\u001b[K     |██████████                      | 389kB 4.6MB/s eta 0:00:01\r\u001b[K     |██████████▎                     | 399kB 4.6MB/s eta 0:00:01\r\u001b[K     |██████████▌                     | 409kB 4.6MB/s eta 0:00:01\r\u001b[K     |██████████▊                     | 419kB 4.6MB/s eta 0:00:01\r\u001b[K     |███████████                     | 430kB 4.6MB/s eta 0:00:01\r\u001b[K     |███████████▎                    | 440kB 4.6MB/s eta 0:00:01\r\u001b[K     |███████████▋                    | 450kB 4.6MB/s eta 0:00:01\r\u001b[K     |███████████▉                    | 460kB 4.6MB/s eta 0:00:01\r\u001b[K     |████████████                    | 471kB 4.6MB/s eta 0:00:01\r\u001b[K     |████████████▍                   | 481kB 4.6MB/s eta 0:00:01\r\u001b[K     |████████████▋                   | 491kB 4.6MB/s eta 0:00:01\r\u001b[K     |████████████▉                   | 501kB 4.6MB/s eta 0:00:01\r\u001b[K     |█████████████▏                  | 512kB 4.6MB/s eta 0:00:01\r\u001b[K     |█████████████▍                  | 522kB 4.6MB/s eta 0:00:01\r\u001b[K     |█████████████▋                  | 532kB 4.6MB/s eta 0:00:01\r\u001b[K     |██████████████                  | 542kB 4.6MB/s eta 0:00:01\r\u001b[K     |██████████████▏                 | 552kB 4.6MB/s eta 0:00:01\r\u001b[K     |██████████████▌                 | 563kB 4.6MB/s eta 0:00:01\r\u001b[K     |██████████████▊                 | 573kB 4.6MB/s eta 0:00:01\r\u001b[K     |███████████████                 | 583kB 4.6MB/s eta 0:00:01\r\u001b[K     |███████████████▎                | 593kB 4.6MB/s eta 0:00:01\r\u001b[K     |███████████████▌                | 604kB 4.6MB/s eta 0:00:01\r\u001b[K     |███████████████▊                | 614kB 4.6MB/s eta 0:00:01\r\u001b[K     |████████████████                | 624kB 4.6MB/s eta 0:00:01\r\u001b[K     |████████████████▎               | 634kB 4.6MB/s eta 0:00:01\r\u001b[K     |████████████████▋               | 645kB 4.6MB/s eta 0:00:01\r\u001b[K     |████████████████▉               | 655kB 4.6MB/s eta 0:00:01\r\u001b[K     |█████████████████               | 665kB 4.6MB/s eta 0:00:01\r\u001b[K     |█████████████████▍              | 675kB 4.6MB/s eta 0:00:01\r\u001b[K     |█████████████████▋              | 686kB 4.6MB/s eta 0:00:01\r\u001b[K     |█████████████████▉              | 696kB 4.6MB/s eta 0:00:01\r\u001b[K     |██████████████████▏             | 706kB 4.6MB/s eta 0:00:01\r\u001b[K     |██████████████████▍             | 716kB 4.6MB/s eta 0:00:01\r\u001b[K     |██████████████████▋             | 727kB 4.6MB/s eta 0:00:01\r\u001b[K     |███████████████████             | 737kB 4.6MB/s eta 0:00:01\r\u001b[K     |███████████████████▏            | 747kB 4.6MB/s eta 0:00:01\r\u001b[K     |███████████████████▌            | 757kB 4.6MB/s eta 0:00:01\r\u001b[K     |███████████████████▊            | 768kB 4.6MB/s eta 0:00:01\r\u001b[K     |████████████████████            | 778kB 4.6MB/s eta 0:00:01\r\u001b[K     |████████████████████▎           | 788kB 4.6MB/s eta 0:00:01\r\u001b[K     |████████████████████▌           | 798kB 4.6MB/s eta 0:00:01\r\u001b[K     |████████████████████▊           | 808kB 4.6MB/s eta 0:00:01\r\u001b[K     |█████████████████████           | 819kB 4.6MB/s eta 0:00:01\r\u001b[K     |█████████████████████▎          | 829kB 4.6MB/s eta 0:00:01\r\u001b[K     |█████████████████████▌          | 839kB 4.6MB/s eta 0:00:01\r\u001b[K     |█████████████████████▉          | 849kB 4.6MB/s eta 0:00:01\r\u001b[K     |██████████████████████          | 860kB 4.6MB/s eta 0:00:01\r\u001b[K     |██████████████████████▍         | 870kB 4.6MB/s eta 0:00:01\r\u001b[K     |██████████████████████▋         | 880kB 4.6MB/s eta 0:00:01\r\u001b[K     |██████████████████████▉         | 890kB 4.6MB/s eta 0:00:01\r\u001b[K     |███████████████████████▏        | 901kB 4.6MB/s eta 0:00:01\r\u001b[K     |███████████████████████▍        | 911kB 4.6MB/s eta 0:00:01\r\u001b[K     |███████████████████████▋        | 921kB 4.6MB/s eta 0:00:01\r\u001b[K     |████████████████████████        | 931kB 4.6MB/s eta 0:00:01\r\u001b[K     |████████████████████████▏       | 942kB 4.6MB/s eta 0:00:01\r\u001b[K     |████████████████████████▍       | 952kB 4.6MB/s eta 0:00:01\r\u001b[K     |████████████████████████▊       | 962kB 4.6MB/s eta 0:00:01\r\u001b[K     |█████████████████████████       | 972kB 4.6MB/s eta 0:00:01\r\u001b[K     |█████████████████████████▎      | 983kB 4.6MB/s eta 0:00:01\r\u001b[K     |█████████████████████████▌      | 993kB 4.6MB/s eta 0:00:01\r\u001b[K     |█████████████████████████▊      | 1.0MB 4.6MB/s eta 0:00:01\r\u001b[K     |██████████████████████████      | 1.0MB 4.6MB/s eta 0:00:01\r\u001b[K     |██████████████████████████▎     | 1.0MB 4.6MB/s eta 0:00:01\r\u001b[K     |██████████████████████████▌     | 1.0MB 4.6MB/s eta 0:00:01\r\u001b[K     |██████████████████████████▉     | 1.0MB 4.6MB/s eta 0:00:01\r\u001b[K     |███████████████████████████     | 1.1MB 4.6MB/s eta 0:00:01\r\u001b[K     |███████████████████████████▎    | 1.1MB 4.6MB/s eta 0:00:01\r\u001b[K     |███████████████████████████▋    | 1.1MB 4.6MB/s eta 0:00:01\r\u001b[K     |███████████████████████████▉    | 1.1MB 4.6MB/s eta 0:00:01\r\u001b[K     |████████████████████████████▏   | 1.1MB 4.6MB/s eta 0:00:01\r\u001b[K     |████████████████████████████▍   | 1.1MB 4.6MB/s eta 0:00:01\r\u001b[K     |████████████████████████████▋   | 1.1MB 4.6MB/s eta 0:00:01\r\u001b[K     |█████████████████████████████   | 1.1MB 4.6MB/s eta 0:00:01\r\u001b[K     |█████████████████████████████▏  | 1.1MB 4.6MB/s eta 0:00:01\r\u001b[K     |█████████████████████████████▍  | 1.1MB 4.6MB/s eta 0:00:01\r\u001b[K     |█████████████████████████████▊  | 1.2MB 4.6MB/s eta 0:00:01\r\u001b[K     |██████████████████████████████  | 1.2MB 4.6MB/s eta 0:00:01\r\u001b[K     |██████████████████████████████▎ | 1.2MB 4.6MB/s eta 0:00:01\r\u001b[K     |██████████████████████████████▌ | 1.2MB 4.6MB/s eta 0:00:01\r\u001b[K     |██████████████████████████████▊ | 1.2MB 4.6MB/s eta 0:00:01\r\u001b[K     |███████████████████████████████ | 1.2MB 4.6MB/s eta 0:00:01\r\u001b[K     |███████████████████████████████▎| 1.2MB 4.6MB/s eta 0:00:01\r\u001b[K     |███████████████████████████████▌| 1.2MB 4.6MB/s eta 0:00:01\r\u001b[K     |███████████████████████████████▉| 1.2MB 4.6MB/s eta 0:00:01\r\u001b[K     |████████████████████████████████| 1.2MB 4.6MB/s \n",
            "\u001b[?25h  Installing build dependencies ... \u001b[?25l\u001b[?25hdone\n",
            "  Getting requirements to build wheel ... \u001b[?25l\u001b[?25hdone\n",
            "    Preparing wheel metadata ... \u001b[?25l\u001b[?25hdone\n",
            "Requirement already satisfied: numpy>=1.9.1 in /usr/local/lib/python3.6/dist-packages (from pyedflib) (1.18.5)\n",
            "Building wheels for collected packages: pyedflib\n",
            "  Building wheel for pyedflib (PEP 517) ... \u001b[?25l\u001b[?25hdone\n",
            "  Created wheel for pyedflib: filename=pyEDFlib-0.1.19-cp36-cp36m-linux_x86_64.whl size=925706 sha256=e4a810282fa808331626c6233354c1e564507fd540575c911655e7c30049fdb4\n",
            "  Stored in directory: /root/.cache/pip/wheels/1f/b7/24/a565e4f7471617165f1b040651b52d87ad1885aaf32e02d4f9\n",
            "Successfully built pyedflib\n",
            "Installing collected packages: pyedflib\n",
            "Successfully installed pyedflib-0.1.19\n"
          ],
          "name": "stdout"
        }
      ]
    },
    {
      "cell_type": "code",
      "metadata": {
        "id": "m1zNHBNc4beq"
      },
      "source": [
        "import numpy as np\n",
        "from pyedflib import highlevel\n",
        "import matplotlib.pyplot as plt\n",
        "import os\n",
        "import pandas as pd\n",
        "import random\n",
        "import shutil"
      ],
      "execution_count": 14,
      "outputs": []
    },
    {
      "cell_type": "code",
      "metadata": {
        "id": "PgoJ0WBZ4e0i"
      },
      "source": [
        "def search_annotations_edf(dirname):\n",
        "    filenames = os.listdir(dirname)\n",
        "    filenames = [file for file in filenames if file.endswith(\"Hypnogram.edf\")]\n",
        "    return filenames\n",
        "\n",
        "def search_signals_edf(dirname):\n",
        "    filenames = os.listdir(dirname)\n",
        "    filenames = [file for file in filenames if file.endswith(\"PSG.edf\")]\n",
        "    return filenames\n",
        "\n",
        "def search_correct_annotations(dirname,filename):\n",
        "    search_filename = filename.split('-')[0][:-2]\n",
        "    file_list = os.listdir(dirname)\n",
        "    filename = [file for file in file_list if search_filename in file if file.endswith(\"Hypnogram.edf\")]\n",
        "    \n",
        "    return filename\n",
        "\n",
        "def search_signals_npy(dirname):\n",
        "    filenames = os.listdir(dirname)\n",
        "    filenames = [file for file in filenames if file.endswith(\".npy\")]\n",
        "    return filenames\n",
        "\n",
        "def search_correct_annotations_npy(dirname,filename):\n",
        "    search_filename = filename.split('-')[0][:-2]\n",
        "    file_list = os.listdir(dirname)\n",
        "    filename = [file for file in file_list if search_filename in file if file.endswith(\"npy\")]\n",
        "    \n",
        "    return filename\n",
        "\n",
        "def search_correct_signals_npy(dirname,filename):\n",
        "    search_filename = filename.split('-')[0][:-2]\n",
        "    file_list = os.listdir(dirname)\n",
        "    filename = [file for file in file_list if search_filename in file if file.endswith(\"npy\")]\n",
        "    \n",
        "    return filename"
      ],
      "execution_count": 15,
      "outputs": []
    },
    {
      "cell_type": "code",
      "metadata": {
        "id": "PFO4hW7R4jWi",
        "outputId": "fce9d856-ea05-4fcd-aa20-be760968dde2",
        "colab": {
          "base_uri": "https://localhost:8080/"
        }
      },
      "source": [
        "signals_path = 'signals/'\n",
        "annotations_path = 'annotations/'\n",
        "annotations_edf_list = search_annotations_edf(annotations_path)\n",
        "signals_edf_list = search_signals_edf(signals_path)\n",
        "\n",
        "print('signals edf file list')\n",
        "print(signals_edf_list)\n",
        "\n",
        "print('annotations edf file list')\n",
        "print(annotations_edf_list)"
      ],
      "execution_count": 16,
      "outputs": [
        {
          "output_type": "stream",
          "text": [
            "signals edf file list\n",
            "['SC4082E0-PSG.edf', 'SC4121E0-PSG.edf', 'SC4012E0-PSG.edf', 'SC4002E0-PSG.edf', 'SC4001E0-PSG.edf', 'SC4181E0-PSG.edf', 'SC4191E0-PSG.edf', 'SC4081E0-PSG.edf', 'SC4031E0-PSG.edf', 'SC4161E0-PSG.edf', 'SC4022E0-PSG.edf', 'SC4142E0-PSG.edf', 'SC4011E0-PSG.edf', 'SC4102E0-PSG.edf', 'SC4021E0-PSG.edf', 'SC4032E0-PSG.edf', 'SC4192E0-PSG.edf', 'SC4052E0-PSG.edf', 'SC4162E0-PSG.edf', 'SC4061E0-PSG.edf', 'SC4141E0-PSG.edf', 'SC4051E0-PSG.edf', 'SC4122E0-PSG.edf', 'SC4172E0-PSG.edf', 'SC4062E0-PSG.edf', 'SC4171E0-PSG.edf', 'SC4112E0-PSG.edf', 'SC4042E0-PSG.edf', 'SC4072E0-PSG.edf', 'SC4041E0-PSG.edf', 'SC4111E0-PSG.edf', 'SC4071E0-PSG.edf', 'SC4092E0-PSG.edf', 'SC4131E0-PSG.edf', 'SC4101E0-PSG.edf', 'SC4182E0-PSG.edf', 'SC4151E0-PSG.edf', 'SC4152E0-PSG.edf', 'SC4091E0-PSG.edf']\n",
            "annotations edf file list\n",
            "['SC4032EP-Hypnogram.edf', 'SC4062EC-Hypnogram.edf', 'SC4041EC-Hypnogram.edf', 'SC4002EC-Hypnogram.edf', 'SC4031EC-Hypnogram.edf', 'SC4082EP-Hypnogram.edf', 'SC4131EC-Hypnogram.edf', 'SC4042EC-Hypnogram.edf', 'SC4161EC-Hypnogram.edf', 'SC4112EC-Hypnogram.edf', 'SC4102EC-Hypnogram.edf', 'SC4181EC-Hypnogram.edf', 'SC4022EJ-Hypnogram.edf', 'SC4111EC-Hypnogram.edf', 'SC4121EC-Hypnogram.edf', 'SC4171EU-Hypnogram.edf', 'SC4021EH-Hypnogram.edf', 'SC4191EP-Hypnogram.edf', 'SC4072EH-Hypnogram.edf', 'SC4052EC-Hypnogram.edf', 'SC4071EC-Hypnogram.edf', 'SC4091EC-Hypnogram.edf', 'SC4011EH-Hypnogram.edf', 'SC4001EC-Hypnogram.edf', 'SC4141EU-Hypnogram.edf', 'SC4152EC-Hypnogram.edf', 'SC4092EC-Hypnogram.edf', 'SC4081EC-Hypnogram.edf', 'SC4101EC-Hypnogram.edf', 'SC4151EC-Hypnogram.edf', 'SC4162EC-Hypnogram.edf', 'SC4061EC-Hypnogram.edf', 'SC4192EV-Hypnogram.edf', 'SC4182EC-Hypnogram.edf', 'SC4122EV-Hypnogram.edf', 'SC4142EU-Hypnogram.edf', 'SC4012EC-Hypnogram.edf', 'SC4172EC-Hypnogram.edf', 'SC4051EC-Hypnogram.edf']\n"
          ],
          "name": "stdout"
        }
      ]
    },
    {
      "cell_type": "code",
      "metadata": {
        "id": "QH6g9Zhb4wcK",
        "outputId": "dd5fc26d-6c20-44a1-9cec-8c43d4bfe1ea",
        "colab": {
          "base_uri": "https://localhost:8080/"
        }
      },
      "source": [
        "epoch_size = 30\n",
        "sample_rate = 100\n",
        "save_signals_path = signals_path + 'npy/'\n",
        "save_annotations_path = annotations_path+'npy/'\n",
        "\n",
        "os.makedirs(save_annotations_path,exist_ok=True)\n",
        "os.makedirs(save_signals_path,exist_ok=True)\n",
        "\n",
        "for filename in signals_edf_list:\n",
        "    signals_filename = filename\n",
        "    annotations_filename = search_correct_annotations(annotations_path,filename)[0]\n",
        "    \n",
        "    print(signals_filename,annotations_filename)\n",
        "\n",
        "\n",
        "    signals_filename = signals_path + signals_filename\n",
        "    annotations_filename = annotations_path + annotations_filename\n",
        "    \n",
        "    _, _, annotations_header = highlevel.read_edf(annotations_filename)\n",
        "    print(annotations_header)\n",
        "    label = []\n",
        "    for ann in annotations_header['annotations']:\n",
        "        start = ann[0]\n",
        "\n",
        "        length = ann[1]\n",
        "        length = int(str(length)[2:-1]) // epoch_size # label은 30초 간격으로 사용할 것이기 때문에 30으로 나눈 값이 해당 sleep stage가 반복된 횟수이다.\n",
        "        \n",
        "        if ann[2] == 'Sleep stage W':\n",
        "            for time in range(length):\n",
        "                label.append(0)\n",
        "        elif ann[2] == 'Sleep stage 1':\n",
        "            for time in range(length):\n",
        "                label.append(1)\n",
        "        elif ann[2] == 'Sleep stage 2':\n",
        "            for time in range(length):\n",
        "                label.append(2)\n",
        "        elif ann[2] == 'Sleep stage 3':\n",
        "            for time in range(length):\n",
        "                label.append(3)\n",
        "        elif ann[2] == 'Sleep stage 4':\n",
        "            for time in range(length):\n",
        "                label.append(3)\n",
        "        elif ann[2] == 'Sleep stage R':\n",
        "            for time in range(length):\n",
        "                label.append(4)\n",
        "        else:\n",
        "            for time in range(length):\n",
        "                label.append(5)\n",
        "    label = np.array(label)\n",
        "\n",
        "\n",
        "    signals, _, signals_header = highlevel.read_edf(signals_filename)\n",
        "    \n",
        "    \n",
        "    signals_len = len(signals[0]) // sample_rate // epoch_size\n",
        "    annotations_len = len(label)\n",
        "    if signals_header['startdate'] == annotations_header['startdate']:\n",
        "        print(\"%s file's signal & annotations start time is same\"%signals_filename.split('/')[-1])\n",
        "        \n",
        "        if signals_len > annotations_len :\n",
        "            signals = signals[:3][:annotations_len]\n",
        "        elif signals_len < annotations_len :\n",
        "            signals = signals[:3]\n",
        "            label = label[:signals_len]\n",
        "        else:\n",
        "            signals = signals[:3]\n",
        "        signals = np.array(signals)\n",
        "        \n",
        "        np.save(save_signals_path + signals_filename.split('/')[-1].split('.')[0],signals)\n",
        "        np.save(save_annotations_path + annotations_filename.split('/')[-1].split('.')[0],label)\n",
        "        \n",
        "        if (len(signals[0])//sample_rate//epoch_size != len(label)):\n",
        "            print('signals len : %d / annotations len : %d'%(len(signals[0])//sample_rate//epoch_size,len(label)))\n",
        "        \n",
        "    else:\n",
        "        print(\"%s file''s signal & annotations start time is different\"%signals_filename.split('/')[-1])"
      ],
      "execution_count": 17,
      "outputs": [
        {
          "output_type": "stream",
          "text": [
            "Reading Channels: 0it [00:00, ?it/s]\n",
            "Reading Channels:   0%|          | 0/7 [00:00<?, ?it/s]"
          ],
          "name": "stderr"
        },
        {
          "output_type": "stream",
          "text": [
            "SC4082E0-PSG.edf SC4082EP-Hypnogram.edf\n",
            "{'technician': '', 'recording_additional': '', 'patientname': 'Female 25yr', 'patient_additional': '', 'patientcode': '', 'equipment': '', 'admincode': '', 'gender': 'Female', 'startdate': datetime.datetime(1989, 5, 25, 16, 43), 'birthdate': '', 'annotations': [[0.0, b'25350', 'Sleep stage W'], [25350.0, b'30', 'Sleep stage 1'], [25380.0, b'120', 'Sleep stage W'], [25500.0, b'90', 'Sleep stage 1'], [25590.0, b'60', 'Sleep stage 2'], [25650.0, b'30', 'Sleep stage 1'], [25680.0, b'30', 'Sleep stage 2'], [25710.0, b'30', 'Sleep stage 1'], [25740.0, b'30', 'Sleep stage W'], [25770.0, b'30', 'Sleep stage 1'], [25800.0, b'120', 'Sleep stage 2'], [25920.0, b'60', 'Sleep stage 1'], [25980.0, b'30', 'Sleep stage 2'], [26010.0, b'30', 'Sleep stage 1'], [26040.0, b'30', 'Sleep stage 2'], [26070.0, b'30', 'Sleep stage 1'], [26100.0, b'270', 'Sleep stage 2'], [26370.0, b'30', 'Sleep stage 3'], [26400.0, b'30', 'Sleep stage 2'], [26430.0, b'30', 'Sleep stage 3'], [26460.0, b'30', 'Sleep stage 4'], [26490.0, b'30', 'Sleep stage 3'], [26520.0, b'60', 'Sleep stage 4'], [26580.0, b'30', 'Sleep stage 3'], [26610.0, b'30', 'Sleep stage 4'], [26640.0, b'30', 'Sleep stage 3'], [26670.0, b'450', 'Sleep stage 4'], [27120.0, b'30', 'Sleep stage 3'], [27150.0, b'30', 'Sleep stage 2'], [27180.0, b'30', 'Sleep stage 3'], [27210.0, b'30', 'Sleep stage 2'], [27240.0, b'90', 'Sleep stage 3'], [27330.0, b'1020', 'Sleep stage 4'], [28350.0, b'60', 'Sleep stage 2'], [28410.0, b'30', 'Sleep stage 3'], [28440.0, b'30', 'Sleep stage 2'], [28470.0, b'60', 'Sleep stage 3'], [28530.0, b'30', 'Sleep stage 2'], [28560.0, b'60', 'Sleep stage 3'], [28620.0, b'30', 'Sleep stage 2'], [28650.0, b'30', 'Sleep stage 3'], [28680.0, b'30', 'Sleep stage 2'], [28710.0, b'60', 'Sleep stage 3'], [28770.0, b'30', 'Sleep stage 2'], [28800.0, b'120', 'Sleep stage 3'], [28920.0, b'30', 'Sleep stage 2'], [28950.0, b'90', 'Sleep stage R'], [29040.0, b'30', 'Sleep stage 3'], [29070.0, b'360', 'Sleep stage R'], [29430.0, b'60', 'Sleep stage 2'], [29490.0, b'30', 'Sleep stage 1'], [29520.0, b'300', 'Sleep stage W'], [29820.0, b'60', 'Sleep stage 1'], [29880.0, b'30', 'Sleep stage W'], [29910.0, b'120', 'Sleep stage 1'], [30030.0, b'60', 'Sleep stage 2'], [30090.0, b'30', 'Sleep stage 3'], [30120.0, b'180', 'Sleep stage 2'], [30300.0, b'30', 'Sleep stage 3'], [30330.0, b'60', 'Sleep stage 2'], [30390.0, b'60', 'Sleep stage 3'], [30450.0, b'360', 'Sleep stage 2'], [30810.0, b'60', 'Sleep stage 3'], [30870.0, b'60', 'Sleep stage 2'], [30930.0, b'90', 'Sleep stage 3'], [31020.0, b'2040', 'Sleep stage 4'], [33060.0, b'60', 'Sleep stage 3'], [33120.0, b'120', 'Sleep stage 2'], [33240.0, b'30', 'Sleep stage 3'], [33270.0, b'30', 'Sleep stage 2'], [33300.0, b'60', 'Sleep stage 3'], [33360.0, b'330', 'Sleep stage 2'], [33690.0, b'2370', 'Sleep stage R'], [36060.0, b'210', 'Sleep stage 2'], [36270.0, b'150', 'Sleep stage R'], [36420.0, b'30', 'Sleep stage 2'], [36450.0, b'30', 'Sleep stage W'], [36480.0, b'30', 'Sleep stage 1'], [36510.0, b'480', 'Sleep stage 2'], [36990.0, b'30', 'Sleep stage 3'], [37020.0, b'60', 'Sleep stage 2'], [37080.0, b'30', 'Sleep stage 3'], [37110.0, b'120', 'Sleep stage 2'], [37230.0, b'240', 'Sleep stage 3'], [37470.0, b'90', 'Sleep stage 2'], [37560.0, b'30', 'Sleep stage 3'], [37590.0, b'2130', 'Sleep stage 4'], [39720.0, b'150', 'Sleep stage 3'], [39870.0, b'420', 'Sleep stage 2'], [40290.0, b'870', 'Sleep stage R'], [41160.0, b'30', 'Sleep stage 1'], [41190.0, b'570', 'Sleep stage 2'], [41760.0, b'30', 'Sleep stage 3'], [41790.0, b'60', 'Sleep stage 2'], [41850.0, b'30', 'Sleep stage 3'], [41880.0, b'30', 'Sleep stage 2'], [41910.0, b'30', 'Sleep stage 3'], [41940.0, b'30', 'Sleep stage 2'], [41970.0, b'30', 'Sleep stage 3'], [42000.0, b'240', 'Sleep stage 2'], [42240.0, b'30', 'Sleep stage 3'], [42270.0, b'30', 'Sleep stage 2'], [42300.0, b'60', 'Sleep stage W'], [42360.0, b'90', 'Sleep stage 1'], [42450.0, b'1050', 'Sleep stage 2'], [43500.0, b'30', 'Sleep stage 3'], [43530.0, b'300', 'Sleep stage 2'], [43830.0, b'30', 'Sleep stage 3'], [43860.0, b'60', 'Sleep stage 2'], [43920.0, b'60', 'Sleep stage 3'], [43980.0, b'150', 'Sleep stage 2'], [44130.0, b'240', 'Sleep stage 3'], [44370.0, b'30', 'Sleep stage 4'], [44400.0, b'60', 'Sleep stage 3'], [44460.0, b'30', 'Sleep stage 4'], [44490.0, b'60', 'Sleep stage 3'], [44550.0, b'90', 'Sleep stage 4'], [44640.0, b'30', 'Sleep stage 3'], [44670.0, b'30', 'Sleep stage 4'], [44700.0, b'60', 'Sleep stage 3'], [44760.0, b'30', 'Sleep stage W'], [44790.0, b'90', 'Sleep stage 1'], [44880.0, b'60', 'Sleep stage W'], [44940.0, b'30', 'Sleep stage 1'], [44970.0, b'360', 'Sleep stage 2'], [45330.0, b'1170', 'Sleep stage R'], [46500.0, b'360', 'Sleep stage 2'], [46860.0, b'30', 'Sleep stage 1'], [46890.0, b'690', 'Sleep stage 2'], [47580.0, b'60', 'Sleep stage 1'], [47640.0, b'900', 'Sleep stage 2'], [48540.0, b'30', 'Sleep stage 3'], [48570.0, b'180', 'Sleep stage 2'], [48750.0, b'30', 'Sleep stage 1'], [48780.0, b'510', 'Sleep stage 2'], [49290.0, b'30', 'Sleep stage 3'], [49320.0, b'90', 'Sleep stage 2'], [49410.0, b'60', 'Sleep stage 3'], [49470.0, b'90', 'Sleep stage 2'], [49560.0, b'60', 'Sleep stage 3'], [49620.0, b'30', 'Sleep stage 2'], [49650.0, b'30', 'Sleep stage 3'], [49680.0, b'90', 'Sleep stage 2'], [49770.0, b'30', 'Sleep stage 1'], [49800.0, b'30', 'Sleep stage 2'], [49830.0, b'30', 'Sleep stage W'], [49860.0, b'90', 'Sleep stage 1'], [49950.0, b'210', 'Sleep stage 2'], [50160.0, b'1500', 'Sleep stage R'], [51660.0, b'90', 'Sleep stage 1'], [51750.0, b'1290', 'Sleep stage R'], [53040.0, b'270', 'Sleep stage 2'], [53310.0, b'30', 'Sleep stage W'], [53340.0, b'30', 'Sleep stage 1'], [53370.0, b'25650', 'Sleep stage W'], [79020.0, b'7380', 'Sleep stage ?']]}\n"
          ],
          "name": "stdout"
        },
        {
          "output_type": "stream",
          "text": [
            "Reading Channels: 100%|██████████| 7/7 [00:01<00:00,  6.32it/s]\n"
          ],
          "name": "stderr"
        },
        {
          "output_type": "stream",
          "text": [
            "SC4082E0-PSG.edf file's signal & annotations start time is same\n"
          ],
          "name": "stdout"
        },
        {
          "output_type": "stream",
          "text": [
            "Reading Channels: 0it [00:00, ?it/s]\n",
            "Reading Channels:   0%|          | 0/7 [00:00<?, ?it/s]"
          ],
          "name": "stderr"
        },
        {
          "output_type": "stream",
          "text": [
            "SC4121E0-PSG.edf SC4121EC-Hypnogram.edf\n",
            "{'technician': '', 'recording_additional': '', 'patientname': 'Male 26yr', 'patient_additional': '', 'patientcode': '', 'equipment': '', 'admincode': '', 'gender': 'Male', 'startdate': datetime.datetime(1989, 5, 22, 16, 2), 'birthdate': '', 'annotations': [[0.0, b'28860', 'Sleep stage W'], [28860.0, b'90', 'Sleep stage 1'], [28950.0, b'450', 'Sleep stage 2'], [29400.0, b'30', 'Sleep stage 1'], [29430.0, b'720', 'Sleep stage 2'], [30150.0, b'180', 'Sleep stage 3'], [30330.0, b'360', 'Sleep stage 4'], [30690.0, b'30', 'Sleep stage 3'], [30720.0, b'30', 'Sleep stage 4'], [30750.0, b'60', 'Sleep stage 3'], [30810.0, b'420', 'Sleep stage 4'], [31230.0, b'60', 'Sleep stage 3'], [31290.0, b'1290', 'Sleep stage 2'], [32580.0, b'810', 'Sleep stage R'], [33390.0, b'30', 'Sleep stage 1'], [33420.0, b'30', 'Sleep stage 2'], [33450.0, b'30', 'Sleep stage 1'], [33480.0, b'1140', 'Sleep stage 2'], [34620.0, b'90', 'Sleep stage 3'], [34710.0, b'30', 'Sleep stage 2'], [34740.0, b'150', 'Sleep stage 3'], [34890.0, b'210', 'Sleep stage 4'], [35100.0, b'30', 'Sleep stage 3'], [35130.0, b'420', 'Sleep stage 2'], [35550.0, b'30', 'Sleep stage 1'], [35580.0, b'420', 'Sleep stage 2'], [36000.0, b'480', 'Sleep stage W'], [36480.0, b'30', 'Sleep stage 1'], [36510.0, b'1920', 'Sleep stage 2'], [38430.0, b'30', 'Sleep stage W'], [38460.0, b'30', 'Sleep stage 1'], [38490.0, b'90', 'Sleep stage 2'], [38580.0, b'60', 'Sleep stage W'], [38640.0, b'30', 'Sleep stage 1'], [38670.0, b'450', 'Sleep stage 2'], [39120.0, b'1770', 'Sleep stage R'], [40890.0, b'960', 'Sleep stage 2'], [41850.0, b'60', 'Sleep stage 3'], [41910.0, b'660', 'Sleep stage 2'], [42570.0, b'30', 'Sleep stage 3'], [42600.0, b'30', 'Sleep stage 2'], [42630.0, b'30', 'Sleep stage 3'], [42660.0, b'30', 'Sleep stage 2'], [42690.0, b'150', 'Sleep stage 3'], [42840.0, b'90', 'Sleep stage 2'], [42930.0, b'30', 'Sleep stage 1'], [42960.0, b'510', 'Sleep stage 2'], [43470.0, b'30', 'Sleep stage 3'], [43500.0, b'30', 'Sleep stage 2'], [43530.0, b'30', 'Sleep stage 3'], [43560.0, b'30', 'Sleep stage 2'], [43590.0, b'150', 'Sleep stage 3'], [43740.0, b'30', 'Sleep stage 4'], [43770.0, b'30', 'Sleep stage 3'], [43800.0, b'150', 'Sleep stage 4'], [43950.0, b'60', 'Sleep stage 3'], [44010.0, b'60', 'Sleep stage 4'], [44070.0, b'30', 'Sleep stage 3'], [44100.0, b'330', 'Sleep stage 4'], [44430.0, b'30', 'Sleep stage 3'], [44460.0, b'210', 'Sleep stage 4'], [44670.0, b'150', 'Sleep stage W'], [44820.0, b'60', 'Sleep stage 1'], [44880.0, b'150', 'Sleep stage 2'], [45030.0, b'30', 'Sleep stage 1'], [45060.0, b'60', 'Sleep stage 2'], [45120.0, b'60', 'Sleep stage 1'], [45180.0, b'120', 'Sleep stage 2'], [45300.0, b'1500', 'Sleep stage R'], [46800.0, b'1230', 'Sleep stage 2'], [48030.0, b'180', 'Sleep stage W'], [48210.0, b'90', 'Sleep stage 1'], [48300.0, b'60', 'Sleep stage W'], [48360.0, b'60', 'Sleep stage 1'], [48420.0, b'60', 'Sleep stage W'], [48480.0, b'30', 'Sleep stage 1'], [48510.0, b'390', 'Sleep stage 2'], [48900.0, b'60', 'Sleep stage 1'], [48960.0, b'960', 'Sleep stage 2'], [49920.0, b'30', 'Sleep stage 3'], [49950.0, b'30', 'Sleep stage 2'], [49980.0, b'150', 'Sleep stage 3'], [50130.0, b'60', 'Sleep stage W'], [50190.0, b'30', 'Sleep stage 1'], [50220.0, b'30', 'Sleep stage W'], [50250.0, b'30', 'Sleep stage 1'], [50280.0, b'180', 'Sleep stage 2'], [50460.0, b'30', 'Sleep stage 1'], [50490.0, b'30', 'Sleep stage 2'], [50520.0, b'2250', 'Sleep stage R'], [52770.0, b'60', 'Sleep stage 2'], [52830.0, b'330', 'Sleep stage W'], [53160.0, b'30', 'Sleep stage 1'], [53190.0, b'60', 'Sleep stage 2'], [53250.0, b'30', 'Sleep stage 1'], [53280.0, b'480', 'Sleep stage 2'], [53760.0, b'60', 'Sleep stage 1'], [53820.0, b'540', 'Sleep stage 2'], [54360.0, b'30', 'Sleep stage 1'], [54390.0, b'60', 'Sleep stage 2'], [54450.0, b'60', 'Sleep stage 1'], [54510.0, b'90', 'Sleep stage 2'], [54600.0, b'60', 'Sleep stage W'], [54660.0, b'30', 'Sleep stage 1'], [54690.0, b'30', 'Sleep stage W'], [54720.0, b'30', 'Sleep stage 1'], [54750.0, b'60', 'Sleep stage 2'], [54810.0, b'30', 'Sleep stage 1'], [54840.0, b'30', 'Sleep stage 2'], [54870.0, b'30', 'Sleep stage W'], [54900.0, b'30', 'Sleep stage 1'], [54930.0, b'240', 'Sleep stage R'], [55170.0, b'30', 'Sleep stage W'], [55200.0, b'90', 'Sleep stage R'], [55290.0, b'150', 'Sleep stage 1'], [55440.0, b'30', 'Sleep stage 2'], [55470.0, b'30', 'Sleep stage 1'], [55500.0, b'30', 'Sleep stage W'], [55530.0, b'30', 'Sleep stage 1'], [55560.0, b'30', 'Sleep stage 2'], [55590.0, b'60', 'Sleep stage 1'], [55650.0, b'30', 'Sleep stage W'], [55680.0, b'30', 'Sleep stage 1'], [55710.0, b'990', 'Sleep stage R'], [56700.0, b'30', 'Sleep stage W'], [56730.0, b'90', 'Sleep stage R'], [56820.0, b'23730', 'Sleep stage W'], [80550.0, b'30', 'Sleep stage ?'], [80580.0, b'30', 'Sleep stage ?'], [80610.0, b'180', 'Sleep stage ?'], [80790.0, b'5610', 'Sleep stage ?']]}\n"
          ],
          "name": "stdout"
        },
        {
          "output_type": "stream",
          "text": [
            "Reading Channels: 100%|██████████| 7/7 [00:01<00:00,  6.05it/s]\n"
          ],
          "name": "stderr"
        },
        {
          "output_type": "stream",
          "text": [
            "SC4121E0-PSG.edf file's signal & annotations start time is same\n"
          ],
          "name": "stdout"
        },
        {
          "output_type": "stream",
          "text": [
            "Reading Channels: 0it [00:00, ?it/s]\n",
            "Reading Channels:   0%|          | 0/7 [00:00<?, ?it/s]"
          ],
          "name": "stderr"
        },
        {
          "output_type": "stream",
          "text": [
            "SC4012E0-PSG.edf SC4012EC-Hypnogram.edf\n",
            "{'technician': '', 'recording_additional': '', 'patientname': 'Female 33yr', 'patient_additional': '', 'patientcode': '', 'equipment': '', 'admincode': '', 'gender': 'Female', 'startdate': datetime.datetime(1989, 3, 30, 17, 0), 'birthdate': '', 'annotations': [[0.0, b'19290', 'Sleep stage W'], [19290.0, b'150', 'Sleep stage 1'], [19440.0, b'900', 'Sleep stage 2'], [20340.0, b'30', 'Sleep stage 1'], [20370.0, b'510', 'Sleep stage 2'], [20880.0, b'60', 'Sleep stage 3'], [20940.0, b'30', 'Sleep stage 2'], [20970.0, b'120', 'Sleep stage 4'], [21090.0, b'30', 'Sleep stage 3'], [21120.0, b'30', 'Sleep stage 4'], [21150.0, b'30', 'Sleep stage 3'], [21180.0, b'30', 'Sleep stage 4'], [21210.0, b'90', 'Sleep stage 3'], [21300.0, b'30', 'Sleep stage 4'], [21330.0, b'120', 'Sleep stage 3'], [21450.0, b'90', 'Sleep stage 4'], [21540.0, b'60', 'Sleep stage 3'], [21600.0, b'90', 'Sleep stage 2'], [21690.0, b'30', 'Sleep stage 1'], [21720.0, b'390', 'Sleep stage 2'], [22110.0, b'60', 'Sleep stage 3'], [22170.0, b'60', 'Sleep stage 2'], [22230.0, b'60', 'Sleep stage 3'], [22290.0, b'30', 'Sleep stage 2'], [22320.0, b'30', 'Sleep stage 3'], [22350.0, b'60', 'Sleep stage 2'], [22410.0, b'60', 'Sleep stage 3'], [22470.0, b'60', 'Sleep stage 2'], [22530.0, b'90', 'Sleep stage 3'], [22620.0, b'30', 'Sleep stage 4'], [22650.0, b'120', 'Sleep stage 3'], [22770.0, b'330', 'Sleep stage 2'], [23100.0, b'90', 'Sleep stage 3'], [23190.0, b'30', 'Sleep stage 2'], [23220.0, b'60', 'Sleep stage 3'], [23280.0, b'30', 'Sleep stage 2'], [23310.0, b'30', 'Sleep stage 4'], [23340.0, b'1020', 'Sleep stage 2'], [24360.0, b'30', 'Sleep stage W'], [24390.0, b'30', 'Sleep stage 1'], [24420.0, b'780', 'Sleep stage 2'], [25200.0, b'360', 'Sleep stage R'], [25560.0, b'150', 'Sleep stage 1'], [25710.0, b'180', 'Sleep stage 2'], [25890.0, b'30', 'Sleep stage R'], [25920.0, b'30', 'Sleep stage 2'], [25950.0, b'480', 'Sleep stage R'], [26430.0, b'30', 'Sleep stage 2'], [26460.0, b'30', 'Sleep stage R'], [26490.0, b'30', 'Sleep stage 2'], [26520.0, b'60', 'Sleep stage 1'], [26580.0, b'60', 'Sleep stage R'], [26640.0, b'180', 'Sleep stage 1'], [26820.0, b'420', 'Sleep stage 2'], [27240.0, b'30', 'Sleep stage 3'], [27270.0, b'390', 'Sleep stage 2'], [27660.0, b'30', 'Sleep stage 3'], [27690.0, b'60', 'Sleep stage 2'], [27750.0, b'30', 'Sleep stage 3'], [27780.0, b'60', 'Sleep stage 2'], [27840.0, b'30', 'Sleep stage 3'], [27870.0, b'30', 'Sleep stage 2'], [27900.0, b'180', 'Sleep stage 3'], [28080.0, b'30', 'Sleep stage 2'], [28110.0, b'90', 'Sleep stage 3'], [28200.0, b'30', 'Sleep stage 2'], [28230.0, b'60', 'Sleep stage 3'], [28290.0, b'180', 'Sleep stage 2'], [28470.0, b'30', 'Sleep stage 3'], [28500.0, b'30', 'Sleep stage 2'], [28530.0, b'330', 'Sleep stage 3'], [28860.0, b'30', 'Sleep stage 4'], [28890.0, b'240', 'Sleep stage 3'], [29130.0, b'90', 'Sleep stage 4'], [29220.0, b'30', 'Sleep stage 3'], [29250.0, b'90', 'Sleep stage W'], [29340.0, b'30', 'Sleep stage 1'], [29370.0, b'1020', 'Sleep stage 2'], [30390.0, b'30', 'Sleep stage 1'], [30420.0, b'870', 'Sleep stage 2'], [31290.0, b'30', 'Sleep stage 1'], [31320.0, b'720', 'Sleep stage 2'], [32040.0, b'90', 'Sleep stage R'], [32130.0, b'60', 'Sleep stage 1'], [32190.0, b'270', 'Sleep stage R'], [32460.0, b'60', 'Sleep stage 1'], [32520.0, b'30', 'Sleep stage W'], [32550.0, b'30', 'Sleep stage 1'], [32580.0, b'150', 'Sleep stage 2'], [32730.0, b'420', 'Sleep stage R'], [33150.0, b'150', 'Sleep stage 1'], [33300.0, b'150', 'Sleep stage 2'], [33450.0, b'420', 'Sleep stage R'], [33870.0, b'60', 'Sleep stage 1'], [33930.0, b'690', 'Sleep stage R'], [34620.0, b'30', 'Sleep stage 1'], [34650.0, b'120', 'Sleep stage R'], [34770.0, b'60', 'Sleep stage 1'], [34830.0, b'120', 'Sleep stage 2'], [34950.0, b'540', 'Sleep stage W'], [35490.0, b'150', 'Sleep stage 1'], [35640.0, b'540', 'Sleep stage 2'], [36180.0, b'30', 'Sleep stage 1'], [36210.0, b'960', 'Sleep stage 2'], [37170.0, b'30', 'Sleep stage 3'], [37200.0, b'60', 'Sleep stage 2'], [37260.0, b'30', 'Sleep stage 3'], [37290.0, b'90', 'Sleep stage 2'], [37380.0, b'180', 'Sleep stage 3'], [37560.0, b'30', 'Sleep stage 2'], [37590.0, b'120', 'Sleep stage 3'], [37710.0, b'30', 'Sleep stage 2'], [37740.0, b'30', 'Sleep stage W'], [37770.0, b'30', 'Sleep stage 1'], [37800.0, b'30', 'Sleep stage 2'], [37830.0, b'60', 'Sleep stage W'], [37890.0, b'30', 'Sleep stage 1'], [37920.0, b'1680', 'Sleep stage 2'], [39600.0, b'30', 'Sleep stage 1'], [39630.0, b'330', 'Sleep stage 2'], [39960.0, b'30', 'Sleep stage W'], [39990.0, b'60', 'Sleep stage 1'], [40050.0, b'30', 'Sleep stage W'], [40080.0, b'30', 'Sleep stage 1'], [40110.0, b'390', 'Sleep stage 2'], [40500.0, b'240', 'Sleep stage R'], [40740.0, b'60', 'Sleep stage 1'], [40800.0, b'30', 'Sleep stage 2'], [40830.0, b'120', 'Sleep stage R'], [40950.0, b'60', 'Sleep stage 1'], [41010.0, b'180', 'Sleep stage R'], [41190.0, b'30', 'Sleep stage 1'], [41220.0, b'450', 'Sleep stage R'], [41670.0, b'150', 'Sleep stage 1'], [41820.0, b'30', 'Sleep stage 2'], [41850.0, b'60', 'Sleep stage 1'], [41910.0, b'420', 'Sleep stage 2'], [42330.0, b'30', 'Sleep stage 1'], [42360.0, b'150', 'Sleep stage 2'], [42510.0, b'30', 'Sleep stage 1'], [42540.0, b'30', 'Sleep stage R'], [42570.0, b'30', 'Sleep stage W'], [42600.0, b'30', 'Sleep stage 1'], [42630.0, b'1230', 'Sleep stage 2'], [43860.0, b'60', 'Sleep stage 1'], [43920.0, b'1140', 'Sleep stage 2'], [45060.0, b'120', 'Sleep stage R'], [45180.0, b'30', 'Sleep stage W'], [45210.0, b'90', 'Sleep stage 1'], [45300.0, b'30', 'Sleep stage W'], [45330.0, b'90', 'Sleep stage 1'], [45420.0, b'480', 'Sleep stage 2'], [45900.0, b'60', 'Sleep stage 1'], [45960.0, b'120', 'Sleep stage W'], [46080.0, b'30', 'Sleep stage 1'], [46110.0, b'300', 'Sleep stage 2'], [46410.0, b'30', 'Sleep stage 1'], [46440.0, b'120', 'Sleep stage W'], [46560.0, b'210', 'Sleep stage 1'], [46770.0, b'360', 'Sleep stage 2'], [47130.0, b'1170', 'Sleep stage R'], [48300.0, b'60', 'Sleep stage W'], [48360.0, b'60', 'Sleep stage 1'], [48420.0, b'480', 'Sleep stage 2'], [48900.0, b'30', 'Sleep stage W'], [48930.0, b'90', 'Sleep stage 1'], [49020.0, b'1080', 'Sleep stage 2'], [50100.0, b'60', 'Sleep stage 1'], [50160.0, b'1110', 'Sleep stage 2'], [51270.0, b'34170', 'Sleep stage W'], [85440.0, b'960', 'Sleep stage ?']]}\n"
          ],
          "name": "stdout"
        },
        {
          "output_type": "stream",
          "text": [
            "Reading Channels: 100%|██████████| 7/7 [00:01<00:00,  6.02it/s]\n"
          ],
          "name": "stderr"
        },
        {
          "output_type": "stream",
          "text": [
            "SC4012E0-PSG.edf file's signal & annotations start time is same\n"
          ],
          "name": "stdout"
        },
        {
          "output_type": "stream",
          "text": [
            "Reading Channels: 0it [00:00, ?it/s]\n",
            "Reading Channels:   0%|          | 0/7 [00:00<?, ?it/s]"
          ],
          "name": "stderr"
        },
        {
          "output_type": "stream",
          "text": [
            "SC4002E0-PSG.edf SC4002EC-Hypnogram.edf\n",
            "{'technician': '', 'recording_additional': '', 'patientname': 'Female 33yr', 'patient_additional': '', 'patientcode': '', 'equipment': '', 'admincode': '', 'gender': 'Female', 'startdate': datetime.datetime(1989, 4, 25, 14, 50), 'birthdate': '', 'annotations': [[0.0, b'26070', 'Sleep stage W'], [26070.0, b'90', 'Sleep stage 1'], [26160.0, b'510', 'Sleep stage 2'], [26670.0, b'270', 'Sleep stage 3'], [26940.0, b'1140', 'Sleep stage 4'], [28080.0, b'30', 'Movement time'], [28110.0, b'120', 'Sleep stage 3'], [28230.0, b'30', 'Sleep stage 4'], [28260.0, b'30', 'Sleep stage 3'], [28290.0, b'30', 'Sleep stage 4'], [28320.0, b'30', 'Sleep stage 3'], [28350.0, b'900', 'Sleep stage 4'], [29250.0, b'60', 'Sleep stage 3'], [29310.0, b'240', 'Sleep stage 2'], [29550.0, b'30', 'Sleep stage 3'], [29580.0, b'150', 'Sleep stage 2'], [29730.0, b'90', 'Sleep stage 3'], [29820.0, b'210', 'Sleep stage 2'], [30030.0, b'600', 'Sleep stage R'], [30630.0, b'480', 'Sleep stage 2'], [31110.0, b'30', 'Sleep stage 3'], [31140.0, b'120', 'Sleep stage 2'], [31260.0, b'30', 'Sleep stage 3'], [31290.0, b'30', 'Sleep stage 2'], [31320.0, b'120', 'Sleep stage 3'], [31440.0, b'1110', 'Sleep stage 4'], [32550.0, b'240', 'Sleep stage 3'], [32790.0, b'30', 'Sleep stage 4'], [32820.0, b'60', 'Sleep stage 3'], [32880.0, b'90', 'Sleep stage 4'], [32970.0, b'30', 'Sleep stage 3'], [33000.0, b'90', 'Sleep stage 4'], [33090.0, b'180', 'Sleep stage 3'], [33270.0, b'30', 'Sleep stage 4'], [33300.0, b'60', 'Sleep stage 3'], [33360.0, b'30', 'Sleep stage 4'], [33390.0, b'30', 'Sleep stage 3'], [33420.0, b'30', 'Sleep stage 4'], [33450.0, b'30', 'Sleep stage 3'], [33480.0, b'30', 'Sleep stage W'], [33510.0, b'60', 'Sleep stage 1'], [33570.0, b'300', 'Sleep stage 2'], [33870.0, b'30', 'Sleep stage 3'], [33900.0, b'120', 'Sleep stage 2'], [34020.0, b'270', 'Sleep stage R'], [34290.0, b'30', 'Sleep stage W'], [34320.0, b'30', 'Sleep stage 1'], [34350.0, b'30', 'Sleep stage 2'], [34380.0, b'30', 'Sleep stage W'], [34410.0, b'60', 'Sleep stage 1'], [34470.0, b'1320', 'Sleep stage R'], [35790.0, b'90', 'Sleep stage 2'], [35880.0, b'60', 'Sleep stage R'], [35940.0, b'210', 'Sleep stage 2'], [36150.0, b'90', 'Sleep stage R'], [36240.0, b'300', 'Sleep stage 2'], [36540.0, b'30', 'Sleep stage W'], [36570.0, b'60', 'Sleep stage 1'], [36630.0, b'270', 'Sleep stage W'], [36900.0, b'60', 'Sleep stage 1'], [36960.0, b'150', 'Sleep stage W'], [37110.0, b'30', 'Sleep stage 1'], [37140.0, b'1020', 'Sleep stage 2'], [38160.0, b'30', 'Sleep stage 3'], [38190.0, b'30', 'Sleep stage 2'], [38220.0, b'90', 'Sleep stage 3'], [38310.0, b'30', 'Sleep stage 4'], [38340.0, b'90', 'Sleep stage 3'], [38430.0, b'60', 'Sleep stage 2'], [38490.0, b'330', 'Sleep stage 3'], [38820.0, b'30', 'Sleep stage 4'], [38850.0, b'60', 'Sleep stage 3'], [38910.0, b'390', 'Sleep stage 4'], [39300.0, b'570', 'Sleep stage 2'], [39870.0, b'30', 'Sleep stage 3'], [39900.0, b'90', 'Sleep stage 2'], [39990.0, b'30', 'Sleep stage 1'], [40020.0, b'30', 'Sleep stage W'], [40050.0, b'30', 'Sleep stage 1'], [40080.0, b'90', 'Sleep stage 2'], [40170.0, b'30', 'Sleep stage W'], [40200.0, b'30', 'Sleep stage 1'], [40230.0, b'210', 'Sleep stage 2'], [40440.0, b'480', 'Sleep stage R'], [40920.0, b'60', 'Sleep stage W'], [40980.0, b'30', 'Sleep stage 1'], [41010.0, b'270', 'Sleep stage 2'], [41280.0, b'30', 'Sleep stage W'], [41310.0, b'60', 'Sleep stage 1'], [41370.0, b'600', 'Sleep stage W'], [41970.0, b'30', 'Sleep stage 1'], [42000.0, b'210', 'Sleep stage W'], [42210.0, b'90', 'Sleep stage 1'], [42300.0, b'990', 'Sleep stage 2'], [43290.0, b'30', 'Sleep stage 3'], [43320.0, b'510', 'Sleep stage 2'], [43830.0, b'180', 'Sleep stage 3'], [44010.0, b'120', 'Sleep stage 2'], [44130.0, b'90', 'Sleep stage 3'], [44220.0, b'240', 'Sleep stage 4'], [44460.0, b'30', 'Sleep stage 1'], [44490.0, b'120', 'Sleep stage 2'], [44610.0, b'60', 'Sleep stage 3'], [44670.0, b'180', 'Sleep stage 2'], [44850.0, b'30', 'Sleep stage 1'], [44880.0, b'30', 'Sleep stage 2'], [44910.0, b'30', 'Sleep stage 1'], [44940.0, b'450', 'Sleep stage R'], [45390.0, b'60', 'Sleep stage W'], [45450.0, b'180', 'Sleep stage 1'], [45630.0, b'60', 'Sleep stage R'], [45690.0, b'30', 'Sleep stage W'], [45720.0, b'60', 'Sleep stage 1'], [45780.0, b'1050', 'Sleep stage R'], [46830.0, b'30', 'Sleep stage W'], [46860.0, b'120', 'Sleep stage 1'], [46980.0, b'150', 'Sleep stage 2'], [47130.0, b'90', 'Sleep stage 1'], [47220.0, b'630', 'Sleep stage R'], [47850.0, b'60', 'Sleep stage 1'], [47910.0, b'60', 'Sleep stage 2'], [47970.0, b'30', 'Sleep stage 1'], [48000.0, b'570', 'Sleep stage 2'], [48570.0, b'30', 'Sleep stage W'], [48600.0, b'30', 'Sleep stage 1'], [48630.0, b'600', 'Sleep stage 2'], [49230.0, b'210', 'Sleep stage 3'], [49440.0, b'1890', 'Sleep stage 4'], [51330.0, b'150', 'Sleep stage 3'], [51480.0, b'60', 'Sleep stage W'], [51540.0, b'60', 'Sleep stage 1'], [51600.0, b'60', 'Sleep stage 2'], [51660.0, b'120', 'Sleep stage 1'], [51780.0, b'1080', 'Sleep stage R'], [52860.0, b'30', 'Sleep stage 1'], [52890.0, b'360', 'Sleep stage R'], [53250.0, b'90', 'Sleep stage W'], [53340.0, b'60', 'Sleep stage 1'], [53400.0, b'120', 'Sleep stage 2'], [53520.0, b'30', 'Sleep stage W'], [53550.0, b'60', 'Sleep stage 1'], [53610.0, b'150', 'Sleep stage 2'], [53760.0, b'30', 'Sleep stage W'], [53790.0, b'30', 'Sleep stage 1'], [53820.0, b'1830', 'Sleep stage 2'], [55650.0, b'30', 'Sleep stage W'], [55680.0, b'30', 'Sleep stage 1'], [55710.0, b'210', 'Sleep stage 2'], [55920.0, b'30', 'Sleep stage 1'], [55950.0, b'360', 'Sleep stage 2'], [56310.0, b'28590', 'Sleep stage W'], [84900.0, b'1500', 'Sleep stage ?']]}\n"
          ],
          "name": "stdout"
        },
        {
          "output_type": "stream",
          "text": [
            "Reading Channels: 100%|██████████| 7/7 [00:01<00:00,  6.15it/s]\n"
          ],
          "name": "stderr"
        },
        {
          "output_type": "stream",
          "text": [
            "SC4002E0-PSG.edf file's signal & annotations start time is same\n"
          ],
          "name": "stdout"
        },
        {
          "output_type": "stream",
          "text": [
            "Reading Channels: 0it [00:00, ?it/s]\n",
            "Reading Channels:   0%|          | 0/7 [00:00<?, ?it/s]"
          ],
          "name": "stderr"
        },
        {
          "output_type": "stream",
          "text": [
            "SC4001E0-PSG.edf SC4001EC-Hypnogram.edf\n",
            "{'technician': '', 'recording_additional': '', 'patientname': 'Female 33yr', 'patient_additional': '', 'patientcode': '', 'equipment': '', 'admincode': '', 'gender': 'Female', 'startdate': datetime.datetime(1989, 4, 24, 16, 13), 'birthdate': '', 'annotations': [[0.0, b'30630', 'Sleep stage W'], [30630.0, b'120', 'Sleep stage 1'], [30750.0, b'390', 'Sleep stage 2'], [31140.0, b'30', 'Sleep stage 3'], [31170.0, b'30', 'Sleep stage 2'], [31200.0, b'150', 'Sleep stage 3'], [31350.0, b'30', 'Sleep stage 4'], [31380.0, b'60', 'Sleep stage 3'], [31440.0, b'60', 'Sleep stage 4'], [31500.0, b'30', 'Sleep stage 3'], [31530.0, b'120', 'Sleep stage 4'], [31650.0, b'30', 'Sleep stage 3'], [31680.0, b'120', 'Sleep stage 4'], [31800.0, b'30', 'Sleep stage W'], [31830.0, b'60', 'Sleep stage 3'], [31890.0, b'60', 'Sleep stage 2'], [31950.0, b'120', 'Sleep stage 3'], [32070.0, b'30', 'Sleep stage 4'], [32100.0, b'30', 'Sleep stage 3'], [32130.0, b'120', 'Sleep stage 4'], [32250.0, b'210', 'Sleep stage 2'], [32460.0, b'30', 'Sleep stage 3'], [32490.0, b'60', 'Sleep stage 2'], [32550.0, b'120', 'Sleep stage 3'], [32670.0, b'30', 'Sleep stage 1'], [32700.0, b'150', 'Sleep stage 2'], [32850.0, b'60', 'Sleep stage 3'], [32910.0, b'30', 'Sleep stage 2'], [32940.0, b'30', 'Sleep stage 3'], [32970.0, b'30', 'Sleep stage 2'], [33000.0, b'120', 'Sleep stage 3'], [33120.0, b'150', 'Sleep stage 4'], [33270.0, b'30', 'Sleep stage 3'], [33300.0, b'30', 'Sleep stage 2'], [33330.0, b'60', 'Sleep stage 3'], [33390.0, b'30', 'Sleep stage 4'], [33420.0, b'90', 'Sleep stage 3'], [33510.0, b'1890', 'Sleep stage 4'], [35400.0, b'30', 'Sleep stage 1'], [35430.0, b'210', 'Sleep stage 3'], [35640.0, b'60', 'Sleep stage 2'], [35700.0, b'90', 'Sleep stage 3'], [35790.0, b'150', 'Sleep stage 2'], [35940.0, b'30', 'Sleep stage 3'], [35970.0, b'870', 'Sleep stage R'], [36840.0, b'180', 'Sleep stage 1'], [37020.0, b'240', 'Sleep stage 2'], [37260.0, b'30', 'Sleep stage 3'], [37290.0, b'120', 'Sleep stage 1'], [37410.0, b'90', 'Sleep stage 2'], [37500.0, b'30', 'Sleep stage 1'], [37530.0, b'930', 'Sleep stage 2'], [38460.0, b'30', 'Sleep stage 3'], [38490.0, b'30', 'Sleep stage 2'], [38520.0, b'60', 'Sleep stage 3'], [38580.0, b'30', 'Sleep stage 4'], [38610.0, b'30', 'Sleep stage 3'], [38640.0, b'30', 'Sleep stage 4'], [38670.0, b'30', 'Sleep stage 3'], [38700.0, b'30', 'Sleep stage 4'], [38730.0, b'30', 'Sleep stage 3'], [38760.0, b'150', 'Sleep stage 2'], [38910.0, b'60', 'Sleep stage 3'], [38970.0, b'90', 'Sleep stage 4'], [39060.0, b'60', 'Sleep stage 3'], [39120.0, b'30', 'Sleep stage 4'], [39150.0, b'30', 'Sleep stage 3'], [39180.0, b'60', 'Sleep stage 4'], [39240.0, b'60', 'Sleep stage 3'], [39300.0, b'180', 'Sleep stage 4'], [39480.0, b'60', 'Sleep stage 3'], [39540.0, b'30', 'Sleep stage 4'], [39570.0, b'30', 'Sleep stage 3'], [39600.0, b'270', 'Sleep stage 4'], [39870.0, b'30', 'Sleep stage 1'], [39900.0, b'60', 'Sleep stage 2'], [39960.0, b'30', 'Sleep stage 1'], [39990.0, b'210', 'Sleep stage 2'], [40200.0, b'30', 'Sleep stage 1'], [40230.0, b'60', 'Sleep stage 2'], [40290.0, b'30', 'Sleep stage 1'], [40320.0, b'180', 'Sleep stage 2'], [40500.0, b'870', 'Sleep stage R'], [41370.0, b'30', 'Sleep stage 2'], [41400.0, b'60', 'Sleep stage 1'], [41460.0, b'30', 'Sleep stage W'], [41490.0, b'120', 'Sleep stage 1'], [41610.0, b'870', 'Sleep stage 2'], [42480.0, b'30', 'Sleep stage 1'], [42510.0, b'30', 'Sleep stage 2'], [42540.0, b'30', 'Sleep stage 1'], [42570.0, b'300', 'Sleep stage 2'], [42870.0, b'30', 'Sleep stage 3'], [42900.0, b'390', 'Sleep stage 2'], [43290.0, b'30', 'Sleep stage 3'], [43320.0, b'30', 'Sleep stage 2'], [43350.0, b'30', 'Sleep stage 3'], [43380.0, b'30', 'Sleep stage 2'], [43410.0, b'180', 'Sleep stage 3'], [43590.0, b'90', 'Sleep stage 4'], [43680.0, b'30', 'Sleep stage 3'], [43710.0, b'210', 'Sleep stage 2'], [43920.0, b'60', 'Sleep stage 3'], [43980.0, b'30', 'Sleep stage 2'], [44010.0, b'30', 'Sleep stage 4'], [44040.0, b'180', 'Sleep stage 3'], [44220.0, b'60', 'Sleep stage 4'], [44280.0, b'60', 'Sleep stage 3'], [44340.0, b'60', 'Sleep stage 4'], [44400.0, b'120', 'Sleep stage 3'], [44520.0, b'120', 'Sleep stage 2'], [44640.0, b'30', 'Sleep stage 3'], [44670.0, b'30', 'Sleep stage 4'], [44700.0, b'30', 'Sleep stage 2'], [44730.0, b'240', 'Sleep stage R'], [44970.0, b'30', 'Sleep stage 1'], [45000.0, b'510', 'Sleep stage R'], [45510.0, b'30', 'Sleep stage W'], [45540.0, b'120', 'Sleep stage 1'], [45660.0, b'480', 'Sleep stage W'], [46140.0, b'90', 'Sleep stage 1'], [46230.0, b'30', 'Sleep stage W'], [46260.0, b'120', 'Sleep stage 1'], [46380.0, b'690', 'Sleep stage 2'], [47070.0, b'60', 'Sleep stage W'], [47130.0, b'30', 'Sleep stage 1'], [47160.0, b'990', 'Sleep stage 2'], [48150.0, b'30', 'Sleep stage 3'], [48180.0, b'30', 'Sleep stage 2'], [48210.0, b'90', 'Sleep stage 3'], [48300.0, b'120', 'Sleep stage 2'], [48420.0, b'60', 'Sleep stage 3'], [48480.0, b'60', 'Sleep stage 2'], [48540.0, b'30', 'Sleep stage 3'], [48570.0, b'30', 'Sleep stage 2'], [48600.0, b'30', 'Sleep stage 3'], [48630.0, b'30', 'Sleep stage 2'], [48660.0, b'120', 'Sleep stage 3'], [48780.0, b'210', 'Sleep stage 2'], [48990.0, b'30', 'Sleep stage 3'], [49020.0, b'120', 'Sleep stage 2'], [49140.0, b'60', 'Sleep stage 1'], [49200.0, b'990', 'Sleep stage R'], [50190.0, b'30', 'Sleep stage W'], [50220.0, b'150', 'Sleep stage 1'], [50370.0, b'270', 'Sleep stage R'], [50640.0, b'510', 'Sleep stage W'], [51150.0, b'90', 'Sleep stage 1'], [51240.0, b'300', 'Sleep stage W'], [51540.0, b'30', 'Sleep stage 1'], [51570.0, b'540', 'Sleep stage W'], [52110.0, b'150', 'Sleep stage 1'], [52260.0, b'27240', 'Sleep stage W'], [79500.0, b'6900', 'Sleep stage ?']]}\n"
          ],
          "name": "stdout"
        },
        {
          "output_type": "stream",
          "text": [
            "Reading Channels: 100%|██████████| 7/7 [00:01<00:00,  6.38it/s]\n"
          ],
          "name": "stderr"
        },
        {
          "output_type": "stream",
          "text": [
            "SC4001E0-PSG.edf file's signal & annotations start time is same\n"
          ],
          "name": "stdout"
        },
        {
          "output_type": "stream",
          "text": [
            "Reading Channels: 0it [00:00, ?it/s]\n",
            "Reading Channels:   0%|          | 0/7 [00:00<?, ?it/s]"
          ],
          "name": "stderr"
        },
        {
          "output_type": "stream",
          "text": [
            "SC4181E0-PSG.edf SC4181EC-Hypnogram.edf\n",
            "{'technician': '', 'recording_additional': '', 'patientname': 'Male 28yr', 'patient_additional': '', 'patientcode': '', 'equipment': '', 'admincode': '', 'gender': 'Male', 'startdate': datetime.datetime(1989, 7, 19, 16, 0), 'birthdate': '', 'annotations': [[0.0, b'26880', 'Sleep stage W'], [26880.0, b'210', 'Sleep stage 1'], [27090.0, b'540', 'Sleep stage 2'], [27630.0, b'30', 'Sleep stage 3'], [27660.0, b'60', 'Sleep stage 2'], [27720.0, b'150', 'Sleep stage 3'], [27870.0, b'30', 'Sleep stage 4'], [27900.0, b'150', 'Sleep stage 3'], [28050.0, b'570', 'Sleep stage 4'], [28620.0, b'30', 'Sleep stage 3'], [28650.0, b'30', 'Sleep stage 2'], [28680.0, b'60', 'Sleep stage 3'], [28740.0, b'180', 'Sleep stage 2'], [28920.0, b'90', 'Sleep stage 3'], [29010.0, b'150', 'Sleep stage 2'], [29160.0, b'210', 'Sleep stage 3'], [29370.0, b'180', 'Sleep stage 4'], [29550.0, b'270', 'Sleep stage 3'], [29820.0, b'120', 'Sleep stage 2'], [29940.0, b'30', 'Sleep stage 3'], [29970.0, b'30', 'Sleep stage 2'], [30000.0, b'30', 'Sleep stage 3'], [30030.0, b'60', 'Sleep stage 2'], [30090.0, b'150', 'Sleep stage 3'], [30240.0, b'420', 'Sleep stage 4'], [30660.0, b'150', 'Sleep stage W'], [30810.0, b'30', 'Sleep stage 1'], [30840.0, b'60', 'Sleep stage 2'], [30900.0, b'60', 'Sleep stage 3'], [30960.0, b'240', 'Sleep stage 2'], [31200.0, b'30', 'Sleep stage 3'], [31230.0, b'240', 'Sleep stage 2'], [31470.0, b'90', 'Sleep stage 3'], [31560.0, b'30', 'Sleep stage 2'], [31590.0, b'180', 'Sleep stage 3'], [31770.0, b'480', 'Sleep stage 4'], [32250.0, b'30', 'Sleep stage 3'], [32280.0, b'60', 'Sleep stage 4'], [32340.0, b'120', 'Sleep stage 3'], [32460.0, b'60', 'Sleep stage 2'], [32520.0, b'30', 'Sleep stage 3'], [32550.0, b'30', 'Sleep stage 2'], [32580.0, b'90', 'Sleep stage 3'], [32670.0, b'330', 'Sleep stage 4'], [33000.0, b'30', 'Sleep stage 3'], [33030.0, b'210', 'Sleep stage 4'], [33240.0, b'30', 'Sleep stage 3'], [33270.0, b'90', 'Sleep stage 2'], [33360.0, b'180', 'Sleep stage 3'], [33540.0, b'1560', 'Sleep stage 4'], [35100.0, b'30', 'Sleep stage 3'], [35130.0, b'30', 'Sleep stage 4'], [35160.0, b'30', 'Sleep stage 3'], [35190.0, b'30', 'Sleep stage 4'], [35220.0, b'240', 'Sleep stage 3'], [35460.0, b'30', 'Sleep stage 2'], [35490.0, b'30', 'Sleep stage 3'], [35520.0, b'420', 'Sleep stage 2'], [35940.0, b'540', 'Sleep stage R'], [36480.0, b'150', 'Sleep stage 2'], [36630.0, b'30', 'Sleep stage 1'], [36660.0, b'1230', 'Sleep stage 2'], [37890.0, b'30', 'Sleep stage 3'], [37920.0, b'180', 'Sleep stage 2'], [38100.0, b'30', 'Sleep stage 3'], [38130.0, b'30', 'Sleep stage 2'], [38160.0, b'150', 'Sleep stage 3'], [38310.0, b'450', 'Sleep stage 2'], [38760.0, b'30', 'Sleep stage 3'], [38790.0, b'30', 'Sleep stage 2'], [38820.0, b'30', 'Sleep stage 3'], [38850.0, b'30', 'Sleep stage 2'], [38880.0, b'90', 'Sleep stage 3'], [38970.0, b'30', 'Sleep stage 2'], [39000.0, b'210', 'Sleep stage 3'], [39210.0, b'30', 'Sleep stage 4'], [39240.0, b'60', 'Sleep stage 3'], [39300.0, b'60', 'Sleep stage 4'], [39360.0, b'60', 'Sleep stage 3'], [39420.0, b'30', 'Sleep stage 4'], [39450.0, b'30', 'Sleep stage 3'], [39480.0, b'510', 'Sleep stage 2'], [39990.0, b'30', 'Sleep stage 3'], [40020.0, b'30', 'Sleep stage 2'], [40050.0, b'30', 'Sleep stage 3'], [40080.0, b'270', 'Sleep stage 2'], [40350.0, b'60', 'Sleep stage 3'], [40410.0, b'90', 'Sleep stage 2'], [40500.0, b'30', 'Sleep stage 3'], [40530.0, b'60', 'Sleep stage 2'], [40590.0, b'30', 'Sleep stage 3'], [40620.0, b'30', 'Sleep stage 2'], [40650.0, b'30', 'Sleep stage 1'], [40680.0, b'90', 'Sleep stage 2'], [40770.0, b'30', 'Sleep stage 3'], [40800.0, b'60', 'Sleep stage W'], [40860.0, b'60', 'Sleep stage 2'], [40920.0, b'60', 'Sleep stage 3'], [40980.0, b'180', 'Sleep stage 2'], [41160.0, b'540', 'Sleep stage R'], [41700.0, b'60', 'Sleep stage W'], [41760.0, b'30', 'Sleep stage 1'], [41790.0, b'60', 'Sleep stage W'], [41850.0, b'90', 'Sleep stage 1'], [41940.0, b'90', 'Sleep stage 2'], [42030.0, b'120', 'Sleep stage R'], [42150.0, b'60', 'Sleep stage 1'], [42210.0, b'90', 'Sleep stage W'], [42300.0, b'120', 'Sleep stage 1'], [42420.0, b'1110', 'Sleep stage 2'], [43530.0, b'30', 'Sleep stage 3'], [43560.0, b'180', 'Sleep stage 2'], [43740.0, b'30', 'Sleep stage 3'], [43770.0, b'30', 'Sleep stage 2'], [43800.0, b'30', 'Sleep stage 3'], [43830.0, b'30', 'Sleep stage 2'], [43860.0, b'150', 'Sleep stage 3'], [44010.0, b'30', 'Sleep stage 4'], [44040.0, b'30', 'Sleep stage 3'], [44070.0, b'30', 'Sleep stage 4'], [44100.0, b'60', 'Sleep stage 3'], [44160.0, b'150', 'Sleep stage 2'], [44310.0, b'30', 'Sleep stage 3'], [44340.0, b'30', 'Sleep stage 2'], [44370.0, b'60', 'Sleep stage 3'], [44430.0, b'30', 'Sleep stage 2'], [44460.0, b'60', 'Sleep stage 3'], [44520.0, b'30', 'Sleep stage 2'], [44550.0, b'30', 'Sleep stage 3'], [44580.0, b'120', 'Sleep stage 2'], [44700.0, b'30', 'Sleep stage 3'], [44730.0, b'30', 'Sleep stage 2'], [44760.0, b'30', 'Sleep stage 3'], [44790.0, b'90', 'Sleep stage 2'], [44880.0, b'60', 'Sleep stage 3'], [44940.0, b'90', 'Sleep stage 2'], [45030.0, b'30', 'Sleep stage 3'], [45060.0, b'30', 'Sleep stage 2'], [45090.0, b'60', 'Sleep stage 3'], [45150.0, b'30', 'Sleep stage W'], [45180.0, b'60', 'Sleep stage 1'], [45240.0, b'60', 'Sleep stage W'], [45300.0, b'30', 'Sleep stage 1'], [45330.0, b'30', 'Sleep stage 2'], [45360.0, b'30', 'Sleep stage 1'], [45390.0, b'510', 'Sleep stage 2'], [45900.0, b'30', 'Sleep stage W'], [45930.0, b'90', 'Sleep stage 1'], [46020.0, b'300', 'Sleep stage 2'], [46320.0, b'2340', 'Sleep stage R'], [48660.0, b'1980', 'Sleep stage 2'], [50640.0, b'60', 'Sleep stage 3'], [50700.0, b'210', 'Sleep stage 2'], [50910.0, b'330', 'Sleep stage 3'], [51240.0, b'90', 'Sleep stage 4'], [51330.0, b'60', 'Sleep stage 3'], [51390.0, b'60', 'Sleep stage 2'], [51450.0, b'60', 'Sleep stage 1'], [51510.0, b'690', 'Sleep stage 2'], [52200.0, b'30480', 'Sleep stage W'], [82680.0, b'3720', 'Sleep stage ?']]}\n"
          ],
          "name": "stdout"
        },
        {
          "output_type": "stream",
          "text": [
            "Reading Channels: 100%|██████████| 7/7 [00:01<00:00,  6.27it/s]\n"
          ],
          "name": "stderr"
        },
        {
          "output_type": "stream",
          "text": [
            "SC4181E0-PSG.edf file's signal & annotations start time is same\n"
          ],
          "name": "stdout"
        },
        {
          "output_type": "stream",
          "text": [
            "Reading Channels: 0it [00:00, ?it/s]\n",
            "Reading Channels:   0%|          | 0/7 [00:00<?, ?it/s]"
          ],
          "name": "stderr"
        },
        {
          "output_type": "stream",
          "text": [
            "SC4191E0-PSG.edf SC4191EP-Hypnogram.edf\n",
            "{'technician': '', 'recording_additional': '', 'patientname': 'Male 28yr', 'patient_additional': '', 'patientcode': '', 'equipment': '', 'admincode': '', 'gender': 'Male', 'startdate': datetime.datetime(1989, 7, 19, 16, 17), 'birthdate': '', 'annotations': [[0.0, b'35220', 'Sleep stage W'], [35220.0, b'120', 'Sleep stage 1'], [35340.0, b'120', 'Sleep stage 2'], [35460.0, b'30', 'Sleep stage 1'], [35490.0, b'990', 'Sleep stage 2'], [36480.0, b'30', 'Sleep stage 3'], [36510.0, b'150', 'Sleep stage 2'], [36660.0, b'60', 'Sleep stage 3'], [36720.0, b'30', 'Sleep stage 2'], [36750.0, b'30', 'Sleep stage 3'], [36780.0, b'30', 'Sleep stage 2'], [36810.0, b'390', 'Sleep stage 3'], [37200.0, b'30', 'Sleep stage 2'], [37230.0, b'180', 'Sleep stage 4'], [37410.0, b'30', 'Sleep stage 3'], [37440.0, b'30', 'Sleep stage 4'], [37470.0, b'120', 'Sleep stage 3'], [37590.0, b'90', 'Sleep stage 4'], [37680.0, b'30', 'Sleep stage 3'], [37710.0, b'120', 'Sleep stage 4'], [37830.0, b'30', 'Sleep stage 3'], [37860.0, b'30', 'Sleep stage 4'], [37890.0, b'30', 'Sleep stage 3'], [37920.0, b'60', 'Sleep stage 4'], [37980.0, b'60', 'Sleep stage 3'], [38040.0, b'30', 'Sleep stage 4'], [38070.0, b'30', 'Sleep stage 3'], [38100.0, b'30', 'Sleep stage 4'], [38130.0, b'30', 'Sleep stage 3'], [38160.0, b'30', 'Sleep stage 4'], [38190.0, b'150', 'Sleep stage 3'], [38340.0, b'30', 'Sleep stage 4'], [38370.0, b'30', 'Sleep stage 3'], [38400.0, b'30', 'Sleep stage 4'], [38430.0, b'60', 'Sleep stage 3'], [38490.0, b'30', 'Sleep stage W'], [38520.0, b'90', 'Sleep stage 2'], [38610.0, b'30', 'Sleep stage W'], [38640.0, b'300', 'Sleep stage 2'], [38940.0, b'480', 'Sleep stage R'], [39420.0, b'90', 'Sleep stage 1'], [39510.0, b'1770', 'Sleep stage 2'], [41280.0, b'30', 'Sleep stage 3'], [41310.0, b'90', 'Sleep stage 2'], [41400.0, b'90', 'Sleep stage W'], [41490.0, b'360', 'Sleep stage 2'], [41850.0, b'90', 'Sleep stage W'], [41940.0, b'30', 'Sleep stage 1'], [41970.0, b'1110', 'Sleep stage 2'], [43080.0, b'810', 'Sleep stage R'], [43890.0, b'60', 'Sleep stage W'], [43950.0, b'270', 'Sleep stage 1'], [44220.0, b'90', 'Sleep stage 2'], [44310.0, b'60', 'Sleep stage W'], [44370.0, b'60', 'Sleep stage 1'], [44430.0, b'750', 'Sleep stage 2'], [45180.0, b'30', 'Sleep stage 1'], [45210.0, b'1200', 'Sleep stage 2'], [46410.0, b'30', 'Sleep stage 3'], [46440.0, b'30', 'Sleep stage 2'], [46470.0, b'30', 'Sleep stage 3'], [46500.0, b'30', 'Sleep stage 2'], [46530.0, b'120', 'Sleep stage 3'], [46650.0, b'60', 'Sleep stage 2'], [46710.0, b'60', 'Sleep stage 3'], [46770.0, b'30', 'Sleep stage 2'], [46800.0, b'120', 'Sleep stage 3'], [46920.0, b'30', 'Sleep stage 2'], [46950.0, b'180', 'Sleep stage 3'], [47130.0, b'120', 'Sleep stage 4'], [47250.0, b'360', 'Sleep stage 3'], [47610.0, b'60', 'Sleep stage 4'], [47670.0, b'120', 'Sleep stage 3'], [47790.0, b'30', 'Sleep stage 2'], [47820.0, b'60', 'Sleep stage 4'], [47880.0, b'240', 'Sleep stage 3'], [48120.0, b'90', 'Sleep stage W'], [48210.0, b'660', 'Sleep stage 2'], [48870.0, b'1110', 'Sleep stage R'], [49980.0, b'450', 'Sleep stage W'], [50430.0, b'210', 'Sleep stage 1'], [50640.0, b'30', 'Sleep stage 2'], [50670.0, b'60', 'Sleep stage 1'], [50730.0, b'150', 'Sleep stage 2'], [50880.0, b'30', 'Sleep stage 1'], [50910.0, b'780', 'Sleep stage 2'], [51690.0, b'30', 'Sleep stage 1'], [51720.0, b'1950', 'Sleep stage 2'], [53670.0, b'30', 'Sleep stage W'], [53700.0, b'30', 'Sleep stage 1'], [53730.0, b'330', 'Sleep stage 2'], [54060.0, b'1110', 'Sleep stage R'], [55170.0, b'150', 'Sleep stage 1'], [55320.0, b'960', 'Sleep stage R'], [56280.0, b'90', 'Sleep stage 1'], [56370.0, b'120', 'Sleep stage 2'], [56490.0, b'630', 'Sleep stage R'], [57120.0, b'300', 'Sleep stage 2'], [57420.0, b'30', 'Sleep stage W'], [57450.0, b'30', 'Sleep stage 1'], [57480.0, b'210', 'Sleep stage 2'], [57690.0, b'30', 'Sleep stage 1'], [57720.0, b'1200', 'Sleep stage 2'], [58920.0, b'30', 'Sleep stage 1'], [58950.0, b'1980', 'Sleep stage 2'], [60930.0, b'30', 'Sleep stage 1'], [60960.0, b'270', 'Sleep stage 2'], [61230.0, b'150', 'Sleep stage R'], [61380.0, b'30', 'Sleep stage 1'], [61410.0, b'600', 'Sleep stage R'], [62010.0, b'270', 'Sleep stage 1'], [62280.0, b'210', 'Sleep stage R'], [62490.0, b'60', 'Sleep stage 1'], [62550.0, b'330', 'Sleep stage R'], [62880.0, b'90', 'Sleep stage 1'], [62970.0, b'2970', 'Sleep stage 2'], [65940.0, b'90', 'Sleep stage R'], [66030.0, b'30', 'Sleep stage 2'], [66060.0, b'60', 'Sleep stage R'], [66120.0, b'30', 'Sleep stage 2'], [66150.0, b'30', 'Sleep stage 1'], [66180.0, b'270', 'Sleep stage R'], [66450.0, b'30', 'Sleep stage 1'], [66480.0, b'30', 'Sleep stage 2'], [66510.0, b'240', 'Sleep stage R'], [66750.0, b'240', 'Sleep stage 2'], [66990.0, b'420', 'Sleep stage R'], [67410.0, b'30', 'Sleep stage 1'], [67440.0, b'30', 'Sleep stage 2'], [67470.0, b'180', 'Sleep stage R'], [67650.0, b'660', 'Sleep stage W'], [68310.0, b'300', 'Sleep stage 1'], [68610.0, b'30', 'Sleep stage W'], [68640.0, b'90', 'Sleep stage 1'], [68730.0, b'30', 'Sleep stage W'], [68760.0, b'120', 'Sleep stage 1'], [68880.0, b'60', 'Sleep stage 2'], [68940.0, b'30', 'Sleep stage 1'], [68970.0, b'90', 'Sleep stage 2'], [69060.0, b'30', 'Sleep stage 1'], [69090.0, b'90', 'Sleep stage W'], [69180.0, b'150', 'Sleep stage 1'], [69330.0, b'540', 'Sleep stage 2'], [69870.0, b'90', 'Sleep stage W'], [69960.0, b'90', 'Sleep stage 1'], [70050.0, b'90', 'Sleep stage 2'], [70140.0, b'30', 'Sleep stage 1'], [70170.0, b'120', 'Sleep stage 2'], [70290.0, b'90', 'Sleep stage 1'], [70380.0, b'330', 'Sleep stage 2'], [70710.0, b'30', 'Sleep stage W'], [70740.0, b'30', 'Sleep stage 1'], [70770.0, b'120', 'Sleep stage 2'], [70890.0, b'30', 'Sleep stage 1'], [70920.0, b'420', 'Sleep stage 2'], [71340.0, b'30', 'Sleep stage 1'], [71370.0, b'60', 'Sleep stage 2'], [71430.0, b'810', 'Sleep stage R'], [72240.0, b'60', 'Sleep stage W'], [72300.0, b'30', 'Sleep stage 1'], [72330.0, b'30', 'Sleep stage 2'], [72360.0, b'180', 'Sleep stage 1'], [72540.0, b'120', 'Sleep stage R'], [72660.0, b'30', 'Sleep stage 1'], [72690.0, b'1530', 'Sleep stage 2'], [74220.0, b'60', 'Sleep stage 1'], [74280.0, b'210', 'Sleep stage 2'], [74490.0, b'30', 'Sleep stage W'], [74520.0, b'150', 'Sleep stage 1'], [74670.0, b'1080', 'Sleep stage 2'], [75750.0, b'90', 'Sleep stage 1'], [75840.0, b'1320', 'Sleep stage 2'], [77160.0, b'30', 'Sleep stage 1'], [77190.0, b'60', 'Sleep stage W'], [77250.0, b'60', 'Sleep stage 1'], [77310.0, b'360', 'Sleep stage 2'], [77670.0, b'5550', 'Sleep stage W'], [83220.0, b'3180', 'Sleep stage ?']]}\n"
          ],
          "name": "stdout"
        },
        {
          "output_type": "stream",
          "text": [
            "Reading Channels: 100%|██████████| 7/7 [00:01<00:00,  6.28it/s]\n"
          ],
          "name": "stderr"
        },
        {
          "output_type": "stream",
          "text": [
            "SC4191E0-PSG.edf file's signal & annotations start time is same\n"
          ],
          "name": "stdout"
        },
        {
          "output_type": "stream",
          "text": [
            "Reading Channels: 0it [00:00, ?it/s]\n",
            "Reading Channels:   0%|          | 0/7 [00:00<?, ?it/s]"
          ],
          "name": "stderr"
        },
        {
          "output_type": "stream",
          "text": [
            "SC4081E0-PSG.edf SC4081EC-Hypnogram.edf\n",
            "{'technician': '', 'recording_additional': '', 'patientname': 'Female 25yr', 'patient_additional': '', 'patientcode': '', 'equipment': '', 'admincode': '', 'gender': 'Female', 'startdate': datetime.datetime(1989, 5, 24, 16, 37), 'birthdate': '', 'annotations': [[0.0, b'24090', 'Sleep stage W'], [24090.0, b'180', 'Sleep stage 1'], [24270.0, b'120', 'Sleep stage W'], [24390.0, b'210', 'Sleep stage 1'], [24600.0, b'240', 'Sleep stage W'], [24840.0, b'90', 'Sleep stage 1'], [24930.0, b'90', 'Sleep stage W'], [25020.0, b'30', 'Sleep stage 1'], [25050.0, b'5040', 'Sleep stage W'], [30090.0, b'840', 'Sleep stage 1'], [30930.0, b'480', 'Sleep stage 2'], [31410.0, b'180', 'Sleep stage 3'], [31590.0, b'1410', 'Sleep stage 4'], [33000.0, b'120', 'Sleep stage 3'], [33120.0, b'30', 'Sleep stage 2'], [33150.0, b'210', 'Sleep stage 3'], [33360.0, b'30', 'Sleep stage 2'], [33390.0, b'270', 'Sleep stage 3'], [33660.0, b'1200', 'Sleep stage 4'], [34860.0, b'60', 'Sleep stage 3'], [34920.0, b'30', 'Sleep stage 1'], [34950.0, b'30', 'Sleep stage 2'], [34980.0, b'60', 'Sleep stage 3'], [35040.0, b'60', 'Sleep stage 1'], [35100.0, b'60', 'Sleep stage 2'], [35160.0, b'90', 'Sleep stage 3'], [35250.0, b'60', 'Sleep stage 2'], [35310.0, b'30', 'Sleep stage 3'], [35340.0, b'30', 'Sleep stage 2'], [35370.0, b'60', 'Sleep stage 3'], [35430.0, b'60', 'Sleep stage 2'], [35490.0, b'120', 'Sleep stage 3'], [35610.0, b'30', 'Sleep stage 2'], [35640.0, b'30', 'Sleep stage 3'], [35670.0, b'30', 'Sleep stage 2'], [35700.0, b'150', 'Sleep stage 3'], [35850.0, b'30', 'Sleep stage 2'], [35880.0, b'120', 'Sleep stage 3'], [36000.0, b'120', 'Sleep stage 2'], [36120.0, b'60', 'Sleep stage 3'], [36180.0, b'30', 'Sleep stage 4'], [36210.0, b'60', 'Sleep stage 2'], [36270.0, b'90', 'Sleep stage 3'], [36360.0, b'30', 'Sleep stage 4'], [36390.0, b'30', 'Sleep stage 3'], [36420.0, b'180', 'Sleep stage 4'], [36600.0, b'30', 'Sleep stage 3'], [36630.0, b'210', 'Sleep stage 4'], [36840.0, b'90', 'Sleep stage 3'], [36930.0, b'90', 'Sleep stage 2'], [37020.0, b'90', 'Sleep stage 3'], [37110.0, b'30', 'Sleep stage 2'], [37140.0, b'90', 'Sleep stage 3'], [37230.0, b'30', 'Sleep stage 4'], [37260.0, b'150', 'Sleep stage 3'], [37410.0, b'30', 'Sleep stage 2'], [37440.0, b'30', 'Sleep stage 3'], [37470.0, b'150', 'Sleep stage 2'], [37620.0, b'1770', 'Sleep stage R'], [39390.0, b'300', 'Sleep stage 2'], [39690.0, b'60', 'Sleep stage 3'], [39750.0, b'450', 'Sleep stage W'], [40200.0, b'180', 'Sleep stage 1'], [40380.0, b'630', 'Sleep stage 2'], [41010.0, b'30', 'Sleep stage 3'], [41040.0, b'30', 'Sleep stage 2'], [41070.0, b'120', 'Sleep stage 3'], [41190.0, b'90', 'Sleep stage 4'], [41280.0, b'30', 'Sleep stage 3'], [41310.0, b'30', 'Sleep stage 4'], [41340.0, b'60', 'Sleep stage 3'], [41400.0, b'300', 'Sleep stage 4'], [41700.0, b'90', 'Sleep stage 3'], [41790.0, b'60', 'Sleep stage 2'], [41850.0, b'90', 'Sleep stage 3'], [41940.0, b'60', 'Sleep stage 2'], [42000.0, b'150', 'Sleep stage 3'], [42150.0, b'60', 'Sleep stage 4'], [42210.0, b'60', 'Sleep stage 3'], [42270.0, b'90', 'Sleep stage W'], [42360.0, b'30', 'Sleep stage 1'], [42390.0, b'60', 'Sleep stage 2'], [42450.0, b'30', 'Sleep stage 3'], [42480.0, b'360', 'Sleep stage 2'], [42840.0, b'30', 'Sleep stage 3'], [42870.0, b'30', 'Sleep stage 2'], [42900.0, b'120', 'Sleep stage 3'], [43020.0, b'270', 'Sleep stage 4'], [43290.0, b'60', 'Sleep stage 3'], [43350.0, b'90', 'Sleep stage 2'], [43440.0, b'60', 'Sleep stage 3'], [43500.0, b'150', 'Sleep stage 2'], [43650.0, b'60', 'Sleep stage 3'], [43710.0, b'30', 'Sleep stage 2'], [43740.0, b'90', 'Sleep stage 3'], [43830.0, b'660', 'Sleep stage 4'], [44490.0, b'60', 'Sleep stage W'], [44550.0, b'90', 'Sleep stage 1'], [44640.0, b'390', 'Sleep stage 2'], [45030.0, b'60', 'Sleep stage 1'], [45090.0, b'150', 'Sleep stage 2'], [45240.0, b'30', 'Sleep stage 3'], [45270.0, b'90', 'Sleep stage 2'], [45360.0, b'30', 'Sleep stage 3'], [45390.0, b'450', 'Sleep stage 2'], [45840.0, b'1110', 'Sleep stage R'], [46950.0, b'90', 'Sleep stage 1'], [47040.0, b'180', 'Sleep stage 2'], [47220.0, b'90', 'Sleep stage R'], [47310.0, b'60', 'Sleep stage 1'], [47370.0, b'900', 'Sleep stage 2'], [48270.0, b'60', 'Sleep stage 3'], [48330.0, b'60', 'Sleep stage 2'], [48390.0, b'210', 'Sleep stage 3'], [48600.0, b'30', 'Sleep stage 2'], [48630.0, b'30', 'Sleep stage 3'], [48660.0, b'60', 'Sleep stage 2'], [48720.0, b'240', 'Sleep stage 3'], [48960.0, b'840', 'Sleep stage 4'], [49800.0, b'90', 'Sleep stage 3'], [49890.0, b'30', 'Sleep stage 2'], [49920.0, b'60', 'Sleep stage 3'], [49980.0, b'630', 'Sleep stage 2'], [50610.0, b'960', 'Sleep stage R'], [51570.0, b'90', 'Sleep stage 1'], [51660.0, b'1590', 'Sleep stage 2'], [53250.0, b'60', 'Sleep stage 3'], [53310.0, b'90', 'Sleep stage 2'], [53400.0, b'60', 'Sleep stage 3'], [53460.0, b'60', 'Sleep stage 2'], [53520.0, b'240', 'Sleep stage 3'], [53760.0, b'60', 'Sleep stage 4'], [53820.0, b'120', 'Sleep stage 3'], [53940.0, b'30', 'Sleep stage 4'], [53970.0, b'90', 'Sleep stage 3'], [54060.0, b'60', 'Sleep stage 4'], [54120.0, b'90', 'Sleep stage 3'], [54210.0, b'60', 'Sleep stage 4'], [54270.0, b'30', 'Sleep stage 3'], [54300.0, b'210', 'Sleep stage 4'], [54510.0, b'29370', 'Sleep stage W'], [83880.0, b'2520', 'Sleep stage ?']]}\n"
          ],
          "name": "stdout"
        },
        {
          "output_type": "stream",
          "text": [
            "Reading Channels: 100%|██████████| 7/7 [00:01<00:00,  6.11it/s]\n"
          ],
          "name": "stderr"
        },
        {
          "output_type": "stream",
          "text": [
            "SC4081E0-PSG.edf file's signal & annotations start time is same\n"
          ],
          "name": "stdout"
        },
        {
          "output_type": "stream",
          "text": [
            "Reading Channels: 0it [00:00, ?it/s]\n",
            "Reading Channels:   0%|          | 0/7 [00:00<?, ?it/s]"
          ],
          "name": "stderr"
        },
        {
          "output_type": "stream",
          "text": [
            "SC4031E0-PSG.edf SC4031EC-Hypnogram.edf\n",
            "{'technician': '', 'recording_additional': '', 'patientname': 'Female 26yr', 'patient_additional': '', 'patientcode': '', 'equipment': '', 'admincode': '', 'gender': 'Female', 'startdate': datetime.datetime(1989, 4, 10, 16, 50), 'birthdate': '', 'annotations': [[0.0, b'26130', 'Sleep stage W'], [26130.0, b'30', 'Sleep stage 1'], [26160.0, b'60', 'Sleep stage W'], [26220.0, b'240', 'Sleep stage 1'], [26460.0, b'30', 'Sleep stage W'], [26490.0, b'90', 'Sleep stage 1'], [26580.0, b'1050', 'Sleep stage 2'], [27630.0, b'30', 'Sleep stage 3'], [27660.0, b'150', 'Sleep stage 2'], [27810.0, b'390', 'Sleep stage 3'], [28200.0, b'90', 'Sleep stage 2'], [28290.0, b'90', 'Sleep stage 3'], [28380.0, b'30', 'Sleep stage 2'], [28410.0, b'60', 'Sleep stage W'], [28470.0, b'30', 'Sleep stage 1'], [28500.0, b'30', 'Sleep stage W'], [28530.0, b'30', 'Sleep stage 1'], [28560.0, b'30', 'Sleep stage 2'], [28590.0, b'30', 'Sleep stage 1'], [28620.0, b'690', 'Sleep stage 2'], [29310.0, b'30', 'Sleep stage 3'], [29340.0, b'60', 'Sleep stage 2'], [29400.0, b'90', 'Sleep stage W'], [29490.0, b'120', 'Sleep stage 1'], [29610.0, b'120', 'Sleep stage 2'], [29730.0, b'30', 'Sleep stage 1'], [29760.0, b'60', 'Sleep stage W'], [29820.0, b'150', 'Sleep stage 1'], [29970.0, b'30', 'Sleep stage 2'], [30000.0, b'30', 'Sleep stage 1'], [30030.0, b'480', 'Sleep stage 2'], [30510.0, b'30', 'Sleep stage 3'], [30540.0, b'60', 'Sleep stage 2'], [30600.0, b'30', 'Sleep stage 3'], [30630.0, b'30', 'Sleep stage 2'], [30660.0, b'30', 'Sleep stage 3'], [30690.0, b'60', 'Sleep stage 2'], [30750.0, b'30', 'Sleep stage 3'], [30780.0, b'60', 'Sleep stage 2'], [30840.0, b'210', 'Sleep stage 3'], [31050.0, b'30', 'Sleep stage 2'], [31080.0, b'240', 'Sleep stage 3'], [31320.0, b'30', 'Sleep stage 4'], [31350.0, b'30', 'Sleep stage 3'], [31380.0, b'810', 'Sleep stage 2'], [32190.0, b'30', 'Sleep stage 1'], [32220.0, b'240', 'Sleep stage 2'], [32460.0, b'330', 'Sleep stage R'], [32790.0, b'30', 'Sleep stage 1'], [32820.0, b'540', 'Sleep stage R'], [33360.0, b'150', 'Sleep stage 2'], [33510.0, b'60', 'Sleep stage 1'], [33570.0, b'450', 'Sleep stage 2'], [34020.0, b'30', 'Sleep stage 1'], [34050.0, b'540', 'Sleep stage 2'], [34590.0, b'30', 'Sleep stage 3'], [34620.0, b'90', 'Sleep stage 2'], [34710.0, b'30', 'Sleep stage 3'], [34740.0, b'30', 'Sleep stage 2'], [34770.0, b'60', 'Sleep stage 3'], [34830.0, b'30', 'Sleep stage 2'], [34860.0, b'120', 'Sleep stage 3'], [34980.0, b'120', 'Sleep stage 2'], [35100.0, b'150', 'Sleep stage 3'], [35250.0, b'1200', 'Sleep stage 2'], [36450.0, b'30', 'Sleep stage W'], [36480.0, b'60', 'Sleep stage 1'], [36540.0, b'1080', 'Sleep stage 2'], [37620.0, b'30', 'Sleep stage 1'], [37650.0, b'300', 'Sleep stage 2'], [37950.0, b'60', 'Sleep stage W'], [38010.0, b'60', 'Sleep stage 1'], [38070.0, b'90', 'Sleep stage 2'], [38160.0, b'60', 'Sleep stage 1'], [38220.0, b'150', 'Sleep stage 2'], [38370.0, b'1230', 'Sleep stage R'], [39600.0, b'30', 'Sleep stage W'], [39630.0, b'1260', 'Sleep stage R'], [40890.0, b'1410', 'Sleep stage 2'], [42300.0, b'30', 'Sleep stage 3'], [42330.0, b'90', 'Sleep stage 2'], [42420.0, b'90', 'Sleep stage 1'], [42510.0, b'1110', 'Sleep stage 2'], [43620.0, b'30', 'Sleep stage 3'], [43650.0, b'180', 'Sleep stage 2'], [43830.0, b'30', 'Sleep stage 3'], [43860.0, b'90', 'Sleep stage 2'], [43950.0, b'30', 'Sleep stage 1'], [43980.0, b'510', 'Sleep stage 2'], [44490.0, b'30', 'Sleep stage 3'], [44520.0, b'330', 'Sleep stage 2'], [44850.0, b'30', 'Sleep stage 3'], [44880.0, b'60', 'Sleep stage 2'], [44940.0, b'30', 'Sleep stage W'], [44970.0, b'30', 'Sleep stage 1'], [45000.0, b'180', 'Sleep stage 2'], [45180.0, b'1050', 'Sleep stage R'], [46230.0, b'30', 'Sleep stage W'], [46260.0, b'60', 'Sleep stage 1'], [46320.0, b'210', 'Sleep stage R'], [46530.0, b'90', 'Sleep stage W'], [46620.0, b'90', 'Sleep stage 1'], [46710.0, b'1650', 'Sleep stage 2'], [48360.0, b'30', 'Sleep stage 1'], [48390.0, b'270', 'Sleep stage 2'], [48660.0, b'60', 'Sleep stage 1'], [48720.0, b'210', 'Sleep stage 2'], [48930.0, b'60', 'Sleep stage 1'], [48990.0, b'210', 'Sleep stage 2'], [49200.0, b'660', 'Sleep stage R'], [49860.0, b'120', 'Sleep stage 1'], [49980.0, b'570', 'Sleep stage R'], [50550.0, b'30', 'Sleep stage 1'], [50580.0, b'150', 'Sleep stage R'], [50730.0, b'30', 'Sleep stage 1'], [50760.0, b'270', 'Sleep stage R'], [51030.0, b'60', 'Sleep stage 1'], [51090.0, b'33510', 'Sleep stage W'], [84600.0, b'1800', 'Sleep stage ?']]}\n"
          ],
          "name": "stdout"
        },
        {
          "output_type": "stream",
          "text": [
            "Reading Channels: 100%|██████████| 7/7 [00:01<00:00,  6.18it/s]\n"
          ],
          "name": "stderr"
        },
        {
          "output_type": "stream",
          "text": [
            "SC4031E0-PSG.edf file's signal & annotations start time is same\n"
          ],
          "name": "stdout"
        },
        {
          "output_type": "stream",
          "text": [
            "Reading Channels: 0it [00:00, ?it/s]\n",
            "Reading Channels:   0%|          | 0/7 [00:00<?, ?it/s]"
          ],
          "name": "stderr"
        },
        {
          "output_type": "stream",
          "text": [
            "SC4161E0-PSG.edf SC4161EC-Hypnogram.edf\n",
            "{'technician': '', 'recording_additional': '', 'patientname': 'Male 32yr', 'patient_additional': '', 'patientcode': '', 'equipment': '', 'admincode': '', 'gender': 'Male', 'startdate': datetime.datetime(1989, 7, 10, 16, 31), 'birthdate': '', 'annotations': [[0.0, b'22290', 'Sleep stage W'], [22290.0, b'150', 'Sleep stage 1'], [22440.0, b'120', 'Sleep stage 2'], [22560.0, b'30', 'Sleep stage W'], [22590.0, b'30', 'Sleep stage 1'], [22620.0, b'90', 'Sleep stage 2'], [22710.0, b'60', 'Sleep stage 1'], [22770.0, b'510', 'Sleep stage 2'], [23280.0, b'60', 'Sleep stage 3'], [23340.0, b'90', 'Sleep stage 2'], [23430.0, b'90', 'Sleep stage 3'], [23520.0, b'60', 'Sleep stage 2'], [23580.0, b'180', 'Sleep stage 3'], [23760.0, b'120', 'Sleep stage 2'], [23880.0, b'150', 'Sleep stage 3'], [24030.0, b'30', 'Sleep stage 4'], [24060.0, b'60', 'Sleep stage 3'], [24120.0, b'150', 'Sleep stage 4'], [24270.0, b'30', 'Sleep stage 3'], [24300.0, b'210', 'Sleep stage 4'], [24510.0, b'60', 'Sleep stage 3'], [24570.0, b'60', 'Sleep stage 4'], [24630.0, b'120', 'Sleep stage 3'], [24750.0, b'30', 'Sleep stage 4'], [24780.0, b'180', 'Sleep stage 3'], [24960.0, b'30', 'Sleep stage 4'], [24990.0, b'30', 'Sleep stage 3'], [25020.0, b'60', 'Sleep stage 4'], [25080.0, b'90', 'Sleep stage 3'], [25170.0, b'90', 'Sleep stage 4'], [25260.0, b'120', 'Sleep stage 3'], [25380.0, b'30', 'Sleep stage 2'], [25410.0, b'60', 'Sleep stage 1'], [25470.0, b'570', 'Sleep stage 2'], [26040.0, b'990', 'Sleep stage R'], [27030.0, b'510', 'Sleep stage 2'], [27540.0, b'30', 'Sleep stage 1'], [27570.0, b'510', 'Sleep stage 2'], [28080.0, b'30', 'Sleep stage 3'], [28110.0, b'60', 'Sleep stage 2'], [28170.0, b'30', 'Movement time'], [28200.0, b'810', 'Sleep stage 2'], [29010.0, b'30', 'Sleep stage 3'], [29040.0, b'60', 'Sleep stage 2'], [29100.0, b'90', 'Sleep stage 3'], [29190.0, b'30', 'Sleep stage 2'], [29220.0, b'60', 'Sleep stage 3'], [29280.0, b'30', 'Sleep stage 2'], [29310.0, b'120', 'Sleep stage 3'], [29430.0, b'30', 'Sleep stage 2'], [29460.0, b'60', 'Sleep stage 3'], [29520.0, b'60', 'Sleep stage 2'], [29580.0, b'120', 'Sleep stage 3'], [29700.0, b'30', 'Sleep stage 4'], [29730.0, b'90', 'Sleep stage 3'], [29820.0, b'60', 'Sleep stage 4'], [29880.0, b'90', 'Sleep stage 3'], [29970.0, b'60', 'Sleep stage 4'], [30030.0, b'30', 'Sleep stage 3'], [30060.0, b'30', 'Sleep stage 4'], [30090.0, b'150', 'Sleep stage 3'], [30240.0, b'30', 'Sleep stage 4'], [30270.0, b'120', 'Sleep stage 3'], [30390.0, b'120', 'Sleep stage 4'], [30510.0, b'90', 'Sleep stage 3'], [30600.0, b'60', 'Sleep stage 4'], [30660.0, b'60', 'Sleep stage 3'], [30720.0, b'30', 'Sleep stage 4'], [30750.0, b'90', 'Sleep stage 3'], [30840.0, b'60', 'Sleep stage 4'], [30900.0, b'60', 'Sleep stage 3'], [30960.0, b'30', 'Sleep stage 4'], [30990.0, b'60', 'Sleep stage 3'], [31050.0, b'720', 'Sleep stage 2'], [31770.0, b'1950', 'Sleep stage R'], [33720.0, b'30', 'Sleep stage 1'], [33750.0, b'1230', 'Sleep stage 2'], [34980.0, b'30', 'Sleep stage 3'], [35010.0, b'270', 'Sleep stage 2'], [35280.0, b'30', 'Sleep stage 3'], [35310.0, b'60', 'Sleep stage 2'], [35370.0, b'150', 'Sleep stage 3'], [35520.0, b'30', 'Sleep stage 4'], [35550.0, b'60', 'Sleep stage 3'], [35610.0, b'180', 'Sleep stage 2'], [35790.0, b'30', 'Sleep stage 3'], [35820.0, b'30', 'Sleep stage 2'], [35850.0, b'90', 'Sleep stage 3'], [35940.0, b'60', 'Sleep stage 2'], [36000.0, b'390', 'Sleep stage 3'], [36390.0, b'30', 'Sleep stage 4'], [36420.0, b'90', 'Sleep stage 3'], [36510.0, b'30', 'Sleep stage 4'], [36540.0, b'30', 'Sleep stage 2'], [36570.0, b'30', 'Sleep stage 3'], [36600.0, b'450', 'Sleep stage 2'], [37050.0, b'1320', 'Sleep stage R'], [38370.0, b'480', 'Sleep stage 2'], [38850.0, b'60', 'Movement time'], [38910.0, b'2040', 'Sleep stage 2'], [40950.0, b'30', 'Sleep stage 3'], [40980.0, b'120', 'Sleep stage 2'], [41100.0, b'60', 'Sleep stage 3'], [41160.0, b'30', 'Sleep stage 2'], [41190.0, b'60', 'Sleep stage 3'], [41250.0, b'630', 'Sleep stage 2'], [41880.0, b'30', 'Sleep stage 3'], [41910.0, b'240', 'Sleep stage 2'], [42150.0, b'30', 'Sleep stage 3'], [42180.0, b'30', 'Sleep stage 2'], [42210.0, b'30', 'Sleep stage 3'], [42240.0, b'30', 'Sleep stage 2'], [42270.0, b'30', 'Sleep stage 3'], [42300.0, b'420', 'Sleep stage 2'], [42720.0, b'1380', 'Sleep stage R'], [44100.0, b'30', 'Sleep stage 1'], [44130.0, b'30', 'Sleep stage W'], [44160.0, b'210', 'Sleep stage 1'], [44370.0, b'210', 'Sleep stage W'], [44580.0, b'120', 'Sleep stage 1'], [44700.0, b'60', 'Sleep stage W'], [44760.0, b'30', 'Sleep stage 1'], [44790.0, b'60', 'Sleep stage W'], [44850.0, b'60', 'Sleep stage 1'], [44910.0, b'180', 'Sleep stage W'], [45090.0, b'150', 'Sleep stage 1'], [45240.0, b'180', 'Sleep stage W'], [45420.0, b'30', 'Sleep stage 1'], [45450.0, b'60', 'Sleep stage W'], [45510.0, b'30', 'Sleep stage 1'], [45540.0, b'90', 'Sleep stage W'], [45630.0, b'30', 'Sleep stage 1'], [45660.0, b'990', 'Sleep stage W'], [46650.0, b'30', 'Sleep stage 1'], [46680.0, b'540', 'Sleep stage W'], [47220.0, b'90', 'Sleep stage 1'], [47310.0, b'300', 'Sleep stage W'], [47610.0, b'90', 'Sleep stage 1'], [47700.0, b'150', 'Sleep stage W'], [47850.0, b'270', 'Sleep stage 1'], [48120.0, b'1710', 'Sleep stage 2'], [49830.0, b'720', 'Sleep stage R'], [50550.0, b'90', 'Sleep stage 2'], [50640.0, b'90', 'Sleep stage 1'], [50730.0, b'390', 'Sleep stage 2'], [51120.0, b'30', 'Sleep stage 1'], [51150.0, b'210', 'Sleep stage 2'], [51360.0, b'120', 'Sleep stage R'], [51480.0, b'30', 'Movement time'], [51510.0, b'300', 'Sleep stage 2'], [51810.0, b'1170', 'Sleep stage R'], [52980.0, b'30', 'Movement time'], [53010.0, b'150', 'Sleep stage R'], [53160.0, b'25620', 'Sleep stage W'], [78780.0, b'7620', 'Sleep stage ?']]}\n"
          ],
          "name": "stdout"
        },
        {
          "output_type": "stream",
          "text": [
            "Reading Channels: 100%|██████████| 7/7 [00:01<00:00,  6.45it/s]\n"
          ],
          "name": "stderr"
        },
        {
          "output_type": "stream",
          "text": [
            "SC4161E0-PSG.edf file's signal & annotations start time is same\n"
          ],
          "name": "stdout"
        },
        {
          "output_type": "stream",
          "text": [
            "Reading Channels: 0it [00:00, ?it/s]\n",
            "Reading Channels:   0%|          | 0/7 [00:00<?, ?it/s]"
          ],
          "name": "stderr"
        },
        {
          "output_type": "stream",
          "text": [
            "SC4022E0-PSG.edf SC4022EJ-Hypnogram.edf\n",
            "{'technician': '', 'recording_additional': '', 'patientname': 'Female 26yr', 'patient_additional': '', 'patientcode': '', 'equipment': '', 'admincode': '', 'gender': 'Female', 'startdate': datetime.datetime(1989, 4, 6, 16, 42), 'birthdate': '', 'annotations': [[0.0, b'22710', 'Sleep stage W'], [22710.0, b'990', 'Sleep stage 1'], [23700.0, b'540', 'Sleep stage 2'], [24240.0, b'30', 'Sleep stage 3'], [24270.0, b'30', 'Sleep stage 2'], [24300.0, b'210', 'Sleep stage 3'], [24510.0, b'30', 'Sleep stage 2'], [24540.0, b'30', 'Sleep stage 3'], [24570.0, b'30', 'Sleep stage 4'], [24600.0, b'180', 'Sleep stage 3'], [24780.0, b'60', 'Sleep stage 4'], [24840.0, b'120', 'Sleep stage 3'], [24960.0, b'270', 'Sleep stage 4'], [25230.0, b'30', 'Sleep stage 3'], [25260.0, b'390', 'Sleep stage 1'], [25650.0, b'30', 'Sleep stage 2'], [25680.0, b'90', 'Sleep stage 1'], [25770.0, b'480', 'Sleep stage 2'], [26250.0, b'60', 'Sleep stage 1'], [26310.0, b'180', 'Sleep stage 2'], [26490.0, b'60', 'Sleep stage 1'], [26550.0, b'120', 'Sleep stage 2'], [26670.0, b'30', 'Sleep stage 1'], [26700.0, b'240', 'Sleep stage 2'], [26940.0, b'60', 'Sleep stage 1'], [27000.0, b'30', 'Sleep stage 2'], [27030.0, b'30', 'Sleep stage 1'], [27060.0, b'150', 'Sleep stage 2'], [27210.0, b'30', 'Sleep stage 1'], [27240.0, b'210', 'Sleep stage 2'], [27450.0, b'60', 'Sleep stage 3'], [27510.0, b'60', 'Sleep stage 2'], [27570.0, b'30', 'Sleep stage 3'], [27600.0, b'270', 'Sleep stage 1'], [27870.0, b'330', 'Sleep stage 2'], [28200.0, b'120', 'Sleep stage 3'], [28320.0, b'60', 'Sleep stage 2'], [28380.0, b'270', 'Sleep stage 3'], [28650.0, b'150', 'Sleep stage 4'], [28800.0, b'30', 'Sleep stage 3'], [28830.0, b'120', 'Sleep stage 1'], [28950.0, b'240', 'Sleep stage 2'], [29190.0, b'30', 'Sleep stage 3'], [29220.0, b'30', 'Sleep stage 2'], [29250.0, b'90', 'Sleep stage 3'], [29340.0, b'30', 'Sleep stage 2'], [29370.0, b'90', 'Sleep stage 3'], [29460.0, b'300', 'Sleep stage 4'], [29760.0, b'90', 'Sleep stage 3'], [29850.0, b'30', 'Sleep stage 2'], [29880.0, b'60', 'Sleep stage 3'], [29940.0, b'150', 'Sleep stage 2'], [30090.0, b'30', 'Sleep stage 3'], [30120.0, b'210', 'Sleep stage 2'], [30330.0, b'120', 'Sleep stage 1'], [30450.0, b'30', 'Sleep stage 2'], [30480.0, b'60', 'Sleep stage 1'], [30540.0, b'30', 'Sleep stage 2'], [30570.0, b'420', 'Sleep stage R'], [30990.0, b'30', 'Sleep stage 1'], [31020.0, b'480', 'Sleep stage R'], [31500.0, b'180', 'Sleep stage 1'], [31680.0, b'60', 'Sleep stage 2'], [31740.0, b'1290', 'Sleep stage R'], [33030.0, b'180', 'Sleep stage 1'], [33210.0, b'270', 'Sleep stage 2'], [33480.0, b'60', 'Sleep stage 1'], [33540.0, b'300', 'Sleep stage 2'], [33840.0, b'90', 'Sleep stage 1'], [33930.0, b'150', 'Sleep stage 2'], [34080.0, b'30', 'Sleep stage 3'], [34110.0, b'60', 'Sleep stage 2'], [34170.0, b'30', 'Sleep stage 3'], [34200.0, b'30', 'Sleep stage 2'], [34230.0, b'60', 'Sleep stage 3'], [34290.0, b'120', 'Sleep stage 2'], [34410.0, b'60', 'Sleep stage 3'], [34470.0, b'30', 'Sleep stage 1'], [34500.0, b'210', 'Sleep stage 2'], [34710.0, b'90', 'Sleep stage 3'], [34800.0, b'30', 'Sleep stage 2'], [34830.0, b'30', 'Sleep stage 3'], [34860.0, b'30', 'Sleep stage 2'], [34890.0, b'90', 'Sleep stage 3'], [34980.0, b'30', 'Sleep stage 2'], [35010.0, b'240', 'Sleep stage 3'], [35250.0, b'30', 'Sleep stage 4'], [35280.0, b'60', 'Sleep stage 3'], [35340.0, b'60', 'Sleep stage 4'], [35400.0, b'30', 'Sleep stage 3'], [35430.0, b'60', 'Sleep stage 4'], [35490.0, b'30', 'Sleep stage 3'], [35520.0, b'60', 'Sleep stage 4'], [35580.0, b'30', 'Sleep stage 3'], [35610.0, b'30', 'Sleep stage 4'], [35640.0, b'30', 'Sleep stage 3'], [35670.0, b'90', 'Sleep stage 4'], [35760.0, b'300', 'Sleep stage 1'], [36060.0, b'690', 'Sleep stage 2'], [36750.0, b'30', 'Sleep stage 3'], [36780.0, b'60', 'Sleep stage 2'], [36840.0, b'30', 'Sleep stage 1'], [36870.0, b'120', 'Sleep stage 2'], [36990.0, b'60', 'Sleep stage 1'], [37050.0, b'180', 'Sleep stage 2'], [37230.0, b'420', 'Sleep stage R'], [37650.0, b'30', 'Movement time'], [37680.0, b'90', 'Sleep stage 1'], [37770.0, b'30', 'Sleep stage 2'], [37800.0, b'60', 'Sleep stage 1'], [37860.0, b'60', 'Sleep stage 2'], [37920.0, b'900', 'Sleep stage R'], [38820.0, b'120', 'Sleep stage 1'], [38940.0, b'330', 'Sleep stage 2'], [39270.0, b'60', 'Sleep stage 1'], [39330.0, b'90', 'Sleep stage 2'], [39420.0, b'90', 'Sleep stage 1'], [39510.0, b'150', 'Sleep stage 2'], [39660.0, b'30', 'Sleep stage 1'], [39690.0, b'90', 'Sleep stage 2'], [39780.0, b'60', 'Sleep stage 1'], [39840.0, b'630', 'Sleep stage 2'], [40470.0, b'60', 'Sleep stage 1'], [40530.0, b'270', 'Sleep stage 2'], [40800.0, b'30', 'Sleep stage 1'], [40830.0, b'120', 'Sleep stage 2'], [40950.0, b'60', 'Sleep stage 1'], [41010.0, b'450', 'Sleep stage 2'], [41460.0, b'30', 'Sleep stage W'], [41490.0, b'60', 'Sleep stage 1'], [41550.0, b'30', 'Sleep stage 2'], [41580.0, b'30', 'Sleep stage 1'], [41610.0, b'390', 'Sleep stage 2'], [42000.0, b'30', 'Sleep stage 3'], [42030.0, b'90', 'Sleep stage 2'], [42120.0, b'30', 'Sleep stage 1'], [42150.0, b'150', 'Sleep stage 2'], [42300.0, b'30', 'Sleep stage 3'], [42330.0, b'450', 'Sleep stage 2'], [42780.0, b'60', 'Sleep stage 1'], [42840.0, b'90', 'Sleep stage 2'], [42930.0, b'90', 'Sleep stage R'], [43020.0, b'30', 'Sleep stage 1'], [43050.0, b'390', 'Sleep stage R'], [43440.0, b'180', 'Sleep stage 1'], [43620.0, b'30', 'Sleep stage W'], [43650.0, b'210', 'Sleep stage 1'], [43860.0, b'420', 'Sleep stage 2'], [44280.0, b'90', 'Sleep stage 1'], [44370.0, b'540', 'Sleep stage 2'], [44910.0, b'90', 'Sleep stage 1'], [45000.0, b'60', 'Sleep stage 2'], [45060.0, b'30', 'Sleep stage 1'], [45090.0, b'300', 'Sleep stage 2'], [45390.0, b'90', 'Sleep stage 1'], [45480.0, b'210', 'Sleep stage 2'], [45690.0, b'60', 'Sleep stage 1'], [45750.0, b'240', 'Sleep stage 2'], [45990.0, b'30', 'Sleep stage 1'], [46020.0, b'540', 'Sleep stage 2'], [46560.0, b'30', 'Sleep stage 3'], [46590.0, b'90', 'Sleep stage 2'], [46680.0, b'60', 'Sleep stage 1'], [46740.0, b'540', 'Sleep stage 2'], [47280.0, b'90', 'Sleep stage 1'], [47370.0, b'120', 'Sleep stage 2'], [47490.0, b'210', 'Sleep stage R'], [47700.0, b'90', 'Sleep stage 1'], [47790.0, b'750', 'Sleep stage R'], [48540.0, b'60', 'Sleep stage 1'], [48600.0, b'30', 'Sleep stage R'], [48630.0, b'120', 'Sleep stage 1'], [48750.0, b'390', 'Sleep stage R'], [49140.0, b'30', 'Sleep stage W'], [49170.0, b'150', 'Sleep stage 1'], [49320.0, b'60', 'Sleep stage W'], [49380.0, b'30', 'Sleep stage 1'], [49410.0, b'33270', 'Sleep stage W'], [82680.0, b'3720', 'Sleep stage ?']]}\n"
          ],
          "name": "stdout"
        },
        {
          "output_type": "stream",
          "text": [
            "Reading Channels: 100%|██████████| 7/7 [00:01<00:00,  6.21it/s]\n"
          ],
          "name": "stderr"
        },
        {
          "output_type": "stream",
          "text": [
            "SC4022E0-PSG.edf file's signal & annotations start time is same\n"
          ],
          "name": "stdout"
        },
        {
          "output_type": "stream",
          "text": [
            "Reading Channels: 0it [00:00, ?it/s]\n",
            "Reading Channels:   0%|          | 0/7 [00:00<?, ?it/s]"
          ],
          "name": "stderr"
        },
        {
          "output_type": "stream",
          "text": [
            "SC4142E0-PSG.edf SC4142EU-Hypnogram.edf\n",
            "{'technician': '', 'recording_additional': '', 'patientname': 'Male 27yr', 'patient_additional': '', 'patientcode': '', 'equipment': '', 'admincode': '', 'gender': 'Male', 'startdate': datetime.datetime(1989, 6, 20, 15, 33), 'birthdate': '', 'annotations': [[0.0, b'28590', 'Sleep stage W'], [28590.0, b'90', 'Sleep stage 1'], [28680.0, b'210', 'Sleep stage 2'], [28890.0, b'30', 'Sleep stage 1'], [28920.0, b'120', 'Sleep stage 2'], [29040.0, b'30', 'Sleep stage 1'], [29070.0, b'30', 'Sleep stage 2'], [29100.0, b'30', 'Sleep stage 1'], [29130.0, b'240', 'Sleep stage 2'], [29370.0, b'30', 'Sleep stage W'], [29400.0, b'60', 'Sleep stage 1'], [29460.0, b'60', 'Sleep stage W'], [29520.0, b'30', 'Sleep stage 1'], [29550.0, b'30', 'Sleep stage W'], [29580.0, b'30', 'Sleep stage 1'], [29610.0, b'60', 'Sleep stage W'], [29670.0, b'30', 'Sleep stage 1'], [29700.0, b'300', 'Sleep stage 2'], [30000.0, b'30', 'Sleep stage W'], [30030.0, b'30', 'Sleep stage 1'], [30060.0, b'510', 'Sleep stage 2'], [30570.0, b'60', 'Sleep stage 3'], [30630.0, b'30', 'Sleep stage 2'], [30660.0, b'390', 'Sleep stage 3'], [31050.0, b'60', 'Sleep stage 4'], [31110.0, b'30', 'Sleep stage 3'], [31140.0, b'390', 'Sleep stage 4'], [31530.0, b'30', 'Sleep stage 3'], [31560.0, b'480', 'Sleep stage 4'], [32040.0, b'30', 'Sleep stage 3'], [32070.0, b'1110', 'Sleep stage 2'], [33180.0, b'90', 'Sleep stage R'], [33270.0, b'150', 'Sleep stage 2'], [33420.0, b'120', 'Sleep stage R'], [33540.0, b'630', 'Sleep stage W'], [34170.0, b'30', 'Sleep stage 1'], [34200.0, b'1410', 'Sleep stage 2'], [35610.0, b'30', 'Sleep stage 3'], [35640.0, b'60', 'Sleep stage 2'], [35700.0, b'60', 'Sleep stage 3'], [35760.0, b'30', 'Sleep stage 2'], [35790.0, b'270', 'Sleep stage 3'], [36060.0, b'30', 'Sleep stage 4'], [36090.0, b'120', 'Sleep stage 3'], [36210.0, b'330', 'Sleep stage 4'], [36540.0, b'60', 'Sleep stage 3'], [36600.0, b'120', 'Sleep stage 4'], [36720.0, b'30', 'Sleep stage 3'], [36750.0, b'240', 'Sleep stage 4'], [36990.0, b'30', 'Sleep stage 3'], [37020.0, b'30', 'Sleep stage 4'], [37050.0, b'60', 'Sleep stage 3'], [37110.0, b'60', 'Sleep stage 4'], [37170.0, b'30', 'Sleep stage 3'], [37200.0, b'30', 'Sleep stage 4'], [37230.0, b'30', 'Sleep stage 3'], [37260.0, b'30', 'Sleep stage 4'], [37290.0, b'30', 'Sleep stage 3'], [37320.0, b'30', 'Sleep stage 4'], [37350.0, b'210', 'Sleep stage 3'], [37560.0, b'30', 'Sleep stage 4'], [37590.0, b'30', 'Sleep stage 3'], [37620.0, b'30', 'Sleep stage 4'], [37650.0, b'60', 'Sleep stage 3'], [37710.0, b'90', 'Sleep stage 4'], [37800.0, b'30', 'Sleep stage 3'], [37830.0, b'30', 'Sleep stage 4'], [37860.0, b'30', 'Sleep stage 3'], [37890.0, b'30', 'Sleep stage 4'], [37920.0, b'30', 'Sleep stage 3'], [37950.0, b'60', 'Sleep stage 4'], [38010.0, b'90', 'Sleep stage 3'], [38100.0, b'150', 'Sleep stage 4'], [38250.0, b'30', 'Sleep stage 3'], [38280.0, b'30', 'Sleep stage 4'], [38310.0, b'60', 'Sleep stage 3'], [38370.0, b'60', 'Sleep stage 4'], [38430.0, b'60', 'Sleep stage 3'], [38490.0, b'90', 'Sleep stage W'], [38580.0, b'210', 'Sleep stage 2'], [38790.0, b'2130', 'Sleep stage R'], [40920.0, b'90', 'Sleep stage 2'], [41010.0, b'210', 'Sleep stage R'], [41220.0, b'30', 'Sleep stage W'], [41250.0, b'30', 'Sleep stage R'], [41280.0, b'570', 'Sleep stage 2'], [41850.0, b'240', 'Sleep stage W'], [42090.0, b'480', 'Sleep stage 2'], [42570.0, b'60', 'Sleep stage 1'], [42630.0, b'30', 'Sleep stage 2'], [42660.0, b'60', 'Sleep stage W'], [42720.0, b'420', 'Sleep stage 2'], [43140.0, b'60', 'Sleep stage W'], [43200.0, b'60', 'Sleep stage 1'], [43260.0, b'1830', 'Sleep stage 2'], [45090.0, b'30', 'Sleep stage 1'], [45120.0, b'330', 'Sleep stage 2'], [45450.0, b'300', 'Sleep stage W'], [45750.0, b'60', 'Sleep stage 1'], [45810.0, b'240', 'Sleep stage 2'], [46050.0, b'2040', 'Sleep stage R'], [48090.0, b'2010', 'Sleep stage 2'], [50100.0, b'30', 'Sleep stage 3'], [50130.0, b'60', 'Sleep stage 2'], [50190.0, b'30', 'Sleep stage 3'], [50220.0, b'120', 'Sleep stage 2'], [50340.0, b'30', 'Sleep stage 3'], [50370.0, b'420', 'Sleep stage 2'], [50790.0, b'1440', 'Sleep stage R'], [52230.0, b'150', 'Sleep stage W'], [52380.0, b'30', 'Sleep stage 1'], [52410.0, b'270', 'Sleep stage 2'], [52680.0, b'90', 'Sleep stage 1'], [52770.0, b'30', 'Sleep stage 2'], [52800.0, b'330', 'Sleep stage R'], [53130.0, b'30', 'Sleep stage W'], [53160.0, b'60', 'Sleep stage 1'], [53220.0, b'90', 'Sleep stage 2'], [53310.0, b'30', 'Sleep stage 1'], [53340.0, b'60', 'Sleep stage 2'], [53400.0, b'30', 'Sleep stage W'], [53430.0, b'120', 'Sleep stage 2'], [53550.0, b'29670', 'Sleep stage W'], [83220.0, b'3180', 'Sleep stage ?']]}\n"
          ],
          "name": "stdout"
        },
        {
          "output_type": "stream",
          "text": [
            "Reading Channels: 100%|██████████| 7/7 [00:01<00:00,  6.27it/s]\n"
          ],
          "name": "stderr"
        },
        {
          "output_type": "stream",
          "text": [
            "SC4142E0-PSG.edf file's signal & annotations start time is same\n"
          ],
          "name": "stdout"
        },
        {
          "output_type": "stream",
          "text": [
            "Reading Channels: 0it [00:00, ?it/s]\n",
            "Reading Channels:   0%|          | 0/7 [00:00<?, ?it/s]"
          ],
          "name": "stderr"
        },
        {
          "output_type": "stream",
          "text": [
            "SC4011E0-PSG.edf SC4011EH-Hypnogram.edf\n",
            "{'technician': '', 'recording_additional': '', 'patientname': 'Female 33yr', 'patient_additional': '', 'patientcode': '', 'equipment': '', 'admincode': '', 'gender': 'Female', 'startdate': datetime.datetime(1989, 3, 29, 16, 49), 'birthdate': '', 'annotations': [[0.0, b'21540', 'Sleep stage W'], [21540.0, b'360', 'Sleep stage 1'], [21900.0, b'60', 'Sleep stage 2'], [21960.0, b'60', 'Sleep stage 1'], [22020.0, b'180', 'Sleep stage 2'], [22200.0, b'510', 'Sleep stage 1'], [22710.0, b'30', 'Sleep stage W'], [22740.0, b'150', 'Sleep stage 1'], [22890.0, b'180', 'Sleep stage 2'], [23070.0, b'210', 'Sleep stage 1'], [23280.0, b'60', 'Sleep stage W'], [23340.0, b'180', 'Sleep stage 1'], [23520.0, b'360', 'Sleep stage 2'], [23880.0, b'30', 'Sleep stage 3'], [23910.0, b'120', 'Sleep stage 2'], [24030.0, b'690', 'Sleep stage 3'], [24720.0, b'30', 'Sleep stage 2'], [24750.0, b'360', 'Sleep stage 3'], [25110.0, b'30', 'Sleep stage 4'], [25140.0, b'120', 'Sleep stage 3'], [25260.0, b'30', 'Sleep stage 4'], [25290.0, b'90', 'Sleep stage 3'], [25380.0, b'60', 'Sleep stage 4'], [25440.0, b'60', 'Sleep stage 3'], [25500.0, b'30', 'Sleep stage 4'], [25530.0, b'120', 'Sleep stage 3'], [25650.0, b'30', 'Sleep stage 4'], [25680.0, b'30', 'Sleep stage 3'], [25710.0, b'90', 'Sleep stage 2'], [25800.0, b'270', 'Sleep stage W'], [26070.0, b'90', 'Sleep stage 1'], [26160.0, b'690', 'Sleep stage 2'], [26850.0, b'120', 'Sleep stage W'], [26970.0, b'210', 'Sleep stage 1'], [27180.0, b'210', 'Sleep stage 2'], [27390.0, b'30', 'Sleep stage W'], [27420.0, b'90', 'Sleep stage 1'], [27510.0, b'300', 'Sleep stage 2'], [27810.0, b'30', 'Sleep stage 1'], [27840.0, b'870', 'Sleep stage 2'], [28710.0, b'1650', 'Sleep stage R'], [30360.0, b'1110', 'Sleep stage 2'], [31470.0, b'30', 'Sleep stage 3'], [31500.0, b'30', 'Sleep stage 2'], [31530.0, b'90', 'Sleep stage 3'], [31620.0, b'30', 'Sleep stage 2'], [31650.0, b'570', 'Sleep stage 3'], [32220.0, b'30', 'Sleep stage 4'], [32250.0, b'90', 'Sleep stage 3'], [32340.0, b'30', 'Sleep stage 4'], [32370.0, b'780', 'Sleep stage 2'], [33150.0, b'30', 'Sleep stage 1'], [33180.0, b'1050', 'Sleep stage 2'], [34230.0, b'30', 'Sleep stage 1'], [34260.0, b'1380', 'Sleep stage 2'], [35640.0, b'30', 'Sleep stage 1'], [35670.0, b'60', 'Sleep stage W'], [35730.0, b'90', 'Sleep stage 1'], [35820.0, b'120', 'Sleep stage W'], [35940.0, b'210', 'Sleep stage 1'], [36150.0, b'390', 'Sleep stage 2'], [36540.0, b'90', 'Sleep stage W'], [36630.0, b'60', 'Sleep stage 1'], [36690.0, b'90', 'Sleep stage W'], [36780.0, b'30', 'Sleep stage 1'], [36810.0, b'30', 'Sleep stage W'], [36840.0, b'60', 'Sleep stage 1'], [36900.0, b'120', 'Sleep stage W'], [37020.0, b'120', 'Sleep stage 1'], [37140.0, b'750', 'Sleep stage 2'], [37890.0, b'60', 'Sleep stage 1'], [37950.0, b'600', 'Sleep stage 2'], [38550.0, b'1170', 'Sleep stage R'], [39720.0, b'1320', 'Sleep stage 2'], [41040.0, b'60', 'Sleep stage 3'], [41100.0, b'120', 'Sleep stage 2'], [41220.0, b'30', 'Sleep stage 3'], [41250.0, b'30', 'Sleep stage 2'], [41280.0, b'90', 'Sleep stage 3'], [41370.0, b'60', 'Sleep stage 2'], [41430.0, b'60', 'Sleep stage 3'], [41490.0, b'120', 'Sleep stage 2'], [41610.0, b'60', 'Sleep stage 3'], [41670.0, b'60', 'Sleep stage 2'], [41730.0, b'30', 'Sleep stage 3'], [41760.0, b'30', 'Sleep stage 2'], [41790.0, b'30', 'Sleep stage 3'], [41820.0, b'60', 'Sleep stage 2'], [41880.0, b'180', 'Sleep stage 3'], [42060.0, b'30', 'Sleep stage 4'], [42090.0, b'60', 'Sleep stage 3'], [42150.0, b'30', 'Sleep stage 1'], [42180.0, b'1230', 'Sleep stage 2'], [43410.0, b'60', 'Sleep stage 1'], [43470.0, b'330', 'Sleep stage 2'], [43800.0, b'60', 'Sleep stage 1'], [43860.0, b'300', 'Sleep stage 2'], [44160.0, b'60', 'Sleep stage 1'], [44220.0, b'120', 'Sleep stage 2'], [44340.0, b'90', 'Sleep stage 1'], [44430.0, b'180', 'Sleep stage 2'], [44610.0, b'30', 'Sleep stage R'], [44640.0, b'270', 'Sleep stage 2'], [44910.0, b'30', 'Sleep stage W'], [44940.0, b'30', 'Sleep stage 1'], [44970.0, b'240', 'Sleep stage 2'], [45210.0, b'210', 'Sleep stage R'], [45420.0, b'60', 'Sleep stage 1'], [45480.0, b'1080', 'Sleep stage R'], [46560.0, b'30', 'Sleep stage 1'], [46590.0, b'90', 'Sleep stage R'], [46680.0, b'60', 'Sleep stage 2'], [46740.0, b'60', 'Sleep stage 1'], [46800.0, b'690', 'Sleep stage 2'], [47490.0, b'60', 'Sleep stage 1'], [47550.0, b'240', 'Sleep stage 2'], [47790.0, b'60', 'Sleep stage 1'], [47850.0, b'1020', 'Sleep stage 2'], [48870.0, b'60', 'Sleep stage W'], [48930.0, b'30', 'Sleep stage 1'], [48960.0, b'1170', 'Sleep stage 2'], [50130.0, b'390', 'Sleep stage R'], [50520.0, b'30', 'Sleep stage 1'], [50550.0, b'480', 'Sleep stage R'], [51030.0, b'33030', 'Sleep stage W'], [84060.0, b'2340', 'Sleep stage ?']]}\n"
          ],
          "name": "stdout"
        },
        {
          "output_type": "stream",
          "text": [
            "Reading Channels: 100%|██████████| 7/7 [00:01<00:00,  6.17it/s]\n"
          ],
          "name": "stderr"
        },
        {
          "output_type": "stream",
          "text": [
            "SC4011E0-PSG.edf file's signal & annotations start time is same\n"
          ],
          "name": "stdout"
        },
        {
          "output_type": "stream",
          "text": [
            "Reading Channels: 0it [00:00, ?it/s]\n",
            "Reading Channels:   0%|          | 0/7 [00:00<?, ?it/s]"
          ],
          "name": "stderr"
        },
        {
          "output_type": "stream",
          "text": [
            "SC4102E0-PSG.edf SC4102EC-Hypnogram.edf\n",
            "{'technician': '', 'recording_additional': '', 'patientname': 'Male 26yr', 'patient_additional': '', 'patientcode': '', 'equipment': '', 'admincode': '', 'gender': 'Male', 'startdate': datetime.datetime(1989, 4, 18, 15, 56), 'birthdate': '', 'annotations': [[0.0, b'26400', 'Sleep stage W'], [26400.0, b'960', 'Sleep stage 1'], [27360.0, b'1410', 'Sleep stage 2'], [28770.0, b'30', 'Sleep stage 3'], [28800.0, b'30', 'Sleep stage 2'], [28830.0, b'150', 'Sleep stage 3'], [28980.0, b'120', 'Sleep stage 2'], [29100.0, b'30', 'Sleep stage 1'], [29130.0, b'540', 'Sleep stage 2'], [29670.0, b'30', 'Sleep stage 3'], [29700.0, b'30', 'Sleep stage 2'], [29730.0, b'30', 'Sleep stage 3'], [29760.0, b'360', 'Sleep stage 2'], [30120.0, b'2130', 'Sleep stage R'], [32250.0, b'1260', 'Sleep stage 2'], [33510.0, b'60', 'Sleep stage W'], [33570.0, b'60', 'Sleep stage 1'], [33630.0, b'60', 'Sleep stage 2'], [33690.0, b'30', 'Sleep stage 1'], [33720.0, b'930', 'Sleep stage 2'], [34650.0, b'30', 'Sleep stage 3'], [34680.0, b'30', 'Sleep stage 2'], [34710.0, b'30', 'Sleep stage 3'], [34740.0, b'30', 'Sleep stage 2'], [34770.0, b'330', 'Sleep stage 3'], [35100.0, b'60', 'Sleep stage 2'], [35160.0, b'60', 'Sleep stage W'], [35220.0, b'60', 'Sleep stage 1'], [35280.0, b'1650', 'Sleep stage 2'], [36930.0, b'30', 'Sleep stage 1'], [36960.0, b'600', 'Sleep stage 2'], [37560.0, b'30', 'Sleep stage 1'], [37590.0, b'480', 'Sleep stage 2'], [38070.0, b'90', 'Sleep stage W'], [38160.0, b'60', 'Sleep stage 1'], [38220.0, b'150', 'Sleep stage 2'], [38370.0, b'30', 'Sleep stage 1'], [38400.0, b'630', 'Sleep stage 2'], [39030.0, b'30', 'Sleep stage 1'], [39060.0, b'540', 'Sleep stage 2'], [39600.0, b'30', 'Movement time'], [39630.0, b'180', 'Sleep stage 1'], [39810.0, b'420', 'Sleep stage 2'], [40230.0, b'90', 'Sleep stage 1'], [40320.0, b'300', 'Sleep stage 2'], [40620.0, b'210', 'Sleep stage W'], [40830.0, b'360', 'Sleep stage 1'], [41190.0, b'780', 'Sleep stage 2'], [41970.0, b'1950', 'Sleep stage R'], [43920.0, b'660', 'Sleep stage 2'], [44580.0, b'60', 'Sleep stage 1'], [44640.0, b'480', 'Sleep stage 2'], [45120.0, b'60', 'Sleep stage 1'], [45180.0, b'60', 'Sleep stage 2'], [45240.0, b'30', 'Sleep stage 1'], [45270.0, b'1050', 'Sleep stage 2'], [46320.0, b'30', 'Sleep stage 3'], [46350.0, b'60', 'Sleep stage 2'], [46410.0, b'60', 'Sleep stage 3'], [46470.0, b'120', 'Sleep stage 2'], [46590.0, b'30', 'Sleep stage 3'], [46620.0, b'90', 'Sleep stage W'], [46710.0, b'60', 'Sleep stage 1'], [46770.0, b'240', 'Sleep stage 2'], [47010.0, b'30', 'Sleep stage 1'], [47040.0, b'900', 'Sleep stage 2'], [47940.0, b'90', 'Sleep stage 1'], [48030.0, b'210', 'Sleep stage 2'], [48240.0, b'30', 'Sleep stage 1'], [48270.0, b'90', 'Sleep stage 2'], [48360.0, b'30', 'Sleep stage 1'], [48390.0, b'120', 'Sleep stage 2'], [48510.0, b'30', 'Sleep stage 1'], [48540.0, b'120', 'Sleep stage 2'], [48660.0, b'60', 'Sleep stage 1'], [48720.0, b'240', 'Sleep stage 2'], [48960.0, b'30', 'Sleep stage 1'], [48990.0, b'30', 'Sleep stage 2'], [49020.0, b'1890', 'Sleep stage R'], [50910.0, b'30', 'Sleep stage W'], [50940.0, b'150', 'Sleep stage 1'], [51090.0, b'630', 'Sleep stage 2'], [51720.0, b'60', 'Sleep stage 1'], [51780.0, b'510', 'Sleep stage 2'], [52290.0, b'60', 'Sleep stage 1'], [52350.0, b'30', 'Sleep stage 2'], [52380.0, b'90', 'Sleep stage 1'], [52470.0, b'720', 'Sleep stage 2'], [53190.0, b'30', 'Sleep stage 1'], [53220.0, b'60', 'Sleep stage W'], [53280.0, b'30', 'Sleep stage 1'], [53310.0, b'60', 'Sleep stage 2'], [53370.0, b'30', 'Sleep stage 1'], [53400.0, b'570', 'Sleep stage 2'], [53970.0, b'60', 'Sleep stage 1'], [54030.0, b'180', 'Sleep stage 2'], [54210.0, b'90', 'Sleep stage 1'], [54300.0, b'60', 'Sleep stage 2'], [54360.0, b'60', 'Sleep stage 1'], [54420.0, b'60', 'Sleep stage 2'], [54480.0, b'120', 'Sleep stage 1'], [54600.0, b'30', 'Sleep stage 2'], [54630.0, b'30', 'Sleep stage 1'], [54660.0, b'60', 'Sleep stage 2'], [54720.0, b'30', 'Sleep stage W'], [54750.0, b'60', 'Sleep stage 1'], [54810.0, b'150', 'Sleep stage 2'], [54960.0, b'30', 'Sleep stage 1'], [54990.0, b'120', 'Sleep stage 2'], [55110.0, b'30', 'Sleep stage W'], [55140.0, b'30', 'Sleep stage 1'], [55170.0, b'60', 'Sleep stage W'], [55230.0, b'90', 'Sleep stage 1'], [55320.0, b'90', 'Sleep stage 2'], [55410.0, b'30', 'Sleep stage 1'], [55440.0, b'150', 'Sleep stage 2'], [55590.0, b'30150', 'Sleep stage W'], [85740.0, b'660', 'Sleep stage ?']]}\n"
          ],
          "name": "stdout"
        },
        {
          "output_type": "stream",
          "text": [
            "Reading Channels: 100%|██████████| 7/7 [00:01<00:00,  6.04it/s]\n"
          ],
          "name": "stderr"
        },
        {
          "output_type": "stream",
          "text": [
            "SC4102E0-PSG.edf file's signal & annotations start time is same\n"
          ],
          "name": "stdout"
        },
        {
          "output_type": "stream",
          "text": [
            "Reading Channels: 0it [00:00, ?it/s]\n",
            "Reading Channels:   0%|          | 0/7 [00:00<?, ?it/s]"
          ],
          "name": "stderr"
        },
        {
          "output_type": "stream",
          "text": [
            "SC4021E0-PSG.edf SC4021EH-Hypnogram.edf\n",
            "{'technician': '', 'recording_additional': '', 'patientname': 'Female 26yr', 'patient_additional': '', 'patientcode': '', 'equipment': '', 'admincode': '', 'gender': 'Female', 'startdate': datetime.datetime(1989, 4, 5, 16, 48), 'birthdate': '', 'annotations': [[0.0, b'21870', 'Sleep stage W'], [21870.0, b'780', 'Sleep stage 1'], [22650.0, b'30', 'Sleep stage W'], [22680.0, b'450', 'Sleep stage 1'], [23130.0, b'930', 'Sleep stage 2'], [24060.0, b'30', 'Sleep stage W'], [24090.0, b'450', 'Sleep stage 2'], [24540.0, b'60', 'Sleep stage 3'], [24600.0, b'60', 'Sleep stage 2'], [24660.0, b'30', 'Sleep stage 3'], [24690.0, b'30', 'Sleep stage 4'], [24720.0, b'30', 'Sleep stage 3'], [24750.0, b'30', 'Sleep stage 2'], [24780.0, b'90', 'Sleep stage 3'], [24870.0, b'30', 'Sleep stage 2'], [24900.0, b'60', 'Sleep stage 3'], [24960.0, b'30', 'Sleep stage 2'], [24990.0, b'30', 'Sleep stage 3'], [25020.0, b'90', 'Sleep stage 4'], [25110.0, b'60', 'Sleep stage 3'], [25170.0, b'90', 'Sleep stage 4'], [25260.0, b'120', 'Sleep stage 3'], [25380.0, b'30', 'Sleep stage 4'], [25410.0, b'150', 'Sleep stage 2'], [25560.0, b'30', 'Sleep stage 3'], [25590.0, b'270', 'Sleep stage 2'], [25860.0, b'30', 'Sleep stage 3'], [25890.0, b'120', 'Sleep stage 2'], [26010.0, b'30', 'Sleep stage 1'], [26040.0, b'600', 'Sleep stage 2'], [26640.0, b'30', 'Sleep stage R'], [26670.0, b'90', 'Sleep stage 2'], [26760.0, b'30', 'Sleep stage R'], [26790.0, b'510', 'Sleep stage 2'], [27300.0, b'30', 'Sleep stage 3'], [27330.0, b'180', 'Sleep stage 2'], [27510.0, b'30', 'Sleep stage 3'], [27540.0, b'60', 'Sleep stage 2'], [27600.0, b'60', 'Sleep stage 3'], [27660.0, b'30', 'Sleep stage 4'], [27690.0, b'120', 'Sleep stage 3'], [27810.0, b'30', 'Sleep stage 2'], [27840.0, b'60', 'Sleep stage 3'], [27900.0, b'30', 'Sleep stage 4'], [27930.0, b'60', 'Sleep stage 3'], [27990.0, b'30', 'Sleep stage 2'], [28020.0, b'120', 'Sleep stage 4'], [28140.0, b'30', 'Sleep stage 3'], [28170.0, b'30', 'Sleep stage 4'], [28200.0, b'30', 'Sleep stage 3'], [28230.0, b'30', 'Sleep stage 4'], [28260.0, b'30', 'Sleep stage 3'], [28290.0, b'30', 'Sleep stage 4'], [28320.0, b'60', 'Sleep stage 3'], [28380.0, b'30', 'Sleep stage 4'], [28410.0, b'30', 'Sleep stage 3'], [28440.0, b'30', 'Sleep stage 4'], [28470.0, b'240', 'Sleep stage 3'], [28710.0, b'30', 'Sleep stage W'], [28740.0, b'90', 'Sleep stage 2'], [28830.0, b'30', 'Sleep stage 3'], [28860.0, b'870', 'Sleep stage 2'], [29730.0, b'30', 'Sleep stage 3'], [29760.0, b'330', 'Sleep stage 2'], [30090.0, b'30', 'Sleep stage 3'], [30120.0, b'30', 'Sleep stage 2'], [30150.0, b'120', 'Sleep stage 3'], [30270.0, b'30', 'Sleep stage 4'], [30300.0, b'60', 'Sleep stage 2'], [30360.0, b'30', 'Sleep stage 3'], [30390.0, b'90', 'Sleep stage 2'], [30480.0, b'120', 'Sleep stage R'], [30600.0, b'60', 'Sleep stage 2'], [30660.0, b'570', 'Sleep stage R'], [31230.0, b'30', 'Sleep stage 1'], [31260.0, b'60', 'Sleep stage 2'], [31320.0, b'210', 'Sleep stage R'], [31530.0, b'30', 'Sleep stage W'], [31560.0, b'30', 'Sleep stage 1'], [31590.0, b'90', 'Sleep stage 2'], [31680.0, b'60', 'Sleep stage 1'], [31740.0, b'330', 'Sleep stage 2'], [32070.0, b'60', 'Sleep stage 1'], [32130.0, b'510', 'Sleep stage 2'], [32640.0, b'30', 'Sleep stage 3'], [32670.0, b'570', 'Sleep stage 2'], [33240.0, b'60', 'Sleep stage 3'], [33300.0, b'60', 'Sleep stage 2'], [33360.0, b'60', 'Sleep stage 3'], [33420.0, b'90', 'Sleep stage 2'], [33510.0, b'30', 'Sleep stage 3'], [33540.0, b'60', 'Sleep stage 2'], [33600.0, b'30', 'Sleep stage 4'], [33630.0, b'30', 'Sleep stage 3'], [33660.0, b'30', 'Sleep stage 4'], [33690.0, b'60', 'Sleep stage 2'], [33750.0, b'30', 'Sleep stage 3'], [33780.0, b'360', 'Sleep stage 2'], [34140.0, b'60', 'Sleep stage 3'], [34200.0, b'510', 'Sleep stage 2'], [34710.0, b'30', 'Sleep stage 3'], [34740.0, b'90', 'Sleep stage 2'], [34830.0, b'30', 'Sleep stage R'], [34860.0, b'60', 'Sleep stage 2'], [34920.0, b'90', 'Sleep stage R'], [35010.0, b'30', 'Sleep stage 2'], [35040.0, b'270', 'Sleep stage R'], [35310.0, b'60', 'Sleep stage 1'], [35370.0, b'720', 'Sleep stage 2'], [36090.0, b'540', 'Sleep stage R'], [36630.0, b'240', 'Sleep stage 1'], [36870.0, b'1290', 'Sleep stage 2'], [38160.0, b'30', 'Sleep stage 3'], [38190.0, b'60', 'Sleep stage 2'], [38250.0, b'60', 'Sleep stage 3'], [38310.0, b'30', 'Sleep stage 2'], [38340.0, b'30', 'Sleep stage 1'], [38370.0, b'360', 'Sleep stage 2'], [38730.0, b'30', 'Sleep stage 3'], [38760.0, b'240', 'Sleep stage 2'], [39000.0, b'30', 'Sleep stage 3'], [39030.0, b'90', 'Sleep stage 2'], [39120.0, b'30', 'Sleep stage 3'], [39150.0, b'120', 'Sleep stage 2'], [39270.0, b'60', 'Sleep stage 3'], [39330.0, b'30', 'Sleep stage W'], [39360.0, b'60', 'Sleep stage 1'], [39420.0, b'750', 'Sleep stage 2'], [40170.0, b'360', 'Sleep stage R'], [40530.0, b'60', 'Sleep stage 1'], [40590.0, b'240', 'Sleep stage R'], [40830.0, b'90', 'Sleep stage 1'], [40920.0, b'750', 'Sleep stage R'], [41670.0, b'150', 'Sleep stage 1'], [41820.0, b'180', 'Sleep stage 2'], [42000.0, b'510', 'Sleep stage R'], [42510.0, b'30', 'Sleep stage 2'], [42540.0, b'90', 'Sleep stage R'], [42630.0, b'30', 'Sleep stage W'], [42660.0, b'60', 'Sleep stage 1'], [42720.0, b'960', 'Sleep stage 2'], [43680.0, b'30', 'Sleep stage 3'], [43710.0, b'480', 'Sleep stage 2'], [44190.0, b'30', 'Sleep stage 3'], [44220.0, b'60', 'Sleep stage 1'], [44280.0, b'960', 'Sleep stage 2'], [45240.0, b'1050', 'Sleep stage R'], [46290.0, b'90', 'Sleep stage 1'], [46380.0, b'450', 'Sleep stage 2'], [46830.0, b'60', 'Sleep stage 1'], [46890.0, b'600', 'Sleep stage 2'], [47490.0, b'60', 'Sleep stage W'], [47550.0, b'120', 'Sleep stage 1'], [47670.0, b'360', 'Sleep stage 2'], [48030.0, b'60', 'Sleep stage 1'], [48090.0, b'390', 'Sleep stage 2'], [48480.0, b'90', 'Sleep stage 1'], [48570.0, b'300', 'Sleep stage 2'], [48870.0, b'150', 'Sleep stage 1'], [49020.0, b'35100', 'Sleep stage W'], [84120.0, b'2280', 'Sleep stage ?']]}\n"
          ],
          "name": "stdout"
        },
        {
          "output_type": "stream",
          "text": [
            "Reading Channels: 100%|██████████| 7/7 [00:01<00:00,  6.18it/s]\n"
          ],
          "name": "stderr"
        },
        {
          "output_type": "stream",
          "text": [
            "SC4021E0-PSG.edf file's signal & annotations start time is same\n"
          ],
          "name": "stdout"
        },
        {
          "output_type": "stream",
          "text": [
            "Reading Channels: 0it [00:00, ?it/s]\n",
            "Reading Channels:   0%|          | 0/7 [00:00<?, ?it/s]"
          ],
          "name": "stderr"
        },
        {
          "output_type": "stream",
          "text": [
            "SC4032E0-PSG.edf SC4032EP-Hypnogram.edf\n",
            "{'technician': '', 'recording_additional': '', 'patientname': 'Female 26yr', 'patient_additional': '', 'patientcode': '', 'equipment': '', 'admincode': '', 'gender': 'Female', 'startdate': datetime.datetime(1989, 4, 11, 16, 49), 'birthdate': '', 'annotations': [[0.0, b'27630', 'Sleep stage W'], [27630.0, b'270', 'Sleep stage 1'], [27900.0, b'150', 'Sleep stage 2'], [28050.0, b'30', 'Sleep stage 1'], [28080.0, b'810', 'Sleep stage 2'], [28890.0, b'150', 'Sleep stage 3'], [29040.0, b'150', 'Sleep stage 4'], [29190.0, b'30', 'Sleep stage 3'], [29220.0, b'90', 'Sleep stage 4'], [29310.0, b'30', 'Sleep stage 3'], [29340.0, b'90', 'Sleep stage 4'], [29430.0, b'30', 'Sleep stage 3'], [29460.0, b'120', 'Sleep stage 4'], [29580.0, b'30', 'Sleep stage 3'], [29610.0, b'810', 'Sleep stage 4'], [30420.0, b'30', 'Sleep stage 3'], [30450.0, b'480', 'Sleep stage 2'], [30930.0, b'480', 'Sleep stage R'], [31410.0, b'30', 'Sleep stage W'], [31440.0, b'30', 'Sleep stage 1'], [31470.0, b'30', 'Sleep stage 2'], [31500.0, b'660', 'Sleep stage R'], [32160.0, b'780', 'Sleep stage 2'], [32940.0, b'60', 'Sleep stage 3'], [33000.0, b'30', 'Sleep stage 2'], [33030.0, b'90', 'Sleep stage 3'], [33120.0, b'60', 'Sleep stage 4'], [33180.0, b'60', 'Sleep stage W'], [33240.0, b'30', 'Sleep stage 1'], [33270.0, b'300', 'Sleep stage 2'], [33570.0, b'30', 'Sleep stage 3'], [33600.0, b'30', 'Sleep stage 2'], [33630.0, b'30', 'Sleep stage 4'], [33660.0, b'30', 'Sleep stage 3'], [33690.0, b'30', 'Sleep stage 4'], [33720.0, b'390', 'Sleep stage 2'], [34110.0, b'60', 'Sleep stage 3'], [34170.0, b'30', 'Sleep stage 4'], [34200.0, b'30', 'Sleep stage 3'], [34230.0, b'390', 'Sleep stage 4'], [34620.0, b'30', 'Sleep stage 3'], [34650.0, b'30', 'Sleep stage 2'], [34680.0, b'30', 'Sleep stage W'], [34710.0, b'840', 'Sleep stage 2'], [35550.0, b'30', 'Sleep stage 3'], [35580.0, b'90', 'Sleep stage 2'], [35670.0, b'30', 'Sleep stage 3'], [35700.0, b'750', 'Sleep stage 2'], [36450.0, b'60', 'Sleep stage 3'], [36510.0, b'30', 'Sleep stage 2'], [36540.0, b'60', 'Sleep stage 3'], [36600.0, b'120', 'Sleep stage 2'], [36720.0, b'90', 'Sleep stage 3'], [36810.0, b'450', 'Sleep stage 2'], [37260.0, b'150', 'Sleep stage 3'], [37410.0, b'30', 'Sleep stage 2'], [37440.0, b'30', 'Sleep stage W'], [37470.0, b'30', 'Sleep stage 1'], [37500.0, b'300', 'Sleep stage 2'], [37800.0, b'2040', 'Sleep stage R'], [39840.0, b'270', 'Sleep stage 2'], [40110.0, b'30', 'Sleep stage 1'], [40140.0, b'870', 'Sleep stage 2'], [41010.0, b'90', 'Sleep stage 3'], [41100.0, b'90', 'Sleep stage 4'], [41190.0, b'60', 'Sleep stage 3'], [41250.0, b'30', 'Sleep stage 4'], [41280.0, b'30', 'Sleep stage 3'], [41310.0, b'30', 'Sleep stage 4'], [41340.0, b'60', 'Sleep stage 3'], [41400.0, b'120', 'Sleep stage 4'], [41520.0, b'30', 'Sleep stage 3'], [41550.0, b'30', 'Sleep stage 4'], [41580.0, b'210', 'Sleep stage 3'], [41790.0, b'210', 'Sleep stage 4'], [42000.0, b'30', 'Sleep stage 3'], [42030.0, b'1020', 'Sleep stage 2'], [43050.0, b'90', 'Sleep stage 1'], [43140.0, b'300', 'Sleep stage 2'], [43440.0, b'330', 'Sleep stage R'], [43770.0, b'30', 'Sleep stage W'], [43800.0, b'30', 'Sleep stage 1'], [43830.0, b'420', 'Sleep stage R'], [44250.0, b'30', 'Sleep stage W'], [44280.0, b'60', 'Sleep stage 1'], [44340.0, b'480', 'Sleep stage R'], [44820.0, b'240', 'Sleep stage 2'], [45060.0, b'600', 'Sleep stage R'], [45660.0, b'1380', 'Sleep stage 2'], [47040.0, b'30', 'Sleep stage 3'], [47070.0, b'180', 'Sleep stage 2'], [47250.0, b'30', 'Sleep stage 3'], [47280.0, b'450', 'Sleep stage 2'], [47730.0, b'30', 'Sleep stage 1'], [47760.0, b'450', 'Sleep stage 2'], [48210.0, b'30', 'Sleep stage 1'], [48240.0, b'90', 'Sleep stage W'], [48330.0, b'210', 'Sleep stage 1'], [48540.0, b'240', 'Sleep stage 2'], [48780.0, b'90', 'Sleep stage 1'], [48870.0, b'240', 'Sleep stage 2'], [49110.0, b'30', 'Sleep stage R'], [49140.0, b'30', 'Sleep stage 1'], [49170.0, b'30', 'Sleep stage 2'], [49200.0, b'90', 'Sleep stage R'], [49290.0, b'60', 'Sleep stage 1'], [49350.0, b'30', 'Sleep stage W'], [49380.0, b'60', 'Sleep stage 1'], [49440.0, b'210', 'Sleep stage 2'], [49650.0, b'30', 'Sleep stage W'], [49680.0, b'60', 'Sleep stage 1'], [49740.0, b'210', 'Sleep stage 2'], [49950.0, b'390', 'Sleep stage R'], [50340.0, b'60', 'Sleep stage W'], [50400.0, b'60', 'Sleep stage 1'], [50460.0, b'390', 'Sleep stage R'], [50850.0, b'60', 'Sleep stage 1'], [50910.0, b'60', 'Sleep stage R'], [50970.0, b'60', 'Sleep stage W'], [51030.0, b'60', 'Sleep stage 1'], [51090.0, b'270', 'Sleep stage 2'], [51360.0, b'30600', 'Sleep stage W'], [81960.0, b'4440', 'Sleep stage ?']]}\n"
          ],
          "name": "stdout"
        },
        {
          "output_type": "stream",
          "text": [
            "Reading Channels: 100%|██████████| 7/7 [00:05<00:00,  1.21it/s]\n"
          ],
          "name": "stderr"
        },
        {
          "output_type": "stream",
          "text": [
            "SC4032E0-PSG.edf file's signal & annotations start time is same\n"
          ],
          "name": "stdout"
        },
        {
          "output_type": "stream",
          "text": [
            "Reading Channels: 0it [00:00, ?it/s]\n",
            "Reading Channels:   0%|          | 0/7 [00:00<?, ?it/s]"
          ],
          "name": "stderr"
        },
        {
          "output_type": "stream",
          "text": [
            "SC4192E0-PSG.edf SC4192EV-Hypnogram.edf\n",
            "{'technician': '', 'recording_additional': '', 'patientname': 'Male 28yr', 'patient_additional': '', 'patientcode': '', 'equipment': '', 'admincode': '', 'gender': 'Male', 'startdate': datetime.datetime(1989, 7, 20, 15, 55), 'birthdate': '', 'annotations': [[0.0, b'39300', 'Sleep stage W'], [39300.0, b'330', 'Sleep stage 1'], [39630.0, b'450', 'Sleep stage W'], [40080.0, b'60', 'Sleep stage 1'], [40140.0, b'90', 'Sleep stage W'], [40230.0, b'120', 'Sleep stage 1'], [40350.0, b'180', 'Sleep stage W'], [40530.0, b'30', 'Sleep stage 1'], [40560.0, b'60', 'Sleep stage W'], [40620.0, b'30', 'Sleep stage 1'], [40650.0, b'1620', 'Sleep stage W'], [42270.0, b'90', 'Sleep stage 1'], [42360.0, b'420', 'Sleep stage W'], [42780.0, b'90', 'Sleep stage 1'], [42870.0, b'390', 'Sleep stage W'], [43260.0, b'90', 'Sleep stage 1'], [43350.0, b'120', 'Sleep stage W'], [43470.0, b'60', 'Sleep stage 1'], [43530.0, b'180', 'Sleep stage W'], [43710.0, b'30', 'Sleep stage 1'], [43740.0, b'30', 'Sleep stage W'], [43770.0, b'450', 'Sleep stage 1'], [44220.0, b'960', 'Sleep stage 2'], [45180.0, b'90', 'Sleep stage 3'], [45270.0, b'30', 'Sleep stage 2'], [45300.0, b'30', 'Sleep stage 3'], [45330.0, b'90', 'Sleep stage 2'], [45420.0, b'30', 'Sleep stage 3'], [45450.0, b'60', 'Sleep stage 2'], [45510.0, b'30', 'Sleep stage 3'], [45540.0, b'60', 'Sleep stage 2'], [45600.0, b'480', 'Sleep stage 3'], [46080.0, b'30', 'Sleep stage 2'], [46110.0, b'30', 'Sleep stage 3'], [46140.0, b'30', 'Sleep stage 4'], [46170.0, b'30', 'Sleep stage 3'], [46200.0, b'60', 'Sleep stage 2'], [46260.0, b'180', 'Sleep stage 3'], [46440.0, b'30', 'Sleep stage 2'], [46470.0, b'540', 'Sleep stage 3'], [47010.0, b'30', 'Sleep stage 2'], [47040.0, b'90', 'Sleep stage W'], [47130.0, b'30', 'Sleep stage 2'], [47160.0, b'60', 'Sleep stage W'], [47220.0, b'30', 'Sleep stage 1'], [47250.0, b'360', 'Sleep stage 2'], [47610.0, b'660', 'Sleep stage W'], [48270.0, b'780', 'Sleep stage R'], [49050.0, b'60', 'Sleep stage W'], [49110.0, b'180', 'Sleep stage R'], [49290.0, b'60', 'Sleep stage 2'], [49350.0, b'90', 'Sleep stage R'], [49440.0, b'630', 'Sleep stage 2'], [50070.0, b'90', 'Sleep stage W'], [50160.0, b'300', 'Sleep stage 2'], [50460.0, b'180', 'Sleep stage W'], [50640.0, b'30', 'Sleep stage 1'], [50670.0, b'1560', 'Sleep stage 2'], [52230.0, b'30', 'Sleep stage W'], [52260.0, b'60', 'Sleep stage 2'], [52320.0, b'60', 'Sleep stage W'], [52380.0, b'1860', 'Sleep stage R'], [54240.0, b'990', 'Sleep stage W'], [55230.0, b'90', 'Sleep stage 1'], [55320.0, b'420', 'Sleep stage W'], [55740.0, b'120', 'Sleep stage 1'], [55860.0, b'330', 'Sleep stage W'], [56190.0, b'990', 'Sleep stage R'], [57180.0, b'1680', 'Sleep stage 2'], [58860.0, b'30', 'Sleep stage 3'], [58890.0, b'330', 'Sleep stage 2'], [59220.0, b'30', 'Sleep stage 3'], [59250.0, b'240', 'Sleep stage 2'], [59490.0, b'60', 'Sleep stage 3'], [59550.0, b'30', 'Sleep stage 2'], [59580.0, b'60', 'Sleep stage 3'], [59640.0, b'30', 'Sleep stage 2'], [59670.0, b'30', 'Sleep stage 3'], [59700.0, b'210', 'Sleep stage 2'], [59910.0, b'90', 'Sleep stage 3'], [60000.0, b'240', 'Sleep stage 2'], [60240.0, b'30', 'Sleep stage W'], [60270.0, b'30', 'Sleep stage 1'], [60300.0, b'120', 'Sleep stage 2'], [60420.0, b'1200', 'Sleep stage R'], [61620.0, b'270', 'Sleep stage W'], [61890.0, b'60', 'Sleep stage 1'], [61950.0, b'30', 'Sleep stage R'], [61980.0, b'60', 'Movement time'], [62040.0, b'120', 'Sleep stage R'], [62160.0, b'300', 'Sleep stage 2'], [62460.0, b'30', 'Movement time'], [62490.0, b'540', 'Sleep stage 2'], [63030.0, b'30', 'Sleep stage W'], [63060.0, b'1050', 'Sleep stage 2'], [64110.0, b'30', 'Sleep stage W'], [64140.0, b'390', 'Sleep stage 2'], [64530.0, b'30', 'Sleep stage W'], [64560.0, b'780', 'Sleep stage 2'], [65340.0, b'30', 'Movement time'], [65370.0, b'60', 'Sleep stage 2'], [65430.0, b'1860', 'Sleep stage R'], [67290.0, b'180', 'Sleep stage W'], [67470.0, b'30', 'Sleep stage 1'], [67500.0, b'150', 'Sleep stage W'], [67650.0, b'30', 'Sleep stage 1'], [67680.0, b'30', 'Sleep stage W'], [67710.0, b'90', 'Sleep stage 1'], [67800.0, b'90', 'Sleep stage 2'], [67890.0, b'120', 'Sleep stage 1'], [68010.0, b'1980', 'Sleep stage 2'], [69990.0, b'30', 'Sleep stage 3'], [70020.0, b'180', 'Sleep stage W'], [70200.0, b'60', 'Sleep stage 1'], [70260.0, b'150', 'Sleep stage 2'], [70410.0, b'30', 'Sleep stage W'], [70440.0, b'60', 'Sleep stage 1'], [70500.0, b'60', 'Sleep stage 2'], [70560.0, b'210', 'Sleep stage W'], [70770.0, b'30', 'Sleep stage 1'], [70800.0, b'330', 'Sleep stage 2'], [71130.0, b'1680', 'Sleep stage R'], [72810.0, b'30', 'Movement time'], [72840.0, b'240', 'Sleep stage R'], [73080.0, b'60', 'Sleep stage 2'], [73140.0, b'930', 'Sleep stage R'], [74070.0, b'4230', 'Sleep stage W'], [78300.0, b'8100', 'Sleep stage ?']]}\n"
          ],
          "name": "stdout"
        },
        {
          "output_type": "stream",
          "text": [
            "Reading Channels: 100%|██████████| 7/7 [00:01<00:00,  6.62it/s]\n"
          ],
          "name": "stderr"
        },
        {
          "output_type": "stream",
          "text": [
            "SC4192E0-PSG.edf file's signal & annotations start time is same\n"
          ],
          "name": "stdout"
        },
        {
          "output_type": "stream",
          "text": [
            "Reading Channels: 0it [00:00, ?it/s]\n",
            "Reading Channels:   0%|          | 0/7 [00:00<?, ?it/s]"
          ],
          "name": "stderr"
        },
        {
          "output_type": "stream",
          "text": [
            "SC4052E0-PSG.edf SC4052EC-Hypnogram.edf\n",
            "{'technician': '', 'recording_additional': '', 'patientname': 'Female 28yr', 'patient_additional': '', 'patientcode': '', 'equipment': '', 'admincode': '', 'gender': 'Female', 'startdate': datetime.datetime(1989, 4, 27, 15, 42), 'birthdate': '', 'annotations': [[0.0, b'32430', 'Sleep stage W'], [32430.0, b'300', 'Sleep stage 1'], [32730.0, b'570', 'Sleep stage 2'], [33300.0, b'30', 'Sleep stage W'], [33330.0, b'30', 'Sleep stage 1'], [33360.0, b'90', 'Sleep stage W'], [33450.0, b'60', 'Sleep stage 1'], [33510.0, b'510', 'Sleep stage 2'], [34020.0, b'30', 'Sleep stage 3'], [34050.0, b'210', 'Sleep stage 2'], [34260.0, b'30', 'Sleep stage 3'], [34290.0, b'390', 'Sleep stage 2'], [34680.0, b'60', 'Sleep stage 3'], [34740.0, b'60', 'Sleep stage 2'], [34800.0, b'240', 'Sleep stage 3'], [35040.0, b'60', 'Sleep stage 4'], [35100.0, b'510', 'Sleep stage 3'], [35610.0, b'30', 'Movement time'], [35640.0, b'390', 'Sleep stage 2'], [36030.0, b'840', 'Sleep stage R'], [36870.0, b'30', 'Sleep stage W'], [36900.0, b'30', 'Sleep stage 1'], [36930.0, b'870', 'Sleep stage 2'], [37800.0, b'30', 'Sleep stage 3'], [37830.0, b'90', 'Sleep stage 2'], [37920.0, b'870', 'Sleep stage 3'], [38790.0, b'60', 'Sleep stage 4'], [38850.0, b'360', 'Sleep stage 3'], [39210.0, b'30', 'Sleep stage 4'], [39240.0, b'30', 'Sleep stage 3'], [39270.0, b'30', 'Sleep stage 4'], [39300.0, b'360', 'Sleep stage 3'], [39660.0, b'30', 'Sleep stage 4'], [39690.0, b'90', 'Sleep stage 3'], [39780.0, b'30', 'Sleep stage 4'], [39810.0, b'510', 'Sleep stage 3'], [40320.0, b'120', 'Sleep stage W'], [40440.0, b'60', 'Sleep stage 1'], [40500.0, b'690', 'Sleep stage 2'], [41190.0, b'30', 'Movement time'], [41220.0, b'240', 'Sleep stage 2'], [41460.0, b'60', 'Sleep stage 1'], [41520.0, b'60', 'Sleep stage 2'], [41580.0, b'180', 'Sleep stage R'], [41760.0, b'60', 'Sleep stage W'], [41820.0, b'420', 'Sleep stage R'], [42240.0, b'30', 'Sleep stage W'], [42270.0, b'360', 'Sleep stage R'], [42630.0, b'90', 'Sleep stage W'], [42720.0, b'60', 'Sleep stage 1'], [42780.0, b'2130', 'Sleep stage 2'], [44910.0, b'60', 'Sleep stage W'], [44970.0, b'90', 'Sleep stage 2'], [45060.0, b'30', 'Sleep stage 1'], [45090.0, b'840', 'Sleep stage 2'], [45930.0, b'30', 'Sleep stage W'], [45960.0, b'30', 'Sleep stage 1'], [45990.0, b'30', 'Sleep stage 2'], [46020.0, b'30', 'Sleep stage 1'], [46050.0, b'210', 'Sleep stage 2'], [46260.0, b'30', 'Sleep stage 1'], [46290.0, b'30', 'Sleep stage W'], [46320.0, b'30', 'Sleep stage 2'], [46350.0, b'30', 'Sleep stage 1'], [46380.0, b'810', 'Sleep stage 2'], [47190.0, b'30', 'Sleep stage W'], [47220.0, b'30', 'Sleep stage 1'], [47250.0, b'1290', 'Sleep stage 2'], [48540.0, b'120', 'Sleep stage W'], [48660.0, b'120', 'Sleep stage 1'], [48780.0, b'360', 'Sleep stage R'], [49140.0, b'120', 'Sleep stage W'], [49260.0, b'90', 'Sleep stage 1'], [49350.0, b'30', 'Sleep stage W'], [49380.0, b'60', 'Sleep stage 1'], [49440.0, b'60', 'Sleep stage W'], [49500.0, b'30', 'Sleep stage 1'], [49530.0, b'90', 'Sleep stage W'], [49620.0, b'90', 'Sleep stage 1'], [49710.0, b'30', 'Sleep stage W'], [49740.0, b'30', 'Sleep stage 1'], [49770.0, b'30', 'Sleep stage 2'], [49800.0, b'30', 'Sleep stage W'], [49830.0, b'90', 'Sleep stage 1'], [49920.0, b'330', 'Sleep stage 2'], [50250.0, b'60', 'Sleep stage 1'], [50310.0, b'300', 'Sleep stage 2'], [50610.0, b'30', 'Sleep stage 1'], [50640.0, b'210', 'Sleep stage 2'], [50850.0, b'30', 'Sleep stage 1'], [50880.0, b'2130', 'Sleep stage 2'], [53010.0, b'30', 'Sleep stage 3'], [53040.0, b'300', 'Sleep stage 2'], [53340.0, b'30', 'Sleep stage 3'], [53370.0, b'450', 'Sleep stage 2'], [53820.0, b'60', 'Sleep stage 1'], [53880.0, b'30', 'Sleep stage 2'], [53910.0, b'60', 'Sleep stage 1'], [53970.0, b'390', 'Sleep stage R'], [54360.0, b'30', 'Sleep stage 1'], [54390.0, b'810', 'Sleep stage R'], [55200.0, b'30', 'Sleep stage W'], [55230.0, b'240', 'Sleep stage 1'], [55470.0, b'390', 'Sleep stage R'], [55860.0, b'30', 'Sleep stage 1'], [55890.0, b'330', 'Sleep stage R'], [56220.0, b'30', 'Sleep stage 1'], [56250.0, b'120', 'Sleep stage W'], [56370.0, b'120', 'Sleep stage 1'], [56490.0, b'60', 'Sleep stage W'], [56550.0, b'30', 'Sleep stage 1'], [56580.0, b'90', 'Sleep stage W'], [56670.0, b'90', 'Sleep stage 1'], [56760.0, b'930', 'Sleep stage W'], [57690.0, b'60', 'Sleep stage 1'], [57750.0, b'90', 'Sleep stage W'], [57840.0, b'30', 'Sleep stage 1'], [57870.0, b'570', 'Sleep stage W'], [58440.0, b'480', 'Sleep stage 1'], [58920.0, b'2640', 'Sleep stage 2'], [61560.0, b'90', 'Sleep stage 1'], [61650.0, b'30', 'Sleep stage W'], [61680.0, b'60', 'Sleep stage 1'], [61740.0, b'210', 'Sleep stage 2'], [61950.0, b'780', 'Sleep stage R'], [62730.0, b'30', 'Sleep stage 1'], [62760.0, b'330', 'Sleep stage R'], [63090.0, b'420', 'Sleep stage 1'], [63510.0, b'150', 'Sleep stage 2'], [63660.0, b'210', 'Sleep stage R'], [63870.0, b'60', 'Sleep stage 1'], [63930.0, b'2100', 'Sleep stage 2'], [66030.0, b'30', 'Sleep stage 1'], [66060.0, b'90', 'Sleep stage 2'], [66150.0, b'30', 'Sleep stage 1'], [66180.0, b'60', 'Sleep stage W'], [66240.0, b'30', 'Sleep stage 1'], [66270.0, b'17910', 'Sleep stage W'], [84180.0, b'2220', 'Sleep stage ?']]}\n"
          ],
          "name": "stdout"
        },
        {
          "output_type": "stream",
          "text": [
            "Reading Channels: 100%|██████████| 7/7 [00:02<00:00,  3.35it/s]\n"
          ],
          "name": "stderr"
        },
        {
          "output_type": "stream",
          "text": [
            "SC4052E0-PSG.edf file's signal & annotations start time is same\n"
          ],
          "name": "stdout"
        },
        {
          "output_type": "stream",
          "text": [
            "Reading Channels: 0it [00:00, ?it/s]\n",
            "Reading Channels:   0%|          | 0/7 [00:00<?, ?it/s]"
          ],
          "name": "stderr"
        },
        {
          "output_type": "stream",
          "text": [
            "SC4162E0-PSG.edf SC4162EC-Hypnogram.edf\n",
            "{'technician': '', 'recording_additional': '', 'patientname': 'Male 32yr', 'patient_additional': '', 'patientcode': '', 'equipment': '', 'admincode': '', 'gender': 'Male', 'startdate': datetime.datetime(1989, 7, 11, 14, 54), 'birthdate': '', 'annotations': [[0.0, b'31500', 'Sleep stage W'], [31500.0, b'60', 'Sleep stage 1'], [31560.0, b'1290', 'Sleep stage W'], [32850.0, b'120', 'Sleep stage 1'], [32970.0, b'60', 'Sleep stage 2'], [33030.0, b'60', 'Sleep stage 1'], [33090.0, b'30', 'Sleep stage 2'], [33120.0, b'30', 'Sleep stage 1'], [33150.0, b'210', 'Sleep stage W'], [33360.0, b'60', 'Sleep stage 1'], [33420.0, b'360', 'Sleep stage 2'], [33780.0, b'60', 'Sleep stage W'], [33840.0, b'30', 'Sleep stage 1'], [33870.0, b'30', 'Sleep stage 2'], [33900.0, b'30', 'Sleep stage W'], [33930.0, b'60', 'Sleep stage 1'], [33990.0, b'420', 'Sleep stage 2'], [34410.0, b'30', 'Sleep stage 3'], [34440.0, b'60', 'Sleep stage 2'], [34500.0, b'60', 'Sleep stage 3'], [34560.0, b'180', 'Sleep stage 4'], [34740.0, b'60', 'Sleep stage 3'], [34800.0, b'60', 'Sleep stage 4'], [34860.0, b'30', 'Sleep stage 2'], [34890.0, b'90', 'Sleep stage 3'], [34980.0, b'60', 'Sleep stage 4'], [35040.0, b'30', 'Sleep stage 3'], [35070.0, b'60', 'Sleep stage 4'], [35130.0, b'30', 'Sleep stage 3'], [35160.0, b'30', 'Sleep stage 4'], [35190.0, b'30', 'Sleep stage 3'], [35220.0, b'30', 'Sleep stage 4'], [35250.0, b'60', 'Sleep stage 3'], [35310.0, b'30', 'Sleep stage 4'], [35340.0, b'30', 'Sleep stage 3'], [35370.0, b'150', 'Sleep stage 4'], [35520.0, b'60', 'Sleep stage 3'], [35580.0, b'150', 'Sleep stage 4'], [35730.0, b'300', 'Sleep stage 3'], [36030.0, b'60', 'Sleep stage 2'], [36090.0, b'60', 'Sleep stage 1'], [36150.0, b'510', 'Sleep stage 2'], [36660.0, b'750', 'Sleep stage R'], [37410.0, b'720', 'Sleep stage 2'], [38130.0, b'30', 'Sleep stage 3'], [38160.0, b'30', 'Sleep stage 2'], [38190.0, b'60', 'Sleep stage 3'], [38250.0, b'30', 'Sleep stage 2'], [38280.0, b'30', 'Movement time'], [38310.0, b'210', 'Sleep stage 2'], [38520.0, b'60', 'Sleep stage 3'], [38580.0, b'30', 'Sleep stage 2'], [38610.0, b'210', 'Sleep stage 3'], [38820.0, b'270', 'Sleep stage 2'], [39090.0, b'210', 'Sleep stage 3'], [39300.0, b'30', 'Sleep stage 4'], [39330.0, b'90', 'Sleep stage 3'], [39420.0, b'60', 'Sleep stage 4'], [39480.0, b'30', 'Sleep stage 3'], [39510.0, b'30', 'Sleep stage 4'], [39540.0, b'30', 'Sleep stage 3'], [39570.0, b'60', 'Sleep stage 2'], [39630.0, b'30', 'Sleep stage 3'], [39660.0, b'30', 'Sleep stage 2'], [39690.0, b'30', 'Sleep stage 3'], [39720.0, b'30', 'Movement time'], [39750.0, b'600', 'Sleep stage 2'], [40350.0, b'60', 'Sleep stage 3'], [40410.0, b'30', 'Sleep stage 4'], [40440.0, b'30', 'Sleep stage 3'], [40470.0, b'150', 'Sleep stage 2'], [40620.0, b'150', 'Sleep stage 3'], [40770.0, b'30', 'Sleep stage 2'], [40800.0, b'30', 'Sleep stage 3'], [40830.0, b'60', 'Sleep stage 2'], [40890.0, b'30', 'Sleep stage 3'], [40920.0, b'60', 'Sleep stage 2'], [40980.0, b'90', 'Sleep stage 3'], [41070.0, b'420', 'Sleep stage 2'], [41490.0, b'1380', 'Sleep stage R'], [42870.0, b'120', 'Sleep stage 2'], [42990.0, b'30', 'Sleep stage R'], [43020.0, b'1350', 'Sleep stage 2'], [44370.0, b'60', 'Sleep stage 3'], [44430.0, b'30', 'Sleep stage 2'], [44460.0, b'60', 'Sleep stage 3'], [44520.0, b'240', 'Sleep stage 2'], [44760.0, b'30', 'Sleep stage 3'], [44790.0, b'240', 'Sleep stage 2'], [45030.0, b'330', 'Sleep stage 3'], [45360.0, b'30', 'Sleep stage 2'], [45390.0, b'30', 'Sleep stage 3'], [45420.0, b'1020', 'Sleep stage 2'], [46440.0, b'570', 'Sleep stage R'], [47010.0, b'690', 'Sleep stage 2'], [47700.0, b'360', 'Sleep stage 1'], [48060.0, b'360', 'Sleep stage 2'], [48420.0, b'60', 'Sleep stage W'], [48480.0, b'60', 'Sleep stage 1'], [48540.0, b'1110', 'Sleep stage 2'], [49650.0, b'30', 'Sleep stage 3'], [49680.0, b'240', 'Sleep stage 2'], [49920.0, b'30', 'Sleep stage 3'], [49950.0, b'150', 'Sleep stage 2'], [50100.0, b'30', 'Sleep stage 3'], [50130.0, b'240', 'Sleep stage 2'], [50370.0, b'30', 'Sleep stage 3'], [50400.0, b'90', 'Sleep stage 2'], [50490.0, b'90', 'Sleep stage 3'], [50580.0, b'30', 'Sleep stage 2'], [50610.0, b'30', 'Sleep stage 3'], [50640.0, b'30', 'Sleep stage 4'], [50670.0, b'30', 'Sleep stage 3'], [50700.0, b'330', 'Sleep stage 2'], [51030.0, b'2790', 'Sleep stage R'], [53820.0, b'2160', 'Sleep stage 2'], [55980.0, b'120', 'Sleep stage 3'], [56100.0, b'60', 'Sleep stage 2'], [56160.0, b'30', 'Sleep stage 3'], [56190.0, b'60', 'Sleep stage 2'], [56250.0, b'30', 'Sleep stage 3'], [56280.0, b'270', 'Sleep stage 2'], [56550.0, b'120', 'Sleep stage W'], [56670.0, b'120', 'Sleep stage 1'], [56790.0, b'240', 'Sleep stage 2'], [57030.0, b'330', 'Sleep stage R'], [57360.0, b'30', 'Sleep stage 1'], [57390.0, b'60', 'Sleep stage 2'], [57450.0, b'90', 'Sleep stage 1'], [57540.0, b'240', 'Sleep stage 2'], [57780.0, b'90', 'Sleep stage 1'], [57870.0, b'150', 'Sleep stage 2'], [58020.0, b'30', 'Sleep stage 1'], [58050.0, b'24510', 'Sleep stage W'], [82560.0, b'3840', 'Sleep stage ?']]}\n"
          ],
          "name": "stdout"
        },
        {
          "output_type": "stream",
          "text": [
            "Reading Channels: 100%|██████████| 7/7 [00:01<00:00,  6.22it/s]\n"
          ],
          "name": "stderr"
        },
        {
          "output_type": "stream",
          "text": [
            "SC4162E0-PSG.edf file's signal & annotations start time is same\n"
          ],
          "name": "stdout"
        },
        {
          "output_type": "stream",
          "text": [
            "Reading Channels: 0it [00:00, ?it/s]"
          ],
          "name": "stderr"
        },
        {
          "output_type": "stream",
          "text": [
            "SC4061E0-PSG.edf SC4061EC-Hypnogram.edf\n",
            "{'technician': '', 'recording_additional': '', 'patientname': 'Female 31yr', 'patient_additional': '', 'patientcode': '', 'equipment': '', 'admincode': '', 'gender': 'Female', 'startdate': datetime.datetime(1989, 5, 8, 16, 35), 'birthdate': '', 'annotations': [[0.0, b'28050', 'Sleep stage W'], [28050.0, b'180', 'Sleep stage 1'], [28230.0, b'120', 'Sleep stage 2'], [28350.0, b'30', 'Sleep stage 1'], [28380.0, b'1320', 'Sleep stage 2'], [29700.0, b'60', 'Sleep stage W'], [29760.0, b'210', 'Sleep stage 1'], [29970.0, b'120', 'Sleep stage 2'], [30090.0, b'30', 'Sleep stage W'], [30120.0, b'90', 'Sleep stage 1'], [30210.0, b'60', 'Sleep stage W'], [30270.0, b'180', 'Sleep stage 1'], [30450.0, b'240', 'Sleep stage 2'], [30690.0, b'30', 'Sleep stage 1'], [30720.0, b'570', 'Sleep stage 2'], [31290.0, b'30', 'Sleep stage 3'], [31320.0, b'90', 'Sleep stage 2'], [31410.0, b'120', 'Sleep stage 3'], [31530.0, b'390', 'Sleep stage 4'], [31920.0, b'30', 'Sleep stage 3'], [31950.0, b'240', 'Sleep stage 4'], [32190.0, b'390', 'Sleep stage 2'], [32580.0, b'30', 'Sleep stage 3'], [32610.0, b'300', 'Sleep stage 4'], [32910.0, b'30', 'Sleep stage 3'], [32940.0, b'420', 'Sleep stage 2'], [33360.0, b'120', 'Sleep stage 1'], [33480.0, b'240', 'Sleep stage 2'], [33720.0, b'540', 'Sleep stage R'], [34260.0, b'870', 'Sleep stage 2'], [35130.0, b'150', 'Sleep stage 1'], [35280.0, b'750', 'Sleep stage 2'], [36030.0, b'30', 'Sleep stage 1'], [36060.0, b'420', 'Sleep stage 2'], [36480.0, b'30', 'Sleep stage 3'], [36510.0, b'390', 'Sleep stage 2'], [36900.0, b'30', 'Sleep stage 3'], [36930.0, b'120', 'Sleep stage 2'], [37050.0, b'180', 'Sleep stage 3'], [37230.0, b'2100', 'Sleep stage 4'], [39330.0, b'30', 'Sleep stage 1'], [39360.0, b'240', 'Sleep stage 2'], [39600.0, b'30', 'Sleep stage W'], [39630.0, b'30', 'Sleep stage 1'], [39660.0, b'390', 'Sleep stage 2'], [40050.0, b'870', 'Sleep stage R'], [40920.0, b'30', 'Sleep stage W'], [40950.0, b'1020', 'Sleep stage 2'], [41970.0, b'180', 'Sleep stage W'], [42150.0, b'180', 'Sleep stage 1'], [42330.0, b'330', 'Sleep stage 2'], [42660.0, b'150', 'Sleep stage W'], [42810.0, b'60', 'Sleep stage 1'], [42870.0, b'1800', 'Sleep stage 2'], [44670.0, b'480', 'Sleep stage 3'], [45150.0, b'150', 'Sleep stage 2'], [45300.0, b'30', 'Sleep stage 3'], [45330.0, b'30', 'Sleep stage 2'], [45360.0, b'60', 'Sleep stage 3'], [45420.0, b'540', 'Sleep stage 2'], [45960.0, b'900', 'Sleep stage R'], [46860.0, b'30', 'Sleep stage 1'], [46890.0, b'750', 'Sleep stage R'], [47640.0, b'30', 'Sleep stage W'], [47670.0, b'60', 'Sleep stage 1'], [47730.0, b'630', 'Sleep stage 2'], [48360.0, b'30', 'Sleep stage W'], [48390.0, b'270', 'Sleep stage 2'], [48660.0, b'30', 'Sleep stage W'], [48690.0, b'90', 'Sleep stage 1'], [48780.0, b'60', 'Sleep stage 2'], [48840.0, b'30', 'Sleep stage W'], [48870.0, b'120', 'Sleep stage 1'], [48990.0, b'210', 'Sleep stage 2'], [49200.0, b'60', 'Sleep stage 1'], [49260.0, b'480', 'Sleep stage 2'], [49740.0, b'33360', 'Sleep stage W'], [83100.0, b'3300', 'Sleep stage ?']]}\n"
          ],
          "name": "stdout"
        },
        {
          "output_type": "stream",
          "text": [
            "\n",
            "Reading Channels: 100%|██████████| 7/7 [00:02<00:00,  3.37it/s]\n"
          ],
          "name": "stderr"
        },
        {
          "output_type": "stream",
          "text": [
            "SC4061E0-PSG.edf file's signal & annotations start time is same\n"
          ],
          "name": "stdout"
        },
        {
          "output_type": "stream",
          "text": [
            "Reading Channels: 0it [00:00, ?it/s]\n",
            "Reading Channels:   0%|          | 0/7 [00:00<?, ?it/s]"
          ],
          "name": "stderr"
        },
        {
          "output_type": "stream",
          "text": [
            "SC4141E0-PSG.edf SC4141EU-Hypnogram.edf\n",
            "{'technician': '', 'recording_additional': '', 'patientname': 'Male 27yr', 'patient_additional': '', 'patientcode': '', 'equipment': '', 'admincode': '', 'gender': 'Male', 'startdate': datetime.datetime(1989, 6, 19, 16, 5), 'birthdate': '', 'annotations': [[0.0, b'25140', 'Sleep stage W'], [25140.0, b'90', 'Sleep stage 1'], [25230.0, b'30', 'Sleep stage W'], [25260.0, b'60', 'Sleep stage 1'], [25320.0, b'180', 'Sleep stage 2'], [25500.0, b'120', 'Sleep stage 1'], [25620.0, b'60', 'Sleep stage W'], [25680.0, b'120', 'Sleep stage 1'], [25800.0, b'60', 'Sleep stage 2'], [25860.0, b'30', 'Sleep stage 1'], [25890.0, b'930', 'Sleep stage 2'], [26820.0, b'300', 'Sleep stage 3'], [27120.0, b'30', 'Sleep stage 4'], [27150.0, b'60', 'Sleep stage 3'], [27210.0, b'60', 'Sleep stage 4'], [27270.0, b'180', 'Sleep stage 3'], [27450.0, b'30', 'Sleep stage 4'], [27480.0, b'30', 'Sleep stage 3'], [27510.0, b'30', 'Sleep stage 4'], [27540.0, b'30', 'Sleep stage 3'], [27570.0, b'60', 'Sleep stage 4'], [27630.0, b'30', 'Sleep stage 3'], [27660.0, b'60', 'Sleep stage 4'], [27720.0, b'30', 'Sleep stage 3'], [27750.0, b'420', 'Sleep stage 4'], [28170.0, b'30', 'Sleep stage 3'], [28200.0, b'60', 'Sleep stage 4'], [28260.0, b'120', 'Sleep stage 3'], [28380.0, b'30', 'Sleep stage 2'], [28410.0, b'30', 'Sleep stage 3'], [28440.0, b'60', 'Sleep stage 2'], [28500.0, b'30', 'Sleep stage 3'], [28530.0, b'450', 'Sleep stage 2'], [28980.0, b'240', 'Sleep stage R'], [29220.0, b'30', 'Sleep stage W'], [29250.0, b'300', 'Sleep stage R'], [29550.0, b'360', 'Sleep stage 2'], [29910.0, b'300', 'Sleep stage W'], [30210.0, b'60', 'Sleep stage 1'], [30270.0, b'570', 'Sleep stage 2'], [30840.0, b'30', 'Sleep stage 1'], [30870.0, b'210', 'Sleep stage 2'], [31080.0, b'150', 'Sleep stage W'], [31230.0, b'30', 'Sleep stage 1'], [31260.0, b'390', 'Sleep stage 2'], [31650.0, b'210', 'Sleep stage W'], [31860.0, b'30', 'Sleep stage 1'], [31890.0, b'720', 'Sleep stage 2'], [32610.0, b'30', 'Sleep stage 3'], [32640.0, b'90', 'Sleep stage 2'], [32730.0, b'30', 'Sleep stage 3'], [32760.0, b'30', 'Sleep stage 2'], [32790.0, b'90', 'Sleep stage 3'], [32880.0, b'60', 'Sleep stage 2'], [32940.0, b'60', 'Sleep stage 3'], [33000.0, b'30', 'Sleep stage W'], [33030.0, b'30', 'Sleep stage 3'], [33060.0, b'90', 'Sleep stage 2'], [33150.0, b'300', 'Sleep stage 3'], [33450.0, b'120', 'Sleep stage 4'], [33570.0, b'30', 'Sleep stage 3'], [33600.0, b'90', 'Sleep stage 4'], [33690.0, b'30', 'Sleep stage 3'], [33720.0, b'30', 'Sleep stage 4'], [33750.0, b'30', 'Sleep stage 3'], [33780.0, b'90', 'Sleep stage 4'], [33870.0, b'60', 'Sleep stage 3'], [33930.0, b'390', 'Sleep stage 4'], [34320.0, b'30', 'Sleep stage 3'], [34350.0, b'30', 'Sleep stage 4'], [34380.0, b'30', 'Sleep stage 3'], [34410.0, b'240', 'Sleep stage 4'], [34650.0, b'60', 'Sleep stage 3'], [34710.0, b'30', 'Sleep stage 2'], [34740.0, b'2070', 'Sleep stage R'], [36810.0, b'60', 'Sleep stage W'], [36870.0, b'630', 'Sleep stage 2'], [37500.0, b'90', 'Sleep stage 1'], [37590.0, b'360', 'Sleep stage 2'], [37950.0, b'60', 'Sleep stage W'], [38010.0, b'30', 'Sleep stage 1'], [38040.0, b'630', 'Sleep stage 2'], [38670.0, b'60', 'Sleep stage W'], [38730.0, b'570', 'Sleep stage 2'], [39300.0, b'210', 'Sleep stage W'], [39510.0, b'1140', 'Sleep stage 2'], [40650.0, b'120', 'Sleep stage W'], [40770.0, b'30', 'Sleep stage 1'], [40800.0, b'120', 'Sleep stage 2'], [40920.0, b'180', 'Sleep stage W'], [41100.0, b'30', 'Sleep stage 1'], [41130.0, b'60', 'Sleep stage W'], [41190.0, b'90', 'Sleep stage 2'], [41280.0, b'780', 'Sleep stage R'], [42060.0, b'30', 'Sleep stage W'], [42090.0, b'1830', 'Sleep stage R'], [43920.0, b'2010', 'Sleep stage 2'], [45930.0, b'60', 'Sleep stage 3'], [45990.0, b'30', 'Sleep stage 2'], [46020.0, b'60', 'Sleep stage 3'], [46080.0, b'30', 'Sleep stage 2'], [46110.0, b'120', 'Sleep stage 3'], [46230.0, b'30', 'Sleep stage 2'], [46260.0, b'90', 'Sleep stage 3'], [46350.0, b'30', 'Sleep stage 4'], [46380.0, b'60', 'Sleep stage 3'], [46440.0, b'30', 'Sleep stage 4'], [46470.0, b'570', 'Sleep stage 3'], [47040.0, b'90', 'Sleep stage 4'], [47130.0, b'30', 'Sleep stage W'], [47160.0, b'30', 'Sleep stage 1'], [47190.0, b'420', 'Sleep stage 2'], [47610.0, b'30', 'Sleep stage R'], [47640.0, b'60', 'Sleep stage W'], [47700.0, b'1740', 'Sleep stage R'], [49440.0, b'810', 'Sleep stage 2'], [50250.0, b'60', 'Sleep stage 1'], [50310.0, b'990', 'Sleep stage 2'], [51300.0, b'330', 'Sleep stage W'], [51630.0, b'30', 'Sleep stage 1'], [51660.0, b'31020', 'Sleep stage W'], [82680.0, b'3720', 'Sleep stage ?']]}\n"
          ],
          "name": "stdout"
        },
        {
          "output_type": "stream",
          "text": [
            "Reading Channels: 100%|██████████| 7/7 [00:02<00:00,  3.43it/s]\n"
          ],
          "name": "stderr"
        },
        {
          "output_type": "stream",
          "text": [
            "SC4141E0-PSG.edf file's signal & annotations start time is same\n",
            "SC4051E0-PSG.edf SC4051EC-Hypnogram.edf\n"
          ],
          "name": "stdout"
        },
        {
          "output_type": "stream",
          "text": [
            "Reading Channels: 0it [00:00, ?it/s]\n",
            "Reading Channels:   0%|          | 0/7 [00:00<?, ?it/s]"
          ],
          "name": "stderr"
        },
        {
          "output_type": "stream",
          "text": [
            "{'technician': '', 'recording_additional': '', 'patientname': 'Female 28yr', 'patient_additional': '', 'patientcode': '', 'equipment': '', 'admincode': '', 'gender': 'Female', 'startdate': datetime.datetime(1989, 4, 26, 16, 25), 'birthdate': '', 'annotations': [[0.0, b'38670', 'Sleep stage W'], [38670.0, b'180', 'Sleep stage 1'], [38850.0, b'900', 'Sleep stage 2'], [39750.0, b'30', 'Sleep stage 3'], [39780.0, b'30', 'Sleep stage 2'], [39810.0, b'60', 'Sleep stage 3'], [39870.0, b'60', 'Sleep stage 2'], [39930.0, b'30', 'Sleep stage 3'], [39960.0, b'30', 'Sleep stage 2'], [39990.0, b'30', 'Sleep stage 3'], [40020.0, b'90', 'Sleep stage 2'], [40110.0, b'150', 'Sleep stage 3'], [40260.0, b'30', 'Sleep stage 2'], [40290.0, b'60', 'Sleep stage 3'], [40350.0, b'30', 'Sleep stage 2'], [40380.0, b'30', 'Sleep stage 3'], [40410.0, b'30', 'Sleep stage 2'], [40440.0, b'60', 'Sleep stage 3'], [40500.0, b'30', 'Sleep stage 2'], [40530.0, b'90', 'Sleep stage 3'], [40620.0, b'30', 'Sleep stage 2'], [40650.0, b'180', 'Sleep stage 3'], [40830.0, b'60', 'Sleep stage 4'], [40890.0, b'210', 'Sleep stage 3'], [41100.0, b'30', 'Sleep stage 2'], [41130.0, b'30', 'Sleep stage 4'], [41160.0, b'60', 'Sleep stage 3'], [41220.0, b'30', 'Sleep stage 4'], [41250.0, b'180', 'Sleep stage 3'], [41430.0, b'30', 'Sleep stage 2'], [41460.0, b'90', 'Sleep stage 3'], [41550.0, b'150', 'Sleep stage 4'], [41700.0, b'60', 'Sleep stage 3'], [41760.0, b'30', 'Sleep stage 4'], [41790.0, b'30', 'Sleep stage 3'], [41820.0, b'30', 'Sleep stage 4'], [41850.0, b'90', 'Sleep stage 3'], [41940.0, b'60', 'Sleep stage 4'], [42000.0, b'30', 'Sleep stage 3'], [42030.0, b'30', 'Sleep stage 4'], [42060.0, b'30', 'Sleep stage 3'], [42090.0, b'60', 'Sleep stage 4'], [42150.0, b'180', 'Sleep stage 3'], [42330.0, b'60', 'Sleep stage 4'], [42390.0, b'270', 'Sleep stage 3'], [42660.0, b'210', 'Sleep stage 2'], [42870.0, b'60', 'Sleep stage W'], [42930.0, b'30', 'Sleep stage 1'], [42960.0, b'60', 'Sleep stage 2'], [43020.0, b'30', 'Sleep stage W'], [43050.0, b'30', 'Sleep stage 1'], [43080.0, b'210', 'Sleep stage 2'], [43290.0, b'30', 'Sleep stage W'], [43320.0, b'30', 'Sleep stage 1'], [43350.0, b'240', 'Sleep stage 2'], [43590.0, b'30', 'Sleep stage R'], [43620.0, b'90', 'Sleep stage 2'], [43710.0, b'1290', 'Sleep stage R'], [45000.0, b'210', 'Sleep stage 2'], [45210.0, b'30', 'Sleep stage 1'], [45240.0, b'510', 'Sleep stage 2'], [45750.0, b'1530', 'Sleep stage W'], [47280.0, b'180', 'Sleep stage 1'], [47460.0, b'60', 'Sleep stage W'], [47520.0, b'270', 'Sleep stage 1'], [47790.0, b'240', 'Sleep stage W'], [48030.0, b'30', 'Sleep stage 1'], [48060.0, b'60', 'Sleep stage W'], [48120.0, b'60', 'Sleep stage 1'], [48180.0, b'30', 'Sleep stage 2'], [48210.0, b'90', 'Sleep stage 1'], [48300.0, b'1020', 'Sleep stage 2'], [49320.0, b'30', 'Sleep stage 3'], [49350.0, b'150', 'Sleep stage 2'], [49500.0, b'30', 'Sleep stage 3'], [49530.0, b'150', 'Sleep stage 2'], [49680.0, b'30', 'Sleep stage 3'], [49710.0, b'60', 'Sleep stage 2'], [49770.0, b'30', 'Sleep stage 3'], [49800.0, b'60', 'Sleep stage 2'], [49860.0, b'30', 'Sleep stage 3'], [49890.0, b'60', 'Sleep stage 2'], [49950.0, b'30', 'Sleep stage 3'], [49980.0, b'60', 'Sleep stage 2'], [50040.0, b'30', 'Sleep stage 3'], [50070.0, b'60', 'Sleep stage 2'], [50130.0, b'120', 'Sleep stage 3'], [50250.0, b'60', 'Sleep stage 2'], [50310.0, b'30', 'Sleep stage 3'], [50340.0, b'30', 'Sleep stage 2'], [50370.0, b'60', 'Sleep stage 3'], [50430.0, b'60', 'Sleep stage 2'], [50490.0, b'60', 'Sleep stage 3'], [50550.0, b'30', 'Sleep stage 2'], [50580.0, b'90', 'Sleep stage 3'], [50670.0, b'30', 'Sleep stage 2'], [50700.0, b'30', 'Sleep stage 3'], [50730.0, b'30', 'Sleep stage 2'], [50760.0, b'180', 'Sleep stage 3'], [50940.0, b'30', 'Sleep stage 2'], [50970.0, b'210', 'Sleep stage 3'], [51180.0, b'30', 'Sleep stage 2'], [51210.0, b'270', 'Sleep stage 3'], [51480.0, b'30', 'Sleep stage 2'], [51510.0, b'30', 'Sleep stage 4'], [51540.0, b'240', 'Sleep stage 3'], [51780.0, b'30', 'Sleep stage 2'], [51810.0, b'30', 'Sleep stage 3'], [51840.0, b'150', 'Sleep stage 2'], [51990.0, b'720', 'Sleep stage R'], [52710.0, b'90', 'Sleep stage 1'], [52800.0, b'30', 'Sleep stage 2'], [52830.0, b'30', 'Sleep stage 1'], [52860.0, b'150', 'Sleep stage 2'], [53010.0, b'30', 'Sleep stage 1'], [53040.0, b'120', 'Sleep stage 2'], [53160.0, b'30', 'Sleep stage 1'], [53190.0, b'150', 'Sleep stage 2'], [53340.0, b'30', 'Sleep stage 1'], [53370.0, b'300', 'Sleep stage 2'], [53670.0, b'30', 'Sleep stage 1'], [53700.0, b'750', 'Sleep stage 2'], [54450.0, b'180', 'Sleep stage W'], [54630.0, b'30', 'Sleep stage 1'], [54660.0, b'150', 'Sleep stage W'], [54810.0, b'60', 'Sleep stage 1'], [54870.0, b'300', 'Sleep stage W'], [55170.0, b'60', 'Sleep stage 1'], [55230.0, b'26430', 'Sleep stage W'], [81660.0, b'4740', 'Sleep stage ?']]}\n"
          ],
          "name": "stdout"
        },
        {
          "output_type": "stream",
          "text": [
            "Reading Channels: 100%|██████████| 7/7 [00:02<00:00,  3.41it/s]\n"
          ],
          "name": "stderr"
        },
        {
          "output_type": "stream",
          "text": [
            "SC4051E0-PSG.edf file's signal & annotations start time is same\n",
            "SC4122E0-PSG.edf SC4122EV-Hypnogram.edf\n"
          ],
          "name": "stdout"
        },
        {
          "output_type": "stream",
          "text": [
            "Reading Channels: 0it [00:00, ?it/s]\n",
            "Reading Channels:   0%|          | 0/7 [00:00<?, ?it/s]"
          ],
          "name": "stderr"
        },
        {
          "output_type": "stream",
          "text": [
            "{'technician': '', 'recording_additional': '', 'patientname': 'Male 26yr', 'patient_additional': '', 'patientcode': '', 'equipment': '', 'admincode': '', 'gender': 'Male', 'startdate': datetime.datetime(1989, 5, 23, 16, 2), 'birthdate': '', 'annotations': [[0.0, b'33420', 'Sleep stage W'], [33420.0, b'330', 'Sleep stage 1'], [33750.0, b'990', 'Sleep stage 2'], [34740.0, b'90', 'Sleep stage W'], [34830.0, b'180', 'Sleep stage 1'], [35010.0, b'390', 'Sleep stage R'], [35400.0, b'390', 'Sleep stage 2'], [35790.0, b'60', 'Sleep stage W'], [35850.0, b'240', 'Sleep stage 1'], [36090.0, b'540', 'Sleep stage 2'], [36630.0, b'2520', 'Sleep stage W'], [39150.0, b'30', 'Sleep stage 1'], [39180.0, b'1410', 'Sleep stage W'], [40590.0, b'150', 'Sleep stage 1'], [40740.0, b'30', 'Sleep stage W'], [40770.0, b'30', 'Sleep stage 1'], [40800.0, b'30', 'Sleep stage W'], [40830.0, b'180', 'Sleep stage 1'], [41010.0, b'30', 'Sleep stage W'], [41040.0, b'210', 'Sleep stage 1'], [41250.0, b'630', 'Sleep stage 2'], [41880.0, b'30', 'Sleep stage 3'], [41910.0, b'30', 'Sleep stage 2'], [41940.0, b'60', 'Sleep stage 3'], [42000.0, b'30', 'Sleep stage 2'], [42030.0, b'150', 'Sleep stage 3'], [42180.0, b'60', 'Sleep stage 2'], [42240.0, b'120', 'Sleep stage 3'], [42360.0, b'30', 'Sleep stage 2'], [42390.0, b'120', 'Sleep stage 3'], [42510.0, b'30', 'Sleep stage 2'], [42540.0, b'30', 'Sleep stage 3'], [42570.0, b'180', 'Sleep stage 2'], [42750.0, b'270', 'Sleep stage 1'], [43020.0, b'60', 'Sleep stage 2'], [43080.0, b'30', 'Sleep stage 1'], [43110.0, b'30', 'Sleep stage 2'], [43140.0, b'30', 'Sleep stage 1'], [43170.0, b'90', 'Sleep stage W'], [43260.0, b'150', 'Sleep stage 1'], [43410.0, b'540', 'Sleep stage 2'], [43950.0, b'2880', 'Sleep stage R'], [46830.0, b'240', 'Sleep stage 1'], [47070.0, b'30', 'Sleep stage 2'], [47100.0, b'60', 'Sleep stage W'], [47160.0, b'30', 'Sleep stage 1'], [47190.0, b'780', 'Sleep stage 2'], [47970.0, b'60', 'Sleep stage W'], [48030.0, b'30', 'Sleep stage 1'], [48060.0, b'30', 'Sleep stage W'], [48090.0, b'60', 'Sleep stage 1'], [48150.0, b'360', 'Sleep stage 2'], [48510.0, b'30', 'Sleep stage 3'], [48540.0, b'30', 'Sleep stage 2'], [48570.0, b'30', 'Sleep stage 3'], [48600.0, b'30', 'Sleep stage 2'], [48630.0, b'30', 'Sleep stage 3'], [48660.0, b'30', 'Sleep stage 2'], [48690.0, b'150', 'Sleep stage 3'], [48840.0, b'30', 'Sleep stage 4'], [48870.0, b'30', 'Sleep stage 3'], [48900.0, b'120', 'Sleep stage 4'], [49020.0, b'120', 'Sleep stage 3'], [49140.0, b'30', 'Sleep stage 4'], [49170.0, b'30', 'Sleep stage 3'], [49200.0, b'30', 'Sleep stage 4'], [49230.0, b'30', 'Sleep stage 3'], [49260.0, b'60', 'Sleep stage 4'], [49320.0, b'30', 'Sleep stage 3'], [49350.0, b'30', 'Sleep stage 4'], [49380.0, b'30', 'Sleep stage 3'], [49410.0, b'60', 'Sleep stage 4'], [49470.0, b'150', 'Sleep stage 3'], [49620.0, b'90', 'Sleep stage 4'], [49710.0, b'60', 'Sleep stage 3'], [49770.0, b'30', 'Sleep stage 4'], [49800.0, b'30', 'Sleep stage 3'], [49830.0, b'30', 'Sleep stage 4'], [49860.0, b'30', 'Sleep stage 3'], [49890.0, b'30', 'Sleep stage 4'], [49920.0, b'30', 'Sleep stage 3'], [49950.0, b'30', 'Sleep stage 4'], [49980.0, b'60', 'Sleep stage 3'], [50040.0, b'30', 'Sleep stage 4'], [50070.0, b'30', 'Sleep stage 3'], [50100.0, b'300', 'Sleep stage 4'], [50400.0, b'60', 'Sleep stage 3'], [50460.0, b'1110', 'Sleep stage 2'], [51570.0, b'60', 'Sleep stage 1'], [51630.0, b'90', 'Sleep stage 2'], [51720.0, b'30', 'Sleep stage W'], [51750.0, b'30', 'Sleep stage 1'], [51780.0, b'450', 'Sleep stage 2'], [52230.0, b'30', 'Sleep stage 3'], [52260.0, b'150', 'Sleep stage 2'], [52410.0, b'30', 'Sleep stage W'], [52440.0, b'30', 'Sleep stage 1'], [52470.0, b'360', 'Sleep stage 2'], [52830.0, b'1470', 'Sleep stage R'], [54300.0, b'30', 'Sleep stage W'], [54330.0, b'90', 'Sleep stage 1'], [54420.0, b'90', 'Sleep stage 2'], [54510.0, b'480', 'Sleep stage R'], [54990.0, b'30', 'Sleep stage 1'], [55020.0, b'750', 'Sleep stage R'], [55770.0, b'30', 'Sleep stage W'], [55800.0, b'90', 'Sleep stage 1'], [55890.0, b'30', 'Sleep stage W'], [55920.0, b'90', 'Sleep stage 1'], [56010.0, b'30', 'Sleep stage W'], [56040.0, b'90', 'Sleep stage 1'], [56130.0, b'30', 'Sleep stage 2'], [56160.0, b'30', 'Sleep stage W'], [56190.0, b'60', 'Sleep stage 1'], [56250.0, b'420', 'Sleep stage 2'], [56670.0, b'30', 'Sleep stage W'], [56700.0, b'60', 'Sleep stage 1'], [56760.0, b'30', 'Sleep stage W'], [56790.0, b'150', 'Sleep stage 1'], [56940.0, b'60', 'Sleep stage W'], [57000.0, b'30', 'Sleep stage 1'], [57030.0, b'90', 'Sleep stage 2'], [57120.0, b'30', 'Sleep stage W'], [57150.0, b'60', 'Sleep stage 2'], [57210.0, b'30', 'Sleep stage W'], [57240.0, b'180', 'Sleep stage 2'], [57420.0, b'30', 'Sleep stage 1'], [57450.0, b'30', 'Sleep stage W'], [57480.0, b'60', 'Sleep stage 1'], [57540.0, b'30', 'Sleep stage W'], [57570.0, b'90', 'Sleep stage 1'], [57660.0, b'90', 'Sleep stage 2'], [57750.0, b'30', 'Sleep stage 1'], [57780.0, b'60', 'Sleep stage 2'], [57840.0, b'30', 'Sleep stage 1'], [57870.0, b'270', 'Sleep stage 2'], [58140.0, b'30', 'Sleep stage 1'], [58170.0, b'30', 'Sleep stage W'], [58200.0, b'90', 'Sleep stage 1'], [58290.0, b'60', 'Sleep stage W'], [58350.0, b'90', 'Sleep stage 1'], [58440.0, b'90', 'Sleep stage 2'], [58530.0, b'60', 'Sleep stage W'], [58590.0, b'30', 'Sleep stage 1'], [58620.0, b'120', 'Sleep stage 2'], [58740.0, b'90', 'Sleep stage W'], [58830.0, b'150', 'Sleep stage 1'], [58980.0, b'150', 'Sleep stage 2'], [59130.0, b'19050', 'Sleep stage W'], [78180.0, b'8220', 'Sleep stage ?']]}\n"
          ],
          "name": "stdout"
        },
        {
          "output_type": "stream",
          "text": [
            "Reading Channels: 100%|██████████| 7/7 [00:01<00:00,  3.57it/s]\n"
          ],
          "name": "stderr"
        },
        {
          "output_type": "stream",
          "text": [
            "SC4122E0-PSG.edf file's signal & annotations start time is same\n"
          ],
          "name": "stdout"
        },
        {
          "output_type": "stream",
          "text": [
            "Reading Channels: 0it [00:00, ?it/s]\n",
            "Reading Channels:   0%|          | 0/7 [00:00<?, ?it/s]"
          ],
          "name": "stderr"
        },
        {
          "output_type": "stream",
          "text": [
            "SC4172E0-PSG.edf SC4172EC-Hypnogram.edf\n",
            "{'technician': '', 'recording_additional': '', 'patientname': 'Male 31yr', 'patient_additional': '', 'patientcode': '', 'equipment': '', 'admincode': '', 'gender': 'Male', 'startdate': datetime.datetime(1989, 7, 5, 15, 37), 'birthdate': '', 'annotations': [[0.0, b'10260', 'Sleep stage W'], [10260.0, b'720', 'Sleep stage 2'], [10980.0, b'30', 'Sleep stage 3'], [11010.0, b'210', 'Sleep stage 2'], [11220.0, b'90', 'Sleep stage 3'], [11310.0, b'30', 'Sleep stage 2'], [11340.0, b'180', 'Sleep stage 3'], [11520.0, b'30', 'Sleep stage 4'], [11550.0, b'90', 'Sleep stage 3'], [11640.0, b'90', 'Sleep stage 2'], [11730.0, b'30', 'Sleep stage 3'], [11760.0, b'90', 'Sleep stage 2'], [11850.0, b'60', 'Sleep stage 3'], [11910.0, b'30', 'Sleep stage 2'], [11940.0, b'30', 'Sleep stage 3'], [11970.0, b'30', 'Sleep stage 2'], [12000.0, b'30', 'Sleep stage 3'], [12030.0, b'60', 'Sleep stage 2'], [12090.0, b'30', 'Sleep stage 3'], [12120.0, b'60', 'Sleep stage 2'], [12180.0, b'90', 'Sleep stage 3'], [12270.0, b'120', 'Sleep stage 2'], [12390.0, b'30', 'Sleep stage 3'], [12420.0, b'90', 'Sleep stage 2'], [12510.0, b'120', 'Sleep stage W'], [12630.0, b'90', 'Sleep stage 1'], [12720.0, b'60', 'Sleep stage 2'], [12780.0, b'60', 'Sleep stage 1'], [12840.0, b'150', 'Sleep stage 2'], [12990.0, b'30', 'Sleep stage 3'], [13020.0, b'360', 'Sleep stage 2'], [13380.0, b'30', 'Sleep stage 3'], [13410.0, b'150', 'Sleep stage 2'], [13560.0, b'30', 'Sleep stage 3'], [13590.0, b'30', 'Sleep stage 2'], [13620.0, b'60', 'Sleep stage 3'], [13680.0, b'480', 'Sleep stage 2'], [14160.0, b'390', 'Sleep stage 3'], [14550.0, b'30', 'Sleep stage 2'], [14580.0, b'60', 'Sleep stage 3'], [14640.0, b'30', 'Sleep stage 4'], [14670.0, b'30', 'Sleep stage 3'], [14700.0, b'30', 'Sleep stage 4'], [14730.0, b'60', 'Sleep stage 3'], [14790.0, b'270', 'Sleep stage 4'], [15060.0, b'30', 'Sleep stage 3'], [15090.0, b'390', 'Sleep stage 4'], [15480.0, b'60', 'Sleep stage 3'], [15540.0, b'990', 'Sleep stage 2'], [16530.0, b'210', 'Sleep stage 1'], [16740.0, b'16260', 'Sleep stage W'], [33000.0, b'60', 'Sleep stage 1'], [33060.0, b'180', 'Sleep stage W'], [33240.0, b'150', 'Sleep stage 1'], [33390.0, b'90', 'Sleep stage 2'], [33480.0, b'120', 'Sleep stage 1'], [33600.0, b'1140', 'Sleep stage 2'], [34740.0, b'210', 'Sleep stage 3'], [34950.0, b'30', 'Sleep stage 2'], [34980.0, b'180', 'Sleep stage 3'], [35160.0, b'180', 'Sleep stage 4'], [35340.0, b'90', 'Sleep stage 3'], [35430.0, b'210', 'Sleep stage 4'], [35640.0, b'30', 'Sleep stage 3'], [35670.0, b'30', 'Sleep stage 4'], [35700.0, b'30', 'Sleep stage 3'], [35730.0, b'30', 'Sleep stage 4'], [35760.0, b'30', 'Movement time'], [35790.0, b'30', 'Sleep stage 1'], [35820.0, b'420', 'Sleep stage 2'], [36240.0, b'60', 'Sleep stage 3'], [36300.0, b'30', 'Sleep stage 2'], [36330.0, b'330', 'Sleep stage 3'], [36660.0, b'540', 'Sleep stage 2'], [37200.0, b'90', 'Sleep stage R'], [37290.0, b'120', 'Sleep stage 2'], [37410.0, b'90', 'Sleep stage R'], [37500.0, b'60', 'Movement time'], [37560.0, b'90', 'Sleep stage 2'], [37650.0, b'180', 'Sleep stage R'], [37830.0, b'60', 'Sleep stage 1'], [37890.0, b'570', 'Sleep stage 2'], [38460.0, b'30', 'Sleep stage W'], [38490.0, b'630', 'Sleep stage 2'], [39120.0, b'30', 'Sleep stage 3'], [39150.0, b'150', 'Sleep stage 2'], [39300.0, b'30', 'Sleep stage 3'], [39330.0, b'120', 'Sleep stage 2'], [39450.0, b'60', 'Sleep stage 3'], [39510.0, b'30', 'Sleep stage 2'], [39540.0, b'30', 'Sleep stage 3'], [39570.0, b'30', 'Sleep stage 2'], [39600.0, b'30', 'Sleep stage 3'], [39630.0, b'60', 'Sleep stage 2'], [39690.0, b'30', 'Sleep stage 4'], [39720.0, b'180', 'Sleep stage 3'], [39900.0, b'30', 'Sleep stage 4'], [39930.0, b'30', 'Sleep stage 3'], [39960.0, b'120', 'Sleep stage 4'], [40080.0, b'30', 'Sleep stage 3'], [40110.0, b'60', 'Sleep stage 4'], [40170.0, b'30', 'Sleep stage 3'], [40200.0, b'30', 'Sleep stage 4'], [40230.0, b'30', 'Sleep stage 3'], [40260.0, b'300', 'Sleep stage 2'], [40560.0, b'30', 'Sleep stage W'], [40590.0, b'420', 'Sleep stage 2'], [41010.0, b'30', 'Sleep stage 3'], [41040.0, b'60', 'Sleep stage 2'], [41100.0, b'60', 'Sleep stage 3'], [41160.0, b'1140', 'Sleep stage 2'], [42300.0, b'90', 'Sleep stage 3'], [42390.0, b'60', 'Sleep stage W'], [42450.0, b'840', 'Sleep stage 2'], [43290.0, b'90', 'Sleep stage W'], [43380.0, b'90', 'Sleep stage 1'], [43470.0, b'630', 'Sleep stage 2'], [44100.0, b'30', 'Sleep stage W'], [44130.0, b'60', 'Sleep stage 1'], [44190.0, b'120', 'Sleep stage 2'], [44310.0, b'1350', 'Sleep stage R'], [45660.0, b'60', 'Sleep stage 2'], [45720.0, b'30', 'Sleep stage R'], [45750.0, b'60', 'Sleep stage 2'], [45810.0, b'210', 'Sleep stage R'], [46020.0, b'30', 'Sleep stage 2'], [46050.0, b'240', 'Sleep stage R'], [46290.0, b'210', 'Sleep stage 2'], [46500.0, b'60', 'Sleep stage R'], [46560.0, b'30', 'Sleep stage 2'], [46590.0, b'60', 'Sleep stage R'], [46650.0, b'60', 'Sleep stage 2'], [46710.0, b'180', 'Sleep stage R'], [46890.0, b'120', 'Sleep stage 2'], [47010.0, b'90', 'Sleep stage R'], [47100.0, b'1830', 'Sleep stage 2'], [48930.0, b'30', 'Sleep stage 3'], [48960.0, b'30', 'Sleep stage 2'], [48990.0, b'90', 'Sleep stage 3'], [49080.0, b'90', 'Sleep stage 2'], [49170.0, b'30', 'Sleep stage 3'], [49200.0, b'30', 'Sleep stage 2'], [49230.0, b'30', 'Sleep stage 3'], [49260.0, b'30', 'Sleep stage 2'], [49290.0, b'30', 'Sleep stage 3'], [49320.0, b'30', 'Sleep stage 2'], [49350.0, b'90', 'Sleep stage 3'], [49440.0, b'60', 'Sleep stage 2'], [49500.0, b'180', 'Sleep stage 3'], [49680.0, b'30', 'Movement time'], [49710.0, b'210', 'Sleep stage W'], [49920.0, b'30', 'Sleep stage 1'], [49950.0, b'1020', 'Sleep stage 2'], [50970.0, b'1440', 'Sleep stage R'], [52410.0, b'120', 'Sleep stage 2'], [52530.0, b'480', 'Sleep stage R'], [53010.0, b'120', 'Sleep stage 2'], [53130.0, b'180', 'Sleep stage R'], [53310.0, b'90', 'Sleep stage 2'], [53400.0, b'150', 'Sleep stage R'], [53550.0, b'90', 'Sleep stage 2'], [53640.0, b'30', 'Sleep stage R'], [53670.0, b'90', 'Sleep stage 2'], [53760.0, b'90', 'Sleep stage R'], [53850.0, b'3300', 'Sleep stage 2'], [57150.0, b'30', 'Sleep stage 3'], [57180.0, b'180', 'Sleep stage 2'], [57360.0, b'30', 'Sleep stage 3'], [57390.0, b'60', 'Sleep stage 2'], [57450.0, b'30', 'Sleep stage 3'], [57480.0, b'60', 'Sleep stage 2'], [57540.0, b'90', 'Sleep stage 3'], [57630.0, b'30', 'Sleep stage 2'], [57660.0, b'60', 'Sleep stage 3'], [57720.0, b'30', 'Sleep stage 2'], [57750.0, b'210', 'Sleep stage 3'], [57960.0, b'30', 'Sleep stage 2'], [57990.0, b'120', 'Sleep stage 3'], [58110.0, b'30', 'Sleep stage 2'], [58140.0, b'60', 'Sleep stage 3'], [58200.0, b'1230', 'Sleep stage 2'], [59430.0, b'150', 'Sleep stage 1'], [59580.0, b'120', 'Sleep stage 2'], [59700.0, b'30', 'Sleep stage W'], [59730.0, b'120', 'Sleep stage 1'], [59850.0, b'30', 'Sleep stage W'], [59880.0, b'90', 'Sleep stage 1'], [59970.0, b'21750', 'Sleep stage W'], [81720.0, b'4680', 'Sleep stage ?']]}\n"
          ],
          "name": "stdout"
        },
        {
          "output_type": "stream",
          "text": [
            "Reading Channels: 100%|██████████| 7/7 [00:02<00:00,  3.44it/s]\n"
          ],
          "name": "stderr"
        },
        {
          "output_type": "stream",
          "text": [
            "SC4172E0-PSG.edf file's signal & annotations start time is same\n"
          ],
          "name": "stdout"
        },
        {
          "output_type": "stream",
          "text": [
            "Reading Channels: 0it [00:00, ?it/s]"
          ],
          "name": "stderr"
        },
        {
          "output_type": "stream",
          "text": [
            "SC4062E0-PSG.edf SC4062EC-Hypnogram.edf\n",
            "{'technician': '', 'recording_additional': '', 'patientname': 'Female 31yr', 'patient_additional': '', 'patientcode': '', 'equipment': '', 'admincode': '', 'gender': 'Female', 'startdate': datetime.datetime(1989, 5, 9, 15, 55), 'birthdate': '', 'annotations': [[0.0, b'25410', 'Sleep stage W'], [25410.0, b'30', 'Sleep stage 1'], [25440.0, b'390', 'Sleep stage W'], [25830.0, b'240', 'Sleep stage 1'], [26070.0, b'690', 'Sleep stage 2'], [26760.0, b'90', 'Sleep stage W'], [26850.0, b'180', 'Sleep stage 1'], [27030.0, b'660', 'Sleep stage 2'], [27690.0, b'390', 'Sleep stage 3'], [28080.0, b'30', 'Sleep stage 4'], [28110.0, b'180', 'Sleep stage 3'], [28290.0, b'30', 'Sleep stage 4'], [28320.0, b'270', 'Sleep stage 3'], [28590.0, b'60', 'Sleep stage 4'], [28650.0, b'30', 'Sleep stage 3'], [28680.0, b'150', 'Sleep stage 4'], [28830.0, b'60', 'Sleep stage 3'], [28890.0, b'30', 'Sleep stage 4'], [28920.0, b'30', 'Sleep stage 3'], [28950.0, b'330', 'Sleep stage 4'], [29280.0, b'60', 'Sleep stage 3'], [29340.0, b'300', 'Sleep stage 4'], [29640.0, b'30', 'Sleep stage 3'], [29670.0, b'30', 'Sleep stage 4'], [29700.0, b'60', 'Sleep stage 3'], [29760.0, b'510', 'Sleep stage 2'], [30270.0, b'900', 'Sleep stage R'], [31170.0, b'30', 'Sleep stage W'], [31200.0, b'60', 'Sleep stage 1'], [31260.0, b'600', 'Sleep stage 2'], [31860.0, b'30', 'Sleep stage W'], [31890.0, b'30', 'Sleep stage 1'], [31920.0, b'960', 'Sleep stage 2'], [32880.0, b'60', 'Sleep stage 1'], [32940.0, b'30', 'Sleep stage 2'], [32970.0, b'30', 'Sleep stage W'], [33000.0, b'90', 'Sleep stage 1'], [33090.0, b'90', 'Sleep stage 2'], [33180.0, b'180', 'Sleep stage W'], [33360.0, b'90', 'Sleep stage 1'], [33450.0, b'870', 'Sleep stage 2'], [34320.0, b'90', 'Sleep stage W'], [34410.0, b'30', 'Sleep stage 1'], [34440.0, b'420', 'Sleep stage 2'], [34860.0, b'120', 'Sleep stage 1'], [34980.0, b'990', 'Sleep stage 2'], [35970.0, b'30', 'Sleep stage 3'], [36000.0, b'90', 'Sleep stage 2'], [36090.0, b'420', 'Sleep stage 3'], [36510.0, b'30', 'Sleep stage 4'], [36540.0, b'30', 'Sleep stage 3'], [36570.0, b'90', 'Sleep stage 1'], [36660.0, b'780', 'Sleep stage 2'], [37440.0, b'30', 'Sleep stage W'], [37470.0, b'30', 'Sleep stage 1'], [37500.0, b'240', 'Sleep stage 2'], [37740.0, b'1050', 'Sleep stage R'], [38790.0, b'90', 'Sleep stage 1'], [38880.0, b'180', 'Sleep stage 2'], [39060.0, b'630', 'Sleep stage R'], [39690.0, b'270', 'Sleep stage 2'], [39960.0, b'60', 'Sleep stage 1'], [40020.0, b'690', 'Sleep stage 2'], [40710.0, b'150', 'Sleep stage 1'], [40860.0, b'930', 'Sleep stage 2'], [41790.0, b'30', 'Sleep stage 3'], [41820.0, b'270', 'Sleep stage 2'], [42090.0, b'30', 'Sleep stage 3'], [42120.0, b'90', 'Sleep stage 2'], [42210.0, b'30', 'Sleep stage 3'], [42240.0, b'60', 'Sleep stage 2'], [42300.0, b'30', 'Sleep stage 3'], [42330.0, b'30', 'Sleep stage 2'], [42360.0, b'1170', 'Sleep stage 3'], [43530.0, b'600', 'Sleep stage 2'], [44130.0, b'180', 'Sleep stage R'], [44310.0, b'60', 'Sleep stage 1'], [44370.0, b'810', 'Sleep stage R'], [45180.0, b'60', 'Sleep stage 1'], [45240.0, b'990', 'Sleep stage 2'], [46230.0, b'60', 'Sleep stage 1'], [46290.0, b'210', 'Sleep stage W'], [46500.0, b'30', 'Sleep stage 1'], [46530.0, b'270', 'Sleep stage W'], [46800.0, b'90', 'Sleep stage 1'], [46890.0, b'60', 'Sleep stage W'], [46950.0, b'240', 'Sleep stage 1'], [47190.0, b'90', 'Sleep stage 2'], [47280.0, b'150', 'Sleep stage 1'], [47430.0, b'780', 'Sleep stage W'], [48210.0, b'330', 'Sleep stage 1'], [48540.0, b'540', 'Sleep stage 2'], [49080.0, b'210', 'Sleep stage 1'], [49290.0, b'840', 'Sleep stage 2'], [50130.0, b'2040', 'Sleep stage R'], [52170.0, b'120', 'Sleep stage 1'], [52290.0, b'32610', 'Sleep stage W'], [84900.0, b'1500', 'Sleep stage ?']]}\n"
          ],
          "name": "stdout"
        },
        {
          "output_type": "stream",
          "text": [
            "\n",
            "Reading Channels: 100%|██████████| 7/7 [00:02<00:00,  3.35it/s]\n"
          ],
          "name": "stderr"
        },
        {
          "output_type": "stream",
          "text": [
            "SC4062E0-PSG.edf file's signal & annotations start time is same\n"
          ],
          "name": "stdout"
        },
        {
          "output_type": "stream",
          "text": [
            "Reading Channels: 0it [00:00, ?it/s]\n",
            "Reading Channels:   0%|          | 0/7 [00:00<?, ?it/s]"
          ],
          "name": "stderr"
        },
        {
          "output_type": "stream",
          "text": [
            "SC4171E0-PSG.edf SC4171EU-Hypnogram.edf\n",
            "{'technician': '', 'recording_additional': '', 'patientname': 'Male 31yr', 'patient_additional': '', 'patientcode': '', 'equipment': '', 'admincode': '', 'gender': 'Male', 'startdate': datetime.datetime(1989, 7, 12, 16, 9), 'birthdate': '', 'annotations': [[0.0, b'29010', 'Sleep stage W'], [29010.0, b'30', 'Sleep stage 1'], [29040.0, b'30', 'Sleep stage W'], [29070.0, b'90', 'Sleep stage 1'], [29160.0, b'570', 'Sleep stage 2'], [29730.0, b'90', 'Sleep stage 3'], [29820.0, b'30', 'Sleep stage 2'], [29850.0, b'150', 'Sleep stage 3'], [30000.0, b'30', 'Sleep stage 2'], [30030.0, b'120', 'Sleep stage 3'], [30150.0, b'30', 'Sleep stage 2'], [30180.0, b'30', 'Sleep stage 3'], [30210.0, b'60', 'Sleep stage 4'], [30270.0, b'90', 'Sleep stage 3'], [30360.0, b'30', 'Sleep stage 4'], [30390.0, b'30', 'Sleep stage 3'], [30420.0, b'60', 'Sleep stage 4'], [30480.0, b'120', 'Sleep stage 3'], [30600.0, b'30', 'Sleep stage 4'], [30630.0, b'30', 'Sleep stage 3'], [30660.0, b'150', 'Sleep stage 4'], [30810.0, b'270', 'Sleep stage 3'], [31080.0, b'30', 'Sleep stage 4'], [31110.0, b'120', 'Sleep stage 3'], [31230.0, b'30', 'Sleep stage 4'], [31260.0, b'90', 'Sleep stage 3'], [31350.0, b'90', 'Sleep stage 4'], [31440.0, b'30', 'Sleep stage 3'], [31470.0, b'30', 'Sleep stage 4'], [31500.0, b'30', 'Sleep stage 3'], [31530.0, b'90', 'Sleep stage 4'], [31620.0, b'30', 'Sleep stage 3'], [31650.0, b'60', 'Sleep stage 4'], [31710.0, b'90', 'Sleep stage 3'], [31800.0, b'90', 'Sleep stage 4'], [31890.0, b'90', 'Sleep stage 3'], [31980.0, b'60', 'Sleep stage 4'], [32040.0, b'30', 'Sleep stage 3'], [32070.0, b'270', 'Sleep stage 4'], [32340.0, b'30', 'Sleep stage 3'], [32370.0, b'30', 'Sleep stage W'], [32400.0, b'60', 'Sleep stage 3'], [32460.0, b'30', 'Sleep stage 1'], [32490.0, b'30', 'Sleep stage 2'], [32520.0, b'30', 'Sleep stage 3'], [32550.0, b'90', 'Sleep stage 2'], [32640.0, b'30', 'Sleep stage 3'], [32670.0, b'90', 'Sleep stage 2'], [32760.0, b'30', 'Sleep stage 3'], [32790.0, b'30', 'Sleep stage 2'], [32820.0, b'30', 'Sleep stage 3'], [32850.0, b'30', 'Sleep stage 2'], [32880.0, b'30', 'Sleep stage 3'], [32910.0, b'30', 'Sleep stage 2'], [32940.0, b'30', 'Sleep stage 3'], [32970.0, b'90', 'Sleep stage 2'], [33060.0, b'30', 'Movement time'], [33090.0, b'90', 'Sleep stage W'], [33180.0, b'30', 'Sleep stage 1'], [33210.0, b'480', 'Sleep stage 2'], [33690.0, b'120', 'Sleep stage 3'], [33810.0, b'30', 'Sleep stage 2'], [33840.0, b'60', 'Sleep stage W'], [33900.0, b'30', 'Sleep stage 1'], [33930.0, b'210', 'Sleep stage 2'], [34140.0, b'30', 'Sleep stage 3'], [34170.0, b'60', 'Sleep stage 2'], [34230.0, b'60', 'Sleep stage 3'], [34290.0, b'60', 'Sleep stage 2'], [34350.0, b'90', 'Sleep stage 3'], [34440.0, b'30', 'Sleep stage 2'], [34470.0, b'30', 'Sleep stage 3'], [34500.0, b'180', 'Sleep stage 2'], [34680.0, b'510', 'Sleep stage 3'], [35190.0, b'30', 'Sleep stage 2'], [35220.0, b'30', 'Sleep stage 3'], [35250.0, b'90', 'Sleep stage 2'], [35340.0, b'30', 'Sleep stage 3'], [35370.0, b'60', 'Sleep stage 2'], [35430.0, b'60', 'Sleep stage 3'], [35490.0, b'30', 'Sleep stage 2'], [35520.0, b'30', 'Sleep stage 3'], [35550.0, b'30', 'Sleep stage 2'], [35580.0, b'30', 'Sleep stage 3'], [35610.0, b'150', 'Sleep stage 2'], [35760.0, b'270', 'Sleep stage 3'], [36030.0, b'90', 'Sleep stage 2'], [36120.0, b'30', 'Sleep stage 3'], [36150.0, b'120', 'Sleep stage 2'], [36270.0, b'60', 'Sleep stage 3'], [36330.0, b'90', 'Sleep stage 2'], [36420.0, b'30', 'Sleep stage 3'], [36450.0, b'540', 'Sleep stage 2'], [36990.0, b'30', 'Sleep stage 3'], [37020.0, b'30', 'Sleep stage 2'], [37050.0, b'210', 'Sleep stage 3'], [37260.0, b'150', 'Sleep stage W'], [37410.0, b'60', 'Sleep stage 3'], [37470.0, b'30', 'Sleep stage 1'], [37500.0, b'270', 'Sleep stage 2'], [37770.0, b'30', 'Sleep stage 3'], [37800.0, b'240', 'Sleep stage 2'], [38040.0, b'60', 'Sleep stage W'], [38100.0, b'450', 'Sleep stage 2'], [38550.0, b'60', 'Sleep stage 3'], [38610.0, b'60', 'Sleep stage 2'], [38670.0, b'2760', 'Sleep stage R'], [41430.0, b'1050', 'Sleep stage 2'], [42480.0, b'60', 'Sleep stage 3'], [42540.0, b'60', 'Sleep stage 2'], [42600.0, b'30', 'Sleep stage 3'], [42630.0, b'210', 'Sleep stage 2'], [42840.0, b'240', 'Sleep stage 3'], [43080.0, b'120', 'Sleep stage W'], [43200.0, b'60', 'Sleep stage 2'], [43260.0, b'90', 'Sleep stage W'], [43350.0, b'30', 'Sleep stage 1'], [43380.0, b'600', 'Sleep stage 2'], [43980.0, b'60', 'Sleep stage 3'], [44040.0, b'30', 'Sleep stage 2'], [44070.0, b'60', 'Sleep stage 3'], [44130.0, b'30', 'Sleep stage 2'], [44160.0, b'150', 'Sleep stage 3'], [44310.0, b'120', 'Sleep stage 2'], [44430.0, b'30', 'Sleep stage W'], [44460.0, b'30', 'Sleep stage 1'], [44490.0, b'270', 'Sleep stage 2'], [44760.0, b'30', 'Sleep stage 1'], [44790.0, b'690', 'Sleep stage 2'], [45480.0, b'60', 'Sleep stage 3'], [45540.0, b'30', 'Sleep stage 2'], [45570.0, b'420', 'Sleep stage 3'], [45990.0, b'30', 'Sleep stage 4'], [46020.0, b'120', 'Sleep stage 3'], [46140.0, b'30', 'Sleep stage 2'], [46170.0, b'30', 'Sleep stage 3'], [46200.0, b'30', 'Sleep stage 4'], [46230.0, b'210', 'Sleep stage 3'], [46440.0, b'60', 'Sleep stage 4'], [46500.0, b'30', 'Sleep stage 3'], [46530.0, b'90', 'Sleep stage 2'], [46620.0, b'30', 'Sleep stage 3'], [46650.0, b'510', 'Sleep stage R'], [47160.0, b'30', 'Sleep stage W'], [47190.0, b'240', 'Sleep stage R'], [47430.0, b'30', 'Sleep stage W'], [47460.0, b'750', 'Sleep stage R'], [48210.0, b'30', 'Sleep stage W'], [48240.0, b'420', 'Sleep stage R'], [48660.0, b'30', 'Sleep stage W'], [48690.0, b'240', 'Sleep stage R'], [48930.0, b'480', 'Sleep stage W'], [49410.0, b'90', 'Sleep stage 1'], [49500.0, b'120', 'Sleep stage W'], [49620.0, b'90', 'Sleep stage 1'], [49710.0, b'1200', 'Sleep stage 2'], [50910.0, b'60', 'Sleep stage W'], [50970.0, b'30', 'Sleep stage 1'], [51000.0, b'60', 'Sleep stage W'], [51060.0, b'30', 'Sleep stage 1'], [51090.0, b'720', 'Sleep stage 2'], [51810.0, b'30', 'Sleep stage 3'], [51840.0, b'90', 'Sleep stage 2'], [51930.0, b'30', 'Sleep stage 3'], [51960.0, b'30', 'Sleep stage 2'], [51990.0, b'60', 'Sleep stage 3'], [52050.0, b'30', 'Sleep stage 1'], [52080.0, b'90', 'Sleep stage 2'], [52170.0, b'30', 'Sleep stage 3'], [52200.0, b'30', 'Sleep stage 2'], [52230.0, b'30', 'Sleep stage 3'], [52260.0, b'30', 'Sleep stage 1'], [52290.0, b'30', 'Sleep stage 2'], [52320.0, b'60', 'Sleep stage 3'], [52380.0, b'120', 'Sleep stage R'], [52500.0, b'60', 'Sleep stage W'], [52560.0, b'1170', 'Sleep stage R'], [53730.0, b'30', 'Sleep stage W'], [53760.0, b'120', 'Sleep stage R'], [53880.0, b'90', 'Sleep stage W'], [53970.0, b'1530', 'Sleep stage R'], [55500.0, b'26760', 'Sleep stage W'], [82260.0, b'4140', 'Sleep stage ?']]}\n"
          ],
          "name": "stdout"
        },
        {
          "output_type": "stream",
          "text": [
            "Reading Channels: 100%|██████████| 7/7 [00:02<00:00,  3.48it/s]\n"
          ],
          "name": "stderr"
        },
        {
          "output_type": "stream",
          "text": [
            "SC4171E0-PSG.edf file's signal & annotations start time is same\n"
          ],
          "name": "stdout"
        },
        {
          "output_type": "stream",
          "text": [
            "Reading Channels: 0it [00:00, ?it/s]\n",
            "Reading Channels:   0%|          | 0/7 [00:00<?, ?it/s]"
          ],
          "name": "stderr"
        },
        {
          "output_type": "stream",
          "text": [
            "SC4112E0-PSG.edf SC4112EC-Hypnogram.edf\n",
            "{'technician': '', 'recording_additional': '', 'patientname': 'Male 26yr', 'patient_additional': '', 'patientcode': '', 'equipment': '', 'admincode': '', 'gender': 'Male', 'startdate': datetime.datetime(1989, 5, 2, 15, 20), 'birthdate': '', 'annotations': [[0.0, b'35850', 'Sleep stage W'], [35850.0, b'150', 'Sleep stage 1'], [36000.0, b'270', 'Sleep stage 2'], [36270.0, b'30', 'Sleep stage 1'], [36300.0, b'30', 'Sleep stage 2'], [36330.0, b'30', 'Sleep stage 1'], [36360.0, b'510', 'Sleep stage 2'], [36870.0, b'30', 'Sleep stage 1'], [36900.0, b'480', 'Sleep stage 2'], [37380.0, b'30', 'Sleep stage 3'], [37410.0, b'450', 'Sleep stage 2'], [37860.0, b'60', 'Sleep stage 3'], [37920.0, b'180', 'Sleep stage 2'], [38100.0, b'30', 'Sleep stage 3'], [38130.0, b'30', 'Sleep stage 1'], [38160.0, b'120', 'Sleep stage 2'], [38280.0, b'30', 'Sleep stage 1'], [38310.0, b'450', 'Sleep stage 2'], [38760.0, b'30', 'Sleep stage 3'], [38790.0, b'60', 'Sleep stage 2'], [38850.0, b'30', 'Sleep stage 3'], [38880.0, b'30', 'Sleep stage 2'], [38910.0, b'120', 'Sleep stage 3'], [39030.0, b'30', 'Sleep stage 2'], [39060.0, b'180', 'Sleep stage 3'], [39240.0, b'120', 'Sleep stage 1'], [39360.0, b'900', 'Sleep stage 2'], [40260.0, b'30', 'Sleep stage 3'], [40290.0, b'30', 'Sleep stage 2'], [40320.0, b'30', 'Sleep stage 3'], [40350.0, b'60', 'Sleep stage 2'], [40410.0, b'30', 'Sleep stage 3'], [40440.0, b'90', 'Sleep stage 2'], [40530.0, b'30', 'Sleep stage 3'], [40560.0, b'60', 'Sleep stage 2'], [40620.0, b'60', 'Sleep stage 3'], [40680.0, b'30', 'Sleep stage 2'], [40710.0, b'270', 'Sleep stage 3'], [40980.0, b'30', 'Sleep stage 4'], [41010.0, b'30', 'Sleep stage 3'], [41040.0, b'30', 'Sleep stage 4'], [41070.0, b'30', 'Sleep stage 3'], [41100.0, b'30', 'Sleep stage 4'], [41130.0, b'60', 'Sleep stage 3'], [41190.0, b'240', 'Sleep stage 2'], [41430.0, b'120', 'Sleep stage R'], [41550.0, b'30', 'Sleep stage 2'], [41580.0, b'210', 'Sleep stage R'], [41790.0, b'30', 'Sleep stage 1'], [41820.0, b'60', 'Sleep stage 2'], [41880.0, b'1260', 'Sleep stage R'], [43140.0, b'1440', 'Sleep stage 2'], [44580.0, b'30', 'Sleep stage 3'], [44610.0, b'90', 'Sleep stage 2'], [44700.0, b'30', 'Sleep stage 3'], [44730.0, b'120', 'Sleep stage 2'], [44850.0, b'90', 'Sleep stage 3'], [44940.0, b'60', 'Sleep stage 2'], [45000.0, b'240', 'Sleep stage 3'], [45240.0, b'30', 'Sleep stage 4'], [45270.0, b'120', 'Sleep stage 3'], [45390.0, b'30', 'Sleep stage 4'], [45420.0, b'60', 'Sleep stage 3'], [45480.0, b'30', 'Sleep stage 4'], [45510.0, b'120', 'Sleep stage 3'], [45630.0, b'90', 'Sleep stage 4'], [45720.0, b'30', 'Sleep stage 3'], [45750.0, b'30', 'Sleep stage 4'], [45780.0, b'270', 'Sleep stage 3'], [46050.0, b'60', 'Sleep stage 4'], [46110.0, b'30', 'Sleep stage 3'], [46140.0, b'30', 'Sleep stage 4'], [46170.0, b'30', 'Sleep stage 3'], [46200.0, b'90', 'Sleep stage 4'], [46290.0, b'120', 'Sleep stage 3'], [46410.0, b'30', 'Sleep stage 2'], [46440.0, b'30', 'Sleep stage 3'], [46470.0, b'270', 'Sleep stage 2'], [46740.0, b'30', 'Sleep stage W'], [46770.0, b'1110', 'Sleep stage 2'], [47880.0, b'30', 'Sleep stage 3'], [47910.0, b'390', 'Sleep stage 2'], [48300.0, b'30', 'Sleep stage 3'], [48330.0, b'30', 'Sleep stage 2'], [48360.0, b'30', 'Sleep stage 3'], [48390.0, b'90', 'Sleep stage 2'], [48480.0, b'30', 'Sleep stage 3'], [48510.0, b'90', 'Sleep stage 4'], [48600.0, b'30', 'Sleep stage 3'], [48630.0, b'150', 'Sleep stage 2'], [48780.0, b'30', 'Sleep stage 3'], [48810.0, b'60', 'Sleep stage 2'], [48870.0, b'1770', 'Sleep stage R'], [50640.0, b'30', 'Sleep stage W'], [50670.0, b'180', 'Sleep stage 2'], [50850.0, b'750', 'Sleep stage R'], [51600.0, b'30', 'Sleep stage W'], [51630.0, b'1770', 'Sleep stage 2'], [53400.0, b'30', 'Sleep stage 3'], [53430.0, b'150', 'Sleep stage 2'], [53580.0, b'30', 'Sleep stage 3'], [53610.0, b'60', 'Sleep stage 2'], [53670.0, b'30', 'Sleep stage 3'], [53700.0, b'30', 'Sleep stage 2'], [53730.0, b'30', 'Sleep stage 3'], [53760.0, b'30', 'Sleep stage 2'], [53790.0, b'30', 'Sleep stage 3'], [53820.0, b'60', 'Sleep stage 2'], [53880.0, b'90', 'Sleep stage 3'], [53970.0, b'60', 'Sleep stage 4'], [54030.0, b'180', 'Sleep stage 2'], [54210.0, b'30', 'Sleep stage 3'], [54240.0, b'600', 'Sleep stage 2'], [54840.0, b'390', 'Sleep stage R'], [55230.0, b'30', 'Sleep stage 1'], [55260.0, b'30', 'Sleep stage R'], [55290.0, b'120', 'Sleep stage 2'], [55410.0, b'30', 'Sleep stage W'], [55440.0, b'180', 'Sleep stage 2'], [55620.0, b'30', 'Sleep stage 1'], [55650.0, b'150', 'Sleep stage 2'], [55800.0, b'60', 'Sleep stage W'], [55860.0, b'30', 'Sleep stage 1'], [55890.0, b'420', 'Sleep stage 2'], [56310.0, b'27090', 'Sleep stage W'], [83400.0, b'3000', 'Sleep stage ?']]}\n"
          ],
          "name": "stdout"
        },
        {
          "output_type": "stream",
          "text": [
            "Reading Channels: 100%|██████████| 7/7 [00:06<00:00,  1.01it/s]\n"
          ],
          "name": "stderr"
        },
        {
          "output_type": "stream",
          "text": [
            "SC4112E0-PSG.edf file's signal & annotations start time is same\n"
          ],
          "name": "stdout"
        },
        {
          "output_type": "stream",
          "text": [
            "Reading Channels: 0it [00:00, ?it/s]\n",
            "Reading Channels:   0%|          | 0/7 [00:00<?, ?it/s]"
          ],
          "name": "stderr"
        },
        {
          "output_type": "stream",
          "text": [
            "SC4042E0-PSG.edf SC4042EC-Hypnogram.edf\n",
            "{'technician': '', 'recording_additional': '', 'patientname': 'Female 34yr', 'patient_additional': '', 'patientcode': '', 'equipment': '', 'admincode': '', 'gender': 'Female', 'startdate': datetime.datetime(1989, 4, 25, 15, 4), 'birthdate': '', 'annotations': [[0.0, b'32220', 'Sleep stage W'], [32220.0, b'150', 'Sleep stage 1'], [32370.0, b'210', 'Sleep stage W'], [32580.0, b'30', 'Sleep stage 1'], [32610.0, b'60', 'Sleep stage W'], [32670.0, b'600', 'Sleep stage 1'], [33270.0, b'270', 'Sleep stage 2'], [33540.0, b'30', 'Sleep stage 1'], [33570.0, b'60', 'Sleep stage 2'], [33630.0, b'210', 'Sleep stage W'], [33840.0, b'30', 'Sleep stage 1'], [33870.0, b'180', 'Sleep stage W'], [34050.0, b'60', 'Sleep stage 1'], [34110.0, b'150', 'Sleep stage W'], [34260.0, b'60', 'Sleep stage 1'], [34320.0, b'630', 'Sleep stage W'], [34950.0, b'540', 'Sleep stage 1'], [35490.0, b'1200', 'Sleep stage 2'], [36690.0, b'30', 'Sleep stage 3'], [36720.0, b'30', 'Sleep stage 2'], [36750.0, b'30', 'Sleep stage 3'], [36780.0, b'90', 'Sleep stage 2'], [36870.0, b'120', 'Sleep stage 3'], [36990.0, b'30', 'Sleep stage 2'], [37020.0, b'30', 'Sleep stage 3'], [37050.0, b'30', 'Sleep stage 2'], [37080.0, b'270', 'Sleep stage 3'], [37350.0, b'60', 'Sleep stage 1'], [37410.0, b'180', 'Sleep stage 2'], [37590.0, b'60', 'Sleep stage 3'], [37650.0, b'300', 'Sleep stage 2'], [37950.0, b'30', 'Sleep stage W'], [37980.0, b'30', 'Sleep stage 1'], [38010.0, b'30', 'Sleep stage W'], [38040.0, b'30', 'Sleep stage 1'], [38070.0, b'450', 'Sleep stage 2'], [38520.0, b'450', 'Sleep stage R'], [38970.0, b'30', 'Movement time'], [39000.0, b'90', 'Sleep stage R'], [39090.0, b'510', 'Sleep stage 2'], [39600.0, b'60', 'Sleep stage 1'], [39660.0, b'270', 'Sleep stage 2'], [39930.0, b'60', 'Sleep stage 1'], [39990.0, b'540', 'Sleep stage 2'], [40530.0, b'180', 'Sleep stage 3'], [40710.0, b'30', 'Sleep stage 2'], [40740.0, b'60', 'Sleep stage 3'], [40800.0, b'30', 'Sleep stage 2'], [40830.0, b'240', 'Sleep stage 3'], [41070.0, b'30', 'Sleep stage 2'], [41100.0, b'120', 'Sleep stage 3'], [41220.0, b'30', 'Movement time'], [41250.0, b'120', 'Sleep stage 2'], [41370.0, b'90', 'Sleep stage 3'], [41460.0, b'30', 'Sleep stage 2'], [41490.0, b'90', 'Sleep stage 4'], [41580.0, b'150', 'Sleep stage 2'], [41730.0, b'30', 'Sleep stage 3'], [41760.0, b'120', 'Sleep stage 2'], [41880.0, b'30', 'Sleep stage 3'], [41910.0, b'60', 'Sleep stage 2'], [41970.0, b'330', 'Sleep stage 3'], [42300.0, b'30', 'Sleep stage 4'], [42330.0, b'180', 'Sleep stage 3'], [42510.0, b'30', 'Sleep stage 2'], [42540.0, b'90', 'Sleep stage 3'], [42630.0, b'270', 'Sleep stage 2'], [42900.0, b'30', 'Sleep stage 3'], [42930.0, b'30', 'Sleep stage 2'], [42960.0, b'30', 'Sleep stage 3'], [42990.0, b'30', 'Sleep stage 2'], [43020.0, b'180', 'Sleep stage 3'], [43200.0, b'30', 'Sleep stage 2'], [43230.0, b'360', 'Sleep stage 3'], [43590.0, b'60', 'Sleep stage 4'], [43650.0, b'120', 'Sleep stage 3'], [43770.0, b'390', 'Sleep stage 2'], [44160.0, b'360', 'Sleep stage R'], [44520.0, b'30', 'Movement time'], [44550.0, b'780', 'Sleep stage R'], [45330.0, b'30', 'Movement time'], [45360.0, b'120', 'Sleep stage R'], [45480.0, b'90', 'Sleep stage 1'], [45570.0, b'360', 'Sleep stage R'], [45930.0, b'150', 'Sleep stage 1'], [46080.0, b'1890', 'Sleep stage 2'], [47970.0, b'30', 'Sleep stage 3'], [48000.0, b'480', 'Sleep stage 2'], [48480.0, b'30', 'Sleep stage 1'], [48510.0, b'420', 'Sleep stage 2'], [48930.0, b'30', 'Sleep stage 1'], [48960.0, b'60', 'Sleep stage 2'], [49020.0, b'60', 'Sleep stage 1'], [49080.0, b'840', 'Sleep stage 2'], [49920.0, b'60', 'Sleep stage 1'], [49980.0, b'120', 'Sleep stage 2'], [50100.0, b'60', 'Sleep stage 1'], [50160.0, b'60', 'Sleep stage 2'], [50220.0, b'240', 'Sleep stage 1'], [50460.0, b'120', 'Sleep stage W'], [50580.0, b'120', 'Sleep stage 1'], [50700.0, b'390', 'Sleep stage 2'], [51090.0, b'840', 'Sleep stage R'], [51930.0, b'30', 'Sleep stage 1'], [51960.0, b'270', 'Sleep stage R'], [52230.0, b'30', 'Sleep stage 1'], [52260.0, b'90', 'Sleep stage R'], [52350.0, b'90', 'Sleep stage 1'], [52440.0, b'270', 'Sleep stage R'], [52710.0, b'60', 'Sleep stage 1'], [52770.0, b'540', 'Sleep stage R'], [53310.0, b'30', 'Sleep stage 1'], [53340.0, b'300', 'Sleep stage R'], [53640.0, b'30', 'Sleep stage 1'], [53670.0, b'180', 'Sleep stage R'], [53850.0, b'120', 'Sleep stage 1'], [53970.0, b'510', 'Sleep stage 2'], [54480.0, b'30', 'Sleep stage W'], [54510.0, b'30', 'Sleep stage 1'], [54540.0, b'930', 'Sleep stage 2'], [55470.0, b'60', 'Sleep stage 1'], [55530.0, b'750', 'Sleep stage 2'], [56280.0, b'60', 'Sleep stage 1'], [56340.0, b'690', 'Sleep stage 2'], [57030.0, b'150', 'Sleep stage R'], [57180.0, b'30', 'Sleep stage 1'], [57210.0, b'90', 'Sleep stage R'], [57300.0, b'30', 'Sleep stage 1'], [57330.0, b'390', 'Sleep stage R'], [57720.0, b'30', 'Sleep stage 1'], [57750.0, b'300', 'Sleep stage R'], [58050.0, b'60', 'Sleep stage 1'], [58110.0, b'420', 'Sleep stage R'], [58530.0, b'30', 'Sleep stage 1'], [58560.0, b'270', 'Sleep stage R'], [58830.0, b'90', 'Sleep stage 2'], [58920.0, b'60', 'Sleep stage R'], [58980.0, b'30', 'Sleep stage 2'], [59010.0, b'30', 'Sleep stage R'], [59040.0, b'60', 'Sleep stage 1'], [59100.0, b'90', 'Sleep stage R'], [59190.0, b'60', 'Sleep stage 2'], [59250.0, b'30', 'Sleep stage R'], [59280.0, b'30', 'Sleep stage 2'], [59310.0, b'90', 'Sleep stage W'], [59400.0, b'120', 'Sleep stage 1'], [59520.0, b'30', 'Sleep stage 2'], [59550.0, b'30', 'Sleep stage 1'], [59580.0, b'1380', 'Sleep stage 2'], [60960.0, b'120', 'Sleep stage W'], [61080.0, b'60', 'Sleep stage 1'], [61140.0, b'90', 'Sleep stage 2'], [61230.0, b'60', 'Sleep stage 1'], [61290.0, b'270', 'Sleep stage 2'], [61560.0, b'60', 'Sleep stage W'], [61620.0, b'30', 'Sleep stage 1'], [61650.0, b'990', 'Sleep stage 2'], [62640.0, b'120', 'Sleep stage R'], [62760.0, b'30', 'Sleep stage 1'], [62790.0, b'240', 'Sleep stage R'], [63030.0, b'120', 'Sleep stage 1'], [63150.0, b'120', 'Sleep stage R'], [63270.0, b'60', 'Sleep stage 1'], [63330.0, b'270', 'Sleep stage R'], [63600.0, b'90', 'Sleep stage 1'], [63690.0, b'150', 'Sleep stage R'], [63840.0, b'60', 'Sleep stage 1'], [63900.0, b'180', 'Sleep stage R'], [64080.0, b'30', 'Sleep stage 1'], [64110.0, b'150', 'Sleep stage R'], [64260.0, b'30', 'Sleep stage 1'], [64290.0, b'90', 'Sleep stage R'], [64380.0, b'30', 'Sleep stage 1'], [64410.0, b'240', 'Sleep stage R'], [64650.0, b'30', 'Sleep stage W'], [64680.0, b'60', 'Sleep stage R'], [64740.0, b'19020', 'Sleep stage W'], [83760.0, b'2640', 'Sleep stage ?']]}\n"
          ],
          "name": "stdout"
        },
        {
          "output_type": "stream",
          "text": [
            "Reading Channels: 100%|██████████| 7/7 [00:02<00:00,  3.36it/s]\n"
          ],
          "name": "stderr"
        },
        {
          "output_type": "stream",
          "text": [
            "SC4042E0-PSG.edf file's signal & annotations start time is same\n"
          ],
          "name": "stdout"
        },
        {
          "output_type": "stream",
          "text": [
            "Reading Channels: 0it [00:00, ?it/s]\n",
            "Reading Channels:   0%|          | 0/7 [00:00<?, ?it/s]"
          ],
          "name": "stderr"
        },
        {
          "output_type": "stream",
          "text": [
            "SC4072E0-PSG.edf SC4072EH-Hypnogram.edf\n",
            "{'technician': '', 'recording_additional': '', 'patientname': 'Female 30yr', 'patient_additional': '', 'patientcode': '', 'equipment': '', 'admincode': '', 'gender': 'Female', 'startdate': datetime.datetime(1989, 2, 18, 17, 5), 'birthdate': '', 'annotations': [[0.0, b'19200', 'Sleep stage W'], [19200.0, b'30', 'Sleep stage 1'], [19230.0, b'390', 'Sleep stage W'], [19620.0, b'30', 'Sleep stage 1'], [19650.0, b'8040', 'Sleep stage W'], [27690.0, b'270', 'Sleep stage 1'], [27960.0, b'60', 'Sleep stage W'], [28020.0, b'240', 'Sleep stage 1'], [28260.0, b'480', 'Sleep stage 2'], [28740.0, b'90', 'Sleep stage 1'], [28830.0, b'180', 'Sleep stage 2'], [29010.0, b'30', 'Sleep stage 3'], [29040.0, b'60', 'Sleep stage 2'], [29100.0, b'30', 'Sleep stage 3'], [29130.0, b'30', 'Sleep stage 2'], [29160.0, b'30', 'Sleep stage 3'], [29190.0, b'60', 'Sleep stage 4'], [29250.0, b'90', 'Sleep stage 3'], [29340.0, b'1380', 'Sleep stage 4'], [30720.0, b'30', 'Sleep stage 3'], [30750.0, b'30', 'Sleep stage 4'], [30780.0, b'30', 'Sleep stage 3'], [30810.0, b'120', 'Sleep stage 2'], [30930.0, b'420', 'Sleep stage R'], [31350.0, b'30', 'Sleep stage W'], [31380.0, b'90', 'Sleep stage 1'], [31470.0, b'1260', 'Sleep stage 2'], [32730.0, b'30', 'Sleep stage 3'], [32760.0, b'30', 'Sleep stage 2'], [32790.0, b'150', 'Sleep stage 3'], [32940.0, b'30', 'Sleep stage 4'], [32970.0, b'30', 'Sleep stage 3'], [33000.0, b'840', 'Sleep stage 4'], [33840.0, b'30', 'Sleep stage 2'], [33870.0, b'30', 'Sleep stage 3'], [33900.0, b'120', 'Sleep stage 2'], [34020.0, b'30', 'Sleep stage 3'], [34050.0, b'30', 'Sleep stage 2'], [34080.0, b'30', 'Sleep stage 3'], [34110.0, b'60', 'Sleep stage 2'], [34170.0, b'30', 'Sleep stage 3'], [34200.0, b'60', 'Sleep stage 2'], [34260.0, b'90', 'Sleep stage 3'], [34350.0, b'120', 'Sleep stage 2'], [34470.0, b'30', 'Sleep stage R'], [34500.0, b'30', 'Sleep stage 2'], [34530.0, b'30', 'Sleep stage R'], [34560.0, b'30', 'Sleep stage 1'], [34590.0, b'90', 'Sleep stage 2'], [34680.0, b'30', 'Sleep stage R'], [34710.0, b'60', 'Sleep stage 1'], [34770.0, b'210', 'Sleep stage R'], [34980.0, b'90', 'Sleep stage 1'], [35070.0, b'30', 'Sleep stage R'], [35100.0, b'60', 'Sleep stage 1'], [35160.0, b'750', 'Sleep stage 2'], [35910.0, b'30', 'Sleep stage R'], [35940.0, b'270', 'Sleep stage 2'], [36210.0, b'90', 'Sleep stage R'], [36300.0, b'90', 'Sleep stage 2'], [36390.0, b'210', 'Sleep stage R'], [36600.0, b'90', 'Sleep stage 1'], [36690.0, b'240', 'Sleep stage R'], [36930.0, b'30', 'Sleep stage 1'], [36960.0, b'120', 'Sleep stage R'], [37080.0, b'120', 'Sleep stage 1'], [37200.0, b'90', 'Sleep stage R'], [37290.0, b'30', 'Sleep stage 1'], [37320.0, b'300', 'Sleep stage R'], [37620.0, b'60', 'Sleep stage 1'], [37680.0, b'300', 'Sleep stage R'], [37980.0, b'30', 'Sleep stage 1'], [38010.0, b'780', 'Sleep stage 2'], [38790.0, b'30', 'Sleep stage 3'], [38820.0, b'30', 'Sleep stage 4'], [38850.0, b'30', 'Sleep stage 3'], [38880.0, b'30', 'Sleep stage 2'], [38910.0, b'90', 'Sleep stage 3'], [39000.0, b'30', 'Sleep stage 4'], [39030.0, b'30', 'Sleep stage 3'], [39060.0, b'30', 'Sleep stage 4'], [39090.0, b'90', 'Sleep stage 3'], [39180.0, b'510', 'Sleep stage 4'], [39690.0, b'60', 'Sleep stage 3'], [39750.0, b'90', 'Sleep stage 2'], [39840.0, b'30', 'Sleep stage 3'], [39870.0, b'330', 'Sleep stage 2'], [40200.0, b'30', 'Sleep stage 3'], [40230.0, b'60', 'Sleep stage 2'], [40290.0, b'120', 'Sleep stage 3'], [40410.0, b'60', 'Sleep stage 4'], [40470.0, b'30', 'Sleep stage 3'], [40500.0, b'510', 'Sleep stage 4'], [41010.0, b'30', 'Sleep stage 3'], [41040.0, b'90', 'Sleep stage 2'], [41130.0, b'30', 'Sleep stage 3'], [41160.0, b'750', 'Sleep stage 2'], [41910.0, b'30', 'Sleep stage 3'], [41940.0, b'930', 'Sleep stage 2'], [42870.0, b'240', 'Sleep stage R'], [43110.0, b'30', 'Sleep stage 1'], [43140.0, b'150', 'Sleep stage R'], [43290.0, b'30', 'Sleep stage 1'], [43320.0, b'30', 'Sleep stage R'], [43350.0, b'60', 'Sleep stage 1'], [43410.0, b'30', 'Sleep stage 2'], [43440.0, b'90', 'Sleep stage R'], [43530.0, b'30', 'Sleep stage 1'], [43560.0, b'240', 'Sleep stage R'], [43800.0, b'30', 'Sleep stage 1'], [43830.0, b'240', 'Sleep stage R'], [44070.0, b'30', 'Sleep stage 1'], [44100.0, b'90', 'Sleep stage R'], [44190.0, b'30', 'Sleep stage W'], [44220.0, b'60', 'Sleep stage 1'], [44280.0, b'30', 'Sleep stage R'], [44310.0, b'60', 'Sleep stage 1'], [44370.0, b'420', 'Sleep stage R'], [44790.0, b'90', 'Sleep stage 1'], [44880.0, b'270', 'Sleep stage R'], [45150.0, b'60', 'Sleep stage 1'], [45210.0, b'90', 'Sleep stage 2'], [45300.0, b'420', 'Sleep stage R'], [45720.0, b'90', 'Sleep stage 1'], [45810.0, b'1350', 'Sleep stage 2'], [47160.0, b'30', 'Sleep stage 3'], [47190.0, b'90', 'Sleep stage 2'], [47280.0, b'30', 'Sleep stage 3'], [47310.0, b'30', 'Sleep stage 2'], [47340.0, b'60', 'Sleep stage 3'], [47400.0, b'60', 'Sleep stage 2'], [47460.0, b'90', 'Sleep stage 3'], [47550.0, b'30', 'Sleep stage 2'], [47580.0, b'60', 'Sleep stage 4'], [47640.0, b'30', 'Sleep stage 3'], [47670.0, b'30', 'Sleep stage 4'], [47700.0, b'120', 'Sleep stage 3'], [47820.0, b'60', 'Sleep stage 4'], [47880.0, b'30', 'Sleep stage 3'], [47910.0, b'60', 'Sleep stage 4'], [47970.0, b'30', 'Sleep stage 3'], [48000.0, b'360', 'Sleep stage 4'], [48360.0, b'30', 'Sleep stage 3'], [48390.0, b'120', 'Sleep stage 4'], [48510.0, b'30', 'Sleep stage 3'], [48540.0, b'690', 'Sleep stage 4'], [49230.0, b'60', 'Sleep stage 2'], [49290.0, b'30', 'Sleep stage 1'], [49320.0, b'120', 'Sleep stage 2'], [49440.0, b'30', 'Sleep stage 1'], [49470.0, b'150', 'Sleep stage 2'], [49620.0, b'150', 'Sleep stage R'], [49770.0, b'30', 'Sleep stage 1'], [49800.0, b'120', 'Sleep stage R'], [49920.0, b'30', 'Sleep stage 1'], [49950.0, b'60', 'Sleep stage R'], [50010.0, b'60', 'Sleep stage 1'], [50070.0, b'180', 'Sleep stage R'], [50250.0, b'120', 'Sleep stage 1'], [50370.0, b'150', 'Sleep stage 2'], [50520.0, b'150', 'Sleep stage R'], [50670.0, b'30', 'Sleep stage 1'], [50700.0, b'780', 'Sleep stage 2'], [51480.0, b'30', 'Sleep stage W'], [51510.0, b'30', 'Sleep stage 1'], [51540.0, b'750', 'Sleep stage 2'], [52290.0, b'30', 'Sleep stage 1'], [52320.0, b'360', 'Sleep stage 2'], [52680.0, b'60', 'Sleep stage 1'], [52740.0, b'450', 'Sleep stage 2'], [53190.0, b'30', 'Sleep stage W'], [53220.0, b'30', 'Sleep stage 1'], [53250.0, b'210', 'Sleep stage 2'], [53460.0, b'60', 'Sleep stage 1'], [53520.0, b'180', 'Sleep stage 2'], [53700.0, b'30', 'Sleep stage R'], [53730.0, b'60', 'Sleep stage 1'], [53790.0, b'29310', 'Sleep stage W'], [83100.0, b'3300', 'Sleep stage ?']]}\n"
          ],
          "name": "stdout"
        },
        {
          "output_type": "stream",
          "text": [
            "Reading Channels: 100%|██████████| 7/7 [00:02<00:00,  3.38it/s]\n"
          ],
          "name": "stderr"
        },
        {
          "output_type": "stream",
          "text": [
            "SC4072E0-PSG.edf file's signal & annotations start time is same\n"
          ],
          "name": "stdout"
        },
        {
          "output_type": "stream",
          "text": [
            "Reading Channels: 0it [00:00, ?it/s]"
          ],
          "name": "stderr"
        },
        {
          "output_type": "stream",
          "text": [
            "SC4041E0-PSG.edf SC4041EC-Hypnogram.edf\n",
            "{'technician': '', 'recording_additional': '', 'patientname': 'Female 34yr', 'patient_additional': '', 'patientcode': '', 'equipment': '', 'admincode': '', 'gender': 'Female', 'startdate': datetime.datetime(1989, 4, 24, 16, 50), 'birthdate': '', 'annotations': [[0.0, b'24360', 'Sleep stage W'], [24360.0, b'270', 'Sleep stage 1'], [24630.0, b'120', 'Sleep stage W'], [24750.0, b'570', 'Sleep stage 1'], [25320.0, b'690', 'Sleep stage 2'], [26010.0, b'120', 'Sleep stage W'], [26130.0, b'360', 'Sleep stage 1'], [26490.0, b'660', 'Sleep stage 2'], [27150.0, b'120', 'Sleep stage 1'], [27270.0, b'300', 'Sleep stage 2'], [27570.0, b'30', 'Sleep stage 3'], [27600.0, b'60', 'Sleep stage 2'], [27660.0, b'30', 'Sleep stage 1'], [27690.0, b'300', 'Sleep stage 2'], [27990.0, b'90', 'Sleep stage 3'], [28080.0, b'30', 'Sleep stage 2'], [28110.0, b'30', 'Sleep stage 3'], [28140.0, b'210', 'Sleep stage 2'], [28350.0, b'30', 'Sleep stage 3'], [28380.0, b'300', 'Sleep stage 2'], [28680.0, b'450', 'Sleep stage R'], [29130.0, b'150', 'Sleep stage 1'], [29280.0, b'690', 'Sleep stage 2'], [29970.0, b'30', 'Sleep stage 3'], [30000.0, b'60', 'Sleep stage 2'], [30060.0, b'30', 'Sleep stage 3'], [30090.0, b'210', 'Sleep stage 2'], [30300.0, b'30', 'Sleep stage 3'], [30330.0, b'30', 'Sleep stage 2'], [30360.0, b'30', 'Sleep stage 3'], [30390.0, b'60', 'Sleep stage 2'], [30450.0, b'600', 'Sleep stage 3'], [31050.0, b'60', 'Sleep stage 2'], [31110.0, b'180', 'Sleep stage 3'], [31290.0, b'90', 'Sleep stage W'], [31380.0, b'120', 'Sleep stage 1'], [31500.0, b'270', 'Sleep stage 2'], [31770.0, b'30', 'Sleep stage W'], [31800.0, b'30', 'Sleep stage 1'], [31830.0, b'210', 'Sleep stage 2'], [32040.0, b'60', 'Sleep stage 1'], [32100.0, b'330', 'Sleep stage 2'], [32430.0, b'60', 'Sleep stage 1'], [32490.0, b'810', 'Sleep stage 2'], [33300.0, b'60', 'Sleep stage 1'], [33360.0, b'270', 'Sleep stage 2'], [33630.0, b'420', 'Sleep stage R'], [34050.0, b'60', 'Sleep stage 1'], [34110.0, b'210', 'Sleep stage R'], [34320.0, b'60', 'Sleep stage 1'], [34380.0, b'150', 'Sleep stage R'], [34530.0, b'210', 'Sleep stage 1'], [34740.0, b'900', 'Sleep stage 2'], [35640.0, b'30', 'Sleep stage 1'], [35670.0, b'150', 'Sleep stage 2'], [35820.0, b'60', 'Sleep stage 1'], [35880.0, b'390', 'Sleep stage 2'], [36270.0, b'120', 'Sleep stage 1'], [36390.0, b'1560', 'Sleep stage 2'], [37950.0, b'30', 'Sleep stage 3'], [37980.0, b'150', 'Sleep stage 2'], [38130.0, b'150', 'Sleep stage 3'], [38280.0, b'30', 'Sleep stage 2'], [38310.0, b'30', 'Sleep stage 3'], [38340.0, b'30', 'Sleep stage 2'], [38370.0, b'270', 'Sleep stage 3'], [38640.0, b'960', 'Sleep stage 2'], [39600.0, b'240', 'Sleep stage R'], [39840.0, b'60', 'Sleep stage 1'], [39900.0, b'60', 'Sleep stage R'], [39960.0, b'270', 'Sleep stage 1'], [40230.0, b'390', 'Sleep stage 2'], [40620.0, b'360', 'Sleep stage R'], [40980.0, b'30', 'Movement time'], [41010.0, b'210', 'Sleep stage R'], [41220.0, b'60', 'Sleep stage 1'], [41280.0, b'210', 'Sleep stage R'], [41490.0, b'30', 'Sleep stage W'], [41520.0, b'120', 'Sleep stage 1'], [41640.0, b'360', 'Sleep stage 2'], [42000.0, b'30', 'Sleep stage 1'], [42030.0, b'2130', 'Sleep stage 2'], [44160.0, b'30', 'Sleep stage 3'], [44190.0, b'450', 'Sleep stage 2'], [44640.0, b'30', 'Sleep stage W'], [44670.0, b'30', 'Sleep stage 1'], [44700.0, b'240', 'Sleep stage 2'], [44940.0, b'210', 'Sleep stage W'], [45150.0, b'240', 'Sleep stage 1'], [45390.0, b'570', 'Sleep stage 2'], [45960.0, b'270', 'Sleep stage R'], [46230.0, b'30', 'Sleep stage W'], [46260.0, b'30', 'Sleep stage 1'], [46290.0, b'270', 'Sleep stage R'], [46560.0, b'60', 'Sleep stage W'], [46620.0, b'60', 'Sleep stage 1'], [46680.0, b'90', 'Sleep stage R'], [46770.0, b'30', 'Sleep stage W'], [46800.0, b'120', 'Sleep stage R'], [46920.0, b'510', 'Sleep stage 1'], [47430.0, b'60', 'Sleep stage W'], [47490.0, b'60', 'Sleep stage 1'], [47550.0, b'930', 'Sleep stage 2'], [48480.0, b'60', 'Sleep stage W'], [48540.0, b'30', 'Sleep stage 1'], [48570.0, b'960', 'Sleep stage 2'], [49530.0, b'60', 'Sleep stage W'], [49590.0, b'30', 'Sleep stage 1'], [49620.0, b'240', 'Sleep stage 2'], [49860.0, b'60', 'Sleep stage W'], [49920.0, b'60', 'Sleep stage 1'], [49980.0, b'330', 'Sleep stage 2'], [50310.0, b'90', 'Sleep stage R'], [50400.0, b'30', 'Sleep stage W'], [50430.0, b'90', 'Sleep stage R'], [50520.0, b'30', 'Sleep stage W'], [50550.0, b'240', 'Sleep stage R'], [50790.0, b'90', 'Sleep stage W'], [50880.0, b'420', 'Sleep stage R'], [51300.0, b'30', 'Sleep stage W'], [51330.0, b'120', 'Sleep stage R'], [51450.0, b'30', 'Sleep stage W'], [51480.0, b'420', 'Sleep stage R'], [51900.0, b'60', 'Sleep stage W'], [51960.0, b'420', 'Sleep stage R'], [52380.0, b'60', 'Sleep stage W'], [52440.0, b'90', 'Sleep stage 1'], [52530.0, b'600', 'Sleep stage W'], [53130.0, b'330', 'Sleep stage 1'], [53460.0, b'30', 'Sleep stage 2'], [53490.0, b'60', 'Sleep stage 1'], [53550.0, b'240', 'Sleep stage 2'], [53790.0, b'30', 'Sleep stage W'], [53820.0, b'30', 'Sleep stage 1'], [53850.0, b'60', 'Sleep stage 2'], [53910.0, b'120', 'Sleep stage 1'], [54030.0, b'210', 'Sleep stage 2'], [54240.0, b'30', 'Sleep stage 1'], [54270.0, b'90', 'Sleep stage 2'], [54360.0, b'60', 'Sleep stage 1'], [54420.0, b'180', 'Sleep stage W'], [54600.0, b'120', 'Sleep stage 1'], [54720.0, b'270', 'Sleep stage 2'], [54990.0, b'30', 'Sleep stage 1'], [55020.0, b'90', 'Sleep stage 2'], [55110.0, b'30', 'Sleep stage 1'], [55140.0, b'570', 'Sleep stage 2'], [55710.0, b'30', 'Sleep stage 1'], [55740.0, b'690', 'Sleep stage 2'], [56430.0, b'30', 'Sleep stage R'], [56460.0, b'30', 'Sleep stage W'], [56490.0, b'330', 'Sleep stage R'], [56820.0, b'30', 'Sleep stage W'], [56850.0, b'60', 'Sleep stage R'], [56910.0, b'30', 'Sleep stage W'], [56940.0, b'600', 'Sleep stage R'], [57540.0, b'180', 'Sleep stage W'], [57720.0, b'90', 'Sleep stage 1'], [57810.0, b'30', 'Sleep stage 2'], [57840.0, b'19260', 'Sleep stage W'], [77100.0, b'9300', 'Sleep stage ?']]}\n"
          ],
          "name": "stdout"
        },
        {
          "output_type": "stream",
          "text": [
            "\n",
            "Reading Channels: 100%|██████████| 7/7 [00:01<00:00,  3.62it/s]\n"
          ],
          "name": "stderr"
        },
        {
          "output_type": "stream",
          "text": [
            "SC4041E0-PSG.edf file's signal & annotations start time is same\n"
          ],
          "name": "stdout"
        },
        {
          "output_type": "stream",
          "text": [
            "Reading Channels: 0it [00:00, ?it/s]\n",
            "Reading Channels:   0%|          | 0/7 [00:00<?, ?it/s]"
          ],
          "name": "stderr"
        },
        {
          "output_type": "stream",
          "text": [
            "SC4111E0-PSG.edf SC4111EC-Hypnogram.edf\n",
            "{'technician': '', 'recording_additional': '', 'patientname': 'Male 26yr', 'patient_additional': '', 'patientcode': '', 'equipment': '', 'admincode': '', 'gender': 'Male', 'startdate': datetime.datetime(1989, 5, 1, 16, 29), 'birthdate': '', 'annotations': [[0.0, b'28050', 'Sleep stage W'], [28050.0, b'60', 'Sleep stage 1'], [28110.0, b'60', 'Sleep stage W'], [28170.0, b'180', 'Sleep stage 1'], [28350.0, b'570', 'Sleep stage 2'], [28920.0, b'60', 'Sleep stage W'], [28980.0, b'30', 'Sleep stage 1'], [29010.0, b'30', 'Sleep stage W'], [29040.0, b'60', 'Sleep stage 1'], [29100.0, b'720', 'Sleep stage 2'], [29820.0, b'30', 'Sleep stage 3'], [29850.0, b'60', 'Sleep stage 2'], [29910.0, b'30', 'Sleep stage 3'], [29940.0, b'60', 'Sleep stage 2'], [30000.0, b'30', 'Sleep stage 3'], [30030.0, b'30', 'Sleep stage 2'], [30060.0, b'30', 'Sleep stage 3'], [30090.0, b'90', 'Sleep stage 2'], [30180.0, b'30', 'Sleep stage 3'], [30210.0, b'60', 'Sleep stage 2'], [30270.0, b'90', 'Sleep stage 3'], [30360.0, b'30', 'Sleep stage 2'], [30390.0, b'120', 'Sleep stage 3'], [30510.0, b'60', 'Sleep stage 4'], [30570.0, b'30', 'Sleep stage 3'], [30600.0, b'60', 'Sleep stage 1'], [30660.0, b'30', 'Sleep stage 3'], [30690.0, b'450', 'Sleep stage 2'], [31140.0, b'30', 'Sleep stage 4'], [31170.0, b'30', 'Sleep stage 3'], [31200.0, b'180', 'Sleep stage 2'], [31380.0, b'30', 'Sleep stage 3'], [31410.0, b'330', 'Sleep stage 2'], [31740.0, b'30', 'Sleep stage 3'], [31770.0, b'30', 'Sleep stage 2'], [31800.0, b'30', 'Sleep stage 3'], [31830.0, b'30', 'Sleep stage 2'], [31860.0, b'90', 'Sleep stage 3'], [31950.0, b'30', 'Sleep stage 4'], [31980.0, b'90', 'Sleep stage 3'], [32070.0, b'120', 'Sleep stage 4'], [32190.0, b'60', 'Sleep stage 3'], [32250.0, b'60', 'Sleep stage 4'], [32310.0, b'30', 'Sleep stage 3'], [32340.0, b'570', 'Sleep stage 4'], [32910.0, b'30', 'Sleep stage 3'], [32940.0, b'480', 'Sleep stage 4'], [33420.0, b'150', 'Sleep stage 3'], [33570.0, b'30', 'Sleep stage 2'], [33600.0, b'30', 'Sleep stage 3'], [33630.0, b'90', 'Sleep stage 2'], [33720.0, b'30', 'Sleep stage 3'], [33750.0, b'60', 'Sleep stage 2'], [33810.0, b'30', 'Sleep stage 3'], [33840.0, b'300', 'Sleep stage 2'], [34140.0, b'810', 'Sleep stage R'], [34950.0, b'60', 'Sleep stage 2'], [35010.0, b'30', 'Sleep stage 3'], [35040.0, b'180', 'Sleep stage 2'], [35220.0, b'30', 'Movement time'], [35250.0, b'690', 'Sleep stage 2'], [35940.0, b'30', 'Sleep stage 3'], [35970.0, b'30', 'Sleep stage 2'], [36000.0, b'30', 'Sleep stage 3'], [36030.0, b'390', 'Sleep stage 2'], [36420.0, b'60', 'Sleep stage 3'], [36480.0, b'60', 'Sleep stage 2'], [36540.0, b'30', 'Sleep stage 3'], [36570.0, b'90', 'Sleep stage 2'], [36660.0, b'30', 'Sleep stage 3'], [36690.0, b'30', 'Sleep stage 2'], [36720.0, b'30', 'Sleep stage 3'], [36750.0, b'60', 'Sleep stage 2'], [36810.0, b'60', 'Sleep stage 3'], [36870.0, b'90', 'Sleep stage 2'], [36960.0, b'60', 'Sleep stage 3'], [37020.0, b'30', 'Sleep stage 2'], [37050.0, b'90', 'Sleep stage 3'], [37140.0, b'30', 'Sleep stage 2'], [37170.0, b'210', 'Sleep stage 3'], [37380.0, b'120', 'Sleep stage 4'], [37500.0, b'30', 'Sleep stage 3'], [37530.0, b'120', 'Sleep stage 2'], [37650.0, b'30', 'Sleep stage 3'], [37680.0, b'240', 'Sleep stage 2'], [37920.0, b'30', 'Sleep stage 3'], [37950.0, b'660', 'Sleep stage 2'], [38610.0, b'30', 'Sleep stage 3'], [38640.0, b'150', 'Sleep stage 2'], [38790.0, b'30', 'Sleep stage 3'], [38820.0, b'930', 'Sleep stage 2'], [39750.0, b'1590', 'Sleep stage R'], [41340.0, b'30', 'Sleep stage W'], [41370.0, b'150', 'Sleep stage 2'], [41520.0, b'1170', 'Sleep stage R'], [42690.0, b'1710', 'Sleep stage 2'], [44400.0, b'30', 'Sleep stage 3'], [44430.0, b'30', 'Sleep stage 2'], [44460.0, b'120', 'Sleep stage 3'], [44580.0, b'120', 'Sleep stage 2'], [44700.0, b'90', 'Sleep stage 3'], [44790.0, b'3030', 'Sleep stage 2'], [47820.0, b'30', 'Sleep stage 3'], [47850.0, b'90', 'Sleep stage 2'], [47940.0, b'450', 'Sleep stage R'], [48390.0, b'150', 'Sleep stage 2'], [48540.0, b'570', 'Sleep stage R'], [49110.0, b'270', 'Sleep stage 2'], [49380.0, b'150', 'Sleep stage R'], [49530.0, b'1950', 'Sleep stage 2'], [51480.0, b'30', 'Sleep stage 3'], [51510.0, b'90', 'Sleep stage 2'], [51600.0, b'30', 'Sleep stage 3'], [51630.0, b'120', 'Sleep stage 2'], [51750.0, b'30', 'Sleep stage 3'], [51780.0, b'30', 'Sleep stage 2'], [51810.0, b'60', 'Sleep stage 3'], [51870.0, b'180', 'Sleep stage 2'], [52050.0, b'30', 'Sleep stage 3'], [52080.0, b'30', 'Sleep stage 2'], [52110.0, b'30', 'Sleep stage 3'], [52140.0, b'30', 'Sleep stage 2'], [52170.0, b'30', 'Sleep stage 3'], [52200.0, b'120', 'Sleep stage 2'], [52320.0, b'26940', 'Sleep stage W'], [79260.0, b'7140', 'Sleep stage ?']]}\n"
          ],
          "name": "stdout"
        },
        {
          "output_type": "stream",
          "text": [
            "Reading Channels: 100%|██████████| 7/7 [00:01<00:00,  3.50it/s]\n"
          ],
          "name": "stderr"
        },
        {
          "output_type": "stream",
          "text": [
            "SC4111E0-PSG.edf file's signal & annotations start time is same\n"
          ],
          "name": "stdout"
        },
        {
          "output_type": "stream",
          "text": [
            "Reading Channels: 0it [00:00, ?it/s]"
          ],
          "name": "stderr"
        },
        {
          "output_type": "stream",
          "text": [
            "SC4071E0-PSG.edf SC4071EC-Hypnogram.edf\n",
            "{'technician': '', 'recording_additional': '', 'patientname': 'Female 30yr', 'patient_additional': '', 'patientcode': '', 'equipment': '', 'admincode': '', 'gender': 'Female', 'startdate': datetime.datetime(1989, 5, 17, 17, 5), 'birthdate': '', 'annotations': [[0.0, b'27990', 'Sleep stage W'], [27990.0, b'660', 'Sleep stage 1'], [28650.0, b'270', 'Sleep stage 2'], [28920.0, b'60', 'Sleep stage 1'], [28980.0, b'510', 'Sleep stage 2'], [29490.0, b'360', 'Sleep stage 3'], [29850.0, b'30', 'Sleep stage 4'], [29880.0, b'90', 'Sleep stage 3'], [29970.0, b'30', 'Sleep stage 4'], [30000.0, b'120', 'Sleep stage 3'], [30120.0, b'180', 'Sleep stage 4'], [30300.0, b'30', 'Sleep stage 3'], [30330.0, b'60', 'Sleep stage 4'], [30390.0, b'30', 'Sleep stage 3'], [30420.0, b'120', 'Sleep stage 1'], [30540.0, b'570', 'Sleep stage 2'], [31110.0, b'120', 'Sleep stage 3'], [31230.0, b'60', 'Sleep stage 2'], [31290.0, b'30', 'Sleep stage 3'], [31320.0, b'180', 'Sleep stage 2'], [31500.0, b'840', 'Sleep stage R'], [32340.0, b'180', 'Sleep stage 1'], [32520.0, b'690', 'Sleep stage 2'], [33210.0, b'180', 'Sleep stage 3'], [33390.0, b'120', 'Sleep stage 4'], [33510.0, b'30', 'Sleep stage 3'], [33540.0, b'270', 'Sleep stage 4'], [33810.0, b'90', 'Sleep stage 3'], [33900.0, b'300', 'Sleep stage 2'], [34200.0, b'30', 'Sleep stage 3'], [34230.0, b'30', 'Sleep stage 2'], [34260.0, b'30', 'Sleep stage 3'], [34290.0, b'240', 'Sleep stage 4'], [34530.0, b'30', 'Sleep stage 3'], [34560.0, b'420', 'Sleep stage 4'], [34980.0, b'30', 'Sleep stage 3'], [35010.0, b'360', 'Sleep stage 4'], [35370.0, b'30', 'Sleep stage 3'], [35400.0, b'450', 'Sleep stage 4'], [35850.0, b'30', 'Sleep stage 3'], [35880.0, b'60', 'Sleep stage 4'], [35940.0, b'120', 'Sleep stage 3'], [36060.0, b'510', 'Sleep stage 2'], [36570.0, b'1020', 'Sleep stage R'], [37590.0, b'60', 'Sleep stage 1'], [37650.0, b'1650', 'Sleep stage 2'], [39300.0, b'30', 'Sleep stage 3'], [39330.0, b'480', 'Sleep stage 2'], [39810.0, b'30', 'Sleep stage 3'], [39840.0, b'60', 'Sleep stage 2'], [39900.0, b'270', 'Sleep stage 3'], [40170.0, b'60', 'Sleep stage 4'], [40230.0, b'60', 'Sleep stage 3'], [40290.0, b'30', 'Sleep stage 4'], [40320.0, b'180', 'Sleep stage 3'], [40500.0, b'30', 'Sleep stage 4'], [40530.0, b'30', 'Sleep stage 3'], [40560.0, b'390', 'Sleep stage 2'], [40950.0, b'780', 'Sleep stage R'], [41730.0, b'60', 'Sleep stage 1'], [41790.0, b'150', 'Sleep stage 2'], [41940.0, b'240', 'Sleep stage R'], [42180.0, b'300', 'Sleep stage 2'], [42480.0, b'900', 'Sleep stage R'], [43380.0, b'1500', 'Sleep stage 2'], [44880.0, b'300', 'Sleep stage 3'], [45180.0, b'30', 'Sleep stage 2'], [45210.0, b'30', 'Sleep stage 3'], [45240.0, b'30', 'Sleep stage 2'], [45270.0, b'30', 'Sleep stage 3'], [45300.0, b'30', 'Sleep stage 4'], [45330.0, b'60', 'Sleep stage 3'], [45390.0, b'90', 'Sleep stage 4'], [45480.0, b'30', 'Sleep stage 2'], [45510.0, b'30', 'Sleep stage 1'], [45540.0, b'570', 'Sleep stage 2'], [46110.0, b'60', 'Sleep stage 1'], [46170.0, b'630', 'Sleep stage 2'], [46800.0, b'90', 'Sleep stage 1'], [46890.0, b'390', 'Sleep stage 2'], [47280.0, b'60', 'Sleep stage 1'], [47340.0, b'90', 'Sleep stage 2'], [47430.0, b'570', 'Sleep stage R'], [48000.0, b'60', 'Sleep stage 1'], [48060.0, b'330', 'Sleep stage R'], [48390.0, b'60', 'Sleep stage 1'], [48450.0, b'180', 'Sleep stage R'], [48630.0, b'60', 'Sleep stage 1'], [48690.0, b'30', 'Sleep stage 2'], [48720.0, b'420', 'Sleep stage R'], [49140.0, b'60', 'Sleep stage 1'], [49200.0, b'60', 'Sleep stage 2'], [49260.0, b'300', 'Sleep stage R'], [49560.0, b'60', 'Sleep stage 1'], [49620.0, b'360', 'Sleep stage R'], [49980.0, b'150', 'Sleep stage 1'], [50130.0, b'180', 'Sleep stage 2'], [50310.0, b'90', 'Sleep stage 1'], [50400.0, b'450', 'Sleep stage 2'], [50850.0, b'30', 'Sleep stage 1'], [50880.0, b'150', 'Sleep stage 2'], [51030.0, b'60', 'Sleep stage 1'], [51090.0, b'750', 'Sleep stage 2'], [51840.0, b'30', 'Sleep stage 1'], [51870.0, b'540', 'Sleep stage 2'], [52410.0, b'60', 'Sleep stage W'], [52470.0, b'360', 'Sleep stage 1'], [52830.0, b'60', 'Sleep stage 2'], [52890.0, b'30', 'Sleep stage W'], [52920.0, b'150', 'Sleep stage 1'], [53070.0, b'240', 'Sleep stage 2'], [53310.0, b'30', 'Sleep stage W'], [53340.0, b'120', 'Sleep stage 1'], [53460.0, b'210', 'Sleep stage 2'], [53670.0, b'30630', 'Sleep stage W'], [84300.0, b'2100', 'Sleep stage ?']]}\n"
          ],
          "name": "stdout"
        },
        {
          "output_type": "stream",
          "text": [
            "\n",
            "Reading Channels: 100%|██████████| 7/7 [00:02<00:00,  3.39it/s]\n"
          ],
          "name": "stderr"
        },
        {
          "output_type": "stream",
          "text": [
            "SC4071E0-PSG.edf file's signal & annotations start time is same\n"
          ],
          "name": "stdout"
        },
        {
          "output_type": "stream",
          "text": [
            "Reading Channels: 0it [00:00, ?it/s]\n",
            "Reading Channels:   0%|          | 0/7 [00:00<?, ?it/s]"
          ],
          "name": "stderr"
        },
        {
          "output_type": "stream",
          "text": [
            "SC4092E0-PSG.edf SC4092EC-Hypnogram.edf\n",
            "{'technician': '', 'recording_additional': '', 'patientname': 'Female 25yr', 'patient_additional': '', 'patientcode': '', 'equipment': '', 'admincode': '', 'gender': 'Female', 'startdate': datetime.datetime(1989, 6, 6, 15, 33), 'birthdate': '', 'annotations': [[0.0, b'26910', 'Sleep stage W'], [26910.0, b'540', 'Sleep stage 1'], [27450.0, b'1080', 'Sleep stage 2'], [28530.0, b'240', 'Sleep stage 3'], [28770.0, b'60', 'Sleep stage 1'], [28830.0, b'300', 'Sleep stage 2'], [29130.0, b'30', 'Sleep stage 1'], [29160.0, b'330', 'Sleep stage 2'], [29490.0, b'90', 'Sleep stage 3'], [29580.0, b'90', 'Sleep stage 2'], [29670.0, b'30', 'Sleep stage 3'], [29700.0, b'750', 'Sleep stage 2'], [30450.0, b'720', 'Sleep stage R'], [31170.0, b'30', 'Movement time'], [31200.0, b'540', 'Sleep stage R'], [31740.0, b'30', 'Movement time'], [31770.0, b'120', 'Sleep stage 1'], [31890.0, b'1050', 'Sleep stage 2'], [32940.0, b'300', 'Sleep stage 3'], [33240.0, b'30', 'Sleep stage 4'], [33270.0, b'420', 'Sleep stage 3'], [33690.0, b'30', 'Sleep stage 4'], [33720.0, b'390', 'Sleep stage 3'], [34110.0, b'30', 'Sleep stage 4'], [34140.0, b'480', 'Sleep stage 3'], [34620.0, b'30', 'Movement time'], [34650.0, b'90', 'Sleep stage 1'], [34740.0, b'90', 'Sleep stage 2'], [34830.0, b'30', 'Sleep stage 1'], [34860.0, b'30', 'Sleep stage 2'], [34890.0, b'60', 'Sleep stage 1'], [34950.0, b'240', 'Sleep stage 2'], [35190.0, b'1350', 'Sleep stage R'], [36540.0, b'360', 'Sleep stage 2'], [36900.0, b'180', 'Sleep stage W'], [37080.0, b'120', 'Sleep stage 1'], [37200.0, b'210', 'Sleep stage 2'], [37410.0, b'90', 'Sleep stage 1'], [37500.0, b'1050', 'Sleep stage 2'], [38550.0, b'30', 'Sleep stage 3'], [38580.0, b'120', 'Sleep stage 2'], [38700.0, b'150', 'Sleep stage 3'], [38850.0, b'120', 'Sleep stage 2'], [38970.0, b'30', 'Sleep stage 3'], [39000.0, b'30', 'Sleep stage 2'], [39030.0, b'510', 'Sleep stage 3'], [39540.0, b'30', 'Sleep stage 4'], [39570.0, b'390', 'Sleep stage 3'], [39960.0, b'30', 'Movement time'], [39990.0, b'60', 'Sleep stage 1'], [40050.0, b'330', 'Sleep stage 2'], [40380.0, b'30', 'Sleep stage 1'], [40410.0, b'150', 'Sleep stage 2'], [40560.0, b'1080', 'Sleep stage R'], [41640.0, b'60', 'Sleep stage 1'], [41700.0, b'540', 'Sleep stage 2'], [42240.0, b'30', 'Sleep stage 1'], [42270.0, b'690', 'Sleep stage 2'], [42960.0, b'30', 'Sleep stage 1'], [42990.0, b'1020', 'Sleep stage 2'], [44010.0, b'30', 'Sleep stage 1'], [44040.0, b'390', 'Sleep stage 2'], [44430.0, b'60', 'Sleep stage 1'], [44490.0, b'90', 'Sleep stage 2'], [44580.0, b'480', 'Sleep stage R'], [45060.0, b'30', 'Movement time'], [45090.0, b'840', 'Sleep stage R'], [45930.0, b'30', 'Sleep stage W'], [45960.0, b'390', 'Sleep stage R'], [46350.0, b'1470', 'Sleep stage 2'], [47820.0, b'30', 'Sleep stage 3'], [47850.0, b'120', 'Sleep stage 2'], [47970.0, b'30', 'Movement time'], [48000.0, b'30', 'Sleep stage 1'], [48030.0, b'540', 'Sleep stage 2'], [48570.0, b'30', 'Movement time'], [48600.0, b'1170', 'Sleep stage 2'], [49770.0, b'30', 'Sleep stage 1'], [49800.0, b'90', 'Sleep stage 2'], [49890.0, b'570', 'Sleep stage R'], [50460.0, b'30', 'Movement time'], [50490.0, b'300', 'Sleep stage R'], [50790.0, b'30', 'Sleep stage 1'], [50820.0, b'630', 'Sleep stage R'], [51450.0, b'30', 'Movement time'], [51480.0, b'450', 'Sleep stage R'], [51930.0, b'30', 'Movement time'], [51960.0, b'30', 'Sleep stage W'], [51990.0, b'30', 'Sleep stage 1'], [52020.0, b'360', 'Sleep stage W'], [52380.0, b'180', 'Sleep stage 1'], [52560.0, b'1140', 'Sleep stage 2'], [53700.0, b'30', 'Movement time'], [53730.0, b'120', 'Sleep stage 1'], [53850.0, b'780', 'Sleep stage 2'], [54630.0, b'600', 'Sleep stage R'], [55230.0, b'120', 'Sleep stage 1'], [55350.0, b'210', 'Sleep stage 2'], [55560.0, b'30', 'Sleep stage 1'], [55590.0, b'30', 'Sleep stage 2'], [55620.0, b'180', 'Sleep stage 1'], [55800.0, b'180', 'Sleep stage 2'], [55980.0, b'60', 'Sleep stage 1'], [56040.0, b'300', 'Sleep stage 2'], [56340.0, b'30', 'Sleep stage 1'], [56370.0, b'120', 'Sleep stage 2'], [56490.0, b'60', 'Sleep stage 1'], [56550.0, b'30', 'Sleep stage 2'], [56580.0, b'60', 'Sleep stage 1'], [56640.0, b'90', 'Sleep stage 2'], [56730.0, b'30', 'Sleep stage 1'], [56760.0, b'30', 'Sleep stage 2'], [56790.0, b'30', 'Movement time'], [56820.0, b'4830', 'Sleep stage W'], [61650.0, b'24060', 'Sleep stage ?'], [85710.0, b'30', 'Sleep stage W'], [85740.0, b'660', 'Sleep stage ?']]}\n"
          ],
          "name": "stdout"
        },
        {
          "output_type": "stream",
          "text": [
            "Reading Channels: 100%|██████████| 7/7 [00:02<00:00,  3.27it/s]\n"
          ],
          "name": "stderr"
        },
        {
          "output_type": "stream",
          "text": [
            "SC4092E0-PSG.edf file's signal & annotations start time is same\n"
          ],
          "name": "stdout"
        },
        {
          "output_type": "stream",
          "text": [
            "Reading Channels: 0it [00:00, ?it/s]\n",
            "Reading Channels:   0%|          | 0/7 [00:00<?, ?it/s]"
          ],
          "name": "stderr"
        },
        {
          "output_type": "stream",
          "text": [
            "SC4131E0-PSG.edf SC4131EC-Hypnogram.edf\n",
            "{'technician': '', 'recording_additional': '', 'patientname': 'Male 27yr', 'patient_additional': '', 'patientcode': '', 'equipment': '', 'admincode': '', 'gender': 'Male', 'startdate': datetime.datetime(1989, 6, 14, 16, 19), 'birthdate': '', 'annotations': [[0.0, b'28860', 'Sleep stage W'], [28860.0, b'150', 'Sleep stage 1'], [29010.0, b'90', 'Sleep stage W'], [29100.0, b'210', 'Sleep stage 1'], [29310.0, b'150', 'Sleep stage 2'], [29460.0, b'120', 'Sleep stage 1'], [29580.0, b'1200', 'Sleep stage 2'], [30780.0, b'240', 'Sleep stage 3'], [31020.0, b'30', 'Sleep stage 2'], [31050.0, b'210', 'Sleep stage 3'], [31260.0, b'90', 'Sleep stage 4'], [31350.0, b'30', 'Sleep stage 3'], [31380.0, b'30', 'Sleep stage W'], [31410.0, b'450', 'Sleep stage 2'], [31860.0, b'30', 'Sleep stage 1'], [31890.0, b'180', 'Sleep stage 2'], [32070.0, b'210', 'Sleep stage 1'], [32280.0, b'30', 'Sleep stage W'], [32310.0, b'60', 'Sleep stage 1'], [32370.0, b'30', 'Sleep stage 2'], [32400.0, b'60', 'Sleep stage 1'], [32460.0, b'510', 'Sleep stage 2'], [32970.0, b'90', 'Sleep stage 1'], [33060.0, b'840', 'Sleep stage 2'], [33900.0, b'30', 'Sleep stage 3'], [33930.0, b'90', 'Sleep stage 2'], [34020.0, b'120', 'Sleep stage 3'], [34140.0, b'30', 'Sleep stage 4'], [34170.0, b'120', 'Sleep stage 3'], [34290.0, b'30', 'Sleep stage 4'], [34320.0, b'150', 'Sleep stage 3'], [34470.0, b'240', 'Sleep stage 4'], [34710.0, b'30', 'Sleep stage 3'], [34740.0, b'360', 'Sleep stage 4'], [35100.0, b'30', 'Sleep stage 3'], [35130.0, b'90', 'Sleep stage 4'], [35220.0, b'30', 'Sleep stage 3'], [35250.0, b'60', 'Sleep stage 4'], [35310.0, b'60', 'Sleep stage 3'], [35370.0, b'30', 'Sleep stage 4'], [35400.0, b'30', 'Sleep stage 3'], [35430.0, b'390', 'Sleep stage 4'], [35820.0, b'30', 'Sleep stage 3'], [35850.0, b'30', 'Sleep stage 4'], [35880.0, b'60', 'Sleep stage 3'], [35940.0, b'90', 'Sleep stage 4'], [36030.0, b'60', 'Sleep stage 3'], [36090.0, b'150', 'Sleep stage 4'], [36240.0, b'30', 'Sleep stage 3'], [36270.0, b'90', 'Sleep stage 4'], [36360.0, b'30', 'Sleep stage 3'], [36390.0, b'30', 'Sleep stage 4'], [36420.0, b'30', 'Sleep stage 3'], [36450.0, b'30', 'Sleep stage 4'], [36480.0, b'30', 'Sleep stage 3'], [36510.0, b'60', 'Sleep stage 4'], [36570.0, b'30', 'Sleep stage 3'], [36600.0, b'30', 'Sleep stage 4'], [36630.0, b'30', 'Sleep stage 3'], [36660.0, b'120', 'Sleep stage 4'], [36780.0, b'30', 'Sleep stage 3'], [36810.0, b'150', 'Sleep stage 4'], [36960.0, b'90', 'Sleep stage 3'], [37050.0, b'60', 'Sleep stage 4'], [37110.0, b'30', 'Sleep stage 3'], [37140.0, b'90', 'Sleep stage 4'], [37230.0, b'30', 'Sleep stage 3'], [37260.0, b'270', 'Sleep stage 4'], [37530.0, b'60', 'Sleep stage W'], [37590.0, b'390', 'Sleep stage 2'], [37980.0, b'30', 'Sleep stage W'], [38010.0, b'180', 'Sleep stage 2'], [38190.0, b'30', 'Sleep stage W'], [38220.0, b'30', 'Sleep stage 1'], [38250.0, b'30', 'Sleep stage 2'], [38280.0, b'150', 'Sleep stage R'], [38430.0, b'30', 'Sleep stage 1'], [38460.0, b'1020', 'Sleep stage R'], [39480.0, b'30', 'Sleep stage 1'], [39510.0, b'90', 'Sleep stage 2'], [39600.0, b'840', 'Sleep stage R'], [40440.0, b'90', 'Sleep stage 2'], [40530.0, b'90', 'Sleep stage R'], [40620.0, b'30', 'Sleep stage 2'], [40650.0, b'30', 'Sleep stage W'], [40680.0, b'30', 'Sleep stage 1'], [40710.0, b'330', 'Sleep stage R'], [41040.0, b'360', 'Sleep stage 2'], [41400.0, b'90', 'Sleep stage 1'], [41490.0, b'360', 'Sleep stage 2'], [41850.0, b'30', 'Sleep stage 1'], [41880.0, b'1830', 'Sleep stage 2'], [43710.0, b'30', 'Sleep stage W'], [43740.0, b'30', 'Sleep stage 2'], [43770.0, b'90', 'Sleep stage W'], [43860.0, b'60', 'Sleep stage 2'], [43920.0, b'30', 'Sleep stage 1'], [43950.0, b'120', 'Sleep stage 2'], [44070.0, b'90', 'Sleep stage W'], [44160.0, b'30', 'Sleep stage 1'], [44190.0, b'1200', 'Sleep stage 2'], [45390.0, b'60', 'Sleep stage W'], [45450.0, b'30', 'Sleep stage 1'], [45480.0, b'120', 'Sleep stage 2'], [45600.0, b'30', 'Sleep stage W'], [45630.0, b'90', 'Sleep stage 1'], [45720.0, b'510', 'Sleep stage 2'], [46230.0, b'150', 'Sleep stage W'], [46380.0, b'120', 'Sleep stage 1'], [46500.0, b'1140', 'Sleep stage 2'], [47640.0, b'120', 'Sleep stage W'], [47760.0, b'570', 'Sleep stage 2'], [48330.0, b'930', 'Sleep stage R'], [49260.0, b'60', 'Sleep stage 1'], [49320.0, b'30', 'Sleep stage R'], [49350.0, b'30', 'Sleep stage 1'], [49380.0, b'120', 'Sleep stage R'], [49500.0, b'30', 'Sleep stage 1'], [49530.0, b'990', 'Sleep stage R'], [50520.0, b'30', 'Sleep stage 1'], [50550.0, b'480', 'Sleep stage R'], [51030.0, b'180', 'Sleep stage 2'], [51210.0, b'150', 'Sleep stage R'], [51360.0, b'30', 'Sleep stage W'], [51390.0, b'660', 'Sleep stage 2'], [52050.0, b'30', 'Sleep stage R'], [52080.0, b'2010', 'Sleep stage 2'], [54090.0, b'30', 'Sleep stage 3'], [54120.0, b'30', 'Sleep stage 2'], [54150.0, b'150', 'Sleep stage 3'], [54300.0, b'60', 'Sleep stage 2'], [54360.0, b'30', 'Sleep stage 3'], [54390.0, b'60', 'Sleep stage 2'], [54450.0, b'30', 'Sleep stage 3'], [54480.0, b'30', 'Sleep stage 2'], [54510.0, b'30', 'Sleep stage 3'], [54540.0, b'90', 'Sleep stage 2'], [54630.0, b'30', 'Sleep stage 3'], [54660.0, b'330', 'Sleep stage 2'], [54990.0, b'120', 'Sleep stage W'], [55110.0, b'60', 'Sleep stage 1'], [55170.0, b'750', 'Sleep stage 2'], [55920.0, b'30', 'Sleep stage W'], [55950.0, b'30', 'Sleep stage 1'], [55980.0, b'120', 'Sleep stage 2'], [56100.0, b'28320', 'Sleep stage W'], [84420.0, b'1980', 'Sleep stage ?']]}\n"
          ],
          "name": "stdout"
        },
        {
          "output_type": "stream",
          "text": [
            "Reading Channels: 100%|██████████| 7/7 [00:06<00:00,  1.16it/s]\n"
          ],
          "name": "stderr"
        },
        {
          "output_type": "stream",
          "text": [
            "SC4131E0-PSG.edf file's signal & annotations start time is same\n"
          ],
          "name": "stdout"
        },
        {
          "output_type": "stream",
          "text": [
            "Reading Channels: 0it [00:00, ?it/s]\n",
            "Reading Channels:   0%|          | 0/7 [00:00<?, ?it/s]"
          ],
          "name": "stderr"
        },
        {
          "output_type": "stream",
          "text": [
            "SC4101E0-PSG.edf SC4101EC-Hypnogram.edf\n",
            "{'technician': '', 'recording_additional': '', 'patientname': 'Male 26yr', 'patient_additional': '', 'patientcode': '', 'equipment': '', 'admincode': '', 'gender': 'Male', 'startdate': datetime.datetime(1989, 4, 17, 16, 50), 'birthdate': '', 'annotations': [[0.0, b'22860', 'Sleep stage W'], [22860.0, b'450', 'Sleep stage 1'], [23310.0, b'900', 'Sleep stage 2'], [24210.0, b'30', 'Sleep stage 3'], [24240.0, b'150', 'Sleep stage 2'], [24390.0, b'30', 'Sleep stage 3'], [24420.0, b'60', 'Sleep stage W'], [24480.0, b'30', 'Sleep stage 1'], [24510.0, b'600', 'Sleep stage 2'], [25110.0, b'120', 'Sleep stage W'], [25230.0, b'150', 'Sleep stage 1'], [25380.0, b'1230', 'Sleep stage 2'], [26610.0, b'60', 'Sleep stage W'], [26670.0, b'120', 'Sleep stage 1'], [26790.0, b'1080', 'Sleep stage 2'], [27870.0, b'1710', 'Sleep stage R'], [29580.0, b'1170', 'Sleep stage 2'], [30750.0, b'30', 'Sleep stage 3'], [30780.0, b'90', 'Sleep stage 2'], [30870.0, b'30', 'Sleep stage 3'], [30900.0, b'30', 'Sleep stage 2'], [30930.0, b'30', 'Sleep stage 3'], [30960.0, b'1650', 'Sleep stage 2'], [32610.0, b'30', 'Sleep stage 3'], [32640.0, b'1470', 'Sleep stage 2'], [34110.0, b'60', 'Sleep stage W'], [34170.0, b'120', 'Sleep stage 1'], [34290.0, b'900', 'Sleep stage 2'], [35190.0, b'90', 'Sleep stage W'], [35280.0, b'180', 'Sleep stage 1'], [35460.0, b'2100', 'Sleep stage 2'], [37560.0, b'2700', 'Sleep stage R'], [40260.0, b'2490', 'Sleep stage 2'], [42750.0, b'30', 'Sleep stage W'], [42780.0, b'30', 'Sleep stage 1'], [42810.0, b'1050', 'Sleep stage 2'], [43860.0, b'60', 'Sleep stage W'], [43920.0, b'90', 'Sleep stage 1'], [44010.0, b'1050', 'Sleep stage 2'], [45060.0, b'1770', 'Sleep stage R'], [46830.0, b'150', 'Sleep stage 2'], [46980.0, b'30', 'Sleep stage R'], [47010.0, b'960', 'Sleep stage 2'], [47970.0, b'30', 'Movement time'], [48000.0, b'60', 'Sleep stage 1'], [48060.0, b'1320', 'Sleep stage 2'], [49380.0, b'90', 'Sleep stage W'], [49470.0, b'300', 'Sleep stage 1'], [49770.0, b'390', 'Sleep stage 2'], [50160.0, b'60', 'Sleep stage 1'], [50220.0, b'60', 'Sleep stage W'], [50280.0, b'90', 'Sleep stage 1'], [50370.0, b'270', 'Sleep stage W'], [50640.0, b'180', 'Sleep stage 1'], [50820.0, b'570', 'Sleep stage 2'], [51390.0, b'120', 'Sleep stage W'], [51510.0, b'30', 'Sleep stage 1'], [51540.0, b'570', 'Sleep stage 2'], [52110.0, b'30', 'Sleep stage W'], [52140.0, b'60', 'Sleep stage 1'], [52200.0, b'210', 'Sleep stage 2'], [52410.0, b'29190', 'Sleep stage W'], [81600.0, b'4800', 'Sleep stage ?']]}\n"
          ],
          "name": "stdout"
        },
        {
          "output_type": "stream",
          "text": [
            "Reading Channels: 100%|██████████| 7/7 [00:02<00:00,  3.46it/s]\n"
          ],
          "name": "stderr"
        },
        {
          "output_type": "stream",
          "text": [
            "SC4101E0-PSG.edf file's signal & annotations start time is same\n"
          ],
          "name": "stdout"
        },
        {
          "output_type": "stream",
          "text": [
            "Reading Channels: 0it [00:00, ?it/s]\n",
            "Reading Channels:   0%|          | 0/7 [00:00<?, ?it/s]"
          ],
          "name": "stderr"
        },
        {
          "output_type": "stream",
          "text": [
            "SC4182E0-PSG.edf SC4182EC-Hypnogram.edf\n",
            "{'technician': '', 'recording_additional': '', 'patientname': 'Male 28yr', 'patient_additional': '', 'patientcode': '', 'equipment': '', 'admincode': '', 'gender': 'Male', 'startdate': datetime.datetime(1989, 7, 20, 15, 19), 'birthdate': '', 'annotations': [[0.0, b'30390', 'Sleep stage W'], [30390.0, b'30', 'Sleep stage 1'], [30420.0, b'30', 'Sleep stage W'], [30450.0, b'60', 'Sleep stage 1'], [30510.0, b'30', 'Sleep stage W'], [30540.0, b'300', 'Sleep stage 1'], [30840.0, b'630', 'Sleep stage 2'], [31470.0, b'30', 'Sleep stage 3'], [31500.0, b'30', 'Sleep stage 2'], [31530.0, b'300', 'Sleep stage 3'], [31830.0, b'30', 'Sleep stage 4'], [31860.0, b'30', 'Sleep stage 3'], [31890.0, b'150', 'Sleep stage 4'], [32040.0, b'30', 'Sleep stage 3'], [32070.0, b'870', 'Sleep stage 4'], [32940.0, b'30', 'Sleep stage 3'], [32970.0, b'90', 'Sleep stage W'], [33060.0, b'330', 'Sleep stage 2'], [33390.0, b'30', 'Sleep stage 3'], [33420.0, b'120', 'Sleep stage 2'], [33540.0, b'30', 'Sleep stage 3'], [33570.0, b'60', 'Sleep stage 2'], [33630.0, b'180', 'Sleep stage 3'], [33810.0, b'240', 'Sleep stage 2'], [34050.0, b'330', 'Sleep stage 3'], [34380.0, b'660', 'Sleep stage 4'], [35040.0, b'120', 'Sleep stage W'], [35160.0, b'360', 'Sleep stage 2'], [35520.0, b'60', 'Sleep stage 1'], [35580.0, b'30', 'Sleep stage 2'], [35610.0, b'30', 'Sleep stage 1'], [35640.0, b'120', 'Sleep stage 2'], [35760.0, b'30', 'Sleep stage 1'], [35790.0, b'120', 'Sleep stage 2'], [35910.0, b'300', 'Sleep stage 1'], [36210.0, b'30', 'Sleep stage 2'], [36240.0, b'240', 'Sleep stage 1'], [36480.0, b'780', 'Sleep stage 2'], [37260.0, b'30', 'Sleep stage W'], [37290.0, b'120', 'Sleep stage 1'], [37410.0, b'120', 'Sleep stage 2'], [37530.0, b'30', 'Sleep stage 1'], [37560.0, b'630', 'Sleep stage 2'], [38190.0, b'30', 'Sleep stage 3'], [38220.0, b'90', 'Sleep stage 2'], [38310.0, b'30', 'Sleep stage 3'], [38340.0, b'90', 'Sleep stage 2'], [38430.0, b'30', 'Sleep stage 3'], [38460.0, b'90', 'Sleep stage 2'], [38550.0, b'30', 'Sleep stage 3'], [38580.0, b'390', 'Sleep stage 2'], [38970.0, b'30', 'Sleep stage 3'], [39000.0, b'90', 'Sleep stage 2'], [39090.0, b'180', 'Sleep stage 3'], [39270.0, b'30', 'Sleep stage 2'], [39300.0, b'300', 'Sleep stage 3'], [39600.0, b'450', 'Sleep stage 4'], [40050.0, b'90', 'Sleep stage 3'], [40140.0, b'90', 'Sleep stage 2'], [40230.0, b'30', 'Sleep stage W'], [40260.0, b'60', 'Sleep stage 1'], [40320.0, b'60', 'Sleep stage 2'], [40380.0, b'390', 'Sleep stage R'], [40770.0, b'300', 'Sleep stage 1'], [41070.0, b'600', 'Sleep stage R'], [41670.0, b'300', 'Sleep stage 1'], [41970.0, b'60', 'Sleep stage 2'], [42030.0, b'30', 'Sleep stage 1'], [42060.0, b'480', 'Sleep stage W'], [42540.0, b'420', 'Sleep stage 1'], [42960.0, b'1230', 'Sleep stage 2'], [44190.0, b'210', 'Sleep stage 3'], [44400.0, b'30', 'Sleep stage 4'], [44430.0, b'60', 'Sleep stage 3'], [44490.0, b'60', 'Sleep stage 4'], [44550.0, b'180', 'Sleep stage 3'], [44730.0, b'150', 'Sleep stage 4'], [44880.0, b'180', 'Sleep stage 2'], [45060.0, b'150', 'Sleep stage 3'], [45210.0, b'60', 'Sleep stage 4'], [45270.0, b'540', 'Sleep stage 3'], [45810.0, b'750', 'Sleep stage 4'], [46560.0, b'30', 'Sleep stage 3'], [46590.0, b'30', 'Sleep stage 4'], [46620.0, b'60', 'Sleep stage 3'], [46680.0, b'180', 'Sleep stage 4'], [46860.0, b'90', 'Sleep stage 3'], [46950.0, b'60', 'Sleep stage 2'], [47010.0, b'780', 'Sleep stage R'], [47790.0, b'240', 'Sleep stage 1'], [48030.0, b'300', 'Sleep stage 2'], [48330.0, b'30', 'Sleep stage R'], [48360.0, b'30', 'Sleep stage 2'], [48390.0, b'30', 'Sleep stage R'], [48420.0, b'30', 'Sleep stage 2'], [48450.0, b'30', 'Sleep stage 1'], [48480.0, b'1800', 'Sleep stage 2'], [50280.0, b'30', 'Sleep stage 3'], [50310.0, b'480', 'Sleep stage 2'], [50790.0, b'1050', 'Sleep stage R'], [51840.0, b'420', 'Sleep stage 1'], [52260.0, b'120', 'Sleep stage R'], [52380.0, b'660', 'Sleep stage 1'], [53040.0, b'390', 'Sleep stage R'], [53430.0, b'870', 'Sleep stage 1'], [54300.0, b'90', 'Sleep stage R'], [54390.0, b'30870', 'Sleep stage W'], [85260.0, b'1140', 'Sleep stage ?']]}\n"
          ],
          "name": "stdout"
        },
        {
          "output_type": "stream",
          "text": [
            "Reading Channels: 100%|██████████| 7/7 [00:02<00:00,  2.79it/s]\n"
          ],
          "name": "stderr"
        },
        {
          "output_type": "stream",
          "text": [
            "SC4182E0-PSG.edf file's signal & annotations start time is same\n"
          ],
          "name": "stdout"
        },
        {
          "output_type": "stream",
          "text": [
            "Reading Channels: 0it [00:00, ?it/s]"
          ],
          "name": "stderr"
        },
        {
          "output_type": "stream",
          "text": [
            "SC4151E0-PSG.edf SC4151EC-Hypnogram.edf\n",
            "{'technician': '', 'recording_additional': '', 'patientname': 'Male 31yr', 'patient_additional': '', 'patientcode': '', 'equipment': '', 'admincode': '', 'gender': 'Male', 'startdate': datetime.datetime(1989, 6, 21, 16, 40), 'birthdate': '', 'annotations': [[0.0, b'26820', 'Sleep stage W'], [26820.0, b'30', 'Sleep stage 1'], [26850.0, b'30', 'Sleep stage W'], [26880.0, b'120', 'Sleep stage 1'], [27000.0, b'60', 'Sleep stage 2'], [27060.0, b'90', 'Sleep stage 1'], [27150.0, b'330', 'Sleep stage 2'], [27480.0, b'30', 'Movement time'], [27510.0, b'240', 'Sleep stage W'], [27750.0, b'90', 'Sleep stage 1'], [27840.0, b'1200', 'Sleep stage 2'], [29040.0, b'510', 'Sleep stage 3'], [29550.0, b'240', 'Sleep stage 2'], [29790.0, b'30', 'Sleep stage 3'], [29820.0, b'60', 'Sleep stage 2'], [29880.0, b'90', 'Sleep stage 3'], [29970.0, b'30', 'Sleep stage 2'], [30000.0, b'720', 'Sleep stage R'], [30720.0, b'30', 'Movement time'], [30750.0, b'1320', 'Sleep stage 2'], [32070.0, b'30', 'Sleep stage 3'], [32100.0, b'60', 'Sleep stage 2'], [32160.0, b'300', 'Sleep stage 3'], [32460.0, b'30', 'Sleep stage 2'], [32490.0, b'360', 'Sleep stage 3'], [32850.0, b'30', 'Sleep stage 4'], [32880.0, b'120', 'Sleep stage 3'], [33000.0, b'60', 'Sleep stage 2'], [33060.0, b'30', 'Sleep stage 3'], [33090.0, b'30', 'Sleep stage 2'], [33120.0, b'210', 'Sleep stage 3'], [33330.0, b'990', 'Sleep stage 4'], [34320.0, b'30', 'Sleep stage 3'], [34350.0, b'330', 'Sleep stage 4'], [34680.0, b'60', 'Sleep stage 3'], [34740.0, b'30', 'Sleep stage 2'], [34770.0, b'60', 'Sleep stage 3'], [34830.0, b'60', 'Sleep stage 2'], [34890.0, b'1440', 'Sleep stage R'], [36330.0, b'1830', 'Sleep stage 2'], [38160.0, b'30', 'Movement time'], [38190.0, b'30', 'Sleep stage 1'], [38220.0, b'570', 'Sleep stage W'], [38790.0, b'120', 'Sleep stage 1'], [38910.0, b'30', 'Sleep stage W'], [38940.0, b'90', 'Sleep stage 1'], [39030.0, b'1500', 'Sleep stage 2'], [40530.0, b'30', 'Sleep stage 3'], [40560.0, b'60', 'Sleep stage 2'], [40620.0, b'30', 'Sleep stage 3'], [40650.0, b'30', 'Sleep stage 2'], [40680.0, b'270', 'Sleep stage 3'], [40950.0, b'30', 'Sleep stage 2'], [40980.0, b'30', 'Sleep stage 3'], [41010.0, b'60', 'Sleep stage W'], [41070.0, b'30', 'Sleep stage 1'], [41100.0, b'270', 'Sleep stage 2'], [41370.0, b'90', 'Sleep stage 1'], [41460.0, b'330', 'Sleep stage 2'], [41790.0, b'60', 'Sleep stage 1'], [41850.0, b'30', 'Sleep stage 2'], [41880.0, b'3390', 'Sleep stage R'], [45270.0, b'1860', 'Sleep stage 2'], [47130.0, b'30', 'Sleep stage 3'], [47160.0, b'60', 'Sleep stage 2'], [47220.0, b'120', 'Sleep stage 3'], [47340.0, b'60', 'Sleep stage 2'], [47400.0, b'90', 'Sleep stage 3'], [47490.0, b'30', 'Sleep stage 2'], [47520.0, b'90', 'Sleep stage 3'], [47610.0, b'30', 'Sleep stage 2'], [47640.0, b'300', 'Sleep stage 3'], [47940.0, b'30', 'Sleep stage 4'], [47970.0, b'240', 'Sleep stage 3'], [48210.0, b'30', 'Sleep stage 4'], [48240.0, b'60', 'Sleep stage 3'], [48300.0, b'30', 'Sleep stage 4'], [48330.0, b'30', 'Sleep stage 3'], [48360.0, b'30', 'Sleep stage 4'], [48390.0, b'30', 'Sleep stage 3'], [48420.0, b'60', 'Sleep stage 4'], [48480.0, b'60', 'Sleep stage 3'], [48540.0, b'60', 'Sleep stage 4'], [48600.0, b'30', 'Sleep stage 3'], [48630.0, b'150', 'Sleep stage 4'], [48780.0, b'60', 'Sleep stage 3'], [48840.0, b'90', 'Sleep stage 4'], [48930.0, b'30', 'Sleep stage 3'], [48960.0, b'60', 'Sleep stage 4'], [49020.0, b'60', 'Sleep stage 3'], [49080.0, b'30', 'Movement time'], [49110.0, b'150', 'Sleep stage 2'], [49260.0, b'690', 'Sleep stage R'], [49950.0, b'120', 'Sleep stage 1'], [50070.0, b'840', 'Sleep stage 2'], [50910.0, b'630', 'Sleep stage W'], [51540.0, b'360', 'Sleep stage 1'], [51900.0, b'26700', 'Sleep stage W'], [78600.0, b'7800', 'Sleep stage ?']]}\n"
          ],
          "name": "stdout"
        },
        {
          "output_type": "stream",
          "text": [
            "\n",
            "Reading Channels: 100%|██████████| 7/7 [00:01<00:00,  3.69it/s]\n"
          ],
          "name": "stderr"
        },
        {
          "output_type": "stream",
          "text": [
            "SC4151E0-PSG.edf file's signal & annotations start time is same\n"
          ],
          "name": "stdout"
        },
        {
          "output_type": "stream",
          "text": [
            "Reading Channels: 0it [00:00, ?it/s]\n",
            "Reading Channels:   0%|          | 0/7 [00:00<?, ?it/s]"
          ],
          "name": "stderr"
        },
        {
          "output_type": "stream",
          "text": [
            "SC4152E0-PSG.edf SC4152EC-Hypnogram.edf\n",
            "{'technician': '', 'recording_additional': '', 'patientname': 'Male 31yr', 'patient_additional': '', 'patientcode': '', 'equipment': '', 'admincode': '', 'gender': 'Male', 'startdate': datetime.datetime(1989, 6, 22, 14, 53), 'birthdate': '', 'annotations': [[0.0, b'10350', 'Sleep stage W'], [10350.0, b'60', 'Sleep stage 1'], [10410.0, b'390', 'Sleep stage 2'], [10800.0, b'180', 'Sleep stage R'], [10980.0, b'150', 'Sleep stage 1'], [11130.0, b'930', 'Sleep stage 2'], [12060.0, b'19740', 'Sleep stage W'], [31800.0, b'240', 'Sleep stage 1'], [32040.0, b'870', 'Sleep stage 2'], [32910.0, b'30', 'Sleep stage 3'], [32940.0, b'120', 'Sleep stage 2'], [33060.0, b'30', 'Sleep stage 3'], [33090.0, b'30', 'Sleep stage 2'], [33120.0, b'120', 'Sleep stage 3'], [33240.0, b'30', 'Sleep stage 2'], [33270.0, b'90', 'Sleep stage 3'], [33360.0, b'30', 'Sleep stage 2'], [33390.0, b'90', 'Sleep stage 3'], [33480.0, b'210', 'Sleep stage 4'], [33690.0, b'300', 'Sleep stage 3'], [33990.0, b'30', 'Sleep stage 4'], [34020.0, b'30', 'Sleep stage 3'], [34050.0, b'30', 'Sleep stage 4'], [34080.0, b'240', 'Sleep stage 3'], [34320.0, b'60', 'Sleep stage 4'], [34380.0, b'330', 'Sleep stage 3'], [34710.0, b'60', 'Sleep stage 4'], [34770.0, b'30', 'Sleep stage 3'], [34800.0, b'30', 'Sleep stage 4'], [34830.0, b'30', 'Sleep stage 3'], [34860.0, b'120', 'Sleep stage 4'], [34980.0, b'30', 'Sleep stage 3'], [35010.0, b'990', 'Sleep stage 4'], [36000.0, b'90', 'Sleep stage 3'], [36090.0, b'30', 'Sleep stage 2'], [36120.0, b'390', 'Sleep stage R'], [36510.0, b'30', 'Movement time'], [36540.0, b'900', 'Sleep stage R'], [37440.0, b'30', 'Movement time'], [37470.0, b'1980', 'Sleep stage 2'], [39450.0, b'330', 'Sleep stage 3'], [39780.0, b'30', 'Sleep stage 4'], [39810.0, b'390', 'Sleep stage 3'], [40200.0, b'420', 'Sleep stage 2'], [40620.0, b'60', 'Sleep stage 3'], [40680.0, b'180', 'Sleep stage 2'], [40860.0, b'30', 'Sleep stage 3'], [40890.0, b'120', 'Sleep stage 2'], [41010.0, b'120', 'Sleep stage 3'], [41130.0, b'30', 'Sleep stage 2'], [41160.0, b'180', 'Sleep stage 3'], [41340.0, b'60', 'Sleep stage 2'], [41400.0, b'2790', 'Sleep stage R'], [44190.0, b'2220', 'Sleep stage 2'], [46410.0, b'30', 'Sleep stage 3'], [46440.0, b'90', 'Sleep stage 2'], [46530.0, b'30', 'Sleep stage 3'], [46560.0, b'30', 'Sleep stage 2'], [46590.0, b'60', 'Sleep stage 3'], [46650.0, b'30', 'Sleep stage 2'], [46680.0, b'270', 'Sleep stage 3'], [46950.0, b'30', 'Sleep stage 4'], [46980.0, b'90', 'Sleep stage 3'], [47070.0, b'120', 'Sleep stage 4'], [47190.0, b'120', 'Sleep stage 3'], [47310.0, b'30', 'Sleep stage 4'], [47340.0, b'60', 'Sleep stage 3'], [47400.0, b'30', 'Sleep stage 4'], [47430.0, b'30', 'Sleep stage 3'], [47460.0, b'60', 'Sleep stage 4'], [47520.0, b'30', 'Sleep stage 3'], [47550.0, b'30', 'Sleep stage 4'], [47580.0, b'30', 'Sleep stage 3'], [47610.0, b'60', 'Sleep stage 4'], [47670.0, b'30', 'Sleep stage 3'], [47700.0, b'30', 'Sleep stage 4'], [47730.0, b'30', 'Movement time'], [47760.0, b'30', 'Sleep stage 3'], [47790.0, b'300', 'Sleep stage 2'], [48090.0, b'1080', 'Sleep stage R'], [49170.0, b'1740', 'Sleep stage 2'], [50910.0, b'30', 'Sleep stage 3'], [50940.0, b'210', 'Sleep stage 2'], [51150.0, b'300', 'Sleep stage W'], [51450.0, b'210', 'Sleep stage 1'], [51660.0, b'1260', 'Sleep stage 2'], [52920.0, b'1200', 'Sleep stage R'], [54120.0, b'60', 'Sleep stage 2'], [54180.0, b'330', 'Sleep stage R'], [54510.0, b'30', 'Movement time'], [54540.0, b'1890', 'Sleep stage R'], [56430.0, b'30', 'Movement time'], [56460.0, b'1140', 'Sleep stage 2'], [57600.0, b'120', 'Sleep stage W'], [57720.0, b'90', 'Sleep stage 1'], [57810.0, b'300', 'Sleep stage 2'], [58110.0, b'180', 'Sleep stage W'], [58290.0, b'300', 'Sleep stage 1'], [58590.0, b'90', 'Sleep stage 2'], [58680.0, b'180', 'Sleep stage W'], [58860.0, b'240', 'Sleep stage 1'], [59100.0, b'150', 'Sleep stage 2'], [59250.0, b'90', 'Sleep stage W'], [59340.0, b'120', 'Sleep stage 1'], [59460.0, b'300', 'Sleep stage 2'], [59760.0, b'26160', 'Sleep stage W'], [85920.0, b'480', 'Sleep stage ?']]}\n"
          ],
          "name": "stdout"
        },
        {
          "output_type": "stream",
          "text": [
            "Reading Channels: 100%|██████████| 7/7 [00:02<00:00,  3.26it/s]\n"
          ],
          "name": "stderr"
        },
        {
          "output_type": "stream",
          "text": [
            "SC4152E0-PSG.edf file's signal & annotations start time is same\n",
            "SC4091E0-PSG.edf SC4091EC-Hypnogram.edf\n"
          ],
          "name": "stdout"
        },
        {
          "output_type": "stream",
          "text": [
            "Reading Channels: 0it [00:00, ?it/s]\n",
            "Reading Channels:   0%|          | 0/7 [00:00<?, ?it/s]"
          ],
          "name": "stderr"
        },
        {
          "output_type": "stream",
          "text": [
            "{'technician': '', 'recording_additional': '', 'patientname': 'Female 25yr', 'patient_additional': '', 'patientcode': '', 'equipment': '', 'admincode': '', 'gender': 'Female', 'startdate': datetime.datetime(1989, 6, 5, 16, 24), 'birthdate': '', 'annotations': [[0.0, b'24150', 'Sleep stage W'], [24150.0, b'150', 'Sleep stage 1'], [24300.0, b'510', 'Sleep stage 2'], [24810.0, b'30', 'Sleep stage 3'], [24840.0, b'90', 'Sleep stage 2'], [24930.0, b'180', 'Sleep stage 3'], [25110.0, b'540', 'Sleep stage 4'], [25650.0, b'150', 'Sleep stage 2'], [25800.0, b'180', 'Sleep stage 3'], [25980.0, b'210', 'Sleep stage 4'], [26190.0, b'60', 'Sleep stage 3'], [26250.0, b'840', 'Sleep stage 4'], [27090.0, b'30', 'Sleep stage 3'], [27120.0, b'30', 'Sleep stage 2'], [27150.0, b'60', 'Sleep stage 3'], [27210.0, b'60', 'Sleep stage 2'], [27270.0, b'60', 'Sleep stage 3'], [27330.0, b'60', 'Sleep stage 2'], [27390.0, b'1050', 'Sleep stage R'], [28440.0, b'120', 'Sleep stage 2'], [28560.0, b'30', 'Sleep stage 3'], [28590.0, b'270', 'Sleep stage 2'], [28860.0, b'60', 'Sleep stage 3'], [28920.0, b'30', 'Sleep stage 2'], [28950.0, b'30', 'Sleep stage 3'], [28980.0, b'60', 'Sleep stage 2'], [29040.0, b'30', 'Sleep stage 3'], [29070.0, b'30', 'Movement time'], [29100.0, b'30', 'Sleep stage 1'], [29130.0, b'420', 'Sleep stage 2'], [29550.0, b'30', 'Sleep stage 3'], [29580.0, b'30', 'Sleep stage 2'], [29610.0, b'60', 'Sleep stage 3'], [29670.0, b'300', 'Sleep stage 2'], [29970.0, b'30', 'Sleep stage 3'], [30000.0, b'30', 'Sleep stage 2'], [30030.0, b'30', 'Sleep stage 3'], [30060.0, b'30', 'Sleep stage 2'], [30090.0, b'60', 'Sleep stage 3'], [30150.0, b'30', 'Sleep stage 4'], [30180.0, b'30', 'Sleep stage 3'], [30210.0, b'180', 'Sleep stage 4'], [30390.0, b'210', 'Sleep stage 3'], [30600.0, b'240', 'Sleep stage 4'], [30840.0, b'90', 'Sleep stage 3'], [30930.0, b'30', 'Sleep stage 4'], [30960.0, b'90', 'Sleep stage 3'], [31050.0, b'60', 'Sleep stage 4'], [31110.0, b'90', 'Sleep stage 3'], [31200.0, b'360', 'Sleep stage 4'], [31560.0, b'90', 'Sleep stage 2'], [31650.0, b'60', 'Sleep stage 3'], [31710.0, b'120', 'Sleep stage 2'], [31830.0, b'1080', 'Sleep stage R'], [32910.0, b'570', 'Sleep stage 2'], [33480.0, b'60', 'Movement time'], [33540.0, b'420', 'Sleep stage 2'], [33960.0, b'30', 'Movement time'], [33990.0, b'600', 'Sleep stage 2'], [34590.0, b'30', 'Sleep stage 3'], [34620.0, b'90', 'Sleep stage 2'], [34710.0, b'30', 'Sleep stage 3'], [34740.0, b'60', 'Sleep stage 2'], [34800.0, b'90', 'Sleep stage 3'], [34890.0, b'90', 'Sleep stage 2'], [34980.0, b'30', 'Sleep stage 3'], [35010.0, b'30', 'Sleep stage 2'], [35040.0, b'30', 'Sleep stage 3'], [35070.0, b'30', 'Movement time'], [35100.0, b'30', 'Sleep stage 3'], [35130.0, b'330', 'Sleep stage 2'], [35460.0, b'180', 'Sleep stage R'], [35640.0, b'210', 'Sleep stage 2'], [35850.0, b'30', 'Sleep stage R'], [35880.0, b'1680', 'Sleep stage 2'], [37560.0, b'30', 'Sleep stage 3'], [37590.0, b'270', 'Sleep stage 2'], [37860.0, b'30', 'Movement time'], [37890.0, b'90', 'Sleep stage 2'], [37980.0, b'90', 'Sleep stage W'], [38070.0, b'60', 'Sleep stage 1'], [38130.0, b'60', 'Sleep stage 2'], [38190.0, b'30', 'Movement time'], [38220.0, b'30', 'Sleep stage 1'], [38250.0, b'30', 'Sleep stage W'], [38280.0, b'60', 'Sleep stage 1'], [38340.0, b'870', 'Sleep stage 2'], [39210.0, b'90', 'Sleep stage 3'], [39300.0, b'120', 'Sleep stage 2'], [39420.0, b'30', 'Sleep stage 3'], [39450.0, b'60', 'Sleep stage 2'], [39510.0, b'30', 'Sleep stage 3'], [39540.0, b'270', 'Sleep stage 2'], [39810.0, b'120', 'Sleep stage R'], [39930.0, b'390', 'Sleep stage 2'], [40320.0, b'510', 'Sleep stage R'], [40830.0, b'30', 'Movement time'], [40860.0, b'90', 'Sleep stage R'], [40950.0, b'30', 'Sleep stage 1'], [40980.0, b'180', 'Sleep stage 2'], [41160.0, b'240', 'Sleep stage R'], [41400.0, b'90', 'Sleep stage 2'], [41490.0, b'150', 'Sleep stage R'], [41640.0, b'30', 'Movement time'], [41670.0, b'780', 'Sleep stage R'], [42450.0, b'1560', 'Sleep stage 2'], [44010.0, b'90', 'Sleep stage 3'], [44100.0, b'30', 'Sleep stage 2'], [44130.0, b'150', 'Sleep stage 3'], [44280.0, b'30', 'Sleep stage 2'], [44310.0, b'120', 'Sleep stage 3'], [44430.0, b'60', 'Sleep stage 2'], [44490.0, b'210', 'Sleep stage 3'], [44700.0, b'930', 'Sleep stage 2'], [45630.0, b'30', 'Sleep stage 3'], [45660.0, b'390', 'Sleep stage 2'], [46050.0, b'30', 'Sleep stage 3'], [46080.0, b'630', 'Sleep stage 2'], [46710.0, b'30', 'Sleep stage 3'], [46740.0, b'60', 'Sleep stage 2'], [46800.0, b'120', 'Sleep stage R'], [46920.0, b'30', 'Sleep stage 2'], [46950.0, b'150', 'Sleep stage R'], [47100.0, b'30', 'Movement time'], [47130.0, b'480', 'Sleep stage R'], [47610.0, b'240', 'Sleep stage 2'], [47850.0, b'600', 'Sleep stage R'], [48450.0, b'150', 'Sleep stage 2'], [48600.0, b'240', 'Sleep stage R'], [48840.0, b'30', 'Sleep stage 2'], [48870.0, b'720', 'Sleep stage R'], [49590.0, b'1260', 'Sleep stage 2'], [50850.0, b'90', 'Sleep stage W'], [50940.0, b'30', 'Sleep stage 1'], [50970.0, b'30', 'Sleep stage W'], [51000.0, b'30', 'Sleep stage 1'], [51030.0, b'1350', 'Sleep stage 2'], [52380.0, b'30', 'Movement time'], [52410.0, b'120', 'Sleep stage 2'], [52530.0, b'30', 'Sleep stage W'], [52560.0, b'90', 'Sleep stage 1'], [52650.0, b'330', 'Sleep stage 2'], [52980.0, b'420', 'Sleep stage R'], [53400.0, b'750', 'Sleep stage 2'], [54150.0, b'630', 'Sleep stage W'], [54780.0, b'60', 'Sleep stage 1'], [54840.0, b'27120', 'Sleep stage W'], [81960.0, b'4440', 'Sleep stage ?']]}\n"
          ],
          "name": "stdout"
        },
        {
          "output_type": "stream",
          "text": [
            "Reading Channels: 100%|██████████| 7/7 [00:02<00:00,  3.40it/s]\n"
          ],
          "name": "stderr"
        },
        {
          "output_type": "stream",
          "text": [
            "SC4091E0-PSG.edf file's signal & annotations start time is same\n"
          ],
          "name": "stdout"
        }
      ]
    },
    {
      "cell_type": "code",
      "metadata": {
        "id": "zZBBAra-5OT-",
        "outputId": "7f8569d7-0059-4d80-e465-2243457cae5a",
        "colab": {
          "base_uri": "https://localhost:8080/"
        }
      },
      "source": [
        "!ls annotations/npy/"
      ],
      "execution_count": 18,
      "outputs": [
        {
          "output_type": "stream",
          "text": [
            "SC4001EC-Hypnogram.npy\tSC4062EC-Hypnogram.npy\tSC4131EC-Hypnogram.npy\n",
            "SC4002EC-Hypnogram.npy\tSC4071EC-Hypnogram.npy\tSC4141EU-Hypnogram.npy\n",
            "SC4011EH-Hypnogram.npy\tSC4072EH-Hypnogram.npy\tSC4142EU-Hypnogram.npy\n",
            "SC4012EC-Hypnogram.npy\tSC4081EC-Hypnogram.npy\tSC4151EC-Hypnogram.npy\n",
            "SC4021EH-Hypnogram.npy\tSC4082EP-Hypnogram.npy\tSC4152EC-Hypnogram.npy\n",
            "SC4022EJ-Hypnogram.npy\tSC4091EC-Hypnogram.npy\tSC4161EC-Hypnogram.npy\n",
            "SC4031EC-Hypnogram.npy\tSC4092EC-Hypnogram.npy\tSC4162EC-Hypnogram.npy\n",
            "SC4032EP-Hypnogram.npy\tSC4101EC-Hypnogram.npy\tSC4171EU-Hypnogram.npy\n",
            "SC4041EC-Hypnogram.npy\tSC4102EC-Hypnogram.npy\tSC4172EC-Hypnogram.npy\n",
            "SC4042EC-Hypnogram.npy\tSC4111EC-Hypnogram.npy\tSC4181EC-Hypnogram.npy\n",
            "SC4051EC-Hypnogram.npy\tSC4112EC-Hypnogram.npy\tSC4182EC-Hypnogram.npy\n",
            "SC4052EC-Hypnogram.npy\tSC4121EC-Hypnogram.npy\tSC4191EP-Hypnogram.npy\n",
            "SC4061EC-Hypnogram.npy\tSC4122EV-Hypnogram.npy\tSC4192EV-Hypnogram.npy\n"
          ],
          "name": "stdout"
        }
      ]
    },
    {
      "cell_type": "code",
      "metadata": {
        "id": "zJmohvSM6MQT",
        "outputId": "a7c46e07-8669-44b1-81bd-d9282d6fbb23",
        "colab": {
          "base_uri": "https://localhost:8080/"
        }
      },
      "source": [
        "ls signals/npy/"
      ],
      "execution_count": 19,
      "outputs": [
        {
          "output_type": "stream",
          "text": [
            "SC4001E0-PSG.npy  SC4051E0-PSG.npy  SC4101E0-PSG.npy  SC4152E0-PSG.npy\n",
            "SC4002E0-PSG.npy  SC4052E0-PSG.npy  SC4102E0-PSG.npy  SC4161E0-PSG.npy\n",
            "SC4011E0-PSG.npy  SC4061E0-PSG.npy  SC4111E0-PSG.npy  SC4162E0-PSG.npy\n",
            "SC4012E0-PSG.npy  SC4062E0-PSG.npy  SC4112E0-PSG.npy  SC4171E0-PSG.npy\n",
            "SC4021E0-PSG.npy  SC4071E0-PSG.npy  SC4121E0-PSG.npy  SC4172E0-PSG.npy\n",
            "SC4022E0-PSG.npy  SC4072E0-PSG.npy  SC4122E0-PSG.npy  SC4181E0-PSG.npy\n",
            "SC4031E0-PSG.npy  SC4081E0-PSG.npy  SC4131E0-PSG.npy  SC4182E0-PSG.npy\n",
            "SC4032E0-PSG.npy  SC4082E0-PSG.npy  SC4141E0-PSG.npy  SC4191E0-PSG.npy\n",
            "SC4041E0-PSG.npy  SC4091E0-PSG.npy  SC4142E0-PSG.npy  SC4192E0-PSG.npy\n",
            "SC4042E0-PSG.npy  SC4092E0-PSG.npy  SC4151E0-PSG.npy\n"
          ],
          "name": "stdout"
        }
      ]
    },
    {
      "cell_type": "code",
      "metadata": {
        "id": "einH15QN8Soe",
        "outputId": "74e24250-ef65-4c0b-ffbf-4035bd0f2734",
        "colab": {
          "base_uri": "https://localhost:8080/"
        }
      },
      "source": [
        "signals_path =  'signals/npy/'\n",
        "signals_npy_list = search_signals_npy(signals_path)\n",
        "print(signals_npy_list)\n",
        "for filename in signals_npy_list:\n",
        "  signals = signals_path + filename\n",
        "  signals = np.load(signals)\n",
        "  print(signals.shape)\n",
        "  break"
      ],
      "execution_count": 20,
      "outputs": [
        {
          "output_type": "stream",
          "text": [
            "['SC4152E0-PSG.npy', 'SC4022E0-PSG.npy', 'SC4061E0-PSG.npy', 'SC4161E0-PSG.npy', 'SC4191E0-PSG.npy', 'SC4172E0-PSG.npy', 'SC4012E0-PSG.npy', 'SC4091E0-PSG.npy', 'SC4072E0-PSG.npy', 'SC4101E0-PSG.npy', 'SC4011E0-PSG.npy', 'SC4062E0-PSG.npy', 'SC4141E0-PSG.npy', 'SC4111E0-PSG.npy', 'SC4031E0-PSG.npy', 'SC4131E0-PSG.npy', 'SC4142E0-PSG.npy', 'SC4171E0-PSG.npy', 'SC4181E0-PSG.npy', 'SC4182E0-PSG.npy', 'SC4021E0-PSG.npy', 'SC4032E0-PSG.npy', 'SC4162E0-PSG.npy', 'SC4122E0-PSG.npy', 'SC4082E0-PSG.npy', 'SC4052E0-PSG.npy', 'SC4042E0-PSG.npy', 'SC4112E0-PSG.npy', 'SC4002E0-PSG.npy', 'SC4092E0-PSG.npy', 'SC4051E0-PSG.npy', 'SC4192E0-PSG.npy', 'SC4071E0-PSG.npy', 'SC4102E0-PSG.npy', 'SC4121E0-PSG.npy', 'SC4041E0-PSG.npy', 'SC4151E0-PSG.npy', 'SC4001E0-PSG.npy', 'SC4081E0-PSG.npy']\n",
            "(3, 8592000)\n"
          ],
          "name": "stdout"
        }
      ]
    },
    {
      "cell_type": "code",
      "metadata": {
        "id": "YV9XL58Q6QSB",
        "outputId": "f502f1dd-04d6-43f9-fee5-15a9f1d0831a",
        "colab": {
          "base_uri": "https://localhost:8080/"
        }
      },
      "source": [
        "\n",
        "\n",
        "signals_path =  'signals/npy/'\n",
        "\n",
        "signals_npy_list = search_signals_npy(signals_path)\n",
        "\n",
        "print(signals_npy_list)\n",
        "\n",
        "channel_name_list = ['Fpz-Cz/','Pz-Oz/','EOG/']\n",
        "for channel_index,channel_name in enumerate(channel_name_list):\n",
        "    save_path = signals_path + channel_name\n",
        "    os.makedirs(save_path,exist_ok=True)\n",
        "\n",
        "    for filename in signals_npy_list:\n",
        "        signals_filename = filename\n",
        "\n",
        "        signals_filename = signals_path + signals_filename\n",
        "        \n",
        "        signals = np.load(signals_filename)\n",
        "        \n",
        "        signals = signals[channel_index].reshape(1,-1)\n",
        "        print(signals.shape)\n",
        "        \n",
        "        np.save(save_path + filename,signals)"
      ],
      "execution_count": 21,
      "outputs": [
        {
          "output_type": "stream",
          "text": [
            "['SC4152E0-PSG.npy', 'SC4022E0-PSG.npy', 'SC4061E0-PSG.npy', 'SC4161E0-PSG.npy', 'SC4191E0-PSG.npy', 'SC4172E0-PSG.npy', 'SC4012E0-PSG.npy', 'SC4091E0-PSG.npy', 'SC4072E0-PSG.npy', 'SC4101E0-PSG.npy', 'SC4011E0-PSG.npy', 'SC4062E0-PSG.npy', 'SC4141E0-PSG.npy', 'SC4111E0-PSG.npy', 'SC4031E0-PSG.npy', 'SC4131E0-PSG.npy', 'SC4142E0-PSG.npy', 'SC4171E0-PSG.npy', 'SC4181E0-PSG.npy', 'SC4182E0-PSG.npy', 'SC4021E0-PSG.npy', 'SC4032E0-PSG.npy', 'SC4162E0-PSG.npy', 'SC4122E0-PSG.npy', 'SC4082E0-PSG.npy', 'SC4052E0-PSG.npy', 'SC4042E0-PSG.npy', 'SC4112E0-PSG.npy', 'SC4002E0-PSG.npy', 'SC4092E0-PSG.npy', 'SC4051E0-PSG.npy', 'SC4192E0-PSG.npy', 'SC4071E0-PSG.npy', 'SC4102E0-PSG.npy', 'SC4121E0-PSG.npy', 'SC4041E0-PSG.npy', 'SC4151E0-PSG.npy', 'SC4001E0-PSG.npy', 'SC4081E0-PSG.npy']\n",
            "(1, 8592000)\n",
            "(1, 8268000)\n",
            "(1, 8310000)\n",
            "(1, 7878000)\n",
            "(1, 8322000)\n",
            "(1, 8172000)\n",
            "(1, 8550000)\n",
            "(1, 8196000)\n",
            "(1, 8310000)\n",
            "(1, 8160000)\n",
            "(1, 8406000)\n",
            "(1, 8490000)\n",
            "(1, 8268000)\n",
            "(1, 7926000)\n",
            "(1, 8460000)\n",
            "(1, 8442000)\n",
            "(1, 8322000)\n",
            "(1, 8226000)\n",
            "(1, 8268000)\n",
            "(1, 8526000)\n",
            "(1, 8412000)\n",
            "(1, 8196000)\n",
            "(1, 8256000)\n",
            "(1, 7818000)\n",
            "(1, 7902000)\n",
            "(1, 8418000)\n",
            "(1, 8376000)\n",
            "(1, 8340000)\n",
            "(1, 8490000)\n",
            "(1, 8574000)\n",
            "(1, 8166000)\n",
            "(1, 7830000)\n",
            "(1, 8430000)\n",
            "(1, 8574000)\n",
            "(1, 8358000)\n",
            "(1, 7710000)\n",
            "(1, 7860000)\n",
            "(1, 7950000)\n",
            "(1, 8388000)\n",
            "(1, 8592000)\n",
            "(1, 8268000)\n",
            "(1, 8310000)\n",
            "(1, 7878000)\n",
            "(1, 8322000)\n",
            "(1, 8172000)\n",
            "(1, 8550000)\n",
            "(1, 8196000)\n",
            "(1, 8310000)\n",
            "(1, 8160000)\n",
            "(1, 8406000)\n",
            "(1, 8490000)\n",
            "(1, 8268000)\n",
            "(1, 7926000)\n",
            "(1, 8460000)\n",
            "(1, 8442000)\n",
            "(1, 8322000)\n",
            "(1, 8226000)\n",
            "(1, 8268000)\n",
            "(1, 8526000)\n",
            "(1, 8412000)\n",
            "(1, 8196000)\n",
            "(1, 8256000)\n",
            "(1, 7818000)\n",
            "(1, 7902000)\n",
            "(1, 8418000)\n",
            "(1, 8376000)\n",
            "(1, 8340000)\n",
            "(1, 8490000)\n",
            "(1, 8574000)\n",
            "(1, 8166000)\n",
            "(1, 7830000)\n",
            "(1, 8430000)\n",
            "(1, 8574000)\n",
            "(1, 8358000)\n",
            "(1, 7710000)\n",
            "(1, 7860000)\n",
            "(1, 7950000)\n",
            "(1, 8388000)\n",
            "(1, 8592000)\n",
            "(1, 8268000)\n",
            "(1, 8310000)\n",
            "(1, 7878000)\n",
            "(1, 8322000)\n",
            "(1, 8172000)\n",
            "(1, 8550000)\n",
            "(1, 8196000)\n",
            "(1, 8310000)\n",
            "(1, 8160000)\n",
            "(1, 8406000)\n",
            "(1, 8490000)\n",
            "(1, 8268000)\n",
            "(1, 7926000)\n",
            "(1, 8460000)\n",
            "(1, 8442000)\n",
            "(1, 8322000)\n",
            "(1, 8226000)\n",
            "(1, 8268000)\n",
            "(1, 8526000)\n",
            "(1, 8412000)\n",
            "(1, 8196000)\n",
            "(1, 8256000)\n",
            "(1, 7818000)\n",
            "(1, 7902000)\n",
            "(1, 8418000)\n",
            "(1, 8376000)\n",
            "(1, 8340000)\n",
            "(1, 8490000)\n",
            "(1, 8574000)\n",
            "(1, 8166000)\n",
            "(1, 7830000)\n",
            "(1, 8430000)\n",
            "(1, 8574000)\n",
            "(1, 8358000)\n",
            "(1, 7710000)\n",
            "(1, 7860000)\n",
            "(1, 7950000)\n",
            "(1, 8388000)\n"
          ],
          "name": "stdout"
        }
      ]
    },
    {
      "cell_type": "code",
      "metadata": {
        "id": "gfn8IJzi7--S"
      },
      "source": [
        "epoch_size = 30\n",
        "sample_rate = 100\n",
        "\n",
        "path =  'signals/npy/Fpz-Cz/'\n",
        "annotations_path = 'annotations/npy/'\n",
        "signals_npy_list = search_signals_npy(path)\n",
        "# print(signals_npy_list)\n",
        "\n",
        "for filename in signals_npy_list:\n",
        "    signals_filename = path + filename\n",
        "    annotations_filename = annotations_path+search_correct_annotations_npy(annotations_path,filename)[0]\n",
        "    signals = np.load(signals_filename)\n",
        "    label = np.load(annotations_filename)\n",
        "    if len(signals[0])//sample_rate//epoch_size != len(label):\n",
        "        print('%s is fault'%filename)"
      ],
      "execution_count": 22,
      "outputs": []
    },
    {
      "cell_type": "code",
      "metadata": {
        "id": "G06YkEKB9aTj",
        "outputId": "59b17eae-92bc-4e60-f602-7976cd3ea135",
        "colab": {
          "base_uri": "https://localhost:8080/"
        }
      },
      "source": [
        "fs = 100                                # Sampling rate (512 Hz)\n",
        "epoch_size = 30\n",
        "#data = np.random.uniform(0, 100, 1024)  # 2 sec of data b/w 0.0-100.0\n",
        "\n",
        "path =  'annotations/npy/'\n",
        "signals_path = 'signals/npy/Fpz-Cz/'\n",
        "\n",
        "save_annotations_path = path + 'remove_wake/'\n",
        "save_signals_path = signals_path + 'remove_wake/'\n",
        "\n",
        "os.makedirs(save_annotations_path,exist_ok=True)\n",
        "os.makedirs(save_signals_path,exist_ok=True)\n",
        "annotations_npy_list = search_signals_npy(path)\n",
        "\n",
        "check_index_size = 10\n",
        "\n",
        "total_label = np.zeros([6],dtype=int)\n",
        "\n",
        "for filename in annotations_npy_list:\n",
        "    label = np.load(path + filename)\n",
        "    signals_filename = search_correct_signals_npy(signals_path,filename)[0]\n",
        "    \n",
        "    signals = np.load(signals_path+signals_filename)\n",
        "    \n",
        "    for remove_start_index in range(0,len(label),1):\n",
        "        #print(np.bincount(label[remove_start_index:(remove_start_index+check_index_size)],minlength=6)[0])\n",
        "        if(np.bincount(label[remove_start_index:(remove_start_index+check_index_size)],minlength=6)[0] != check_index_size):\n",
        "            break\n",
        "            \n",
        "    for remove_end_index in range(len(label),-1,-1,):\n",
        "        #print(np.bincount(label[remove_end_index-check_index_size:(remove_end_index)],minlength=6)[0])\n",
        "        if(np.bincount(label[remove_end_index-check_index_size:(remove_end_index)],minlength=6)[0] != check_index_size and np.bincount(label[remove_end_index-check_index_size:(remove_end_index)],minlength=6)[5] == 0 ):\n",
        "            break\n",
        "    \n",
        "    #print('remove start index : %d / remove end index : %d'%(remove_start_index,remove_end_index))\n",
        "    label = label[remove_start_index:remove_end_index+1]\n",
        "    signals = signals[0,remove_start_index*fs*epoch_size:(remove_end_index+1)*fs*epoch_size].reshape(1,-1)\n",
        "    #print(np.bincount(label,minlength=6))\n",
        "    if len(label) ==len(signals[0])//30//fs:\n",
        "        np.save(save_annotations_path+filename.split('.')[0],label)\n",
        "        np.save(save_signals_path+signals_filename.split('.')[0],signals)\n",
        "    for i in range(6):\n",
        "        total_label[i] += np.bincount(label,minlength=6)[i]\n",
        "    \n",
        "    \n",
        "print(total_label)"
      ],
      "execution_count": 23,
      "outputs": [
        {
          "output_type": "stream",
          "text": [
            "[ 4336  2804 17799  5703  7717    61]\n"
          ],
          "name": "stdout"
        }
      ]
    },
    {
      "cell_type": "code",
      "metadata": {
        "id": "5vSGY6sO9vgC",
        "outputId": "0c8fc2a6-a3ef-4b6f-9731-aeec8edc5543",
        "colab": {
          "base_uri": "https://localhost:8080/",
          "height": 300
        }
      },
      "source": [
        "\n",
        "fs = 100                                # Sampling rate (512 Hz)\n",
        "epoch_size = 30\n",
        "#data = np.random.uniform(0, 100, 1024)  # 2 sec of data b/w 0.0-100.0\n",
        "\n",
        "path =  'annotations/npy/remove_wake/'\n",
        "signals_path = 'signals/npy/Fpz-Cz/remove_wake/'\n",
        "\n",
        "annotations_npy_list = search_signals_npy(path)\n",
        "\n",
        "total_label = np.zeros([6],dtype=int)\n",
        "\n",
        "for filename in annotations_npy_list:\n",
        "    label = np.load(path + filename)\n",
        "    signals_filename = search_correct_signals_npy(signals_path,filename)[0]\n",
        "    \n",
        "    signals = np.load(signals_path+signals_filename)\n",
        "    \n",
        "    \n",
        "    #print('remove start index : %d / remove end index : %d'%(remove_start_index,remove_end_index))\n",
        "    #print(np.bincount(label,minlength=6))\n",
        "    if len(label) !=len(signals[0])//30//fs:\n",
        "        print('file is fault!!!')\n",
        "    for i in range(6):\n",
        "        total_label[i] += np.bincount(label,minlength=6)[i]\n",
        "        \n",
        "print(total_label)\n",
        "\n",
        "x = np.arange(len(total_label))\n",
        "\n",
        "plt.bar(x,total_label,width=0.7)"
      ],
      "execution_count": 24,
      "outputs": [
        {
          "output_type": "stream",
          "text": [
            "[ 4336  2804 17799  5703  7717    61]\n"
          ],
          "name": "stdout"
        },
        {
          "output_type": "execute_result",
          "data": {
            "text/plain": [
              "<BarContainer object of 6 artists>"
            ]
          },
          "metadata": {
            "tags": []
          },
          "execution_count": 24
        },
        {
          "output_type": "display_data",
          "data": {
            "image/png": "[encoded data removed]",
            "text/plain": [
              "<Figure size 432x288 with 1 Axes>"
            ]
          },
          "metadata": {
            "tags": [],
            "needs_background": "light"
          }
        }
      ]
    },
    {
      "cell_type": "code",
      "metadata": {
        "id": "UVVZuGLx-ADW",
        "outputId": "3e622b2b-fdf3-4ff2-bc3a-34ddaccfeb66",
        "colab": {
          "base_uri": "https://localhost:8080/"
        }
      },
      "source": [
        "fs = 100                                # Sampling rate (512 Hz)\n",
        "epoch_size = 30\n",
        "#data = np.random.uniform(0, 100, 1024)  # 2 sec of data b/w 0.0-100.0\n",
        "\n",
        "path =  'annotations/npy/remove_wake/'\n",
        "signals_path = 'signals/npy/Fpz-Cz/remove_wake/'\n",
        "\n",
        "annotations_npy_list = search_signals_npy(path)\n",
        "\n",
        "print(annotations_npy_list)\n",
        "\n",
        "random.shuffle(annotations_npy_list)\n",
        "\n",
        "print(annotations_npy_list)\n",
        "\n",
        "trainDataset_count = 30\n",
        "testDataset_count = len(annotations_npy_list)-trainDataset_count\n",
        "\n",
        "print(trainDataset_count)\n",
        "print(testDataset_count)\n",
        "\n",
        "train_label = np.zeros([6],dtype=int)\n",
        "test_label = np.zeros([6],dtype=int)\n",
        "\n",
        "for filename in annotations_npy_list[:trainDataset_count]:\n",
        "    label = np.load(path + filename)\n",
        "    \n",
        "    for i in range(6):\n",
        "        train_label[i] += np.bincount(label,minlength=6)[i]\n",
        "\n",
        "        \n",
        "for filename in annotations_npy_list[trainDataset_count:]:\n",
        "    label = np.load(path + filename)\n",
        "    \n",
        "    for i in range(6):\n",
        "        test_label[i] += np.bincount(label,minlength=6)[i]\n",
        "        \n",
        "train_label = train_label / np.sum(train_label) * 100\n",
        "test_label = test_label / np.sum(test_label) * 100\n",
        "print(train_label)\n",
        "print(test_label)"
      ],
      "execution_count": 25,
      "outputs": [
        {
          "output_type": "stream",
          "text": [
            "['SC4161EC-Hypnogram.npy', 'SC4162EC-Hypnogram.npy', 'SC4181EC-Hypnogram.npy', 'SC4081EC-Hypnogram.npy', 'SC4071EC-Hypnogram.npy', 'SC4042EC-Hypnogram.npy', 'SC4062EC-Hypnogram.npy', 'SC4052EC-Hypnogram.npy', 'SC4142EU-Hypnogram.npy', 'SC4022EJ-Hypnogram.npy', 'SC4091EC-Hypnogram.npy', 'SC4002EC-Hypnogram.npy', 'SC4101EC-Hypnogram.npy', 'SC4121EC-Hypnogram.npy', 'SC4192EV-Hypnogram.npy', 'SC4122EV-Hypnogram.npy', 'SC4072EH-Hypnogram.npy', 'SC4021EH-Hypnogram.npy', 'SC4001EC-Hypnogram.npy', 'SC4102EC-Hypnogram.npy', 'SC4012EC-Hypnogram.npy', 'SC4191EP-Hypnogram.npy', 'SC4032EP-Hypnogram.npy', 'SC4152EC-Hypnogram.npy', 'SC4051EC-Hypnogram.npy', 'SC4171EU-Hypnogram.npy', 'SC4112EC-Hypnogram.npy', 'SC4111EC-Hypnogram.npy', 'SC4061EC-Hypnogram.npy', 'SC4131EC-Hypnogram.npy', 'SC4182EC-Hypnogram.npy', 'SC4011EH-Hypnogram.npy', 'SC4082EP-Hypnogram.npy', 'SC4151EC-Hypnogram.npy', 'SC4172EC-Hypnogram.npy', 'SC4041EC-Hypnogram.npy', 'SC4141EU-Hypnogram.npy', 'SC4031EC-Hypnogram.npy', 'SC4092EC-Hypnogram.npy']\n",
            "['SC4001EC-Hypnogram.npy', 'SC4091EC-Hypnogram.npy', 'SC4151EC-Hypnogram.npy', 'SC4152EC-Hypnogram.npy', 'SC4141EU-Hypnogram.npy', 'SC4171EU-Hypnogram.npy', 'SC4081EC-Hypnogram.npy', 'SC4052EC-Hypnogram.npy', 'SC4092EC-Hypnogram.npy', 'SC4161EC-Hypnogram.npy', 'SC4131EC-Hypnogram.npy', 'SC4101EC-Hypnogram.npy', 'SC4192EV-Hypnogram.npy', 'SC4042EC-Hypnogram.npy', 'SC4021EH-Hypnogram.npy', 'SC4041EC-Hypnogram.npy', 'SC4142EU-Hypnogram.npy', 'SC4082EP-Hypnogram.npy', 'SC4072EH-Hypnogram.npy', 'SC4071EC-Hypnogram.npy', 'SC4191EP-Hypnogram.npy', 'SC4172EC-Hypnogram.npy', 'SC4012EC-Hypnogram.npy', 'SC4181EC-Hypnogram.npy', 'SC4122EV-Hypnogram.npy', 'SC4031EC-Hypnogram.npy', 'SC4182EC-Hypnogram.npy', 'SC4051EC-Hypnogram.npy', 'SC4121EC-Hypnogram.npy', 'SC4032EP-Hypnogram.npy', 'SC4111EC-Hypnogram.npy', 'SC4062EC-Hypnogram.npy', 'SC4022EJ-Hypnogram.npy', 'SC4112EC-Hypnogram.npy', 'SC4061EC-Hypnogram.npy', 'SC4011EH-Hypnogram.npy', 'SC4102EC-Hypnogram.npy', 'SC4002EC-Hypnogram.npy', 'SC4162EC-Hypnogram.npy']\n",
            "30\n",
            "9\n",
            "[12.73026316  6.96052632 44.98026316 14.88157895 20.26644737  0.18092105]\n",
            "[ 5.81047382  8.57855362 51.43391521 14.70074813 19.40149626  0.07481297]\n"
          ],
          "name": "stdout"
        }
      ]
    },
    {
      "cell_type": "code",
      "metadata": {
        "id": "lAKH9Mb0_NF3"
      },
      "source": [
        "signals_path = 'signals/npy/Fpz-Cz/remove_wake/'\n",
        "\n",
        "save_train_path = 'signals/npy//Fpz-Cz/remove_wake/train/'\n",
        "save_test_path = 'signals/npy/Fpz-Cz/remove_wake/test/'\n",
        "\n",
        "os.makedirs(save_train_path,exist_ok=True)\n",
        "os.makedirs(save_test_path,exist_ok=True)\n",
        "\n",
        "for filename in annotations_npy_list[:trainDataset_count]:\n",
        "    signals_filename = search_correct_signals_npy(signals_path,filename)[0]\n",
        "    shutil.copy(signals_path+signals_filename,save_train_path+filename)\n",
        "    \n",
        "\n",
        "        \n",
        "for filename in annotations_npy_list[trainDataset_count:]:\n",
        "    signals_filename = search_correct_signals_npy(signals_path,filename)[0]\n",
        "    shutil.copy(signals_path+signals_filename,save_test_path+filename)"
      ],
      "execution_count": 26,
      "outputs": []
    },
    {
      "cell_type": "code",
      "metadata": {
        "id": "p4EYtlUH-e9f",
        "outputId": "c5e314c8-f8a3-48de-cbcf-f706f8576a20",
        "colab": {
          "base_uri": "https://localhost:8080/"
        }
      },
      "source": [
        "train_path =  'signals/npy/Fpz-Cz/remove_wake/train/'\n",
        "test_path = 'signals/npy/Fpz-Cz/remove_wake/test/'\n",
        "annotations_path = 'annotations/npy/remove_wake/'\n",
        "\n",
        "train_list = search_signals_npy(train_path)\n",
        "test_list = search_signals_npy(test_path)\n",
        "\n",
        "print(train_list)\n",
        "print(test_list)\n",
        "\n",
        "train_label = np.zeros([6],dtype=int)\n",
        "test_label = np.zeros([6],dtype=int)\n",
        "\n",
        "for filename in train_list:\n",
        "    filename = search_correct_annotations_npy(annotations_path,filename)[0]\n",
        "    label = np.load(annotations_path + filename)\n",
        "    \n",
        "    for i in range(6):\n",
        "        train_label[i] += np.bincount(label,minlength=6)[i]\n",
        "\n",
        "        \n",
        "for filename in test_list:\n",
        "    filename = search_correct_annotations_npy(annotations_path,filename)[0]\n",
        "    label = np.load(annotations_path + filename)\n",
        "    \n",
        "    for i in range(6):\n",
        "        test_label[i] += np.bincount(label,minlength=6)[i]\n",
        "        \n",
        "train_label = train_label / np.sum(train_label) * 100\n",
        "test_label = test_label / np.sum(test_label) * 100\n",
        "print(train_label)\n",
        "print(test_label)"
      ],
      "execution_count": 27,
      "outputs": [
        {
          "output_type": "stream",
          "text": [
            "['SC4161EC-Hypnogram.npy', 'SC4181EC-Hypnogram.npy', 'SC4081EC-Hypnogram.npy', 'SC4071EC-Hypnogram.npy', 'SC4042EC-Hypnogram.npy', 'SC4052EC-Hypnogram.npy', 'SC4142EU-Hypnogram.npy', 'SC4091EC-Hypnogram.npy', 'SC4101EC-Hypnogram.npy', 'SC4121EC-Hypnogram.npy', 'SC4192EV-Hypnogram.npy', 'SC4122EV-Hypnogram.npy', 'SC4072EH-Hypnogram.npy', 'SC4021EH-Hypnogram.npy', 'SC4001EC-Hypnogram.npy', 'SC4012EC-Hypnogram.npy', 'SC4191EP-Hypnogram.npy', 'SC4032EP-Hypnogram.npy', 'SC4152EC-Hypnogram.npy', 'SC4051EC-Hypnogram.npy', 'SC4171EU-Hypnogram.npy', 'SC4131EC-Hypnogram.npy', 'SC4182EC-Hypnogram.npy', 'SC4082EP-Hypnogram.npy', 'SC4151EC-Hypnogram.npy', 'SC4172EC-Hypnogram.npy', 'SC4041EC-Hypnogram.npy', 'SC4141EU-Hypnogram.npy', 'SC4031EC-Hypnogram.npy', 'SC4092EC-Hypnogram.npy']\n",
            "['SC4162EC-Hypnogram.npy', 'SC4062EC-Hypnogram.npy', 'SC4022EJ-Hypnogram.npy', 'SC4002EC-Hypnogram.npy', 'SC4102EC-Hypnogram.npy', 'SC4112EC-Hypnogram.npy', 'SC4111EC-Hypnogram.npy', 'SC4061EC-Hypnogram.npy', 'SC4011EH-Hypnogram.npy']\n",
            "[12.73026316  6.96052632 44.98026316 14.88157895 20.26644737  0.18092105]\n",
            "[ 5.81047382  8.57855362 51.43391521 14.70074813 19.40149626  0.07481297]\n"
          ],
          "name": "stdout"
        }
      ]
    },
    {
      "cell_type": "code",
      "metadata": {
        "id": "sBwqVERu_aw-"
      },
      "source": [
        "import numpy as np\n",
        "import os\n",
        "import time\n",
        "import matplotlib.pylab as plt\n",
        "from  torch.utils.data import Dataset\n",
        "from torchvision import datasets, transforms\n",
        "import sys\n",
        "import random\n",
        "import math\n",
        "import warnings\n",
        "import pandas as pd\n",
        "\n",
        "from torch.utils.data import DataLoader\n",
        "import torchvision.transforms as transforms\n",
        "import torch\n",
        "from torchsummary import summary\n",
        "import torch.nn as nn\n",
        "import torch.nn.functional as F\n",
        "from torch.autograd import Variable\n",
        "\n",
        "device = torch.device(\"cuda:0\" if torch.cuda.is_available() else \"cpu\")"
      ],
      "execution_count": 28,
      "outputs": []
    },
    {
      "cell_type": "code",
      "metadata": {
        "id": "LSQaEXQr_h8m"
      },
      "source": [
        "def data_preprocessing_torch(signals): # 하나의 데이터셋에 대한 data_preprocessing (using torch)\n",
        "    signals = (signals - signals.mean(dim=1).unsqueeze(1))/signals.std(dim=1).unsqueeze(1)\n",
        "\n",
        "    return signals\n",
        "\n",
        "def data_preprocessing_oneToOne_torch(signals,min,max,max_value):\n",
        "    signals_std = (signals + max_value) / (2*max_value)\n",
        "    signals_scaled = signals_std * (max - min) + min\n",
        "    return signals_scaled\n",
        "\n",
        "def data_preprocessing_minmax_torch(signals,min,max):\n",
        "    signals_std = (signals - signals.min(dim=1).unsqueeze(1)) / (\n",
        "            signals.max(dim=1).unsqueeze(1) - signals.min(dim=1).unsqueeze(1))\n",
        "    signals_scaled = signals_std * (max - min) + min\n",
        "    return signals_scaled\n",
        "\n",
        "def get_dataset_one_channel_norm_withoutCut(dirname,annotations_dir,data_path,use_noise=True,epsilon=0.5,noise_scale=2e-6,preprocessing=True,norm_methods='Standard'):\n",
        "    # npy read!\n",
        "    path = dirname + data_path\n",
        "    signals = np.load(path)\n",
        "\n",
        "    signals = torch.from_numpy(signals).float().to(device)\n",
        "\n",
        "    if use_noise:\n",
        "        if np.random.rand() < epsilon:\n",
        "            # noise = np.random.normal(loc=0,scale=noise_scale,size=signals.shape)\n",
        "            # signals = signals + noise\n",
        "            noise = torch.normal(mean=0., std=noise_scale, size=signals.shape).to(device)\n",
        "            signals = signals + noise\n",
        "\n",
        "    if preprocessing:\n",
        "        if norm_methods == 'Standard':\n",
        "            signals = data_preprocessing_torch(signals)\n",
        "        elif norm_methods == 'minmax':\n",
        "            signals = data_preprocessing_minmax_torch(signals,0,1)\n",
        "        elif norm_methods == 'oneToOne':\n",
        "            signals = data_preprocessing_oneToOne_torch(signals,-1,1,1e-4)\n",
        "    label = get_annotations(annotations_dir, data_path)\n",
        "    return signals, label\n",
        "\n",
        "# model conv layer weight init function\n",
        "def weights_init(m):\n",
        "    classname = m.__class__.__name__\n",
        "    if classname.find('Conv') != -1:         # Conv weight init\n",
        "        torch.nn.init.xavier_uniform_(m.weight.data)\n",
        "        \n",
        "def suffle_dataset_list(dataset_list): # 데이터 셔플\n",
        "    random.shuffle(dataset_list)\n",
        "    return dataset_list\n",
        "\n",
        "\n",
        "# npy파일을 통해 label을 가져오는 함수\n",
        "def get_annotations(label_dir,file_name):\n",
        "    label_path = label_dir + file_name\n",
        "    label = np.load(label_path)\n",
        "    return label\n",
        "\n",
        "def signals_expand_torch_one_channel(signals): # 2차원 데이터를 3차원으로 변환 (8,N) -> (batch,8,6000) 형태로\n",
        "    signals = signals.expand(1,1,-1)\n",
        "    #print(signals.shape)\n",
        "    signals = signals.transpose(2, 1) # 차원 변경\n",
        "    signals = signals.reshape(-1, 3000, 1) # 형태 변환\n",
        "    signals = signals.transpose(2, 1) # 차원 변경\n",
        "    return signals"
      ],
      "execution_count": 29,
      "outputs": []
    },
    {
      "cell_type": "code",
      "metadata": {
        "id": "Mx4M7Rfq_lwo"
      },
      "source": [
        "class DeepSleepNet_Classification(nn.Module):  # input channel = 8channel / output = 5\n",
        "    def __init__(self,in_channel=1,out_channel=6,layer=[64,128,128,128],sample_rate = 100):\n",
        "        super(DeepSleepNet_Classification, self).__init__()\n",
        "\n",
        "        \n",
        "        self.fc1 = nn.Linear(3000,1024)\n",
        "        self.fc2 = nn.Linear(1024,1024)\n",
        "        self.fc3 = nn.Linear(1024,512)\n",
        "        self.fc4 = nn.Linear(512, 256)\n",
        "        self.fc5 = nn.Linear(256, out_channel)\n",
        "        \n",
        "\n",
        "    def forward(self, input):\n",
        "        # print(\"feature_extract_2d.shape : \", feature_extract_2d.shape)\n",
        "        # 여기서 문제 발생 weight의 경우에는 [64 , 32 , 100] 이지만 input 이 2차원 [32, 750]이라 문제 발생!\n",
        "        out = torch.flatten(input, 1)\n",
        "        out = self.fc1(out)\n",
        "        out = self.fc2(out)\n",
        "        out = self.fc3(out)\n",
        "        out = self.fc4(out)\n",
        "        out = self.fc5(out)\n",
        "\n",
        "        return out"
      ],
      "execution_count": 30,
      "outputs": []
    },
    {
      "cell_type": "code",
      "metadata": {
        "id": "-_yc1VyTx2xn"
      },
      "source": [
        "class DeepSleepNet_Classification(nn.Module):  \n",
        "    def __init__(self,in_channel=1,out_channel=6,layer=[64,128,256,256],sample_rate = 100):\n",
        "        super(DeepSleepNet_Classification, self).__init__()\n",
        "\n",
        "\n",
        "        self.conv1d_1 = nn.Conv1d(1,16, kernel_size=300, stride=50)\n",
        "        self.conv1d_2 = nn.Conv1d(16, 32, kernel_size=10, stride=5)\n",
        "        self.pool = nn.MaxPool2d(2,2)\n",
        "        self.fc1 = nn.Linear(320,160)\n",
        "        self.fc2 = nn.Linear(160,out_channel)\n",
        "         \n",
        "\n",
        "        self.LeakyReLU = nn.LeakyReLU()\n",
        "        self.dropout = nn.Dropout(p=0.2)\n",
        "\n",
        "    def forward(self, input):\n",
        "        out = self.conv1d_1(input)\n",
        "        out = self.LeakyReLU(out)\n",
        "        out = self.dropout(out)\n",
        "        out = self.conv1d_2(out)\n",
        "        out = self.LeakyReLU(out)\n",
        "        out = self.dropout(out)\n",
        "        out = torch.flatten(out, 1)\n",
        "        out = self.fc1(out)\n",
        "        out = self.LeakyReLU(out)\n",
        "        out = self.fc2(out)\n",
        "        out = self.LeakyReLU(out)\n",
        "\n",
        "        return out"
      ],
      "execution_count": 52,
      "outputs": []
    },
    {
      "cell_type": "code",
      "metadata": {
        "id": "CYZ6YSZHArdJ",
        "outputId": "b7e11a69-fb01-4b60-f332-6bc4d64c3995",
        "colab": {
          "base_uri": "https://localhost:8080/"
        }
      },
      "source": [
        "model = DeepSleepNet_Classification(in_channel=1,out_channel=6)\n",
        "summary(model.cuda(),(1,3000))"
      ],
      "execution_count": 53,
      "outputs": [
        {
          "output_type": "stream",
          "text": [
            "----------------------------------------------------------------\n",
            "        Layer (type)               Output Shape         Param #\n",
            "================================================================\n",
            "            Conv1d-1               [-1, 16, 55]           4,816\n",
            "         LeakyReLU-2               [-1, 16, 55]               0\n",
            "           Dropout-3               [-1, 16, 55]               0\n",
            "            Conv1d-4               [-1, 32, 10]           5,152\n",
            "         LeakyReLU-5               [-1, 32, 10]               0\n",
            "           Dropout-6               [-1, 32, 10]               0\n",
            "            Linear-7                  [-1, 160]          51,360\n",
            "         LeakyReLU-8                  [-1, 160]               0\n",
            "            Linear-9                    [-1, 6]             966\n",
            "        LeakyReLU-10                    [-1, 6]               0\n",
            "================================================================\n",
            "Total params: 62,294\n",
            "Trainable params: 62,294\n",
            "Non-trainable params: 0\n",
            "----------------------------------------------------------------\n",
            "Input size (MB): 0.01\n",
            "Forward/backward pass size (MB): 0.03\n",
            "Params size (MB): 0.24\n",
            "Estimated Total Size (MB): 0.28\n",
            "----------------------------------------------------------------\n"
          ],
          "name": "stdout"
        }
      ]
    },
    {
      "cell_type": "code",
      "metadata": {
        "id": "Li3ftAC1Az0Q"
      },
      "source": [
        "def search_npy_list(dirname):  # 매개변수 dir에서 모든 npy파일을 찾고 fold에 따른 dataset 나누기\n",
        "    filenames = os.listdir(dirname)\n",
        "    filenames = [file for _, file in enumerate(filenames) if file.endswith(\".npy\")]\n",
        "    return filenames\n"
      ],
      "execution_count": 54,
      "outputs": []
    },
    {
      "cell_type": "code",
      "metadata": {
        "id": "dQH_VRRFBGF1"
      },
      "source": [
        "def train_model_withNoise_norm(save_filename,logging_filename,train_signal_dir, test_signal_dir,annotations_dir\n",
        "                               ,epochs=2000,learning_rate=0.001,step_size=100,gamma=0.5,channel=0,\n",
        "                               layer_filters=[64,128,256,512],first_conv=[200,40,100],optim='Adam',lf='CE',\n",
        "                               epsilon=0.7,noise_scale=2e-6,min_value=-1e-4,max_value=1e-4,preprocessing=True,\n",
        "                               norm_methods='Standard',use_noise=True,loss_type='softmax'):\n",
        "    # Adam optimizer param\n",
        "    b1 = 0.5\n",
        "    b2 = 0.999\n",
        "\n",
        "    beta = 0.001\n",
        "\n",
        "    check_file = open(logging_filename, 'w')  # logging file\n",
        "\n",
        "    print('Preproceesing  : ',preprocessing)\n",
        "    print('min/max value : %f/%f'%(min_value,max_value))\n",
        "    print('noise scale : ',noise_scale)\n",
        "    print('loss function : ',lf)\n",
        "    print('epsilon : ',epsilon)\n",
        "    print('norm methods : ',norm_methods)\n",
        "\n",
        "    print('logging file name : ', logging_filename)\n",
        "    print('save file name : ', save_filename)\n",
        "    print('layer filters : ',layer_filters)\n",
        "    print('fisrt_conv info : ',first_conv)\n",
        "    print('loss type : ',loss_type)\n",
        "    print('training data oversampling noise : ',use_noise)\n",
        "    best_accuracy = 0.\n",
        "    best_epoch = 0\n",
        "\n",
        "    train_dataset_list = search_npy_list(train_signal_dir)\n",
        "    test_dataset_list = search_npy_list(test_signal_dir)\n",
        "\n",
        "    train_dataset_len = len(train_dataset_list)\n",
        "    test_dataset_len = len(test_dataset_list)\n",
        "\n",
        "    print('train_dataset length : ', len(train_dataset_list))\n",
        "    print(train_dataset_list)\n",
        "\n",
        "    print('test_dataset length : ',test_dataset_len)\n",
        "    print(test_dataset_list)\n",
        "\n",
        "\n",
        "    model = DeepSleepNet_Classification()\n",
        "\n",
        "    #model = resnet18_200hz(in_channel=1,layer_filters=layer_filters,first_conv=first_conv,use_batchnorm=True,num_classes=5)\n",
        "\n",
        "    model.apply(weights_init) # weight init\n",
        "\n",
        "    cuda = torch.cuda.is_available()\n",
        "\n",
        "    if cuda:\n",
        "        print('can use CUDA!!!')\n",
        "        model = model.cuda()\n",
        "    #summary(model,[1,6000])\n",
        "    print('torch.cuda.device_count() : ', torch.cuda.device_count())\n",
        "    if torch.cuda.device_count() > 1:\n",
        "        print('Multi GPU Activation !!!')\n",
        "        #model = nn.DataParallel(model)\n",
        "\n",
        "    # loss funcition\n",
        "    if lf == 'CE':\n",
        "        loss_fn = nn.CrossEntropyLoss().to(device)\n",
        "    elif lf == 'CEW':\n",
        "        samples_per_cls = [27,15,41,5,11]\n",
        "        no_of_classes = 5\n",
        "        effective_num = 1.0 - np.power(beta,samples_per_cls)\n",
        "        #print(effective_num)\n",
        "        weights = (1.0 - beta) / np.array(effective_num)\n",
        "        #print(weights)\n",
        "        weights = weights / np.sum(weights) * no_of_classes\n",
        "        weights = torch.tensor(weights).float()\n",
        "        weights = weights.to(device)\n",
        "        loss_fn = nn.CrossEntropyLoss(weight=weights).to(device)\n",
        "    elif lf == 'FL':\n",
        "        loss_fn = FocalLoss(gamma=2).to(device)\n",
        "    elif lf == 'CBL':\n",
        "        loss_fn = CB_loss(samples_per_cls=[27,15,41,5,11],no_of_classes=5,loss_type=loss_type,beta=0.9999,gamma=2.0)\n",
        "    #loss_fn = FocalLoss(gamma=2).to(device)\n",
        "\n",
        "    # optimizer ADAM (SGD의 경우에는 정상적으로 학습이 진행되지 않았음)\n",
        "    if optim == 'Adam':\n",
        "        print('Optimizer : Adam')\n",
        "        optimizer = torch.optim.Adam(model.parameters(), lr=learning_rate, betas=(b1, b2))\n",
        "    elif optim == 'RMS':\n",
        "        print('Optimizer : RMSprop')\n",
        "        optimizer = torch.optim.RMSprop(model.parameters(), lr=learning_rate)\n",
        "    elif optim == 'SGD':\n",
        "        print('Optimizer : SGD')\n",
        "        optimizer = torch.optim.SGD(model.parameters(),lr=learning_rate,momentum=0.9)\n",
        "\n",
        "    scheduler = torch.optim.lr_scheduler.ReduceLROnPlateau(optimizer=optimizer, mode='min', factor=gamma, patience=10,\n",
        "                                                           min_lr=1e-6)\n",
        "    #stride = 40 일 때, batch_size = 20이면 16GB정도의 메모리 사용\n",
        "    batch_size = 5\n",
        "    norm_square = 2\n",
        "\n",
        "    train_batch_size = math.ceil(train_dataset_len / batch_size)\n",
        "    print('train_batch_size : ',train_batch_size)\n",
        "\n",
        "    test_batch_size = test_dataset_len\n",
        "\n",
        "    best_accuracy = 0.\n",
        "    stop_count = 0\n",
        "    for epoch in range(epochs):\n",
        "        train_dataset = suffle_dataset_list(train_dataset_list) # 매 epoch마다 train_dataset shuffle !\n",
        "        count = 0  # check batch\n",
        "        train_total_loss = 0.0\n",
        "        train_total_count = 0\n",
        "        train_total_data = 0\n",
        "\n",
        "        val_total_loss = 0.0\n",
        "        val_total_count = 0\n",
        "        val_total_data = 0\n",
        "\n",
        "        test_total_loss = 0.0\n",
        "        test_total_count = 0\n",
        "        test_total_data = 0\n",
        "\n",
        "        start_time = time.time()\n",
        "        model.train()\n",
        "\n",
        "        output_str = 'current_lr : %f\\n'%(optimizer.state_dict()['param_groups'][0]['lr'])\n",
        "        sys.stdout.write(output_str)\n",
        "        check_file.write(output_str)\n",
        "        for index, file_name in enumerate(train_dataset):\n",
        "            #print('index : ',index)\n",
        "            if index % batch_size == 0:\n",
        "                batch_signal, batch_label = get_dataset_one_channel_norm_withoutCut(train_signal_dir,annotations_dir,file_name,\n",
        "                                                                         use_noise=use_noise,epsilon=epsilon,noise_scale=noise_scale,\n",
        "                                                                         preprocessing=preprocessing,norm_methods=norm_methods)\n",
        "            else:\n",
        "                new_signal, new_label = get_dataset_one_channel_norm_withoutCut(train_signal_dir,annotations_dir,file_name,\n",
        "                                                                         use_noise=use_noise,epsilon=epsilon,noise_scale=noise_scale,\n",
        "                                                                         preprocessing=preprocessing,norm_methods=norm_methods)\n",
        "\n",
        "                batch_signal = torch.cat((batch_signal, new_signal),dim=1)\n",
        "                batch_label = np.concatenate((batch_label, new_label))\n",
        "            count += 1\n",
        "            if count == batch_size or index == len(train_dataset) - 1:  # batch 학습 시작!\n",
        "                batch_signal = signals_expand_torch_one_channel(batch_signal)\n",
        "                #batch_signal = signals_expand_torch_one_channel(batch_signal)\n",
        "                # batch_signal = torch.from_numpy(batch_signal).float().to(device)\n",
        "                batch_label = torch.from_numpy(batch_label).long().to(device)\n",
        "                optimizer.zero_grad()\n",
        "                # print(batch_signal.shape)\n",
        "                # print(batch_signal)\n",
        "                pred = model(batch_signal)\n",
        "                norm = 0\n",
        "\n",
        "                for parameter in model.parameters():\n",
        "                    norm += torch.norm(parameter, p=norm_square)\n",
        "\n",
        "                loss = loss_fn(pred, batch_label) + beta * norm\n",
        "                #print('loss : ',loss.item())\n",
        "                # loss = loss_fn(pred, batch_label)\n",
        "                # acc\n",
        "                _, predict = torch.max(pred, 1)\n",
        "                check_count = (predict == batch_label).sum().item()\n",
        "\n",
        "                train_total_loss += loss.item()\n",
        "\n",
        "                train_total_count += check_count\n",
        "                train_total_data += len(batch_signal)\n",
        "                loss.backward()\n",
        "                optimizer.step()\n",
        "\n",
        "                del (batch_signal)\n",
        "                del (batch_label)\n",
        "                del (loss)\n",
        "                del (pred)\n",
        "                torch.cuda.empty_cache()\n",
        "                count = 0\n",
        "\n",
        "        train_total_loss /= train_batch_size\n",
        "        train_accuracy = train_total_count / train_total_data * 100\n",
        "\n",
        "        output_str = 'train dataset : %d/%d epochs spend time : %.4f sec / total_loss : %.4f correct : %d/%d -> %.4f%%\\n' \\\n",
        "                     % (epoch + 1, epochs, time.time() - start_time, train_total_loss,\n",
        "                        train_total_count, train_total_data, train_accuracy)\n",
        "        sys.stdout.write(output_str)\n",
        "        check_file.write(output_str)\n",
        "\n",
        "    \n",
        "\n",
        "        #check test dataset\n",
        "        start_time = time.time()\n",
        "        for file_name in test_dataset_list:\n",
        "            batch_signal, batch_label = get_dataset_one_channel_norm_withoutCut(test_signal_dir,annotations_dir,file_name,\n",
        "                                                                         use_noise=False,epsilon=epsilon,noise_scale=noise_scale,\n",
        "                                                                         preprocessing=preprocessing,norm_methods=norm_methods)\n",
        "\n",
        "            batch_signal = signals_expand_torch_one_channel(batch_signal)\n",
        "\n",
        "            batch_label = torch.from_numpy(batch_label).long().to(device)\n",
        "\n",
        "            with torch.no_grad():\n",
        "                pred = model(batch_signal)\n",
        "\n",
        "                loss = loss_fn(pred, batch_label)\n",
        "\n",
        "                # acc\n",
        "                _, predict = torch.max(pred, 1)\n",
        "                check_count = (predict == batch_label).sum().item()\n",
        "\n",
        "                test_total_loss += loss.item()\n",
        "                test_total_count += check_count\n",
        "                test_total_data += len(batch_signal)\n",
        "\n",
        "                # 사용하지 않는 변수 제거\n",
        "                del (batch_signal)\n",
        "                del (batch_label)\n",
        "                del (loss)\n",
        "                del (pred)\n",
        "                torch.cuda.empty_cache()\n",
        "        test_total_loss /= test_batch_size\n",
        "        test_accuracy = test_total_count / test_total_data * 100\n",
        "\n",
        "\n",
        "\n",
        "        output_str = 'test dataset : %d/%d epochs spend time : %.4f sec  / total_loss : %.4f correct : %d/%d -> %.4f%%\\n' \\\n",
        "                     % (epoch + 1, epochs, time.time() - start_time, test_total_loss,\n",
        "                        test_total_count, test_total_data, test_accuracy)\n",
        "        sys.stdout.write(output_str)\n",
        "        check_file.write(output_str)\n",
        "\n",
        "        scheduler.step(float(test_total_loss))\n",
        "        #scheduler.step()\n",
        "\n",
        "        if epoch == 0:\n",
        "            best_accuracy = test_accuracy\n",
        "            best_epoch = epoch\n",
        "            save_file = save_filename\n",
        "            #save_file = save_path + 'best_SleepEEGNet_CNN_channel%d.pth'%channel\n",
        "            torch.save(model.state_dict(),save_file)\n",
        "            stop_count = 0\n",
        "        else:\n",
        "            if best_accuracy < test_accuracy:\n",
        "                best_accuracy = test_accuracy\n",
        "                best_epoch = epoch\n",
        "                save_file = save_filename\n",
        "                torch.save(model.state_dict(), save_file)\n",
        "                stop_count = 0\n",
        "            else:\n",
        "                stop_count += 1\n",
        "        if stop_count > 30:\n",
        "            print('Early Stopping')\n",
        "            break\n",
        "\n",
        "        output_str = 'best epoch : %d/%d / val accuracy : %f%%\\n' \\\n",
        "                     % (best_epoch+1, epochs, best_accuracy)\n",
        "        sys.stdout.write(output_str)\n",
        "        print('=' * 30)\n",
        "\n",
        "\n",
        "    output_str = 'best epoch : %d/%d / accuracy : %f%%\\n' \\\n",
        "                 % (best_epoch+1, epochs, best_accuracy)\n",
        "    sys.stdout.write(output_str)\n",
        "    check_file.write(output_str)\n",
        "    print('=' * 30)\n",
        "\n",
        "    check_file.close()"
      ],
      "execution_count": 56,
      "outputs": []
    },
    {
      "cell_type": "code",
      "metadata": {
        "id": "r-qN1b_NBMC1",
        "outputId": "e3b99581-1294-4b12-b06b-2f2b2e901776",
        "colab": {
          "base_uri": "https://localhost:8080/"
        }
      },
      "source": [
        "save_filename = './train.pth'\n",
        "logging_filename = './logging.txt'\n",
        "train_signal_dir = 'signals/npy/Fpz-Cz/remove_wake/train/'\n",
        "test_signal_dir = 'signals/npy/Fpz-Cz/remove_wake/test/'\n",
        "annotations_dir = 'annotations/npy/remove_wake/'\n",
        "train_model_withNoise_norm(save_filename,logging_filename,train_signal_dir, \n",
        "                           test_signal_dir,annotations_dir,\n",
        "                           epochs=2000,learning_rate=0.001,step_size=100,gamma=0.5,channel=0,\n",
        "                           layer_filters=[64,128,256,512],first_conv=[200,40,100],\n",
        "                           optim='Adam',lf='CE',epsilon=0,noise_scale=0,\n",
        "                           min_value=-0,max_value=0,preprocessing=True,\n",
        "                           norm_methods='Standard',use_noise=False,loss_type='softmax')"
      ],
      "execution_count": 57,
      "outputs": [
        {
          "output_type": "stream",
          "text": [
            "Preproceesing  :  True\n",
            "min/max value : 0.000000/0.000000\n",
            "noise scale :  0\n",
            "loss function :  CE\n",
            "epsilon :  0\n",
            "norm methods :  Standard\n",
            "logging file name :  ./logging.txt\n",
            "save file name :  ./train.pth\n",
            "layer filters :  [64, 128, 256, 512]\n",
            "fisrt_conv info :  [200, 40, 100]\n",
            "loss type :  softmax\n",
            "training data oversampling noise :  False\n",
            "train_dataset length :  30\n",
            "['SC4161EC-Hypnogram.npy', 'SC4181EC-Hypnogram.npy', 'SC4081EC-Hypnogram.npy', 'SC4071EC-Hypnogram.npy', 'SC4042EC-Hypnogram.npy', 'SC4052EC-Hypnogram.npy', 'SC4142EU-Hypnogram.npy', 'SC4091EC-Hypnogram.npy', 'SC4101EC-Hypnogram.npy', 'SC4121EC-Hypnogram.npy', 'SC4192EV-Hypnogram.npy', 'SC4122EV-Hypnogram.npy', 'SC4072EH-Hypnogram.npy', 'SC4021EH-Hypnogram.npy', 'SC4001EC-Hypnogram.npy', 'SC4012EC-Hypnogram.npy', 'SC4191EP-Hypnogram.npy', 'SC4032EP-Hypnogram.npy', 'SC4152EC-Hypnogram.npy', 'SC4051EC-Hypnogram.npy', 'SC4171EU-Hypnogram.npy', 'SC4131EC-Hypnogram.npy', 'SC4182EC-Hypnogram.npy', 'SC4082EP-Hypnogram.npy', 'SC4151EC-Hypnogram.npy', 'SC4172EC-Hypnogram.npy', 'SC4041EC-Hypnogram.npy', 'SC4141EU-Hypnogram.npy', 'SC4031EC-Hypnogram.npy', 'SC4092EC-Hypnogram.npy']\n",
            "test_dataset length :  9\n",
            "['SC4162EC-Hypnogram.npy', 'SC4062EC-Hypnogram.npy', 'SC4022EJ-Hypnogram.npy', 'SC4002EC-Hypnogram.npy', 'SC4102EC-Hypnogram.npy', 'SC4112EC-Hypnogram.npy', 'SC4111EC-Hypnogram.npy', 'SC4061EC-Hypnogram.npy', 'SC4011EH-Hypnogram.npy']\n",
            "can use CUDA!!!\n",
            "torch.cuda.device_count() :  1\n",
            "Optimizer : Adam\n",
            "train_batch_size :  6\n",
            "current_lr : 0.001000\n",
            "train dataset : 1/2000 epochs spend time : 0.8092 sec / total_loss : 1.7305 correct : 9207/30400 -> 30.2862%\n",
            "test dataset : 1/2000 epochs spend time : 0.1323 sec  / total_loss : 1.4824 correct : 4125/8020 -> 51.4339%\n",
            "best epoch : 1/2000 / val accuracy : 51.433915%\n",
            "==============================\n",
            "current_lr : 0.001000\n",
            "train dataset : 2/2000 epochs spend time : 0.6825 sec / total_loss : 1.5678 correct : 13797/30400 -> 45.3849%\n",
            "test dataset : 2/2000 epochs spend time : 0.1260 sec  / total_loss : 1.4566 correct : 4292/8020 -> 53.5162%\n",
            "best epoch : 2/2000 / val accuracy : 53.516209%\n",
            "==============================\n",
            "current_lr : 0.001000\n",
            "train dataset : 3/2000 epochs spend time : 0.6765 sec / total_loss : 1.5164 correct : 14263/30400 -> 46.9178%\n",
            "test dataset : 3/2000 epochs spend time : 0.1300 sec  / total_loss : 1.4432 correct : 3228/8020 -> 40.2494%\n",
            "best epoch : 2/2000 / val accuracy : 53.516209%\n",
            "==============================\n",
            "current_lr : 0.001000\n",
            "train dataset : 4/2000 epochs spend time : 0.6777 sec / total_loss : 1.4900 correct : 13697/30400 -> 45.0559%\n",
            "test dataset : 4/2000 epochs spend time : 0.1279 sec  / total_loss : 1.3307 correct : 4459/8020 -> 55.5985%\n",
            "best epoch : 4/2000 / val accuracy : 55.598504%\n",
            "==============================\n",
            "current_lr : 0.001000\n",
            "train dataset : 5/2000 epochs spend time : 0.6803 sec / total_loss : 1.4182 correct : 14700/30400 -> 48.3553%\n",
            "test dataset : 5/2000 epochs spend time : 0.1296 sec  / total_loss : 1.2400 correct : 4534/8020 -> 56.5337%\n",
            "best epoch : 5/2000 / val accuracy : 56.533666%\n",
            "==============================\n",
            "current_lr : 0.001000\n",
            "train dataset : 6/2000 epochs spend time : 0.6824 sec / total_loss : 1.2987 correct : 15083/30400 -> 49.6151%\n",
            "test dataset : 6/2000 epochs spend time : 0.1305 sec  / total_loss : 1.1560 correct : 4591/8020 -> 57.2444%\n",
            "best epoch : 6/2000 / val accuracy : 57.244389%\n",
            "==============================\n",
            "current_lr : 0.001000\n",
            "train dataset : 7/2000 epochs spend time : 0.6808 sec / total_loss : 1.2588 correct : 15662/30400 -> 51.5197%\n",
            "test dataset : 7/2000 epochs spend time : 0.1298 sec  / total_loss : 1.1035 correct : 4623/8020 -> 57.6434%\n",
            "best epoch : 7/2000 / val accuracy : 57.643392%\n",
            "==============================\n",
            "current_lr : 0.001000\n",
            "train dataset : 8/2000 epochs spend time : 0.6818 sec / total_loss : 1.2154 correct : 16162/30400 -> 53.1645%\n",
            "test dataset : 8/2000 epochs spend time : 0.1307 sec  / total_loss : 1.0865 correct : 4935/8020 -> 61.5337%\n",
            "best epoch : 8/2000 / val accuracy : 61.533666%\n",
            "==============================\n",
            "current_lr : 0.001000\n",
            "train dataset : 9/2000 epochs spend time : 0.6763 sec / total_loss : 1.1772 correct : 17256/30400 -> 56.7632%\n",
            "test dataset : 9/2000 epochs spend time : 0.1291 sec  / total_loss : 1.0674 correct : 4870/8020 -> 60.7232%\n",
            "best epoch : 8/2000 / val accuracy : 61.533666%\n",
            "==============================\n",
            "current_lr : 0.001000\n",
            "train dataset : 10/2000 epochs spend time : 0.6826 sec / total_loss : 1.1540 correct : 17043/30400 -> 56.0625%\n",
            "test dataset : 10/2000 epochs spend time : 0.1235 sec  / total_loss : 0.9996 correct : 5190/8020 -> 64.7132%\n",
            "best epoch : 10/2000 / val accuracy : 64.713217%\n",
            "==============================\n",
            "current_lr : 0.001000\n",
            "train dataset : 11/2000 epochs spend time : 0.6747 sec / total_loss : 1.1083 correct : 18063/30400 -> 59.4178%\n",
            "test dataset : 11/2000 epochs spend time : 0.1274 sec  / total_loss : 1.0089 correct : 5164/8020 -> 64.3890%\n",
            "best epoch : 10/2000 / val accuracy : 64.713217%\n",
            "==============================\n",
            "current_lr : 0.001000\n",
            "train dataset : 12/2000 epochs spend time : 0.6821 sec / total_loss : 1.1018 correct : 17808/30400 -> 58.5789%\n",
            "test dataset : 12/2000 epochs spend time : 0.1313 sec  / total_loss : 1.0252 correct : 5035/8020 -> 62.7805%\n",
            "best epoch : 10/2000 / val accuracy : 64.713217%\n",
            "==============================\n",
            "current_lr : 0.001000\n",
            "train dataset : 13/2000 epochs spend time : 0.6870 sec / total_loss : 1.0857 correct : 18161/30400 -> 59.7401%\n",
            "test dataset : 13/2000 epochs spend time : 0.1326 sec  / total_loss : 0.9650 correct : 5260/8020 -> 65.5860%\n",
            "best epoch : 13/2000 / val accuracy : 65.586035%\n",
            "==============================\n",
            "current_lr : 0.001000\n",
            "train dataset : 14/2000 epochs spend time : 0.6837 sec / total_loss : 1.0900 correct : 18145/30400 -> 59.6875%\n",
            "test dataset : 14/2000 epochs spend time : 0.1273 sec  / total_loss : 0.9854 correct : 5210/8020 -> 64.9626%\n",
            "best epoch : 13/2000 / val accuracy : 65.586035%\n",
            "==============================\n",
            "current_lr : 0.001000\n",
            "train dataset : 15/2000 epochs spend time : 0.6832 sec / total_loss : 1.0551 correct : 18649/30400 -> 61.3454%\n",
            "test dataset : 15/2000 epochs spend time : 0.1378 sec  / total_loss : 0.9771 correct : 5207/8020 -> 64.9252%\n",
            "best epoch : 13/2000 / val accuracy : 65.586035%\n",
            "==============================\n",
            "current_lr : 0.001000\n",
            "train dataset : 16/2000 epochs spend time : 0.6876 sec / total_loss : 1.0586 correct : 18204/30400 -> 59.8816%\n",
            "test dataset : 16/2000 epochs spend time : 0.1233 sec  / total_loss : 0.9108 correct : 5250/8020 -> 65.4613%\n",
            "best epoch : 13/2000 / val accuracy : 65.586035%\n",
            "==============================\n",
            "current_lr : 0.001000\n",
            "train dataset : 17/2000 epochs spend time : 0.6822 sec / total_loss : 1.0286 correct : 18692/30400 -> 61.4868%\n",
            "test dataset : 17/2000 epochs spend time : 0.1272 sec  / total_loss : 1.0191 correct : 5030/8020 -> 62.7182%\n",
            "best epoch : 13/2000 / val accuracy : 65.586035%\n",
            "==============================\n",
            "current_lr : 0.001000\n",
            "train dataset : 18/2000 epochs spend time : 0.6778 sec / total_loss : 1.0327 correct : 18678/30400 -> 61.4408%\n",
            "test dataset : 18/2000 epochs spend time : 0.1323 sec  / total_loss : 1.0234 correct : 5158/8020 -> 64.3142%\n",
            "best epoch : 13/2000 / val accuracy : 65.586035%\n",
            "==============================\n",
            "current_lr : 0.001000\n",
            "train dataset : 19/2000 epochs spend time : 0.6785 sec / total_loss : 1.0418 correct : 18400/30400 -> 60.5263%\n",
            "test dataset : 19/2000 epochs spend time : 0.1263 sec  / total_loss : 0.9404 correct : 5332/8020 -> 66.4838%\n",
            "best epoch : 19/2000 / val accuracy : 66.483791%\n",
            "==============================\n",
            "current_lr : 0.001000\n",
            "train dataset : 20/2000 epochs spend time : 0.6860 sec / total_loss : 1.0046 correct : 18885/30400 -> 62.1217%\n",
            "test dataset : 20/2000 epochs spend time : 0.1325 sec  / total_loss : 0.8990 correct : 5366/8020 -> 66.9077%\n",
            "best epoch : 20/2000 / val accuracy : 66.907731%\n",
            "==============================\n",
            "current_lr : 0.001000\n",
            "train dataset : 21/2000 epochs spend time : 0.6988 sec / total_loss : 1.0384 correct : 18777/30400 -> 61.7664%\n",
            "test dataset : 21/2000 epochs spend time : 0.1326 sec  / total_loss : 1.0022 correct : 5192/8020 -> 64.7382%\n",
            "best epoch : 20/2000 / val accuracy : 66.907731%\n",
            "==============================\n",
            "current_lr : 0.001000\n",
            "train dataset : 22/2000 epochs spend time : 0.6795 sec / total_loss : 0.9942 correct : 19254/30400 -> 63.3355%\n",
            "test dataset : 22/2000 epochs spend time : 0.1294 sec  / total_loss : 0.9137 correct : 5356/8020 -> 66.7830%\n",
            "best epoch : 20/2000 / val accuracy : 66.907731%\n",
            "==============================\n",
            "current_lr : 0.001000\n",
            "train dataset : 23/2000 epochs spend time : 0.6763 sec / total_loss : 0.9731 correct : 19517/30400 -> 64.2007%\n",
            "test dataset : 23/2000 epochs spend time : 0.1268 sec  / total_loss : 0.9128 correct : 5361/8020 -> 66.8454%\n",
            "best epoch : 20/2000 / val accuracy : 66.907731%\n",
            "==============================\n",
            "current_lr : 0.001000\n",
            "train dataset : 24/2000 epochs spend time : 0.6733 sec / total_loss : 0.9813 correct : 19245/30400 -> 63.3059%\n",
            "test dataset : 24/2000 epochs spend time : 0.1217 sec  / total_loss : 0.9090 correct : 5379/8020 -> 67.0698%\n",
            "best epoch : 24/2000 / val accuracy : 67.069825%\n",
            "==============================\n",
            "current_lr : 0.001000\n",
            "train dataset : 25/2000 epochs spend time : 0.6774 sec / total_loss : 1.0029 correct : 19028/30400 -> 62.5921%\n",
            "test dataset : 25/2000 epochs spend time : 0.1261 sec  / total_loss : 0.9367 correct : 5061/8020 -> 63.1047%\n",
            "best epoch : 24/2000 / val accuracy : 67.069825%\n",
            "==============================\n",
            "current_lr : 0.001000\n",
            "train dataset : 26/2000 epochs spend time : 0.6806 sec / total_loss : 1.0003 correct : 18764/30400 -> 61.7237%\n",
            "test dataset : 26/2000 epochs spend time : 0.1296 sec  / total_loss : 0.9182 correct : 5387/8020 -> 67.1696%\n",
            "best epoch : 26/2000 / val accuracy : 67.169576%\n",
            "==============================\n",
            "current_lr : 0.001000\n",
            "train dataset : 27/2000 epochs spend time : 0.6790 sec / total_loss : 0.9540 correct : 19775/30400 -> 65.0493%\n",
            "test dataset : 27/2000 epochs spend time : 0.1294 sec  / total_loss : 0.9211 correct : 5356/8020 -> 66.7830%\n",
            "best epoch : 26/2000 / val accuracy : 67.169576%\n",
            "==============================\n",
            "current_lr : 0.001000\n",
            "train dataset : 28/2000 epochs spend time : 0.6684 sec / total_loss : 0.9620 correct : 19485/30400 -> 64.0954%\n",
            "test dataset : 28/2000 epochs spend time : 0.1247 sec  / total_loss : 0.9394 correct : 5186/8020 -> 64.6633%\n",
            "best epoch : 26/2000 / val accuracy : 67.169576%\n",
            "==============================\n",
            "current_lr : 0.001000\n",
            "train dataset : 29/2000 epochs spend time : 0.6772 sec / total_loss : 0.9466 correct : 19597/30400 -> 64.4638%\n",
            "test dataset : 29/2000 epochs spend time : 0.1291 sec  / total_loss : 0.9654 correct : 5213/8020 -> 65.0000%\n",
            "best epoch : 26/2000 / val accuracy : 67.169576%\n",
            "==============================\n",
            "current_lr : 0.001000\n",
            "train dataset : 30/2000 epochs spend time : 0.6831 sec / total_loss : 0.9442 correct : 19823/30400 -> 65.2072%\n",
            "test dataset : 30/2000 epochs spend time : 0.1204 sec  / total_loss : 0.9455 correct : 5323/8020 -> 66.3716%\n",
            "best epoch : 26/2000 / val accuracy : 67.169576%\n",
            "==============================\n",
            "current_lr : 0.001000\n",
            "train dataset : 31/2000 epochs spend time : 0.6757 sec / total_loss : 0.9558 correct : 19558/30400 -> 64.3355%\n",
            "test dataset : 31/2000 epochs spend time : 0.1330 sec  / total_loss : 0.8898 correct : 5440/8020 -> 67.8304%\n",
            "best epoch : 31/2000 / val accuracy : 67.830424%\n",
            "==============================\n",
            "current_lr : 0.001000\n",
            "train dataset : 32/2000 epochs spend time : 0.6992 sec / total_loss : 0.9290 correct : 19851/30400 -> 65.2993%\n",
            "test dataset : 32/2000 epochs spend time : 0.1300 sec  / total_loss : 0.9981 correct : 5181/8020 -> 64.6010%\n",
            "best epoch : 31/2000 / val accuracy : 67.830424%\n",
            "==============================\n",
            "current_lr : 0.001000\n",
            "train dataset : 33/2000 epochs spend time : 0.6884 sec / total_loss : 0.9142 correct : 20049/30400 -> 65.9507%\n",
            "test dataset : 33/2000 epochs spend time : 0.1329 sec  / total_loss : 0.8610 correct : 5481/8020 -> 68.3416%\n",
            "best epoch : 33/2000 / val accuracy : 68.341646%\n",
            "==============================\n",
            "current_lr : 0.001000\n",
            "train dataset : 34/2000 epochs spend time : 0.6818 sec / total_loss : 0.9128 correct : 20168/30400 -> 66.3421%\n",
            "test dataset : 34/2000 epochs spend time : 0.1255 sec  / total_loss : 0.8775 correct : 5486/8020 -> 68.4040%\n",
            "best epoch : 34/2000 / val accuracy : 68.403990%\n",
            "==============================\n",
            "current_lr : 0.001000\n",
            "train dataset : 35/2000 epochs spend time : 0.6824 sec / total_loss : 0.9183 correct : 20065/30400 -> 66.0033%\n",
            "test dataset : 35/2000 epochs spend time : 0.1268 sec  / total_loss : 0.9421 correct : 5373/8020 -> 66.9950%\n",
            "best epoch : 34/2000 / val accuracy : 68.403990%\n",
            "==============================\n",
            "current_lr : 0.001000\n",
            "train dataset : 36/2000 epochs spend time : 0.6747 sec / total_loss : 0.9105 correct : 20025/30400 -> 65.8717%\n",
            "test dataset : 36/2000 epochs spend time : 0.1238 sec  / total_loss : 0.9113 correct : 5419/8020 -> 67.5686%\n",
            "best epoch : 34/2000 / val accuracy : 68.403990%\n",
            "==============================\n",
            "current_lr : 0.001000\n",
            "train dataset : 37/2000 epochs spend time : 0.6947 sec / total_loss : 0.9408 correct : 19805/30400 -> 65.1480%\n",
            "test dataset : 37/2000 epochs spend time : 0.1329 sec  / total_loss : 0.9267 correct : 5421/8020 -> 67.5935%\n",
            "best epoch : 34/2000 / val accuracy : 68.403990%\n",
            "==============================\n",
            "current_lr : 0.001000\n",
            "train dataset : 38/2000 epochs spend time : 0.6789 sec / total_loss : 0.9079 correct : 20039/30400 -> 65.9178%\n",
            "test dataset : 38/2000 epochs spend time : 0.1311 sec  / total_loss : 0.9636 correct : 5319/8020 -> 66.3217%\n",
            "best epoch : 34/2000 / val accuracy : 68.403990%\n",
            "==============================\n",
            "current_lr : 0.001000\n",
            "train dataset : 39/2000 epochs spend time : 0.6787 sec / total_loss : 0.8972 correct : 20327/30400 -> 66.8651%\n",
            "test dataset : 39/2000 epochs spend time : 0.1306 sec  / total_loss : 1.0146 correct : 5179/8020 -> 64.5761%\n",
            "best epoch : 34/2000 / val accuracy : 68.403990%\n",
            "==============================\n",
            "current_lr : 0.001000\n",
            "train dataset : 40/2000 epochs spend time : 0.6888 sec / total_loss : 0.8983 correct : 20202/30400 -> 66.4539%\n",
            "test dataset : 40/2000 epochs spend time : 0.1294 sec  / total_loss : 0.9368 correct : 5347/8020 -> 66.6708%\n",
            "best epoch : 34/2000 / val accuracy : 68.403990%\n",
            "==============================\n",
            "current_lr : 0.001000\n",
            "train dataset : 41/2000 epochs spend time : 0.6819 sec / total_loss : 0.8981 correct : 20440/30400 -> 67.2368%\n",
            "test dataset : 41/2000 epochs spend time : 0.1282 sec  / total_loss : 0.9229 correct : 5450/8020 -> 67.9551%\n",
            "best epoch : 34/2000 / val accuracy : 68.403990%\n",
            "==============================\n",
            "current_lr : 0.001000\n",
            "train dataset : 42/2000 epochs spend time : 0.6837 sec / total_loss : 0.8973 correct : 20293/30400 -> 66.7533%\n",
            "test dataset : 42/2000 epochs spend time : 0.1302 sec  / total_loss : 0.9347 correct : 5411/8020 -> 67.4688%\n",
            "best epoch : 34/2000 / val accuracy : 68.403990%\n",
            "==============================\n",
            "current_lr : 0.001000\n",
            "train dataset : 43/2000 epochs spend time : 0.6764 sec / total_loss : 0.9188 correct : 20103/30400 -> 66.1283%\n",
            "test dataset : 43/2000 epochs spend time : 0.1318 sec  / total_loss : 1.0799 correct : 4942/8020 -> 61.6209%\n",
            "best epoch : 34/2000 / val accuracy : 68.403990%\n",
            "==============================\n",
            "current_lr : 0.001000\n",
            "train dataset : 44/2000 epochs spend time : 0.6752 sec / total_loss : 0.8977 correct : 20297/30400 -> 66.7664%\n",
            "test dataset : 44/2000 epochs spend time : 0.1292 sec  / total_loss : 0.9507 correct : 5393/8020 -> 67.2444%\n",
            "best epoch : 34/2000 / val accuracy : 68.403990%\n",
            "==============================\n",
            "current_lr : 0.000500\n",
            "train dataset : 45/2000 epochs spend time : 0.6790 sec / total_loss : 0.8769 correct : 20605/30400 -> 67.7796%\n",
            "test dataset : 45/2000 epochs spend time : 0.1281 sec  / total_loss : 0.9811 correct : 5346/8020 -> 66.6584%\n",
            "best epoch : 34/2000 / val accuracy : 68.403990%\n",
            "==============================\n",
            "current_lr : 0.000500\n",
            "train dataset : 46/2000 epochs spend time : 0.6783 sec / total_loss : 0.8811 correct : 20474/30400 -> 67.3487%\n",
            "test dataset : 46/2000 epochs spend time : 0.1227 sec  / total_loss : 0.9477 correct : 5452/8020 -> 67.9800%\n",
            "best epoch : 34/2000 / val accuracy : 68.403990%\n",
            "==============================\n",
            "current_lr : 0.000500\n",
            "train dataset : 47/2000 epochs spend time : 0.6954 sec / total_loss : 0.8808 correct : 20496/30400 -> 67.4211%\n",
            "test dataset : 47/2000 epochs spend time : 0.1243 sec  / total_loss : 0.9692 correct : 5380/8020 -> 67.0823%\n",
            "best epoch : 34/2000 / val accuracy : 68.403990%\n",
            "==============================\n",
            "current_lr : 0.000500\n",
            "train dataset : 48/2000 epochs spend time : 0.6704 sec / total_loss : 0.8827 correct : 20491/30400 -> 67.4046%\n",
            "test dataset : 48/2000 epochs spend time : 0.1268 sec  / total_loss : 0.9292 correct : 5481/8020 -> 68.3416%\n",
            "best epoch : 34/2000 / val accuracy : 68.403990%\n",
            "==============================\n",
            "current_lr : 0.000500\n",
            "train dataset : 49/2000 epochs spend time : 0.6809 sec / total_loss : 0.8696 correct : 20600/30400 -> 67.7632%\n",
            "test dataset : 49/2000 epochs spend time : 0.1328 sec  / total_loss : 0.9472 correct : 5457/8020 -> 68.0424%\n",
            "best epoch : 34/2000 / val accuracy : 68.403990%\n",
            "==============================\n",
            "current_lr : 0.000500\n",
            "train dataset : 50/2000 epochs spend time : 0.6771 sec / total_loss : 0.8660 correct : 20572/30400 -> 67.6711%\n",
            "test dataset : 50/2000 epochs spend time : 0.1244 sec  / total_loss : 0.9605 correct : 5431/8020 -> 67.7182%\n",
            "best epoch : 34/2000 / val accuracy : 68.403990%\n",
            "==============================\n",
            "current_lr : 0.000500\n",
            "train dataset : 51/2000 epochs spend time : 0.6778 sec / total_loss : 0.8675 correct : 20591/30400 -> 67.7336%\n",
            "test dataset : 51/2000 epochs spend time : 0.1254 sec  / total_loss : 0.9914 correct : 5329/8020 -> 66.4464%\n",
            "best epoch : 34/2000 / val accuracy : 68.403990%\n",
            "==============================\n",
            "current_lr : 0.000500\n",
            "train dataset : 52/2000 epochs spend time : 0.6820 sec / total_loss : 0.8644 correct : 20604/30400 -> 67.7763%\n",
            "test dataset : 52/2000 epochs spend time : 0.1296 sec  / total_loss : 0.9588 correct : 5444/8020 -> 67.8803%\n",
            "best epoch : 34/2000 / val accuracy : 68.403990%\n",
            "==============================\n",
            "current_lr : 0.000500\n",
            "train dataset : 53/2000 epochs spend time : 0.6786 sec / total_loss : 0.8679 correct : 20642/30400 -> 67.9013%\n",
            "test dataset : 53/2000 epochs spend time : 0.1280 sec  / total_loss : 0.9752 correct : 5441/8020 -> 67.8429%\n",
            "best epoch : 34/2000 / val accuracy : 68.403990%\n",
            "==============================\n",
            "current_lr : 0.000500\n",
            "train dataset : 54/2000 epochs spend time : 0.6789 sec / total_loss : 0.8675 correct : 20626/30400 -> 67.8487%\n",
            "test dataset : 54/2000 epochs spend time : 0.1290 sec  / total_loss : 0.9900 correct : 5361/8020 -> 66.8454%\n",
            "best epoch : 34/2000 / val accuracy : 68.403990%\n",
            "==============================\n",
            "current_lr : 0.000500\n",
            "train dataset : 55/2000 epochs spend time : 0.6868 sec / total_loss : 0.8725 correct : 20601/30400 -> 67.7664%\n",
            "test dataset : 55/2000 epochs spend time : 0.1273 sec  / total_loss : 1.0346 correct : 5227/8020 -> 65.1746%\n",
            "best epoch : 34/2000 / val accuracy : 68.403990%\n",
            "==============================\n",
            "current_lr : 0.000250\n",
            "train dataset : 56/2000 epochs spend time : 0.6920 sec / total_loss : 0.8695 correct : 20613/30400 -> 67.8059%\n",
            "test dataset : 56/2000 epochs spend time : 0.1251 sec  / total_loss : 0.9604 correct : 5435/8020 -> 67.7681%\n",
            "best epoch : 34/2000 / val accuracy : 68.403990%\n",
            "==============================\n",
            "current_lr : 0.000250\n",
            "train dataset : 57/2000 epochs spend time : 0.6923 sec / total_loss : 0.8643 correct : 20678/30400 -> 68.0197%\n",
            "test dataset : 57/2000 epochs spend time : 0.1280 sec  / total_loss : 0.9617 correct : 5430/8020 -> 67.7057%\n",
            "best epoch : 34/2000 / val accuracy : 68.403990%\n",
            "==============================\n",
            "current_lr : 0.000250\n",
            "train dataset : 58/2000 epochs spend time : 0.6772 sec / total_loss : 0.8555 correct : 20746/30400 -> 68.2434%\n",
            "test dataset : 58/2000 epochs spend time : 0.1305 sec  / total_loss : 0.9580 correct : 5477/8020 -> 68.2918%\n",
            "best epoch : 34/2000 / val accuracy : 68.403990%\n",
            "==============================\n",
            "current_lr : 0.000250\n",
            "train dataset : 59/2000 epochs spend time : 0.6717 sec / total_loss : 0.8594 correct : 20758/30400 -> 68.2829%\n",
            "test dataset : 59/2000 epochs spend time : 0.1268 sec  / total_loss : 0.9813 correct : 5433/8020 -> 67.7431%\n",
            "best epoch : 34/2000 / val accuracy : 68.403990%\n",
            "==============================\n",
            "current_lr : 0.000250\n",
            "train dataset : 60/2000 epochs spend time : 0.6853 sec / total_loss : 0.8598 correct : 20710/30400 -> 68.1250%\n",
            "test dataset : 60/2000 epochs spend time : 0.1292 sec  / total_loss : 0.9679 correct : 5441/8020 -> 67.8429%\n",
            "best epoch : 34/2000 / val accuracy : 68.403990%\n",
            "==============================\n",
            "current_lr : 0.000250\n",
            "train dataset : 61/2000 epochs spend time : 0.6807 sec / total_loss : 0.8551 correct : 20783/30400 -> 68.3651%\n",
            "test dataset : 61/2000 epochs spend time : 0.1307 sec  / total_loss : 0.9671 correct : 5439/8020 -> 67.8180%\n",
            "best epoch : 34/2000 / val accuracy : 68.403990%\n",
            "==============================\n",
            "current_lr : 0.000250\n",
            "train dataset : 62/2000 epochs spend time : 0.7019 sec / total_loss : 0.8573 correct : 20685/30400 -> 68.0428%\n",
            "test dataset : 62/2000 epochs spend time : 0.1275 sec  / total_loss : 0.9982 correct : 5387/8020 -> 67.1696%\n",
            "best epoch : 34/2000 / val accuracy : 68.403990%\n",
            "==============================\n",
            "current_lr : 0.000250\n",
            "train dataset : 63/2000 epochs spend time : 0.6683 sec / total_loss : 0.8561 correct : 20745/30400 -> 68.2401%\n",
            "test dataset : 63/2000 epochs spend time : 0.1306 sec  / total_loss : 0.9582 correct : 5488/8020 -> 68.4289%\n",
            "best epoch : 63/2000 / val accuracy : 68.428928%\n",
            "==============================\n",
            "current_lr : 0.000250\n",
            "train dataset : 64/2000 epochs spend time : 0.6718 sec / total_loss : 0.8567 correct : 20759/30400 -> 68.2862%\n",
            "test dataset : 64/2000 epochs spend time : 0.1232 sec  / total_loss : 0.9585 correct : 5495/8020 -> 68.5162%\n",
            "best epoch : 64/2000 / val accuracy : 68.516209%\n",
            "==============================\n",
            "current_lr : 0.000250\n",
            "train dataset : 65/2000 epochs spend time : 0.6924 sec / total_loss : 0.8565 correct : 20837/30400 -> 68.5428%\n",
            "test dataset : 65/2000 epochs spend time : 0.1329 sec  / total_loss : 0.9868 correct : 5415/8020 -> 67.5187%\n",
            "best epoch : 64/2000 / val accuracy : 68.516209%\n",
            "==============================\n",
            "current_lr : 0.000250\n",
            "train dataset : 66/2000 epochs spend time : 0.6801 sec / total_loss : 0.8525 correct : 20738/30400 -> 68.2171%\n",
            "test dataset : 66/2000 epochs spend time : 0.1277 sec  / total_loss : 0.9764 correct : 5424/8020 -> 67.6309%\n",
            "best epoch : 64/2000 / val accuracy : 68.516209%\n",
            "==============================\n",
            "current_lr : 0.000125\n",
            "train dataset : 67/2000 epochs spend time : 0.6791 sec / total_loss : 0.8531 correct : 20835/30400 -> 68.5362%\n",
            "test dataset : 67/2000 epochs spend time : 0.1257 sec  / total_loss : 0.9679 correct : 5476/8020 -> 68.2793%\n",
            "best epoch : 64/2000 / val accuracy : 68.516209%\n",
            "==============================\n",
            "current_lr : 0.000125\n",
            "train dataset : 68/2000 epochs spend time : 0.6762 sec / total_loss : 0.8489 correct : 20835/30400 -> 68.5362%\n",
            "test dataset : 68/2000 epochs spend time : 0.1301 sec  / total_loss : 0.9730 correct : 5457/8020 -> 68.0424%\n",
            "best epoch : 64/2000 / val accuracy : 68.516209%\n",
            "==============================\n",
            "current_lr : 0.000125\n",
            "train dataset : 69/2000 epochs spend time : 0.6725 sec / total_loss : 0.8477 correct : 20856/30400 -> 68.6053%\n",
            "test dataset : 69/2000 epochs spend time : 0.1248 sec  / total_loss : 0.9795 correct : 5433/8020 -> 67.7431%\n",
            "best epoch : 64/2000 / val accuracy : 68.516209%\n",
            "==============================\n",
            "current_lr : 0.000125\n",
            "train dataset : 70/2000 epochs spend time : 0.6768 sec / total_loss : 0.8487 correct : 20802/30400 -> 68.4276%\n",
            "test dataset : 70/2000 epochs spend time : 0.1308 sec  / total_loss : 0.9780 correct : 5445/8020 -> 67.8928%\n",
            "best epoch : 64/2000 / val accuracy : 68.516209%\n",
            "==============================\n",
            "current_lr : 0.000125\n",
            "train dataset : 71/2000 epochs spend time : 0.6758 sec / total_loss : 0.8500 correct : 20791/30400 -> 68.3914%\n",
            "test dataset : 71/2000 epochs spend time : 0.1251 sec  / total_loss : 0.9763 correct : 5468/8020 -> 68.1796%\n",
            "best epoch : 64/2000 / val accuracy : 68.516209%\n",
            "==============================\n",
            "current_lr : 0.000125\n",
            "train dataset : 72/2000 epochs spend time : 0.6744 sec / total_loss : 0.8474 correct : 20762/30400 -> 68.2961%\n",
            "test dataset : 72/2000 epochs spend time : 0.1256 sec  / total_loss : 0.9692 correct : 5497/8020 -> 68.5411%\n",
            "best epoch : 72/2000 / val accuracy : 68.541147%\n",
            "==============================\n",
            "current_lr : 0.000125\n",
            "train dataset : 73/2000 epochs spend time : 0.6703 sec / total_loss : 0.8537 correct : 20701/30400 -> 68.0954%\n",
            "test dataset : 73/2000 epochs spend time : 0.1274 sec  / total_loss : 0.9774 correct : 5470/8020 -> 68.2045%\n",
            "best epoch : 72/2000 / val accuracy : 68.541147%\n",
            "==============================\n",
            "current_lr : 0.000125\n",
            "train dataset : 74/2000 epochs spend time : 0.6804 sec / total_loss : 0.8494 correct : 20826/30400 -> 68.5066%\n",
            "test dataset : 74/2000 epochs spend time : 0.1325 sec  / total_loss : 0.9901 correct : 5418/8020 -> 67.5561%\n",
            "best epoch : 72/2000 / val accuracy : 68.541147%\n",
            "==============================\n",
            "current_lr : 0.000125\n",
            "train dataset : 75/2000 epochs spend time : 0.6755 sec / total_loss : 0.8475 correct : 20795/30400 -> 68.4046%\n",
            "test dataset : 75/2000 epochs spend time : 0.1274 sec  / total_loss : 0.9819 correct : 5453/8020 -> 67.9925%\n",
            "best epoch : 72/2000 / val accuracy : 68.541147%\n",
            "==============================\n",
            "current_lr : 0.000125\n",
            "train dataset : 76/2000 epochs spend time : 0.6821 sec / total_loss : 0.8470 correct : 20808/30400 -> 68.4474%\n",
            "test dataset : 76/2000 epochs spend time : 0.1289 sec  / total_loss : 0.9868 correct : 5414/8020 -> 67.5062%\n",
            "best epoch : 72/2000 / val accuracy : 68.541147%\n",
            "==============================\n",
            "current_lr : 0.000125\n",
            "train dataset : 77/2000 epochs spend time : 0.6971 sec / total_loss : 0.8403 correct : 20813/30400 -> 68.4638%\n",
            "test dataset : 77/2000 epochs spend time : 0.1269 sec  / total_loss : 0.9845 correct : 5448/8020 -> 67.9302%\n",
            "best epoch : 72/2000 / val accuracy : 68.541147%\n",
            "==============================\n",
            "current_lr : 0.000063\n",
            "train dataset : 78/2000 epochs spend time : 0.6826 sec / total_loss : 0.8421 correct : 20790/30400 -> 68.3882%\n",
            "test dataset : 78/2000 epochs spend time : 0.1307 sec  / total_loss : 0.9812 correct : 5428/8020 -> 67.6808%\n",
            "best epoch : 72/2000 / val accuracy : 68.541147%\n",
            "==============================\n",
            "current_lr : 0.000063\n",
            "train dataset : 79/2000 epochs spend time : 0.6743 sec / total_loss : 0.8373 correct : 20847/30400 -> 68.5757%\n",
            "test dataset : 79/2000 epochs spend time : 0.1274 sec  / total_loss : 0.9808 correct : 5452/8020 -> 67.9800%\n",
            "best epoch : 72/2000 / val accuracy : 68.541147%\n",
            "==============================\n",
            "current_lr : 0.000063\n",
            "train dataset : 80/2000 epochs spend time : 0.6914 sec / total_loss : 0.8386 correct : 20808/30400 -> 68.4474%\n",
            "test dataset : 80/2000 epochs spend time : 0.1313 sec  / total_loss : 0.9877 correct : 5435/8020 -> 67.7681%\n",
            "best epoch : 72/2000 / val accuracy : 68.541147%\n",
            "==============================\n",
            "current_lr : 0.000063\n",
            "train dataset : 81/2000 epochs spend time : 0.6708 sec / total_loss : 0.8422 correct : 20878/30400 -> 68.6776%\n",
            "test dataset : 81/2000 epochs spend time : 0.1254 sec  / total_loss : 0.9823 correct : 5437/8020 -> 67.7930%\n",
            "best epoch : 72/2000 / val accuracy : 68.541147%\n",
            "==============================\n",
            "current_lr : 0.000063\n",
            "train dataset : 82/2000 epochs spend time : 0.6804 sec / total_loss : 0.8482 correct : 20831/30400 -> 68.5230%\n",
            "test dataset : 82/2000 epochs spend time : 0.1270 sec  / total_loss : 0.9839 correct : 5478/8020 -> 68.3042%\n",
            "best epoch : 72/2000 / val accuracy : 68.541147%\n",
            "==============================\n",
            "current_lr : 0.000063\n",
            "train dataset : 83/2000 epochs spend time : 0.6980 sec / total_loss : 0.8404 correct : 20874/30400 -> 68.6645%\n",
            "test dataset : 83/2000 epochs spend time : 0.1429 sec  / total_loss : 0.9907 correct : 5441/8020 -> 67.8429%\n",
            "best epoch : 72/2000 / val accuracy : 68.541147%\n",
            "==============================\n",
            "current_lr : 0.000063\n",
            "train dataset : 84/2000 epochs spend time : 0.6988 sec / total_loss : 0.8442 correct : 20799/30400 -> 68.4178%\n",
            "test dataset : 84/2000 epochs spend time : 0.1324 sec  / total_loss : 0.9895 correct : 5444/8020 -> 67.8803%\n",
            "best epoch : 72/2000 / val accuracy : 68.541147%\n",
            "==============================\n",
            "current_lr : 0.000063\n",
            "train dataset : 85/2000 epochs spend time : 0.6975 sec / total_loss : 0.8412 correct : 20828/30400 -> 68.5132%\n",
            "test dataset : 85/2000 epochs spend time : 0.1335 sec  / total_loss : 0.9837 correct : 5460/8020 -> 68.0798%\n",
            "best epoch : 72/2000 / val accuracy : 68.541147%\n",
            "==============================\n",
            "current_lr : 0.000063\n",
            "train dataset : 86/2000 epochs spend time : 0.6954 sec / total_loss : 0.8447 correct : 20848/30400 -> 68.5789%\n",
            "test dataset : 86/2000 epochs spend time : 0.1302 sec  / total_loss : 0.9817 correct : 5448/8020 -> 67.9302%\n",
            "best epoch : 72/2000 / val accuracy : 68.541147%\n",
            "==============================\n",
            "current_lr : 0.000063\n",
            "train dataset : 87/2000 epochs spend time : 0.6987 sec / total_loss : 0.8419 correct : 20850/30400 -> 68.5855%\n",
            "test dataset : 87/2000 epochs spend time : 0.1284 sec  / total_loss : 0.9917 correct : 5411/8020 -> 67.4688%\n",
            "best epoch : 72/2000 / val accuracy : 68.541147%\n",
            "==============================\n",
            "current_lr : 0.000063\n",
            "train dataset : 88/2000 epochs spend time : 0.6861 sec / total_loss : 0.8404 correct : 20879/30400 -> 68.6809%\n",
            "test dataset : 88/2000 epochs spend time : 0.1335 sec  / total_loss : 0.9909 correct : 5444/8020 -> 67.8803%\n",
            "best epoch : 72/2000 / val accuracy : 68.541147%\n",
            "==============================\n",
            "current_lr : 0.000031\n",
            "train dataset : 89/2000 epochs spend time : 0.6873 sec / total_loss : 0.8436 correct : 20828/30400 -> 68.5132%\n",
            "test dataset : 89/2000 epochs spend time : 0.1326 sec  / total_loss : 0.9876 correct : 5458/8020 -> 68.0549%\n",
            "best epoch : 72/2000 / val accuracy : 68.541147%\n",
            "==============================\n",
            "current_lr : 0.000031\n",
            "train dataset : 90/2000 epochs spend time : 0.6879 sec / total_loss : 0.8382 correct : 20927/30400 -> 68.8388%\n",
            "test dataset : 90/2000 epochs spend time : 0.1310 sec  / total_loss : 0.9887 correct : 5451/8020 -> 67.9676%\n",
            "best epoch : 72/2000 / val accuracy : 68.541147%\n",
            "==============================\n",
            "current_lr : 0.000031\n",
            "train dataset : 91/2000 epochs spend time : 0.6823 sec / total_loss : 0.8381 correct : 20879/30400 -> 68.6809%\n",
            "test dataset : 91/2000 epochs spend time : 0.1308 sec  / total_loss : 0.9861 correct : 5440/8020 -> 67.8304%\n",
            "best epoch : 72/2000 / val accuracy : 68.541147%\n",
            "==============================\n",
            "current_lr : 0.000031\n",
            "train dataset : 92/2000 epochs spend time : 0.7013 sec / total_loss : 0.8372 correct : 20887/30400 -> 68.7072%\n",
            "test dataset : 92/2000 epochs spend time : 0.1361 sec  / total_loss : 0.9885 correct : 5444/8020 -> 67.8803%\n",
            "best epoch : 72/2000 / val accuracy : 68.541147%\n",
            "==============================\n",
            "current_lr : 0.000031\n",
            "train dataset : 93/2000 epochs spend time : 0.7097 sec / total_loss : 0.8458 correct : 20835/30400 -> 68.5362%\n",
            "test dataset : 93/2000 epochs spend time : 0.1316 sec  / total_loss : 0.9904 correct : 5436/8020 -> 67.7805%\n",
            "best epoch : 72/2000 / val accuracy : 68.541147%\n",
            "==============================\n",
            "current_lr : 0.000031\n",
            "train dataset : 94/2000 epochs spend time : 0.6933 sec / total_loss : 0.8425 correct : 20878/30400 -> 68.6776%\n",
            "test dataset : 94/2000 epochs spend time : 0.1328 sec  / total_loss : 0.9938 correct : 5447/8020 -> 67.9177%\n",
            "best epoch : 72/2000 / val accuracy : 68.541147%\n",
            "==============================\n",
            "current_lr : 0.000031\n",
            "train dataset : 95/2000 epochs spend time : 0.6998 sec / total_loss : 0.8388 correct : 20863/30400 -> 68.6283%\n",
            "test dataset : 95/2000 epochs spend time : 0.1336 sec  / total_loss : 0.9842 correct : 5445/8020 -> 67.8928%\n",
            "best epoch : 72/2000 / val accuracy : 68.541147%\n",
            "==============================\n",
            "current_lr : 0.000031\n",
            "train dataset : 96/2000 epochs spend time : 0.6891 sec / total_loss : 0.8368 correct : 20853/30400 -> 68.5954%\n",
            "test dataset : 96/2000 epochs spend time : 0.1328 sec  / total_loss : 0.9870 correct : 5420/8020 -> 67.5810%\n",
            "best epoch : 72/2000 / val accuracy : 68.541147%\n",
            "==============================\n",
            "current_lr : 0.000031\n",
            "train dataset : 97/2000 epochs spend time : 0.6895 sec / total_loss : 0.8384 correct : 20877/30400 -> 68.6743%\n",
            "test dataset : 97/2000 epochs spend time : 0.1273 sec  / total_loss : 0.9891 correct : 5413/8020 -> 67.4938%\n",
            "best epoch : 72/2000 / val accuracy : 68.541147%\n",
            "==============================\n",
            "current_lr : 0.000031\n",
            "train dataset : 98/2000 epochs spend time : 0.6860 sec / total_loss : 0.8402 correct : 20950/30400 -> 68.9145%\n",
            "test dataset : 98/2000 epochs spend time : 0.1275 sec  / total_loss : 0.9846 correct : 5478/8020 -> 68.3042%\n",
            "best epoch : 72/2000 / val accuracy : 68.541147%\n",
            "==============================\n",
            "current_lr : 0.000031\n",
            "train dataset : 99/2000 epochs spend time : 0.6778 sec / total_loss : 0.8415 correct : 20837/30400 -> 68.5428%\n",
            "test dataset : 99/2000 epochs spend time : 0.1296 sec  / total_loss : 0.9857 correct : 5446/8020 -> 67.9052%\n",
            "best epoch : 72/2000 / val accuracy : 68.541147%\n",
            "==============================\n",
            "current_lr : 0.000016\n",
            "train dataset : 100/2000 epochs spend time : 0.6812 sec / total_loss : 0.8353 correct : 20853/30400 -> 68.5954%\n",
            "test dataset : 100/2000 epochs spend time : 0.1307 sec  / total_loss : 0.9816 correct : 5484/8020 -> 68.3791%\n",
            "best epoch : 72/2000 / val accuracy : 68.541147%\n",
            "==============================\n",
            "current_lr : 0.000016\n",
            "train dataset : 101/2000 epochs spend time : 0.6737 sec / total_loss : 0.8393 correct : 20860/30400 -> 68.6184%\n",
            "test dataset : 101/2000 epochs spend time : 0.1325 sec  / total_loss : 0.9857 correct : 5437/8020 -> 67.7930%\n",
            "best epoch : 72/2000 / val accuracy : 68.541147%\n",
            "==============================\n",
            "current_lr : 0.000016\n",
            "train dataset : 102/2000 epochs spend time : 0.6931 sec / total_loss : 0.8402 correct : 20877/30400 -> 68.6743%\n",
            "test dataset : 102/2000 epochs spend time : 0.1317 sec  / total_loss : 0.9829 correct : 5454/8020 -> 68.0050%\n",
            "best epoch : 72/2000 / val accuracy : 68.541147%\n",
            "==============================\n",
            "current_lr : 0.000016\n",
            "train dataset : 103/2000 epochs spend time : 0.6862 sec / total_loss : 0.8364 correct : 20898/30400 -> 68.7434%\n",
            "test dataset : 103/2000 epochs spend time : 0.1305 sec  / total_loss : 0.9859 correct : 5438/8020 -> 67.8055%\n",
            "Early Stopping\n",
            "best epoch : 72/2000 / accuracy : 68.541147%\n",
            "==============================\n"
          ],
          "name": "stdout"
        }
      ]
    },
    {
      "cell_type": "code",
      "metadata": {
        "id": "OCE73qoRBUC2"
      },
      "source": [
        ""
      ],
      "execution_count": 35,
      "outputs": []
    }
  ]
}